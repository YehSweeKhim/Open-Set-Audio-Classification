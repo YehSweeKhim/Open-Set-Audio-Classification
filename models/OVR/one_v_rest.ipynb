{
 "cells": [
  {
   "cell_type": "code",
   "execution_count": 2,
   "metadata": {},
   "outputs": [],
   "source": [
    "import numpy as np\n",
    "from numpy import linalg as LA\n",
    "import pandas as pd\n",
    "\n",
    "import json\n",
    "import tensorflow as tf\n",
    "import tensorflow_addons as tfa\n",
    "from sklearn.model_selection import train_test_split\n",
    "from sklearn.metrics import confusion_matrix, f1_score, precision_score, recall_score, roc_curve, RocCurveDisplay, auc\n",
    "from tqdm import tqdm"
   ]
  },
  {
   "cell_type": "code",
   "execution_count": 3,
   "metadata": {},
   "outputs": [],
   "source": [
    "csv_path = './UrbanSound8K/metadata/UrbanSound8K.csv'\n",
    "embeddings_path = \"./embeddings/\"\n",
    "model_save_path = \"ovr-norm\"\n",
    "test_size = 0.2\n",
    "val_size = 0.2\n",
    "batch_size = 32\n",
    "num_classes = 5"
   ]
  },
  {
   "cell_type": "code",
   "execution_count": 4,
   "metadata": {},
   "outputs": [],
   "source": [
    "class EmbeddingsLoader(tf.keras.utils.Sequence):\n",
    "  def __init__(self, x_set, y_set, batch_size, emb_dir):\n",
    "    self.x, self.y = x_set, y_set\n",
    "    self.batch_size = batch_size\n",
    "    self.emb_dir = emb_dir\n",
    "\n",
    "  def __len__(self):\n",
    "    return int(np.ceil(len(self.x) / self.batch_size))\n",
    "\n",
    "  def __getitem__(self, idx):\n",
    "    batch_x = self.x[idx * self.batch_size:(idx + 1) *\n",
    "    self.batch_size]\n",
    "    batch_y = self.y[idx * self.batch_size:(idx + 1) *\n",
    "        self.batch_size]\n",
    "\n",
    "    batchEmbs = []\n",
    "    for fileName in batch_x:\n",
    "        emb = np.load(self.emb_dir + fileName + \".npy\")[0]\n",
    "        batchEmbs.append(emb)\n",
    "    batchEmbs = np.array(batchEmbs)\n",
    "    return batchEmbs/255, np.array(batch_y)"
   ]
  },
  {
   "cell_type": "code",
   "execution_count": 5,
   "metadata": {},
   "outputs": [],
   "source": [
    "data_df = pd.read_csv(csv_path)\n",
    "data_df_known = data_df.loc[data_df[\"classID\"] < num_classes]\n",
    "data_df_unknown = data_df.loc[data_df[\"classID\"] >= num_classes]\n",
    "\n",
    "X_trainval, X_test, y_trainval, y_test = train_test_split(data_df_known['slice_file_name'].tolist(), data_df_known['classID'].tolist(), test_size=test_size, random_state = 42)\n",
    "\n",
    "X_train, X_val, y_train, y_val = train_test_split(X_trainval, y_trainval, test_size=val_size, random_state = 42)\n",
    "X_trash, X_unknown, y_trash, y_unknown = train_test_split(data_df_unknown['slice_file_name'].tolist(), data_df_unknown['classID'].tolist(), test_size=test_size, random_state = 42)\n",
    "y_unknown = [num_classes] * len(y_unknown)\n",
    "\n",
    "X_test = X_test + X_unknown\n",
    "y_test = y_test + y_unknown\n",
    "test_loader = EmbeddingsLoader(X_test, y_test, batch_size, embeddings_path)\n",
    "\n",
    "# 2D array of loaders. Train and val loader for each known class\n",
    "loaders=[]\n",
    "for i in range(num_classes):\n",
    "    loaders.append([])\n",
    "    ovr_y_train = [1 if j == i else 0 for j in y_train]\n",
    "    ovr_y_val = [1 if j == i else 0 for j in y_val]\n",
    "    loaders[i].append(EmbeddingsLoader(X_train, ovr_y_train, batch_size, embeddings_path))\n",
    "    loaders[i].append(EmbeddingsLoader(X_val, ovr_y_val, batch_size, embeddings_path))"
   ]
  },
  {
   "cell_type": "code",
   "execution_count": 6,
   "metadata": {
    "scrolled": true
   },
   "outputs": [
    {
     "name": "stdout",
     "output_type": "stream",
     "text": [
      "Model: \"sequential\"\n",
      "_________________________________________________________________\n",
      "Layer (type)                 Output Shape              Param #   \n",
      "=================================================================\n",
      "dense (Dense)                (None, 2)                 258       \n",
      "=================================================================\n",
      "Total params: 258\n",
      "Trainable params: 258\n",
      "Non-trainable params: 0\n",
      "_________________________________________________________________\n",
      "Model: \"sequential_1\"\n",
      "_________________________________________________________________\n",
      "Layer (type)                 Output Shape              Param #   \n",
      "=================================================================\n",
      "dense_1 (Dense)              (None, 2)                 258       \n",
      "=================================================================\n",
      "Total params: 258\n",
      "Trainable params: 258\n",
      "Non-trainable params: 0\n",
      "_________________________________________________________________\n",
      "Model: \"sequential_2\"\n",
      "_________________________________________________________________\n",
      "Layer (type)                 Output Shape              Param #   \n",
      "=================================================================\n",
      "dense_2 (Dense)              (None, 2)                 258       \n",
      "=================================================================\n",
      "Total params: 258\n",
      "Trainable params: 258\n",
      "Non-trainable params: 0\n",
      "_________________________________________________________________\n",
      "Model: \"sequential_3\"\n",
      "_________________________________________________________________\n",
      "Layer (type)                 Output Shape              Param #   \n",
      "=================================================================\n",
      "dense_3 (Dense)              (None, 2)                 258       \n",
      "=================================================================\n",
      "Total params: 258\n",
      "Trainable params: 258\n",
      "Non-trainable params: 0\n",
      "_________________________________________________________________\n",
      "Model: \"sequential_4\"\n",
      "_________________________________________________________________\n",
      "Layer (type)                 Output Shape              Param #   \n",
      "=================================================================\n",
      "dense_4 (Dense)              (None, 2)                 258       \n",
      "=================================================================\n",
      "Total params: 258\n",
      "Trainable params: 258\n",
      "Non-trainable params: 0\n",
      "_________________________________________________________________\n"
     ]
    }
   ],
   "source": [
    "# Array of models. One for each known class\n",
    "models=[]\n",
    "for i in range(num_classes):\n",
    "    model = tf.keras.Sequential()\n",
    "    model.add(tf.keras.layers.InputLayer(input_shape=(128,)))\n",
    "    model.add(tf.keras.layers.Dense(2, activation=\"softmax\"))\n",
    "    model.summary()\n",
    "    model.compile(\n",
    "          optimizer=\"Adam\",\n",
    "          loss=\"sparse_categorical_crossentropy\",\n",
    "          metrics=[\"accuracy\"])\n",
    "    models.append(model)"
   ]
  },
  {
   "cell_type": "code",
   "execution_count": null,
   "metadata": {
    "scrolled": true
   },
   "outputs": [],
   "source": [
    "for i in range(num_classes):\n",
    "    earlystopping = EarlyStopping(\n",
    "                        patience=5, \n",
    "                        restore_best_weights=True)\n",
    "    checkpoint = ModelCheckpoint(\n",
    "                        model_save_path+str(i), \n",
    "                        monitor=\"val_accuracy\", \n",
    "                        save_best_only=True)\n",
    "\n",
    "    models[i].fit(x=loaders[i][0],\n",
    "              validation_data=loaders[i][1],\n",
    "              callbacks=[checkpoint, earlystopping],\n",
    "              epochs=70,\n",
    "              verbose=1\n",
    "             )"
   ]
  },
  {
   "cell_type": "code",
   "execution_count": 7,
   "metadata": {},
   "outputs": [],
   "source": [
    "def evaluate(predicted, expected):\n",
    "    acc = np.mean(np.array(predicted) == np.array(expected))\n",
    "    print(\"Overall accuracy: {}\".format(acc))\n",
    "    acc_dict = {}\n",
    "    for i in range(len(expected)):\n",
    "        expected_class = expected[i]\n",
    "        if expected_class not in acc_dict:\n",
    "            acc_dict[expected_class] = [0, 0]\n",
    "        acc_dict[expected_class][1] += 1\n",
    "        if expected_class == predicted[i]:\n",
    "            acc_dict[expected_class][0] += 1\n",
    "    for k,v in acc_dict.items():\n",
    "        print(\"Accuracy for class {}: {}\".format(k, v[0]/v[1]))\n",
    "    for average in [\"macro\", \"weighted\", \"micro\"]:\n",
    "        f1 = f1_score(expected, predicted, average=average)\n",
    "        print(\"{} f1 score: {}\".format(average, f1))"
   ]
  },
  {
   "cell_type": "code",
   "execution_count": 8,
   "metadata": {
    "scrolled": false
   },
   "outputs": [],
   "source": [
    "for i in range(num_classes):\n",
    "    models[i].load_weights(model_save_path+str(i))"
   ]
  },
  {
   "cell_type": "code",
   "execution_count": 9,
   "metadata": {},
   "outputs": [
    {
     "name": "stdout",
     "output_type": "stream",
     "text": [
      "WARNING:tensorflow:From /opt/conda/lib/python3.6/site-packages/tensorflow/python/ops/resource_variable_ops.py:1817: calling BaseResourceVariable.__init__ (from tensorflow.python.ops.resource_variable_ops) with constraint is deprecated and will be removed in a future version.\n",
      "Instructions for updating:\n",
      "If using Keras pass *_constraint arguments to layers.\n",
      "INFO:tensorflow:Assets written to: ovr-norm0.model/assets\n",
      "INFO:tensorflow:Assets written to: ovr-norm1.model/assets\n",
      "INFO:tensorflow:Assets written to: ovr-norm2.model/assets\n",
      "INFO:tensorflow:Assets written to: ovr-norm3.model/assets\n",
      "INFO:tensorflow:Assets written to: ovr-norm4.model/assets\n"
     ]
    }
   ],
   "source": [
    "for i in range(num_classes):\n",
    "    models[i].save(model_save_path+str(i)+\".model\")\n",
    "for i in range(num_classes):\n",
    "    models[i] = tf.keras.models.load_model(model_save_path+str(i)+\".model\")"
   ]
  },
  {
   "cell_type": "code",
   "execution_count": 14,
   "metadata": {},
   "outputs": [
    {
     "name": "stderr",
     "output_type": "stream",
     "text": [
      "100%|██████████| 55/55 [03:04<00:00,  3.36s/it]\n"
     ]
    }
   ],
   "source": [
    "y_predicted = []\n",
    "y_random = []\n",
    "y_scores = []\n",
    "for data, labels in tqdm(test_loader):\n",
    "    for i in range(len(data)):\n",
    "        probabilities = []\n",
    "        for j in range(num_classes):\n",
    "            probabilities.append(models[j].predict(x=np.array([data[i]]))[0][1])\n",
    "        best_class = np.argmax(probabilities)\n",
    "        highest_prob = probabilities[best_class]\n",
    "        if highest_prob < 0.5:\n",
    "            y_predicted.append(num_classes)\n",
    "        else:\n",
    "            y_predicted.append(best_class)\n",
    "        y_scores.append(highest_prob)\n",
    "        y_random.append(np.random.randint(num_classes + 1))"
   ]
  },
  {
   "cell_type": "code",
   "execution_count": 15,
   "metadata": {},
   "outputs": [
    {
     "name": "stdout",
     "output_type": "stream",
     "text": [
      "Overall accuracy: 0.5540927303949628\n",
      "Accuracy for class 2: 0.7487684729064039\n",
      "Accuracy for class 4: 0.7325581395348837\n",
      "Accuracy for class 0: 0.7416267942583732\n",
      "Accuracy for class 3: 0.6008771929824561\n",
      "Accuracy for class 1: 0.7702702702702703\n",
      "Accuracy for class 5: 0.39605110336817656\n",
      "macro f1 score: 0.5882510076616984\n",
      "weighted f1 score: 0.550871415534586\n",
      "micro f1 score: 0.5540927303949628\n",
      "Overall accuracy: 0.15741270749856898\n",
      "Accuracy for class 2: 0.13793103448275862\n",
      "Accuracy for class 4: 0.19767441860465115\n",
      "Accuracy for class 0: 0.15311004784688995\n",
      "Accuracy for class 3: 0.14035087719298245\n",
      "Accuracy for class 1: 0.22972972972972974\n",
      "Accuracy for class 5: 0.15331010452961671\n",
      "macro f1 score: 0.1387939078578404\n",
      "weighted f1 score: 0.17763869644227584\n",
      "micro f1 score: 0.15741270749856898\n"
     ]
    },
    {
     "data": {
      "text/plain": [
       "<sklearn.metrics._plot.roc_curve.RocCurveDisplay at 0x7f302bb57198>"
      ]
     },
     "execution_count": 15,
     "metadata": {},
     "output_type": "execute_result"
    },
    {
     "data": {
      "image/png": "[encoded data removed]",
      "text/plain": [
       "<Figure size 432x288 with 1 Axes>"
      ]
     },
     "metadata": {
      "needs_background": "light"
     },
     "output_type": "display_data"
    }
   ],
   "source": [
    "evaluate(y_predicted, y_test)\n",
    "evaluate(y_random, y_test)\n",
    "y_posneg = [0 if i == num_classes else 1 for i in y_test]\n",
    "fpr, tpr, thresholds = roc_curve(y_posneg, y_scores)\n",
    "roc_auc = auc(fpr, tpr)\n",
    "display = RocCurveDisplay(fpr=fpr, tpr=tpr, roc_auc = roc_auc)\n",
    "display.plot()"
   ]
  }
 ],
 "metadata": {
  "kernelspec": {
   "display_name": "Python 3",
   "language": "python",
   "name": "python3"
  },
  "language_info": {
   "codemirror_mode": {
    "name": "ipython",
    "version": 3
   },
   "file_extension": ".py",
   "mimetype": "text/x-python",
   "name": "python",
   "nbconvert_exporter": "python",
   "pygments_lexer": "ipython3",
   "version": "3.6.10"
  }
 },
 "nbformat": 4,
 "nbformat_minor": 4
}
