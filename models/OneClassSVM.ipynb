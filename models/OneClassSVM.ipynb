{
  "nbformat": 4,
  "nbformat_minor": 0,
  "metadata": {
    "colab": {
      "name": "OneClassSVM.ipynb",
      "provenance": [],
      "collapsed_sections": [],
      "toc_visible": true
    },
    "kernelspec": {
      "display_name": "Python 3",
      "name": "python3"
    }
  },
  "cells": [
    {
      "cell_type": "code",
      "metadata": {
        "colab": {
          "base_uri": "https://localhost:8080/"
        },
        "id": "GcGiZKm7PpFu",
        "outputId": "cb0a2dd9-604a-4c98-93b5-c03e763ad70e"
      },
      "source": [
        "from google.colab import drive\n",
        "drive.mount('/content/drive')"
      ],
      "execution_count": null,
      "outputs": [
        {
          "output_type": "stream",
          "text": [
            "Mounted at /content/drive\n"
          ],
          "name": "stdout"
        }
      ]
    },
    {
      "cell_type": "code",
      "metadata": {
        "id": "DTVpWncjSc2p"
      },
      "source": [
        "root_path= \"drive/My Drive/SUTD/Year 3/CDS/Project/Team No Name/\"\n",
        "# root_path= \"drive/My Drive/SUTD ML/Team No Name/\""
      ],
      "execution_count": null,
      "outputs": []
    },
    {
      "cell_type": "code",
      "metadata": {
        "id": "P8rry13MQcdU"
      },
      "source": [
        "import os\n",
        "import pandas as pd\n",
        "import numpy as np\n",
        "import keras\n",
        "import pickle\n",
        "from sklearn.svm import OneClassSVM\n",
        "from sklearn.model_selection import train_test_split\n",
        "from sklearn.metrics import f1_score\n",
        "\n",
        "csv_path = os.path.join(root_path,'UrbanSound8K/metadata/UrbanSound8K.csv')\n",
        "spectrograms_path = os.path.join(root_path,'numpySpectrograms/')\n",
        "test_size = 0.2\n",
        "batch_size = 16"
      ],
      "execution_count": null,
      "outputs": []
    },
    {
      "cell_type": "markdown",
      "metadata": {
        "id": "4i0ki1igIJPV"
      },
      "source": [
        "#Using original spectrograms"
      ]
    },
    {
      "cell_type": "code",
      "metadata": {
        "id": "5eBrhJzDVnl0"
      },
      "source": [
        "from tqdm import tqdm\n",
        "\n",
        "class SpecLoader():\n",
        "  def __init__(self, x_set, spec_dir):\n",
        "    self.x = x_set\n",
        "    self.spec_dir = spec_dir\n",
        "\n",
        "  def __len__(self):\n",
        "    return len(self.x)\n",
        "\n",
        "  def getitem(self):\n",
        "    specs = []\n",
        "    for fileName in tqdm(self.x):\n",
        "        spec = np.load(self.spec_dir + fileName + \".npy\")\n",
        "        specs.append(spec.transpose())\n",
        "    return np.array(specs)\n",
        "\n",
        "  def getitemlist(self):\n",
        "    specs = []\n",
        "    for fileName in tqdm(self.x):\n",
        "        spec = np.load(self.spec_dir + fileName + \".npy\")\n",
        "        specs.append(spec.transpose())\n",
        "    return specs\n",
        "\n",
        "class SpecLoaderWnn(keras.utils.Sequence):\n",
        "  def __init__(self, x_set, batch_size, spec_dir):\n",
        "    self.x = x_set\n",
        "    self.batch_size = batch_size\n",
        "    self.spec_dir = spec_dir\n",
        "\n",
        "  def __len__(self):\n",
        "    return int(np.ceil(len(self.x) / self.batch_size))\n",
        "\n",
        "  def __getitem__(self, idx):\n",
        "    batch_x = self.x[idx * self.batch_size:(idx + 1) * self.batch_size]\n",
        "    # batch_y = self.y[idx * self.batch_size:(idx + 1) * self.batch_size]\n",
        "\n",
        "    batchSpecs = []\n",
        "    for fileName in batch_x:\n",
        "        spec = np.load(self.spec_dir + fileName + \".npy\")\n",
        "        batchSpecs.append(spec.transpose())\n",
        "    return np.array(batchSpecs)"
      ],
      "execution_count": null,
      "outputs": []
    },
    {
      "cell_type": "code",
      "metadata": {
        "id": "Tr7J3vxq8izi"
      },
      "source": [
        "data_df = pd.read_csv(csv_path)\n",
        "data_df_known = data_df.loc[data_df[\"classID\"] < 5]\n",
        "data_df_unknown = data_df.loc[data_df[\"classID\"] >= 5]\n",
        "\n",
        "Xtrainval, X_test, Ytrainval, y_test = train_test_split(data_df_known['slice_file_name'].tolist(), data_df_known['classID'].tolist(), test_size=test_size, random_state = 42)"
      ],
      "execution_count": null,
      "outputs": []
    },
    {
      "cell_type": "code",
      "metadata": {
        "colab": {
          "base_uri": "https://localhost:8080/"
        },
        "id": "W2OyzHJ9RMXl",
        "outputId": "cb5dad16-b39c-49f7-eb2d-3a26d913398f"
      },
      "source": [
        "#Xtrainval = data_df_known['slice_file_name'].tolist()\n",
        "#Ytrainval = data_df_known['classID'].tolist()\n",
        "\n",
        "sl = SpecLoader(Xtrainval, spectrograms_path)\n",
        "trainX = sl.getitem()\n",
        "\n",
        "nsamples, x, y, z = trainX.shape\n",
        "trainX = trainX.reshape((nsamples, x*y*z))"
      ],
      "execution_count": null,
      "outputs": [
        {
          "output_type": "stream",
          "text": [
            "\n"
          ],
          "name": "stdout"
        }
      ]
    },
    {
      "cell_type": "code",
      "metadata": {
        "colab": {
          "base_uri": "https://localhost:8080/"
        },
        "id": "xePYsv47P4Pp",
        "outputId": "cd7b8134-3f61-41ab-b1b2-b5a3c261c969"
      },
      "source": [
        "\n",
        "# define outlier detection model\n",
        "modellinear = OneClassSVM(kernel=\"linear\", verbose=True)\n",
        "\n",
        "# fit \n",
        "modellinear.fit(trainX)\n",
        "\n",
        "# save\n",
        "pickle.dump(modellinear, open(root_path+\"OneClassSVM Models/original_linear\", 'wb'))"
      ],
      "execution_count": null,
      "outputs": [
        {
          "output_type": "stream",
          "text": [
            "[LibSVM]"
          ],
          "name": "stdout"
        }
      ]
    },
    {
      "cell_type": "code",
      "metadata": {
        "colab": {
          "base_uri": "https://localhost:8080/"
        },
        "id": "CBKBZodBPyNv",
        "outputId": "c80a51a8-1beb-446f-8d98-8bdcb2f78896"
      },
      "source": [
        "modelpoly = OneClassSVM(kernel=\"poly\", verbose=True)\n",
        "\n",
        "# fit \n",
        "modelpoly.fit(trainX)\n",
        "\n",
        "# save\n",
        "pickle.dump(modelpoly, open(root_path+\"OneClassSVM Models/original_poly\", 'wb'))"
      ],
      "execution_count": null,
      "outputs": [
        {
          "output_type": "stream",
          "text": [
            "[LibSVM]"
          ],
          "name": "stdout"
        }
      ]
    },
    {
      "cell_type": "code",
      "metadata": {
        "colab": {
          "base_uri": "https://localhost:8080/"
        },
        "id": "eTEX6HK-PzWX",
        "outputId": "cc7bafe9-1ea8-43d7-d791-f6b16d595294"
      },
      "source": [
        "modelrbf = OneClassSVM(kernel=\"rbf\", verbose=True)\n",
        "\n",
        "# fit \n",
        "modelrbf.fit(trainX)\n",
        "\n",
        "# save\n",
        "pickle.dump(modelrbf, open(root_path+\"OneClassSVM Models/original_rbf\", 'wb'))"
      ],
      "execution_count": null,
      "outputs": [
        {
          "output_type": "stream",
          "text": [
            "[LibSVM]"
          ],
          "name": "stdout"
        }
      ]
    },
    {
      "cell_type": "code",
      "metadata": {
        "colab": {
          "base_uri": "https://localhost:8080/"
        },
        "id": "SI3iOGYxPzuO",
        "outputId": "7b49178b-12a8-4734-e645-3ab4db1e4e3b"
      },
      "source": [
        "modelsigmoid = OneClassSVM(kernel=\"sigmoid\", verbose=True)\n",
        "\n",
        "# fit \n",
        "modelsigmoid.fit(trainX)\n",
        "\n",
        "# save\n",
        "pickle.dump(modelsigmoid, open(root_path+\"OneClassSVM Models/original_sigmoid\", 'wb'))"
      ],
      "execution_count": null,
      "outputs": [
        {
          "output_type": "stream",
          "text": [
            "[LibSVM]"
          ],
          "name": "stdout"
        }
      ]
    },
    {
      "cell_type": "markdown",
      "metadata": {
        "id": "1GXjyt5XamqS"
      },
      "source": [
        "###Test"
      ]
    },
    {
      "cell_type": "code",
      "metadata": {
        "id": "Z8GRmf6L6NAM",
        "colab": {
          "base_uri": "https://localhost:8080/"
        },
        "outputId": "3c39b292-838d-466f-c5e5-21a5159188ef"
      },
      "source": [
        "# load in the models\n",
        "print(\"loading linear...\")\n",
        "modellinear = pickle.load(open(root_path+\"OneClassSVM Models/original_linear\", 'rb'))\n",
        "print(\"loading poly...\")\n",
        "modelpoly = pickle.load(open(root_path+\"OneClassSVM Models/original_poly\", 'rb'))\n",
        "print(\"loading rbf...\")\n",
        "modelrbf = pickle.load(open(root_path+\"OneClassSVM Models/original_rbf\", 'rb'))\n",
        "print(\"loading sigmoid...\")\n",
        "modelsigmoid = pickle.load(open(root_path+\"OneClassSVM Models/original_sigmoid\", 'rb'))"
      ],
      "execution_count": null,
      "outputs": [
        {
          "output_type": "stream",
          "text": [
            "loading linear...\n",
            "loading poly...\n",
            "loading rbf...\n",
            "loading sigmoid...\n"
          ],
          "name": "stdout"
        }
      ]
    },
    {
      "cell_type": "code",
      "metadata": {
        "colab": {
          "base_uri": "https://localhost:8080/"
        },
        "id": "kZL8IXXPbYKu",
        "outputId": "3e7b8862-0b4b-41ef-ad19-a1a4c165b0ed"
      },
      "source": [
        "#Xtestvalunknown = data_df_unknown['slice_file_name'].tolist()\n",
        "X_trash, Xtestvalunknown, y_trash, y_unknown = train_test_split(data_df_unknown['slice_file_name'].tolist(), data_df_unknown['classID'].tolist(), test_size=test_size, random_state = 42)\n",
        "\n",
        "#Xtestvalunknown = Xtestvalunknown[:25]\n",
        "#X_test = X_test[:25]\n",
        "\n",
        "testX = Xtestvalunknown + X_test\n",
        "\n",
        "actualtestY = [-1 for i in Xtestvalunknown] + y_test\n",
        "print(\"length of actual test y\", len(actualtestY))\n",
        "\n",
        "testY = [-1 for i in Xtestvalunknown]+[1 for i in X_test]\n",
        "testY = np.array(testY)\n",
        "print(testY.shape)\n",
        "print(\"length of test y (1 and -1)\", len(testY))\n",
        "\n",
        "sltest = SpecLoader(testX, spectrograms_path)\n",
        "testX = sltest.getitem()\n",
        "\n",
        "nsamples, x, y, z = testX.shape\n",
        "testX = testX.reshape((nsamples, x*y*z))"
      ],
      "execution_count": null,
      "outputs": [
        {
          "output_type": "stream",
          "text": [
            "\r  0%|          | 0/1747 [00:00<?, ?it/s]"
          ],
          "name": "stderr"
        },
        {
          "output_type": "stream",
          "text": [
            "length of actual test y 1747\n",
            "(1747,)\n",
            "length of test y (1 and -1) 1747\n"
          ],
          "name": "stdout"
        },
        {
          "output_type": "stream",
          "text": [
            "100%|██████████| 1747/1747 [09:53<00:00,  2.95it/s]\n"
          ],
          "name": "stderr"
        }
      ]
    },
    {
      "cell_type": "code",
      "metadata": {
        "id": "slwVr8YIQCBL",
        "colab": {
          "base_uri": "https://localhost:8080/"
        },
        "outputId": "a3e2bbe1-0d44-47b1-fdfe-e3b55e6ae44b"
      },
      "source": [
        "# detect outliers in the test set\n",
        "print(\"predicting linear...\")\n",
        "yhatLinear = modellinear.predict(testX)\n",
        "print(\"predicting poly...\")\n",
        "yhatPoly = modelpoly.predict(testX)\n",
        "print(\"predicting rbf...\")\n",
        "yhatRBF = modelrbf.predict(testX)\n",
        "print(\"predicting sigmoid...\")\n",
        "yhatSigmoid = modelsigmoid.predict(testX)"
      ],
      "execution_count": null,
      "outputs": [
        {
          "output_type": "stream",
          "text": [
            "predicting linear...\n",
            "predicting poly...\n",
            "predicting rbf...\n",
            "predicting sigmoid...\n"
          ],
          "name": "stdout"
        }
      ]
    },
    {
      "cell_type": "code",
      "metadata": {
        "id": "6htgnIaVgp7_"
      },
      "source": [
        "# evaluate\n",
        "# input: x,y - numpy of shape (n,) \n",
        "# output: percentage of hits\n",
        "def evaluate(x,y):\n",
        "  hit = 0\n",
        "  for i in range(len(y)):\n",
        "    if int(x[i])==int(y[i]):\n",
        "      hit+=1\n",
        "  return hit/len(y)\n",
        "\n",
        "def evaluate2(predicted, expected):\n",
        "    acc = np.mean(np.array(predicted) == np.array(expected))\n",
        "    print(\"Overall accuracy: {}\".format(acc))\n",
        "    acc_dict = {}\n",
        "    for i in range(len(expected)):\n",
        "        expected_class = expected[i]\n",
        "        if expected_class not in acc_dict:\n",
        "            acc_dict[expected_class] = [0, 0]\n",
        "        acc_dict[expected_class][1] += 1\n",
        "        if expected_class == predicted[i]:\n",
        "            acc_dict[expected_class][0] += 1\n",
        "    for k,v in acc_dict.items():\n",
        "        print(\"Accuracy for class {}: {}\".format(k, v[0]/v[1]))\n",
        "    for average in [\"macro\", \"weighted\", \"micro\"]:\n",
        "        f1 = f1_score(expected, predicted, average=average)\n",
        "        print(\"{} f1 score: {}\".format(average, f1))"
      ],
      "execution_count": null,
      "outputs": []
    },
    {
      "cell_type": "code",
      "metadata": {
        "colab": {
          "base_uri": "https://localhost:8080/"
        },
        "id": "DccaCbs2hs1d",
        "outputId": "a85275b7-30c1-482b-d7e6-97c19ff3c402"
      },
      "source": [
        "from sklearn.metrics import f1_score\n",
        "\n",
        "kn = [\"Linear\",\"Poly\",\"RBF\",\"Sigmoid\"]\n",
        "yhats = [yhatLinear,yhatPoly,yhatRBF,yhatSigmoid]\n",
        "print(\"Accuracy - hit rate\")\n",
        "print(\"--------------------------------\")\n",
        "\n",
        "for i in range(len(kn)):\n",
        "  print(\"{}: {}\".format(kn[i],evaluate(yhats[i],testY)))"
      ],
      "execution_count": null,
      "outputs": [
        {
          "output_type": "stream",
          "text": [
            "Accuracy - hit rate\n",
            "--------------------------------\n",
            "Linear: 0.527761877504293\n",
            "Poly: 0.5037206639954207\n",
            "RBF: 0.46307956496851743\n",
            "Sigmoid: 0.5317687464224384\n"
          ],
          "name": "stdout"
        }
      ]
    },
    {
      "cell_type": "code",
      "metadata": {
        "id": "kxeQWVjv0vUC"
      },
      "source": [
        "from tensorflow import keras \n",
        "model = keras.models.load_model(root_path+\"basemodel-known\")\n"
      ],
      "execution_count": null,
      "outputs": []
    },
    {
      "cell_type": "code",
      "metadata": {
        "id": "QZL2K6t0cZUG",
        "colab": {
          "base_uri": "https://localhost:8080/"
        },
        "outputId": "693884e6-5e31-43df-a103-0589a1e914af"
      },
      "source": [
        "# get index of all 1s/normal class\n",
        "index_normalList = [i for i in range(len(yhatLinear)) if yhatLinear[i]==1]\n",
        "print(\"length of index_normalList\", len(index_normalList))\n",
        "\n",
        "testXfilenames = Xtestvalunknown + X_test\n",
        "normalXfilenames = [testXfilenames[i] for i in index_normalList]\n",
        "print(\"length of normalXfilenames\", len(normalXfilenames))\n",
        "\n",
        "normalLoader = SpecLoaderWnn(normalXfilenames, batch_size,spectrograms_path)\n",
        "normal_predictions = model.predict_classes(x=normalLoader, batch_size=None)\n",
        "\n",
        "print(\"predict using one class svm:\",yhatLinear[:100])\n",
        "for i in range(len(normal_predictions)):\n",
        "  index_yhat = index_normalList[i]\n",
        "  predClass = normal_predictions[i]\n",
        "  # change the value in yhatLinear\n",
        "  yhatLinear[index_yhat] = predClass\n",
        "\n",
        "print(\"prediction of positive classes through base model\", yhatLinear)\n",
        "\n",
        "print(\"\\nLinear - F1 Scores\")\n",
        "print(\"--------------------------------\")\n",
        "print(\"Macro:\", f1_score(actualtestY, yhatLinear, average='macro'))\n",
        "print(\"Micro:\", f1_score(actualtestY, yhatLinear, average='micro'))\n",
        "print(\"Weighted:\", f1_score(actualtestY, yhatLinear, average='weighted'))\n",
        "print(\"None:\", f1_score(actualtestY, yhatLinear, average=None))\n",
        "\n",
        "print(\"\\nEvaluate\\n\")\n",
        "evaluate2(yhatLinear, actualtestY)"
      ],
      "execution_count": null,
      "outputs": [
        {
          "output_type": "stream",
          "text": [
            "length of index_normalList 859\n",
            "length of normalXfilenames 859\n",
            "WARNING:tensorflow:From <ipython-input-11-0444ad857bf1>:10: Sequential.predict_classes (from tensorflow.python.keras.engine.sequential) is deprecated and will be removed after 2021-01-01.\n",
            "Instructions for updating:\n",
            "Please use instead:* `np.argmax(model.predict(x), axis=-1)`,   if your model does multi-class classification   (e.g. if it uses a `softmax` last-layer activation).* `(model.predict(x) > 0.5).astype(\"int32\")`,   if your model does binary classification   (e.g. if it uses a `sigmoid` last-layer activation).\n",
            "predict using one class svm: [ 1 -1 -1  1 -1  1 -1  1 -1 -1 -1 -1  1 -1 -1  1  1  1  1  1 -1 -1  1  1\n",
            "  1 -1  1  1 -1 -1 -1 -1  1 -1 -1 -1 -1 -1  1  1  1  1  1 -1  1  1  1 -1\n",
            " -1 -1  1 -1 -1 -1 -1 -1 -1 -1 -1 -1 -1 -1  1 -1 -1 -1  1 -1  1  1 -1 -1\n",
            "  1  1  1 -1 -1  1  1 -1  1 -1  1 -1  1  1 -1  1  1 -1  1 -1 -1 -1  1  1\n",
            " -1 -1 -1 -1]\n",
            "prediction of positive classes through base model [ 4 -1 -1 ... -1  2 -1]\n",
            "\n",
            "Linear - F1 Scores\n",
            "--------------------------------\n",
            "Macro: 0.4823245617287202\n",
            "Micro: 0.5123068116771609\n",
            "Weighted: 0.5047722601774953\n",
            "None: [0.52830189 0.4040404  0.47945205 0.61691542 0.5891182  0.2761194 ]\n",
            "\n",
            "Evaluate\n",
            "\n",
            "Overall accuracy: 0.5123068116771609\n",
            "Accuracy for class -1: 0.5365853658536586\n",
            "Accuracy for class 2: 0.6108374384236454\n",
            "Accuracy for class 4: 0.21511627906976744\n",
            "Accuracy for class 0: 0.3827751196172249\n",
            "Accuracy for class 3: 0.6885964912280702\n",
            "Accuracy for class 1: 0.47297297297297297\n",
            "macro f1 score: 0.4823245617287202\n",
            "weighted f1 score: 0.5047722601774953\n",
            "micro f1 score: 0.5123068116771609\n"
          ],
          "name": "stdout"
        }
      ]
    },
    {
      "cell_type": "code",
      "metadata": {
        "colab": {
          "base_uri": "https://localhost:8080/"
        },
        "id": "WjPlcauJUFFW",
        "outputId": "2593aee1-bbf9-4b57-e8c6-d68b19a7bdc7"
      },
      "source": [
        "# get index of all 1s/normal class\n",
        "index_normalList = [i for i in range(len(yhatPoly)) if yhatPoly[i]==1]\n",
        "print(\"length of index_normalList\", len(index_normalList))\n",
        "\n",
        "testXfilenames = Xtestvalunknown + X_test\n",
        "normalXfilenames = [testXfilenames[i] for i in index_normalList]\n",
        "print(\"length of normalXfilenames\", len(normalXfilenames))\n",
        "\n",
        "normalLoader = SpecLoaderWnn(normalXfilenames, batch_size,spectrograms_path)\n",
        "normal_predictions = model.predict_classes(x=normalLoader, batch_size=None)\n",
        "\n",
        "print(\"predict using one class svm:\",yhatPoly[:100])\n",
        "for i in range(len(normal_predictions)):\n",
        "  index_yhat = index_normalList[i]\n",
        "  predClass = normal_predictions[i]\n",
        "  # change the value in yhatPoly\n",
        "  yhatPoly[index_yhat] = predClass\n",
        "\n",
        "print(\"prediction of positive classes through base model\", yhatPoly)\n",
        "\n",
        "print(\"\\nPoly - F1 Scores\")\n",
        "print(\"--------------------------------\")\n",
        "print(\"Macro:\", f1_score(actualtestY, yhatPoly, average='macro'))\n",
        "print(\"Micro:\", f1_score(actualtestY, yhatPoly, average='micro'))\n",
        "print(\"Weighted:\", f1_score(actualtestY, yhatPoly, average='weighted'))\n",
        "print(\"None:\", f1_score(actualtestY, yhatPoly, average=None))\n",
        "\n",
        "print(\"\\nEvaluate\\n\")\n",
        "evaluate2(yhatPoly, actualtestY)"
      ],
      "execution_count": null,
      "outputs": [
        {
          "output_type": "stream",
          "text": [
            "length of index_normalList 897\n",
            "length of normalXfilenames 897\n",
            "predict using one class svm: [ 1  1 -1  1  1  1 -1  1 -1  1 -1 -1  1 -1 -1  1  1  1  1  1 -1 -1 -1  1\n",
            "  1 -1  1  1 -1 -1 -1 -1  1 -1 -1 -1 -1 -1  1 -1 -1  1  1  1  1  1  1 -1\n",
            " -1 -1  1 -1 -1 -1 -1 -1 -1 -1 -1 -1 -1  1  1 -1 -1  1  1 -1  1  1 -1 -1\n",
            "  1  1  1 -1 -1  1  1 -1  1 -1  1 -1  1  1 -1  1  1  1  1 -1  1 -1  1  1\n",
            " -1 -1 -1 -1]\n",
            "prediction of positive classes through base model [ 4  4 -1 ... -1 -1 -1]\n",
            "\n",
            "Poly - F1 Scores\n",
            "--------------------------------\n",
            "Macro: 0.4600097340004173\n",
            "Micro: 0.48769318832283914\n",
            "Weighted: 0.48250618399920786\n",
            "None: [0.49327878 0.41089109 0.38888889 0.58974359 0.58866545 0.2885906 ]\n",
            "\n",
            "Evaluate\n",
            "\n",
            "Overall accuracy: 0.48769318832283914\n",
            "Accuracy for class -1: 0.4901277584204414\n",
            "Accuracy for class 2: 0.5665024630541872\n",
            "Accuracy for class 4: 0.25\n",
            "Accuracy for class 0: 0.39712918660287083\n",
            "Accuracy for class 3: 0.706140350877193\n",
            "Accuracy for class 1: 0.3783783783783784\n",
            "macro f1 score: 0.4600097340004173\n",
            "weighted f1 score: 0.48250618399920786\n",
            "micro f1 score: 0.48769318832283914\n"
          ],
          "name": "stdout"
        }
      ]
    },
    {
      "cell_type": "code",
      "metadata": {
        "colab": {
          "base_uri": "https://localhost:8080/"
        },
        "id": "GSMVRyjrVJ_w",
        "outputId": "4dcddb29-d519-4867-d458-69028a565d11"
      },
      "source": [
        "# get index of all 1s/normal class\n",
        "index_normalList = [i for i in range(len(yhatRBF)) if yhatRBF[i]==1]\n",
        "print(\"length of index_normalList\", len(index_normalList))\n",
        "\n",
        "testXfilenames = Xtestvalunknown + X_test\n",
        "normalXfilenames = [testXfilenames[i] for i in index_normalList]\n",
        "print(\"length of normalXfilenames\", len(normalXfilenames))\n",
        "\n",
        "normalLoader = SpecLoaderWnn(normalXfilenames, batch_size,spectrograms_path)\n",
        "normal_predictions = model.predict_classes(x=normalLoader, batch_size=None)\n",
        "\n",
        "print(\"predict using one class svm:\",yhatRBF[:100])\n",
        "for i in range(len(normal_predictions)):\n",
        "  index_yhat = index_normalList[i]\n",
        "  predClass = normal_predictions[i]\n",
        "  # change the value in yhatRBF\n",
        "  yhatRBF[index_yhat] = predClass\n",
        "\n",
        "print(\"prediction of positive classes through base model\", yhatRBF)\n",
        "\n",
        "print(\"\\nRBF - F1 Scores\")\n",
        "print(\"--------------------------------\")\n",
        "print(\"Macro:\", f1_score(actualtestY, yhatRBF, average='macro'))\n",
        "print(\"Micro:\", f1_score(actualtestY, yhatRBF, average='micro'))\n",
        "print(\"Weighted:\", f1_score(actualtestY, yhatRBF, average='weighted'))\n",
        "print(\"None:\", f1_score(actualtestY, yhatRBF, average=None))\n",
        "\n",
        "print(\"\\nEvaluate\\n\")\n",
        "evaluate2(yhatRBF, actualtestY)"
      ],
      "execution_count": null,
      "outputs": [
        {
          "output_type": "stream",
          "text": [
            "length of index_normalList 944\n",
            "length of normalXfilenames 944\n",
            "predict using one class svm: [-1  1  1  1 -1  1  1 -1  1 -1  1  1 -1 -1  1 -1 -1 -1 -1  1  1 -1  1 -1\n",
            " -1  1  1  1  1  1  1  1 -1  1  1  1  1 -1 -1  1 -1  1 -1 -1 -1  1  1  1\n",
            "  1  1  1  1  1 -1  1 -1  1  1 -1  1 -1  1  1  1  1  1  1 -1  1 -1 -1  1\n",
            "  1 -1 -1 -1 -1 -1 -1  1  1  1  1  1 -1 -1 -1 -1  1 -1 -1  1 -1 -1 -1 -1\n",
            "  1  1  1  1]\n",
            "prediction of positive classes through base model [-1  4  0 ...  3  2 -1]\n",
            "\n",
            "RBF - F1 Scores\n",
            "--------------------------------\n",
            "Macro: 0.44533123971837707\n",
            "Micro: 0.44934172867773325\n",
            "Weighted: 0.4430046915041052\n",
            "None: [0.43629808 0.58264463 0.44776119 0.66968326 0.27322404 0.26237624]\n",
            "\n",
            "Evaluate\n",
            "\n",
            "Overall accuracy: 0.44934172867773325\n",
            "Accuracy for class -1: 0.42160278745644597\n",
            "Accuracy for class 2: 0.729064039408867\n",
            "Accuracy for class 4: 0.3081395348837209\n",
            "Accuracy for class 0: 0.6746411483253588\n",
            "Accuracy for class 3: 0.21929824561403508\n",
            "Accuracy for class 1: 0.40540540540540543\n",
            "macro f1 score: 0.44533123971837707\n",
            "weighted f1 score: 0.4430046915041052\n",
            "micro f1 score: 0.44934172867773325\n"
          ],
          "name": "stdout"
        }
      ]
    },
    {
      "cell_type": "code",
      "metadata": {
        "colab": {
          "base_uri": "https://localhost:8080/"
        },
        "id": "xvrBIIKoVwdJ",
        "outputId": "070161cf-a55b-4b3f-973c-60032d2e5fad"
      },
      "source": [
        "# get index of all 1s/normal class\n",
        "index_normalList = [i for i in range(len(yhatSigmoid)) if yhatSigmoid[i]==1]\n",
        "print(\"length of index_normalList\", len(index_normalList))\n",
        "\n",
        "testXfilenames = Xtestvalunknown + X_test\n",
        "normalXfilenames = [testXfilenames[i] for i in index_normalList]\n",
        "print(\"length of normalXfilenames\", len(normalXfilenames))\n",
        "\n",
        "normalLoader = SpecLoaderWnn(normalXfilenames, batch_size,spectrograms_path)\n",
        "normal_predictions = model.predict_classes(x=normalLoader, batch_size=None)\n",
        "\n",
        "print(\"predict using one class svm:\",yhatSigmoid[:100])\n",
        "for i in range(len(normal_predictions)):\n",
        "  index_yhat = index_normalList[i]\n",
        "  predClass = normal_predictions[i]\n",
        "  # change the value in yhatSigmoid\n",
        "  yhatSigmoid[index_yhat] = predClass\n",
        "\n",
        "print(\"prediction of positive classes through base model\", yhatSigmoid)\n",
        "\n",
        "print(\"\\nSigmoid - F1 Scores\")\n",
        "print(\"--------------------------------\")\n",
        "print(\"Macro:\", f1_score(actualtestY, yhatSigmoid, average='macro'))\n",
        "print(\"Micro:\", f1_score(actualtestY, yhatSigmoid, average='micro'))\n",
        "print(\"Weighted:\", f1_score(actualtestY, yhatSigmoid, average='weighted'))\n",
        "print(\"None:\", f1_score(actualtestY, yhatSigmoid, average=None))\n",
        "\n",
        "print(\"\\nEvaluate\\n\")\n",
        "evaluate2(yhatSigmoid, actualtestY)"
      ],
      "execution_count": null,
      "outputs": [
        {
          "output_type": "stream",
          "text": [
            "length of index_normalList 866\n",
            "length of normalXfilenames 866\n",
            "predict using one class svm: [ 1 -1  1  1 -1  1 -1 -1 -1 -1 -1  1 -1 -1 -1  1 -1  1  1  1  1 -1 -1  1\n",
            "  1 -1  1  1 -1 -1 -1  1  1 -1 -1 -1 -1 -1  1  1  1  1  1 -1 -1  1  1 -1\n",
            " -1 -1  1 -1 -1 -1 -1  1 -1  1 -1 -1 -1  1  1 -1 -1 -1  1 -1  1  1 -1 -1\n",
            "  1 -1 -1 -1 -1  1 -1  1  1 -1  1  1  1 -1 -1 -1  1 -1  1 -1 -1 -1 -1  1\n",
            "  1 -1 -1 -1]\n",
            "prediction of positive classes through base model [ 4 -1  0 ...  3  2 -1]\n",
            "\n",
            "Sigmoid - F1 Scores\n",
            "--------------------------------\n",
            "Macro: 0.4875586054491046\n",
            "Micro: 0.5151688609044076\n",
            "Weighted: 0.5087364078889922\n",
            "None: [0.5304248  0.43520782 0.47222222 0.66059226 0.53278689 0.29411765]\n",
            "\n",
            "Evaluate\n",
            "\n",
            "Overall accuracy: 0.5151688609044076\n",
            "Accuracy for class -1: 0.5365853658536586\n",
            "Accuracy for class 2: 0.7142857142857143\n",
            "Accuracy for class 4: 0.23255813953488372\n",
            "Accuracy for class 0: 0.4258373205741627\n",
            "Accuracy for class 3: 0.5701754385964912\n",
            "Accuracy for class 1: 0.4594594594594595\n",
            "macro f1 score: 0.4875586054491046\n",
            "weighted f1 score: 0.5087364078889922\n",
            "micro f1 score: 0.5151688609044076\n"
          ],
          "name": "stdout"
        }
      ]
    },
    {
      "cell_type": "markdown",
      "metadata": {
        "id": "huC1zw4SnWrx"
      },
      "source": [
        "#Using features extracted from base model"
      ]
    },
    {
      "cell_type": "code",
      "metadata": {
        "id": "QOYhoYOUnagt"
      },
      "source": [
        "import numpy as np\n",
        "import pandas as pd\n",
        "\n",
        "import json\n",
        "import keras\n",
        "import tensorflow\n",
        "from keras import layers\n",
        "from keras.models import Sequential\n",
        "from keras.applications import DenseNet201\n",
        "from keras.callbacks import Callback, EarlyStopping, ModelCheckpoint\n",
        "from sklearn.model_selection import train_test_split\n",
        "from sklearn.metrics import confusion_matrix, f1_score, precision_score, recall_score\n",
        "\n",
        "from keras.models import load_model"
      ],
      "execution_count": null,
      "outputs": []
    },
    {
      "cell_type": "code",
      "metadata": {
        "colab": {
          "base_uri": "https://localhost:8080/"
        },
        "id": "EuzbVynNnuAB",
        "outputId": "bc0ded8e-1a68-4db3-ae8b-6b86826cc9c2"
      },
      "source": [
        "model_save_path = os.path.join(root_path,\"basemodel-known\")\n",
        "# load model\n",
        "model = load_model(model_save_path)\n",
        "# summarize model.\n",
        "model.summary()"
      ],
      "execution_count": null,
      "outputs": [
        {
          "output_type": "stream",
          "text": [
            "Model: \"sequential_1\"\n",
            "_________________________________________________________________\n",
            "Layer (type)                 Output Shape              Param #   \n",
            "=================================================================\n",
            "densenet201 (Functional)     (None, None, None, 1920)  18321984  \n",
            "_________________________________________________________________\n",
            "global_average_pooling2d_1 ( (None, 1920)              0         \n",
            "_________________________________________________________________\n",
            "dense_1 (Dense)              (None, 5)                 9605      \n",
            "=================================================================\n",
            "Total params: 18,331,589\n",
            "Trainable params: 18,102,533\n",
            "Non-trainable params: 229,056\n",
            "_________________________________________________________________\n"
          ],
          "name": "stdout"
        }
      ]
    },
    {
      "cell_type": "code",
      "metadata": {
        "colab": {
          "base_uri": "https://localhost:8080/"
        },
        "id": "xyB7uJy77Ha2",
        "outputId": "2e65bec9-ee11-46cf-a6b3-b9a32d3a184c"
      },
      "source": [
        "layer_names = [layer.name for layer in model.layers]\n",
        "print(layer_names) #['densenet201', 'global_average_pooling2d_1', 'dense_1']"
      ],
      "execution_count": null,
      "outputs": [
        {
          "output_type": "stream",
          "text": [
            "['densenet201', 'global_average_pooling2d_1', 'dense_1']\n"
          ],
          "name": "stdout"
        }
      ]
    },
    {
      "cell_type": "markdown",
      "metadata": {
        "id": "gMPo4UEX8GfG"
      },
      "source": [
        "##Try using one training instance"
      ]
    },
    {
      "cell_type": "code",
      "metadata": {
        "colab": {
          "base_uri": "https://localhost:8080/"
        },
        "id": "0cYXLC_q1Myw",
        "outputId": "88b97276-bde7-408c-e96d-81aed72d8b82"
      },
      "source": [
        "#try one data\n",
        "onedatanp = np.load(spectrograms_path + \"344-3-0-0.wav.npy\")\n",
        "print(onedatanp.shape)\n",
        "\n",
        "#append numpy into [] -> 4 dimensions (nsamples,x,y,z)\n",
        "finalonedatanp = []\n",
        "finalonedatanp.append(onedatanp.transpose())\n",
        "finalonedatanp = np.array(finalonedatanp)\n",
        "\n",
        "print(finalonedatanp.shape)"
      ],
      "execution_count": null,
      "outputs": [
        {
          "output_type": "stream",
          "text": [
            "(3, 128, 250)\n",
            "(1, 250, 128, 3)\n"
          ],
          "name": "stdout"
        }
      ]
    },
    {
      "cell_type": "code",
      "metadata": {
        "colab": {
          "base_uri": "https://localhost:8080/"
        },
        "id": "g_FIt0KF7a4I",
        "outputId": "6c447246-f164-49ce-a491-067dfa0f4edd"
      },
      "source": [
        "from keras import Model\n",
        "\n",
        "model_output = model.get_layer(\"global_average_pooling2d_1\").output\n",
        "m = Model(inputs=model.input, outputs=model_output)\n",
        "finaloutput = m.predict(finalonedatanp)\n",
        "print(finaloutput.shape)"
      ],
      "execution_count": null,
      "outputs": [
        {
          "output_type": "stream",
          "text": [
            "(1, 1920)\n"
          ],
          "name": "stdout"
        }
      ]
    },
    {
      "cell_type": "code",
      "metadata": {
        "colab": {
          "base_uri": "https://localhost:8080/"
        },
        "id": "o2FEEkOCCDee",
        "outputId": "a1ae5bd6-8bce-42f9-850e-689375d387bc"
      },
      "source": [
        "print(np.array(finaltrainingset).shape)"
      ],
      "execution_count": null,
      "outputs": [
        {
          "output_type": "stream",
          "text": [
            "(128, 1920)\n"
          ],
          "name": "stdout"
        }
      ]
    },
    {
      "cell_type": "code",
      "metadata": {
        "colab": {
          "base_uri": "https://localhost:8080/"
        },
        "id": "s6Rvvwr7CjRq",
        "outputId": "3715f4df-12ac-4698-938e-68d884cf7685"
      },
      "source": [
        "np1 = np.array([[[1,2],[2,3,4,5]],[[3,4],[3,4,5,6]]])\n",
        "print(np1.shape)\n",
        "np2 = np.array([[[1,2],[2,3,4,5]],[[3,4],[3,4,5,6]]])\n",
        "np1=np.concatenate((np1,np2),axis=0)\n",
        "print(np1.shape)"
      ],
      "execution_count": null,
      "outputs": [
        {
          "output_type": "stream",
          "text": [
            "(2, 2)\n",
            "(4, 2)\n"
          ],
          "name": "stdout"
        }
      ]
    },
    {
      "cell_type": "code",
      "metadata": {
        "colab": {
          "base_uri": "https://localhost:8080/"
        },
        "id": "SEPXU69nEhWS",
        "outputId": "866d0170-175b-4c64-cf6d-3b3b2090d9cc"
      },
      "source": [
        "print(type(np.array([2,3])))"
      ],
      "execution_count": null,
      "outputs": [
        {
          "output_type": "stream",
          "text": [
            "<class 'numpy.ndarray'>\n"
          ],
          "name": "stdout"
        }
      ]
    },
    {
      "cell_type": "markdown",
      "metadata": {
        "id": "ClubQvkX8gh2"
      },
      "source": [
        "##All training instances"
      ]
    },
    {
      "cell_type": "code",
      "metadata": {
        "id": "TRIswrDL9FDr"
      },
      "source": [
        "# original, shape into OneClassSVM: (3543, 96000)\n",
        "# after NN, shape into OneClassSVM: (3543, 1920)\n",
        "\n",
        "batch_size = 16"
      ],
      "execution_count": null,
      "outputs": []
    },
    {
      "cell_type": "code",
      "metadata": {
        "id": "w8VxkfI_9hZf"
      },
      "source": [
        "class SpecLoaderWnn(keras.utils.Sequence):\n",
        "  def __init__(self, x_set, batch_size, spec_dir):\n",
        "    self.x = x_set\n",
        "    self.batch_size = batch_size\n",
        "    self.spec_dir = spec_dir\n",
        "\n",
        "  def __len__(self):\n",
        "    return int(np.ceil(len(self.x) / self.batch_size))\n",
        "\n",
        "  def getitem(self,idx):\n",
        "    batch_x = self.x[idx * self.batch_size:(idx + 1) * self.batch_size]\n",
        "    # batch_y = self.y[idx * self.batch_size:(idx + 1) * self.batch_size]\n",
        "\n",
        "    batchSpecs = []\n",
        "    for fileName in batch_x:\n",
        "        spec = np.load(self.spec_dir + fileName + \".npy\")\n",
        "        batchSpecs.append(spec.transpose())\n",
        "    return np.array(batchSpecs)\n",
        "\n",
        "  def __getitem__(self, idx):\n",
        "    batch_x = self.x[idx * self.batch_size:(idx + 1) * self.batch_size]\n",
        "    # batch_y = self.y[idx * self.batch_size:(idx + 1) * self.batch_size]\n",
        "\n",
        "    batchSpecs = []\n",
        "    for fileName in batch_x:\n",
        "        spec = np.load(self.spec_dir + fileName + \".npy\")\n",
        "        batchSpecs.append(spec.transpose())\n",
        "    return np.array(batchSpecs)"
      ],
      "execution_count": null,
      "outputs": []
    },
    {
      "cell_type": "code",
      "metadata": {
        "id": "9KmM3_HIe8bc"
      },
      "source": [
        "#prepare data\n",
        "from sklearn.model_selection import train_test_split\n",
        "\n",
        "data_df = pd.read_csv(csv_path)\n",
        "data_df_known = data_df.loc[data_df[\"classID\"] < 5]\n",
        "data_df_unknown = data_df.loc[data_df[\"classID\"] >= 5]\n",
        "\n",
        "Xtrainval, X_test, Ytrainval, y_test = train_test_split(data_df_known['slice_file_name'].tolist(), data_df_known['classID'].tolist(), test_size=test_size, random_state = 42)"
      ],
      "execution_count": null,
      "outputs": []
    },
    {
      "cell_type": "code",
      "metadata": {
        "id": "5_m7n5GR01df"
      },
      "source": [
        "#Xtrainval = data_df_known['slice_file_name'].tolist()\n",
        "#Ytrainval = data_df_known['classID'].tolist()\n",
        "\n",
        "train_loader = SpecLoaderWnn(Xtrainval, Ytrainval, batch_size, spectrograms_path)\n"
      ],
      "execution_count": null,
      "outputs": []
    },
    {
      "cell_type": "code",
      "metadata": {
        "colab": {
          "base_uri": "https://localhost:8080/"
        },
        "id": "bRFAn-HN-Tzh",
        "outputId": "b89f8c5d-759e-48aa-f445-d7d2909d29d3"
      },
      "source": [
        "from keras import Model\n",
        "from tqdm import tqdm\n",
        "finaltrainingset = None\n",
        "for ind in tqdm(range(len(train_loader))):\n",
        "  model_output = model.get_layer(\"global_average_pooling2d_1\").output\n",
        "  m = Model(inputs=model.input, outputs=model_output)\n",
        "  finaloutput = m.predict(train_loader.getitem(ind))\n",
        "  if ind==0:\n",
        "    print(finaloutput.shape)\n",
        "  if type(finaltrainingset) == type(None):\n",
        "    finaltrainingset = finaloutput\n",
        "  else:\n",
        "    finaltrainingset=np.concatenate((finaltrainingset,finaloutput),axis=0)"
      ],
      "execution_count": null,
      "outputs": [
        {
          "output_type": "stream",
          "text": [
            "\n",
            "\n",
            "\n",
            "\n",
            "  0%|          | 0/222 [00:00<?, ?it/s]\u001b[A\u001b[A\u001b[A\u001b[A"
          ],
          "name": "stderr"
        },
        {
          "output_type": "stream",
          "text": [
            "WARNING:tensorflow:11 out of the last 11 calls to <function Model.make_predict_function.<locals>.predict_function at 0x7f9ec81e2510> triggered tf.function retracing. Tracing is expensive and the excessive number of tracings could be due to (1) creating @tf.function repeatedly in a loop, (2) passing tensors with different shapes, (3) passing Python objects instead of tensors. For (1), please define your @tf.function outside of the loop. For (2), @tf.function has experimental_relax_shapes=True option that relaxes argument shapes that can avoid unnecessary retracing. For (3), please refer to https://www.tensorflow.org/tutorials/customization/performance#python_or_tensor_args and https://www.tensorflow.org/api_docs/python/tf/function for  more details.\n"
          ],
          "name": "stdout"
        },
        {
          "output_type": "stream",
          "text": [
            "\n",
            "\n",
            "\n",
            "\n",
            "  0%|          | 1/222 [00:05<18:54,  5.13s/it]\u001b[A\u001b[A\u001b[A\u001b[A"
          ],
          "name": "stderr"
        },
        {
          "output_type": "stream",
          "text": [
            "(16, 1920)\n",
            "WARNING:tensorflow:11 out of the last 11 calls to <function Model.make_predict_function.<locals>.predict_function at 0x7f9ecb429488> triggered tf.function retracing. Tracing is expensive and the excessive number of tracings could be due to (1) creating @tf.function repeatedly in a loop, (2) passing tensors with different shapes, (3) passing Python objects instead of tensors. For (1), please define your @tf.function outside of the loop. For (2), @tf.function has experimental_relax_shapes=True option that relaxes argument shapes that can avoid unnecessary retracing. For (3), please refer to https://www.tensorflow.org/tutorials/customization/performance#python_or_tensor_args and https://www.tensorflow.org/api_docs/python/tf/function for  more details.\n"
          ],
          "name": "stdout"
        },
        {
          "output_type": "stream",
          "text": [
            "\n",
            "\n",
            "\n",
            "\n",
            "  1%|          | 2/222 [00:10<18:49,  5.13s/it]\u001b[A\u001b[A\u001b[A\u001b[A"
          ],
          "name": "stderr"
        },
        {
          "output_type": "stream",
          "text": [
            "WARNING:tensorflow:11 out of the last 11 calls to <function Model.make_predict_function.<locals>.predict_function at 0x7f9ecb46e950> triggered tf.function retracing. Tracing is expensive and the excessive number of tracings could be due to (1) creating @tf.function repeatedly in a loop, (2) passing tensors with different shapes, (3) passing Python objects instead of tensors. For (1), please define your @tf.function outside of the loop. For (2), @tf.function has experimental_relax_shapes=True option that relaxes argument shapes that can avoid unnecessary retracing. For (3), please refer to https://www.tensorflow.org/tutorials/customization/performance#python_or_tensor_args and https://www.tensorflow.org/api_docs/python/tf/function for  more details.\n"
          ],
          "name": "stdout"
        },
        {
          "output_type": "stream",
          "text": [
            "\n",
            "\n",
            "\n",
            "\n",
            "  1%|▏         | 3/222 [00:15<18:33,  5.09s/it]\u001b[A\u001b[A\u001b[A\u001b[A"
          ],
          "name": "stderr"
        },
        {
          "output_type": "stream",
          "text": [
            "WARNING:tensorflow:11 out of the last 11 calls to <function Model.make_predict_function.<locals>.predict_function at 0x7f9ecb6e3488> triggered tf.function retracing. Tracing is expensive and the excessive number of tracings could be due to (1) creating @tf.function repeatedly in a loop, (2) passing tensors with different shapes, (3) passing Python objects instead of tensors. For (1), please define your @tf.function outside of the loop. For (2), @tf.function has experimental_relax_shapes=True option that relaxes argument shapes that can avoid unnecessary retracing. For (3), please refer to https://www.tensorflow.org/tutorials/customization/performance#python_or_tensor_args and https://www.tensorflow.org/api_docs/python/tf/function for  more details.\n"
          ],
          "name": "stdout"
        },
        {
          "output_type": "stream",
          "text": [
            "\n",
            "\n",
            "\n",
            "\n",
            "  2%|▏         | 4/222 [00:20<18:23,  5.06s/it]\u001b[A\u001b[A\u001b[A\u001b[A"
          ],
          "name": "stderr"
        },
        {
          "output_type": "stream",
          "text": [
            "WARNING:tensorflow:11 out of the last 11 calls to <function Model.make_predict_function.<locals>.predict_function at 0x7f9ecd7581e0> triggered tf.function retracing. Tracing is expensive and the excessive number of tracings could be due to (1) creating @tf.function repeatedly in a loop, (2) passing tensors with different shapes, (3) passing Python objects instead of tensors. For (1), please define your @tf.function outside of the loop. For (2), @tf.function has experimental_relax_shapes=True option that relaxes argument shapes that can avoid unnecessary retracing. For (3), please refer to https://www.tensorflow.org/tutorials/customization/performance#python_or_tensor_args and https://www.tensorflow.org/api_docs/python/tf/function for  more details.\n"
          ],
          "name": "stdout"
        },
        {
          "output_type": "stream",
          "text": [
            "\n",
            "\n",
            "\n",
            "\n",
            "  2%|▏         | 5/222 [00:25<18:10,  5.02s/it]\u001b[A\u001b[A\u001b[A\u001b[A"
          ],
          "name": "stderr"
        },
        {
          "output_type": "stream",
          "text": [
            "WARNING:tensorflow:11 out of the last 11 calls to <function Model.make_predict_function.<locals>.predict_function at 0x7f9eca68b488> triggered tf.function retracing. Tracing is expensive and the excessive number of tracings could be due to (1) creating @tf.function repeatedly in a loop, (2) passing tensors with different shapes, (3) passing Python objects instead of tensors. For (1), please define your @tf.function outside of the loop. For (2), @tf.function has experimental_relax_shapes=True option that relaxes argument shapes that can avoid unnecessary retracing. For (3), please refer to https://www.tensorflow.org/tutorials/customization/performance#python_or_tensor_args and https://www.tensorflow.org/api_docs/python/tf/function for  more details.\n"
          ],
          "name": "stdout"
        },
        {
          "output_type": "stream",
          "text": [
            "\n",
            "\n",
            "\n",
            "\n",
            "  3%|▎         | 6/222 [00:30<18:03,  5.02s/it]\u001b[A\u001b[A\u001b[A\u001b[A"
          ],
          "name": "stderr"
        },
        {
          "output_type": "stream",
          "text": [
            "WARNING:tensorflow:11 out of the last 11 calls to <function Model.make_predict_function.<locals>.predict_function at 0x7f9ec58c7268> triggered tf.function retracing. Tracing is expensive and the excessive number of tracings could be due to (1) creating @tf.function repeatedly in a loop, (2) passing tensors with different shapes, (3) passing Python objects instead of tensors. For (1), please define your @tf.function outside of the loop. For (2), @tf.function has experimental_relax_shapes=True option that relaxes argument shapes that can avoid unnecessary retracing. For (3), please refer to https://www.tensorflow.org/tutorials/customization/performance#python_or_tensor_args and https://www.tensorflow.org/api_docs/python/tf/function for  more details.\n"
          ],
          "name": "stdout"
        },
        {
          "output_type": "stream",
          "text": [
            "\n",
            "\n",
            "\n",
            "\n",
            "  3%|▎         | 7/222 [00:36<19:25,  5.42s/it]\u001b[A\u001b[A\u001b[A\u001b[A"
          ],
          "name": "stderr"
        },
        {
          "output_type": "stream",
          "text": [
            "WARNING:tensorflow:11 out of the last 11 calls to <function Model.make_predict_function.<locals>.predict_function at 0x7f9ecc00e1e0> triggered tf.function retracing. Tracing is expensive and the excessive number of tracings could be due to (1) creating @tf.function repeatedly in a loop, (2) passing tensors with different shapes, (3) passing Python objects instead of tensors. For (1), please define your @tf.function outside of the loop. For (2), @tf.function has experimental_relax_shapes=True option that relaxes argument shapes that can avoid unnecessary retracing. For (3), please refer to https://www.tensorflow.org/tutorials/customization/performance#python_or_tensor_args and https://www.tensorflow.org/api_docs/python/tf/function for  more details.\n"
          ],
          "name": "stdout"
        },
        {
          "output_type": "stream",
          "text": [
            "\n",
            "\n",
            "\n",
            "\n",
            "  4%|▎         | 8/222 [00:41<18:58,  5.32s/it]\u001b[A\u001b[A\u001b[A\u001b[A"
          ],
          "name": "stderr"
        },
        {
          "output_type": "stream",
          "text": [
            "WARNING:tensorflow:11 out of the last 11 calls to <function Model.make_predict_function.<locals>.predict_function at 0x7f9ecc00e9d8> triggered tf.function retracing. Tracing is expensive and the excessive number of tracings could be due to (1) creating @tf.function repeatedly in a loop, (2) passing tensors with different shapes, (3) passing Python objects instead of tensors. For (1), please define your @tf.function outside of the loop. For (2), @tf.function has experimental_relax_shapes=True option that relaxes argument shapes that can avoid unnecessary retracing. For (3), please refer to https://www.tensorflow.org/tutorials/customization/performance#python_or_tensor_args and https://www.tensorflow.org/api_docs/python/tf/function for  more details.\n"
          ],
          "name": "stdout"
        },
        {
          "output_type": "stream",
          "text": [
            "\n",
            "\n",
            "\n",
            "\n",
            "  4%|▍         | 9/222 [00:46<18:33,  5.23s/it]\u001b[A\u001b[A\u001b[A\u001b[A"
          ],
          "name": "stderr"
        },
        {
          "output_type": "stream",
          "text": [
            "WARNING:tensorflow:11 out of the last 11 calls to <function Model.make_predict_function.<locals>.predict_function at 0x7f9ec6673488> triggered tf.function retracing. Tracing is expensive and the excessive number of tracings could be due to (1) creating @tf.function repeatedly in a loop, (2) passing tensors with different shapes, (3) passing Python objects instead of tensors. For (1), please define your @tf.function outside of the loop. For (2), @tf.function has experimental_relax_shapes=True option that relaxes argument shapes that can avoid unnecessary retracing. For (3), please refer to https://www.tensorflow.org/tutorials/customization/performance#python_or_tensor_args and https://www.tensorflow.org/api_docs/python/tf/function for  more details.\n"
          ],
          "name": "stdout"
        },
        {
          "output_type": "stream",
          "text": [
            "\n",
            "\n",
            "\n",
            "\n",
            "  5%|▍         | 10/222 [00:51<18:19,  5.19s/it]\u001b[A\u001b[A\u001b[A\u001b[A"
          ],
          "name": "stderr"
        },
        {
          "output_type": "stream",
          "text": [
            "WARNING:tensorflow:11 out of the last 11 calls to <function Model.make_predict_function.<locals>.predict_function at 0x7f9ecb3217b8> triggered tf.function retracing. Tracing is expensive and the excessive number of tracings could be due to (1) creating @tf.function repeatedly in a loop, (2) passing tensors with different shapes, (3) passing Python objects instead of tensors. For (1), please define your @tf.function outside of the loop. For (2), @tf.function has experimental_relax_shapes=True option that relaxes argument shapes that can avoid unnecessary retracing. For (3), please refer to https://www.tensorflow.org/tutorials/customization/performance#python_or_tensor_args and https://www.tensorflow.org/api_docs/python/tf/function for  more details.\n"
          ],
          "name": "stdout"
        },
        {
          "output_type": "stream",
          "text": [
            "\n",
            "\n",
            "\n",
            "\n",
            "  5%|▍         | 11/222 [00:56<18:08,  5.16s/it]\u001b[A\u001b[A\u001b[A\u001b[A"
          ],
          "name": "stderr"
        },
        {
          "output_type": "stream",
          "text": [
            "WARNING:tensorflow:11 out of the last 11 calls to <function Model.make_predict_function.<locals>.predict_function at 0x7f9eca33c378> triggered tf.function retracing. Tracing is expensive and the excessive number of tracings could be due to (1) creating @tf.function repeatedly in a loop, (2) passing tensors with different shapes, (3) passing Python objects instead of tensors. For (1), please define your @tf.function outside of the loop. For (2), @tf.function has experimental_relax_shapes=True option that relaxes argument shapes that can avoid unnecessary retracing. For (3), please refer to https://www.tensorflow.org/tutorials/customization/performance#python_or_tensor_args and https://www.tensorflow.org/api_docs/python/tf/function for  more details.\n"
          ],
          "name": "stdout"
        },
        {
          "output_type": "stream",
          "text": [
            "\n",
            "\n",
            "\n",
            "\n",
            "  5%|▌         | 12/222 [01:01<17:55,  5.12s/it]\u001b[A\u001b[A\u001b[A\u001b[A"
          ],
          "name": "stderr"
        },
        {
          "output_type": "stream",
          "text": [
            "WARNING:tensorflow:11 out of the last 11 calls to <function Model.make_predict_function.<locals>.predict_function at 0x7f9ec8503ae8> triggered tf.function retracing. Tracing is expensive and the excessive number of tracings could be due to (1) creating @tf.function repeatedly in a loop, (2) passing tensors with different shapes, (3) passing Python objects instead of tensors. For (1), please define your @tf.function outside of the loop. For (2), @tf.function has experimental_relax_shapes=True option that relaxes argument shapes that can avoid unnecessary retracing. For (3), please refer to https://www.tensorflow.org/tutorials/customization/performance#python_or_tensor_args and https://www.tensorflow.org/api_docs/python/tf/function for  more details.\n"
          ],
          "name": "stdout"
        },
        {
          "output_type": "stream",
          "text": [
            "\n",
            "\n",
            "\n",
            "\n",
            "  6%|▌         | 13/222 [01:06<17:44,  5.09s/it]\u001b[A\u001b[A\u001b[A\u001b[A"
          ],
          "name": "stderr"
        },
        {
          "output_type": "stream",
          "text": [
            "WARNING:tensorflow:11 out of the last 11 calls to <function Model.make_predict_function.<locals>.predict_function at 0x7f9eca2f6840> triggered tf.function retracing. Tracing is expensive and the excessive number of tracings could be due to (1) creating @tf.function repeatedly in a loop, (2) passing tensors with different shapes, (3) passing Python objects instead of tensors. For (1), please define your @tf.function outside of the loop. For (2), @tf.function has experimental_relax_shapes=True option that relaxes argument shapes that can avoid unnecessary retracing. For (3), please refer to https://www.tensorflow.org/tutorials/customization/performance#python_or_tensor_args and https://www.tensorflow.org/api_docs/python/tf/function for  more details.\n"
          ],
          "name": "stdout"
        },
        {
          "output_type": "stream",
          "text": [
            "\n",
            "\n",
            "\n",
            "\n",
            "  6%|▋         | 14/222 [01:11<17:40,  5.10s/it]\u001b[A\u001b[A\u001b[A\u001b[A"
          ],
          "name": "stderr"
        },
        {
          "output_type": "stream",
          "text": [
            "WARNING:tensorflow:11 out of the last 11 calls to <function Model.make_predict_function.<locals>.predict_function at 0x7f9eca5b81e0> triggered tf.function retracing. Tracing is expensive and the excessive number of tracings could be due to (1) creating @tf.function repeatedly in a loop, (2) passing tensors with different shapes, (3) passing Python objects instead of tensors. For (1), please define your @tf.function outside of the loop. For (2), @tf.function has experimental_relax_shapes=True option that relaxes argument shapes that can avoid unnecessary retracing. For (3), please refer to https://www.tensorflow.org/tutorials/customization/performance#python_or_tensor_args and https://www.tensorflow.org/api_docs/python/tf/function for  more details.\n"
          ],
          "name": "stdout"
        },
        {
          "output_type": "stream",
          "text": [
            "\n",
            "\n",
            "\n",
            "\n",
            "  7%|▋         | 15/222 [01:17<18:11,  5.27s/it]\u001b[A\u001b[A\u001b[A\u001b[A"
          ],
          "name": "stderr"
        },
        {
          "output_type": "stream",
          "text": [
            "WARNING:tensorflow:11 out of the last 11 calls to <function Model.make_predict_function.<locals>.predict_function at 0x7f9ecd3f3620> triggered tf.function retracing. Tracing is expensive and the excessive number of tracings could be due to (1) creating @tf.function repeatedly in a loop, (2) passing tensors with different shapes, (3) passing Python objects instead of tensors. For (1), please define your @tf.function outside of the loop. For (2), @tf.function has experimental_relax_shapes=True option that relaxes argument shapes that can avoid unnecessary retracing. For (3), please refer to https://www.tensorflow.org/tutorials/customization/performance#python_or_tensor_args and https://www.tensorflow.org/api_docs/python/tf/function for  more details.\n"
          ],
          "name": "stdout"
        },
        {
          "output_type": "stream",
          "text": [
            "\n",
            "\n",
            "\n",
            "\n",
            "  7%|▋         | 16/222 [01:23<19:07,  5.57s/it]\u001b[A\u001b[A\u001b[A\u001b[A"
          ],
          "name": "stderr"
        },
        {
          "output_type": "stream",
          "text": [
            "WARNING:tensorflow:11 out of the last 11 calls to <function Model.make_predict_function.<locals>.predict_function at 0x7f9eca8cb2f0> triggered tf.function retracing. Tracing is expensive and the excessive number of tracings could be due to (1) creating @tf.function repeatedly in a loop, (2) passing tensors with different shapes, (3) passing Python objects instead of tensors. For (1), please define your @tf.function outside of the loop. For (2), @tf.function has experimental_relax_shapes=True option that relaxes argument shapes that can avoid unnecessary retracing. For (3), please refer to https://www.tensorflow.org/tutorials/customization/performance#python_or_tensor_args and https://www.tensorflow.org/api_docs/python/tf/function for  more details.\n"
          ],
          "name": "stdout"
        },
        {
          "output_type": "stream",
          "text": [
            "\n",
            "\n",
            "\n",
            "\n",
            "  8%|▊         | 17/222 [01:28<18:25,  5.39s/it]\u001b[A\u001b[A\u001b[A\u001b[A"
          ],
          "name": "stderr"
        },
        {
          "output_type": "stream",
          "text": [
            "WARNING:tensorflow:11 out of the last 11 calls to <function Model.make_predict_function.<locals>.predict_function at 0x7f9ecbf7bae8> triggered tf.function retracing. Tracing is expensive and the excessive number of tracings could be due to (1) creating @tf.function repeatedly in a loop, (2) passing tensors with different shapes, (3) passing Python objects instead of tensors. For (1), please define your @tf.function outside of the loop. For (2), @tf.function has experimental_relax_shapes=True option that relaxes argument shapes that can avoid unnecessary retracing. For (3), please refer to https://www.tensorflow.org/tutorials/customization/performance#python_or_tensor_args and https://www.tensorflow.org/api_docs/python/tf/function for  more details.\n"
          ],
          "name": "stdout"
        },
        {
          "output_type": "stream",
          "text": [
            "\n",
            "\n",
            "\n",
            "\n",
            "  8%|▊         | 18/222 [01:33<17:46,  5.23s/it]\u001b[A\u001b[A\u001b[A\u001b[A"
          ],
          "name": "stderr"
        },
        {
          "output_type": "stream",
          "text": [
            "WARNING:tensorflow:11 out of the last 11 calls to <function Model.make_predict_function.<locals>.predict_function at 0x7f9ec8e47488> triggered tf.function retracing. Tracing is expensive and the excessive number of tracings could be due to (1) creating @tf.function repeatedly in a loop, (2) passing tensors with different shapes, (3) passing Python objects instead of tensors. For (1), please define your @tf.function outside of the loop. For (2), @tf.function has experimental_relax_shapes=True option that relaxes argument shapes that can avoid unnecessary retracing. For (3), please refer to https://www.tensorflow.org/tutorials/customization/performance#python_or_tensor_args and https://www.tensorflow.org/api_docs/python/tf/function for  more details.\n"
          ],
          "name": "stdout"
        },
        {
          "output_type": "stream",
          "text": [
            "\n",
            "\n",
            "\n",
            "\n",
            "  9%|▊         | 19/222 [01:38<17:19,  5.12s/it]\u001b[A\u001b[A\u001b[A\u001b[A"
          ],
          "name": "stderr"
        },
        {
          "output_type": "stream",
          "text": [
            "WARNING:tensorflow:11 out of the last 11 calls to <function Model.make_predict_function.<locals>.predict_function at 0x7f9ecb2f4598> triggered tf.function retracing. Tracing is expensive and the excessive number of tracings could be due to (1) creating @tf.function repeatedly in a loop, (2) passing tensors with different shapes, (3) passing Python objects instead of tensors. For (1), please define your @tf.function outside of the loop. For (2), @tf.function has experimental_relax_shapes=True option that relaxes argument shapes that can avoid unnecessary retracing. For (3), please refer to https://www.tensorflow.org/tutorials/customization/performance#python_or_tensor_args and https://www.tensorflow.org/api_docs/python/tf/function for  more details.\n"
          ],
          "name": "stdout"
        },
        {
          "output_type": "stream",
          "text": [
            "\n",
            "\n",
            "\n",
            "\n",
            "  9%|▉         | 20/222 [01:43<17:01,  5.06s/it]\u001b[A\u001b[A\u001b[A\u001b[A"
          ],
          "name": "stderr"
        },
        {
          "output_type": "stream",
          "text": [
            "WARNING:tensorflow:11 out of the last 11 calls to <function Model.make_predict_function.<locals>.predict_function at 0x7f9ecc001840> triggered tf.function retracing. Tracing is expensive and the excessive number of tracings could be due to (1) creating @tf.function repeatedly in a loop, (2) passing tensors with different shapes, (3) passing Python objects instead of tensors. For (1), please define your @tf.function outside of the loop. For (2), @tf.function has experimental_relax_shapes=True option that relaxes argument shapes that can avoid unnecessary retracing. For (3), please refer to https://www.tensorflow.org/tutorials/customization/performance#python_or_tensor_args and https://www.tensorflow.org/api_docs/python/tf/function for  more details.\n"
          ],
          "name": "stdout"
        },
        {
          "output_type": "stream",
          "text": [
            "\n",
            "\n",
            "\n",
            "\n",
            "  9%|▉         | 21/222 [01:48<16:50,  5.03s/it]\u001b[A\u001b[A\u001b[A\u001b[A"
          ],
          "name": "stderr"
        },
        {
          "output_type": "stream",
          "text": [
            "WARNING:tensorflow:11 out of the last 11 calls to <function Model.make_predict_function.<locals>.predict_function at 0x7f9ec6744400> triggered tf.function retracing. Tracing is expensive and the excessive number of tracings could be due to (1) creating @tf.function repeatedly in a loop, (2) passing tensors with different shapes, (3) passing Python objects instead of tensors. For (1), please define your @tf.function outside of the loop. For (2), @tf.function has experimental_relax_shapes=True option that relaxes argument shapes that can avoid unnecessary retracing. For (3), please refer to https://www.tensorflow.org/tutorials/customization/performance#python_or_tensor_args and https://www.tensorflow.org/api_docs/python/tf/function for  more details.\n"
          ],
          "name": "stdout"
        },
        {
          "output_type": "stream",
          "text": [
            "\n",
            "\n",
            "\n",
            "\n",
            " 10%|▉         | 22/222 [01:53<16:39,  5.00s/it]\u001b[A\u001b[A\u001b[A\u001b[A"
          ],
          "name": "stderr"
        },
        {
          "output_type": "stream",
          "text": [
            "WARNING:tensorflow:11 out of the last 11 calls to <function Model.make_predict_function.<locals>.predict_function at 0x7f9ecb6fd7b8> triggered tf.function retracing. Tracing is expensive and the excessive number of tracings could be due to (1) creating @tf.function repeatedly in a loop, (2) passing tensors with different shapes, (3) passing Python objects instead of tensors. For (1), please define your @tf.function outside of the loop. For (2), @tf.function has experimental_relax_shapes=True option that relaxes argument shapes that can avoid unnecessary retracing. For (3), please refer to https://www.tensorflow.org/tutorials/customization/performance#python_or_tensor_args and https://www.tensorflow.org/api_docs/python/tf/function for  more details.\n"
          ],
          "name": "stdout"
        },
        {
          "output_type": "stream",
          "text": [
            "\n",
            "\n",
            "\n",
            "\n",
            " 10%|█         | 23/222 [01:58<16:48,  5.07s/it]\u001b[A\u001b[A\u001b[A\u001b[A"
          ],
          "name": "stderr"
        },
        {
          "output_type": "stream",
          "text": [
            "WARNING:tensorflow:11 out of the last 11 calls to <function Model.make_predict_function.<locals>.predict_function at 0x7f9ec9a2e400> triggered tf.function retracing. Tracing is expensive and the excessive number of tracings could be due to (1) creating @tf.function repeatedly in a loop, (2) passing tensors with different shapes, (3) passing Python objects instead of tensors. For (1), please define your @tf.function outside of the loop. For (2), @tf.function has experimental_relax_shapes=True option that relaxes argument shapes that can avoid unnecessary retracing. For (3), please refer to https://www.tensorflow.org/tutorials/customization/performance#python_or_tensor_args and https://www.tensorflow.org/api_docs/python/tf/function for  more details.\n"
          ],
          "name": "stdout"
        },
        {
          "output_type": "stream",
          "text": [
            "\n",
            "\n",
            "\n",
            "\n",
            " 11%|█         | 24/222 [02:05<18:03,  5.47s/it]\u001b[A\u001b[A\u001b[A\u001b[A"
          ],
          "name": "stderr"
        },
        {
          "output_type": "stream",
          "text": [
            "WARNING:tensorflow:11 out of the last 11 calls to <function Model.make_predict_function.<locals>.predict_function at 0x7f9eca8cb378> triggered tf.function retracing. Tracing is expensive and the excessive number of tracings could be due to (1) creating @tf.function repeatedly in a loop, (2) passing tensors with different shapes, (3) passing Python objects instead of tensors. For (1), please define your @tf.function outside of the loop. For (2), @tf.function has experimental_relax_shapes=True option that relaxes argument shapes that can avoid unnecessary retracing. For (3), please refer to https://www.tensorflow.org/tutorials/customization/performance#python_or_tensor_args and https://www.tensorflow.org/api_docs/python/tf/function for  more details.\n"
          ],
          "name": "stdout"
        },
        {
          "output_type": "stream",
          "text": [
            "\n",
            "\n",
            "\n",
            "\n",
            " 11%|█▏        | 25/222 [02:10<17:37,  5.37s/it]\u001b[A\u001b[A\u001b[A\u001b[A"
          ],
          "name": "stderr"
        },
        {
          "output_type": "stream",
          "text": [
            "WARNING:tensorflow:11 out of the last 11 calls to <function Model.make_predict_function.<locals>.predict_function at 0x7f9ecb17b2f0> triggered tf.function retracing. Tracing is expensive and the excessive number of tracings could be due to (1) creating @tf.function repeatedly in a loop, (2) passing tensors with different shapes, (3) passing Python objects instead of tensors. For (1), please define your @tf.function outside of the loop. For (2), @tf.function has experimental_relax_shapes=True option that relaxes argument shapes that can avoid unnecessary retracing. For (3), please refer to https://www.tensorflow.org/tutorials/customization/performance#python_or_tensor_args and https://www.tensorflow.org/api_docs/python/tf/function for  more details.\n"
          ],
          "name": "stdout"
        },
        {
          "output_type": "stream",
          "text": [
            "\n",
            "\n",
            "\n",
            "\n",
            " 12%|█▏        | 26/222 [02:15<17:17,  5.29s/it]\u001b[A\u001b[A\u001b[A\u001b[A"
          ],
          "name": "stderr"
        },
        {
          "output_type": "stream",
          "text": [
            "WARNING:tensorflow:11 out of the last 11 calls to <function Model.make_predict_function.<locals>.predict_function at 0x7f9eca7fe488> triggered tf.function retracing. Tracing is expensive and the excessive number of tracings could be due to (1) creating @tf.function repeatedly in a loop, (2) passing tensors with different shapes, (3) passing Python objects instead of tensors. For (1), please define your @tf.function outside of the loop. For (2), @tf.function has experimental_relax_shapes=True option that relaxes argument shapes that can avoid unnecessary retracing. For (3), please refer to https://www.tensorflow.org/tutorials/customization/performance#python_or_tensor_args and https://www.tensorflow.org/api_docs/python/tf/function for  more details.\n"
          ],
          "name": "stdout"
        },
        {
          "output_type": "stream",
          "text": [
            "\n",
            "\n",
            "\n",
            "\n",
            " 12%|█▏        | 27/222 [02:20<16:59,  5.23s/it]\u001b[A\u001b[A\u001b[A\u001b[A"
          ],
          "name": "stderr"
        },
        {
          "output_type": "stream",
          "text": [
            "WARNING:tensorflow:11 out of the last 11 calls to <function Model.make_predict_function.<locals>.predict_function at 0x7f9ecd5e1840> triggered tf.function retracing. Tracing is expensive and the excessive number of tracings could be due to (1) creating @tf.function repeatedly in a loop, (2) passing tensors with different shapes, (3) passing Python objects instead of tensors. For (1), please define your @tf.function outside of the loop. For (2), @tf.function has experimental_relax_shapes=True option that relaxes argument shapes that can avoid unnecessary retracing. For (3), please refer to https://www.tensorflow.org/tutorials/customization/performance#python_or_tensor_args and https://www.tensorflow.org/api_docs/python/tf/function for  more details.\n"
          ],
          "name": "stdout"
        },
        {
          "output_type": "stream",
          "text": [
            "\n",
            "\n",
            "\n",
            "\n",
            " 13%|█▎        | 28/222 [02:25<16:50,  5.21s/it]\u001b[A\u001b[A\u001b[A\u001b[A"
          ],
          "name": "stderr"
        },
        {
          "output_type": "stream",
          "text": [
            "WARNING:tensorflow:11 out of the last 11 calls to <function Model.make_predict_function.<locals>.predict_function at 0x7f9ec92bc840> triggered tf.function retracing. Tracing is expensive and the excessive number of tracings could be due to (1) creating @tf.function repeatedly in a loop, (2) passing tensors with different shapes, (3) passing Python objects instead of tensors. For (1), please define your @tf.function outside of the loop. For (2), @tf.function has experimental_relax_shapes=True option that relaxes argument shapes that can avoid unnecessary retracing. For (3), please refer to https://www.tensorflow.org/tutorials/customization/performance#python_or_tensor_args and https://www.tensorflow.org/api_docs/python/tf/function for  more details.\n"
          ],
          "name": "stdout"
        },
        {
          "output_type": "stream",
          "text": [
            "\n",
            "\n",
            "\n",
            "\n",
            " 13%|█▎        | 29/222 [02:30<16:45,  5.21s/it]\u001b[A\u001b[A\u001b[A\u001b[A"
          ],
          "name": "stderr"
        },
        {
          "output_type": "stream",
          "text": [
            "WARNING:tensorflow:11 out of the last 11 calls to <function Model.make_predict_function.<locals>.predict_function at 0x7f9ecc2e5400> triggered tf.function retracing. Tracing is expensive and the excessive number of tracings could be due to (1) creating @tf.function repeatedly in a loop, (2) passing tensors with different shapes, (3) passing Python objects instead of tensors. For (1), please define your @tf.function outside of the loop. For (2), @tf.function has experimental_relax_shapes=True option that relaxes argument shapes that can avoid unnecessary retracing. For (3), please refer to https://www.tensorflow.org/tutorials/customization/performance#python_or_tensor_args and https://www.tensorflow.org/api_docs/python/tf/function for  more details.\n"
          ],
          "name": "stdout"
        },
        {
          "output_type": "stream",
          "text": [
            "\n",
            "\n",
            "\n",
            "\n",
            " 14%|█▎        | 30/222 [02:36<16:47,  5.25s/it]\u001b[A\u001b[A\u001b[A\u001b[A"
          ],
          "name": "stderr"
        },
        {
          "output_type": "stream",
          "text": [
            "WARNING:tensorflow:11 out of the last 11 calls to <function Model.make_predict_function.<locals>.predict_function at 0x7f9ecd37f488> triggered tf.function retracing. Tracing is expensive and the excessive number of tracings could be due to (1) creating @tf.function repeatedly in a loop, (2) passing tensors with different shapes, (3) passing Python objects instead of tensors. For (1), please define your @tf.function outside of the loop. For (2), @tf.function has experimental_relax_shapes=True option that relaxes argument shapes that can avoid unnecessary retracing. For (3), please refer to https://www.tensorflow.org/tutorials/customization/performance#python_or_tensor_args and https://www.tensorflow.org/api_docs/python/tf/function for  more details.\n"
          ],
          "name": "stdout"
        },
        {
          "output_type": "stream",
          "text": [
            "\n",
            "\n",
            "\n",
            "\n",
            " 14%|█▍        | 31/222 [02:41<16:39,  5.23s/it]\u001b[A\u001b[A\u001b[A\u001b[A"
          ],
          "name": "stderr"
        },
        {
          "output_type": "stream",
          "text": [
            "WARNING:tensorflow:11 out of the last 11 calls to <function Model.make_predict_function.<locals>.predict_function at 0x7f9ec972f510> triggered tf.function retracing. Tracing is expensive and the excessive number of tracings could be due to (1) creating @tf.function repeatedly in a loop, (2) passing tensors with different shapes, (3) passing Python objects instead of tensors. For (1), please define your @tf.function outside of the loop. For (2), @tf.function has experimental_relax_shapes=True option that relaxes argument shapes that can avoid unnecessary retracing. For (3), please refer to https://www.tensorflow.org/tutorials/customization/performance#python_or_tensor_args and https://www.tensorflow.org/api_docs/python/tf/function for  more details.\n"
          ],
          "name": "stdout"
        },
        {
          "output_type": "stream",
          "text": [
            "\n",
            "\n",
            "\n",
            "\n",
            " 14%|█▍        | 32/222 [02:47<17:38,  5.57s/it]\u001b[A\u001b[A\u001b[A\u001b[A"
          ],
          "name": "stderr"
        },
        {
          "output_type": "stream",
          "text": [
            "WARNING:tensorflow:11 out of the last 11 calls to <function Model.make_predict_function.<locals>.predict_function at 0x7f9ecc1ef268> triggered tf.function retracing. Tracing is expensive and the excessive number of tracings could be due to (1) creating @tf.function repeatedly in a loop, (2) passing tensors with different shapes, (3) passing Python objects instead of tensors. For (1), please define your @tf.function outside of the loop. For (2), @tf.function has experimental_relax_shapes=True option that relaxes argument shapes that can avoid unnecessary retracing. For (3), please refer to https://www.tensorflow.org/tutorials/customization/performance#python_or_tensor_args and https://www.tensorflow.org/api_docs/python/tf/function for  more details.\n"
          ],
          "name": "stdout"
        },
        {
          "output_type": "stream",
          "text": [
            "\n",
            "\n",
            "\n",
            "\n",
            " 15%|█▍        | 33/222 [02:52<17:05,  5.42s/it]\u001b[A\u001b[A\u001b[A\u001b[A"
          ],
          "name": "stderr"
        },
        {
          "output_type": "stream",
          "text": [
            "WARNING:tensorflow:11 out of the last 11 calls to <function Model.make_predict_function.<locals>.predict_function at 0x7f9ec67eb620> triggered tf.function retracing. Tracing is expensive and the excessive number of tracings could be due to (1) creating @tf.function repeatedly in a loop, (2) passing tensors with different shapes, (3) passing Python objects instead of tensors. For (1), please define your @tf.function outside of the loop. For (2), @tf.function has experimental_relax_shapes=True option that relaxes argument shapes that can avoid unnecessary retracing. For (3), please refer to https://www.tensorflow.org/tutorials/customization/performance#python_or_tensor_args and https://www.tensorflow.org/api_docs/python/tf/function for  more details.\n"
          ],
          "name": "stdout"
        },
        {
          "output_type": "stream",
          "text": [
            "\n",
            "\n",
            "\n",
            "\n",
            " 15%|█▌        | 34/222 [02:57<16:42,  5.33s/it]\u001b[A\u001b[A\u001b[A\u001b[A"
          ],
          "name": "stderr"
        },
        {
          "output_type": "stream",
          "text": [
            "WARNING:tensorflow:11 out of the last 11 calls to <function Model.make_predict_function.<locals>.predict_function at 0x7f9eca777488> triggered tf.function retracing. Tracing is expensive and the excessive number of tracings could be due to (1) creating @tf.function repeatedly in a loop, (2) passing tensors with different shapes, (3) passing Python objects instead of tensors. For (1), please define your @tf.function outside of the loop. For (2), @tf.function has experimental_relax_shapes=True option that relaxes argument shapes that can avoid unnecessary retracing. For (3), please refer to https://www.tensorflow.org/tutorials/customization/performance#python_or_tensor_args and https://www.tensorflow.org/api_docs/python/tf/function for  more details.\n"
          ],
          "name": "stdout"
        },
        {
          "output_type": "stream",
          "text": [
            "\n",
            "\n",
            "\n",
            "\n",
            " 16%|█▌        | 35/222 [03:02<16:19,  5.24s/it]\u001b[A\u001b[A\u001b[A\u001b[A"
          ],
          "name": "stderr"
        },
        {
          "output_type": "stream",
          "text": [
            "WARNING:tensorflow:11 out of the last 11 calls to <function Model.make_predict_function.<locals>.predict_function at 0x7f9ec80426a8> triggered tf.function retracing. Tracing is expensive and the excessive number of tracings could be due to (1) creating @tf.function repeatedly in a loop, (2) passing tensors with different shapes, (3) passing Python objects instead of tensors. For (1), please define your @tf.function outside of the loop. For (2), @tf.function has experimental_relax_shapes=True option that relaxes argument shapes that can avoid unnecessary retracing. For (3), please refer to https://www.tensorflow.org/tutorials/customization/performance#python_or_tensor_args and https://www.tensorflow.org/api_docs/python/tf/function for  more details.\n"
          ],
          "name": "stdout"
        },
        {
          "output_type": "stream",
          "text": [
            "\n",
            "\n",
            "\n",
            "\n",
            " 16%|█▌        | 36/222 [03:08<16:10,  5.22s/it]\u001b[A\u001b[A\u001b[A\u001b[A"
          ],
          "name": "stderr"
        },
        {
          "output_type": "stream",
          "text": [
            "WARNING:tensorflow:11 out of the last 11 calls to <function Model.make_predict_function.<locals>.predict_function at 0x7f9ec76b9840> triggered tf.function retracing. Tracing is expensive and the excessive number of tracings could be due to (1) creating @tf.function repeatedly in a loop, (2) passing tensors with different shapes, (3) passing Python objects instead of tensors. For (1), please define your @tf.function outside of the loop. For (2), @tf.function has experimental_relax_shapes=True option that relaxes argument shapes that can avoid unnecessary retracing. For (3), please refer to https://www.tensorflow.org/tutorials/customization/performance#python_or_tensor_args and https://www.tensorflow.org/api_docs/python/tf/function for  more details.\n"
          ],
          "name": "stdout"
        },
        {
          "output_type": "stream",
          "text": [
            "\n",
            "\n",
            "\n",
            "\n",
            " 17%|█▋        | 37/222 [03:13<16:15,  5.27s/it]\u001b[A\u001b[A\u001b[A\u001b[A"
          ],
          "name": "stderr"
        },
        {
          "output_type": "stream",
          "text": [
            "WARNING:tensorflow:11 out of the last 11 calls to <function Model.make_predict_function.<locals>.predict_function at 0x7f9ecc1c2400> triggered tf.function retracing. Tracing is expensive and the excessive number of tracings could be due to (1) creating @tf.function repeatedly in a loop, (2) passing tensors with different shapes, (3) passing Python objects instead of tensors. For (1), please define your @tf.function outside of the loop. For (2), @tf.function has experimental_relax_shapes=True option that relaxes argument shapes that can avoid unnecessary retracing. For (3), please refer to https://www.tensorflow.org/tutorials/customization/performance#python_or_tensor_args and https://www.tensorflow.org/api_docs/python/tf/function for  more details.\n"
          ],
          "name": "stdout"
        },
        {
          "output_type": "stream",
          "text": [
            "\n",
            "\n",
            "\n",
            "\n",
            " 17%|█▋        | 38/222 [03:18<16:03,  5.24s/it]\u001b[A\u001b[A\u001b[A\u001b[A"
          ],
          "name": "stderr"
        },
        {
          "output_type": "stream",
          "text": [
            "WARNING:tensorflow:11 out of the last 11 calls to <function Model.make_predict_function.<locals>.predict_function at 0x7f9ecc48d7b8> triggered tf.function retracing. Tracing is expensive and the excessive number of tracings could be due to (1) creating @tf.function repeatedly in a loop, (2) passing tensors with different shapes, (3) passing Python objects instead of tensors. For (1), please define your @tf.function outside of the loop. For (2), @tf.function has experimental_relax_shapes=True option that relaxes argument shapes that can avoid unnecessary retracing. For (3), please refer to https://www.tensorflow.org/tutorials/customization/performance#python_or_tensor_args and https://www.tensorflow.org/api_docs/python/tf/function for  more details.\n"
          ],
          "name": "stdout"
        },
        {
          "output_type": "stream",
          "text": [
            "\n",
            "\n",
            "\n",
            "\n",
            " 18%|█▊        | 39/222 [03:23<15:46,  5.17s/it]\u001b[A\u001b[A\u001b[A\u001b[A"
          ],
          "name": "stderr"
        },
        {
          "output_type": "stream",
          "text": [
            "WARNING:tensorflow:11 out of the last 11 calls to <function Model.make_predict_function.<locals>.predict_function at 0x7f9ecd558400> triggered tf.function retracing. Tracing is expensive and the excessive number of tracings could be due to (1) creating @tf.function repeatedly in a loop, (2) passing tensors with different shapes, (3) passing Python objects instead of tensors. For (1), please define your @tf.function outside of the loop. For (2), @tf.function has experimental_relax_shapes=True option that relaxes argument shapes that can avoid unnecessary retracing. For (3), please refer to https://www.tensorflow.org/tutorials/customization/performance#python_or_tensor_args and https://www.tensorflow.org/api_docs/python/tf/function for  more details.\n"
          ],
          "name": "stdout"
        },
        {
          "output_type": "stream",
          "text": [
            "\n",
            "\n",
            "\n",
            "\n",
            " 18%|█▊        | 40/222 [03:28<15:44,  5.19s/it]\u001b[A\u001b[A\u001b[A\u001b[A"
          ],
          "name": "stderr"
        },
        {
          "output_type": "stream",
          "text": [
            "WARNING:tensorflow:11 out of the last 11 calls to <function Model.make_predict_function.<locals>.predict_function at 0x7f9ec74011e0> triggered tf.function retracing. Tracing is expensive and the excessive number of tracings could be due to (1) creating @tf.function repeatedly in a loop, (2) passing tensors with different shapes, (3) passing Python objects instead of tensors. For (1), please define your @tf.function outside of the loop. For (2), @tf.function has experimental_relax_shapes=True option that relaxes argument shapes that can avoid unnecessary retracing. For (3), please refer to https://www.tensorflow.org/tutorials/customization/performance#python_or_tensor_args and https://www.tensorflow.org/api_docs/python/tf/function for  more details.\n"
          ],
          "name": "stdout"
        },
        {
          "output_type": "stream",
          "text": [
            "\n",
            "\n",
            "\n",
            "\n",
            " 18%|█▊        | 41/222 [03:35<16:39,  5.52s/it]\u001b[A\u001b[A\u001b[A\u001b[A"
          ],
          "name": "stderr"
        },
        {
          "output_type": "stream",
          "text": [
            "WARNING:tensorflow:11 out of the last 11 calls to <function Model.make_predict_function.<locals>.predict_function at 0x7f9eca917510> triggered tf.function retracing. Tracing is expensive and the excessive number of tracings could be due to (1) creating @tf.function repeatedly in a loop, (2) passing tensors with different shapes, (3) passing Python objects instead of tensors. For (1), please define your @tf.function outside of the loop. For (2), @tf.function has experimental_relax_shapes=True option that relaxes argument shapes that can avoid unnecessary retracing. For (3), please refer to https://www.tensorflow.org/tutorials/customization/performance#python_or_tensor_args and https://www.tensorflow.org/api_docs/python/tf/function for  more details.\n"
          ],
          "name": "stdout"
        },
        {
          "output_type": "stream",
          "text": [
            "\n",
            "\n",
            "\n",
            "\n",
            " 19%|█▉        | 42/222 [03:40<15:58,  5.32s/it]\u001b[A\u001b[A\u001b[A\u001b[A"
          ],
          "name": "stderr"
        },
        {
          "output_type": "stream",
          "text": [
            "WARNING:tensorflow:11 out of the last 11 calls to <function Model.make_predict_function.<locals>.predict_function at 0x7f9eca940c80> triggered tf.function retracing. Tracing is expensive and the excessive number of tracings could be due to (1) creating @tf.function repeatedly in a loop, (2) passing tensors with different shapes, (3) passing Python objects instead of tensors. For (1), please define your @tf.function outside of the loop. For (2), @tf.function has experimental_relax_shapes=True option that relaxes argument shapes that can avoid unnecessary retracing. For (3), please refer to https://www.tensorflow.org/tutorials/customization/performance#python_or_tensor_args and https://www.tensorflow.org/api_docs/python/tf/function for  more details.\n"
          ],
          "name": "stdout"
        },
        {
          "output_type": "stream",
          "text": [
            "\n",
            "\n",
            "\n",
            "\n",
            " 19%|█▉        | 43/222 [03:44<15:23,  5.16s/it]\u001b[A\u001b[A\u001b[A\u001b[A"
          ],
          "name": "stderr"
        },
        {
          "output_type": "stream",
          "text": [
            "WARNING:tensorflow:11 out of the last 11 calls to <function Model.make_predict_function.<locals>.predict_function at 0x7f9ecc112488> triggered tf.function retracing. Tracing is expensive and the excessive number of tracings could be due to (1) creating @tf.function repeatedly in a loop, (2) passing tensors with different shapes, (3) passing Python objects instead of tensors. For (1), please define your @tf.function outside of the loop. For (2), @tf.function has experimental_relax_shapes=True option that relaxes argument shapes that can avoid unnecessary retracing. For (3), please refer to https://www.tensorflow.org/tutorials/customization/performance#python_or_tensor_args and https://www.tensorflow.org/api_docs/python/tf/function for  more details.\n"
          ],
          "name": "stdout"
        },
        {
          "output_type": "stream",
          "text": [
            "\n",
            "\n",
            "\n",
            "\n",
            " 20%|█▉        | 44/222 [03:49<14:56,  5.04s/it]\u001b[A\u001b[A\u001b[A\u001b[A"
          ],
          "name": "stderr"
        },
        {
          "output_type": "stream",
          "text": [
            "WARNING:tensorflow:11 out of the last 11 calls to <function Model.make_predict_function.<locals>.predict_function at 0x7f9ec9a6b730> triggered tf.function retracing. Tracing is expensive and the excessive number of tracings could be due to (1) creating @tf.function repeatedly in a loop, (2) passing tensors with different shapes, (3) passing Python objects instead of tensors. For (1), please define your @tf.function outside of the loop. For (2), @tf.function has experimental_relax_shapes=True option that relaxes argument shapes that can avoid unnecessary retracing. For (3), please refer to https://www.tensorflow.org/tutorials/customization/performance#python_or_tensor_args and https://www.tensorflow.org/api_docs/python/tf/function for  more details.\n"
          ],
          "name": "stdout"
        },
        {
          "output_type": "stream",
          "text": [
            "\n",
            "\n",
            "\n",
            "\n",
            " 20%|██        | 45/222 [03:54<14:35,  4.94s/it]\u001b[A\u001b[A\u001b[A\u001b[A"
          ],
          "name": "stderr"
        },
        {
          "output_type": "stream",
          "text": [
            "WARNING:tensorflow:11 out of the last 11 calls to <function Model.make_predict_function.<locals>.predict_function at 0x7f9eca421840> triggered tf.function retracing. Tracing is expensive and the excessive number of tracings could be due to (1) creating @tf.function repeatedly in a loop, (2) passing tensors with different shapes, (3) passing Python objects instead of tensors. For (1), please define your @tf.function outside of the loop. For (2), @tf.function has experimental_relax_shapes=True option that relaxes argument shapes that can avoid unnecessary retracing. For (3), please refer to https://www.tensorflow.org/tutorials/customization/performance#python_or_tensor_args and https://www.tensorflow.org/api_docs/python/tf/function for  more details.\n"
          ],
          "name": "stdout"
        },
        {
          "output_type": "stream",
          "text": [
            "\n",
            "\n",
            "\n",
            "\n",
            " 21%|██        | 46/222 [03:59<14:27,  4.93s/it]\u001b[A\u001b[A\u001b[A\u001b[A"
          ],
          "name": "stderr"
        },
        {
          "output_type": "stream",
          "text": [
            "WARNING:tensorflow:11 out of the last 11 calls to <function Model.make_predict_function.<locals>.predict_function at 0x7f9ec7591400> triggered tf.function retracing. Tracing is expensive and the excessive number of tracings could be due to (1) creating @tf.function repeatedly in a loop, (2) passing tensors with different shapes, (3) passing Python objects instead of tensors. For (1), please define your @tf.function outside of the loop. For (2), @tf.function has experimental_relax_shapes=True option that relaxes argument shapes that can avoid unnecessary retracing. For (3), please refer to https://www.tensorflow.org/tutorials/customization/performance#python_or_tensor_args and https://www.tensorflow.org/api_docs/python/tf/function for  more details.\n"
          ],
          "name": "stdout"
        },
        {
          "output_type": "stream",
          "text": [
            "\n",
            "\n",
            "\n",
            "\n",
            " 21%|██        | 47/222 [04:04<14:24,  4.94s/it]\u001b[A\u001b[A\u001b[A\u001b[A"
          ],
          "name": "stderr"
        },
        {
          "output_type": "stream",
          "text": [
            "WARNING:tensorflow:11 out of the last 11 calls to <function Model.make_predict_function.<locals>.predict_function at 0x7f9ec81bd730> triggered tf.function retracing. Tracing is expensive and the excessive number of tracings could be due to (1) creating @tf.function repeatedly in a loop, (2) passing tensors with different shapes, (3) passing Python objects instead of tensors. For (1), please define your @tf.function outside of the loop. For (2), @tf.function has experimental_relax_shapes=True option that relaxes argument shapes that can avoid unnecessary retracing. For (3), please refer to https://www.tensorflow.org/tutorials/customization/performance#python_or_tensor_args and https://www.tensorflow.org/api_docs/python/tf/function for  more details.\n"
          ],
          "name": "stdout"
        },
        {
          "output_type": "stream",
          "text": [
            "\n",
            "\n",
            "\n",
            "\n",
            " 22%|██▏       | 48/222 [04:09<14:22,  4.96s/it]\u001b[A\u001b[A\u001b[A\u001b[A"
          ],
          "name": "stderr"
        },
        {
          "output_type": "stream",
          "text": [
            "WARNING:tensorflow:11 out of the last 11 calls to <function Model.make_predict_function.<locals>.predict_function at 0x7f9eca73d400> triggered tf.function retracing. Tracing is expensive and the excessive number of tracings could be due to (1) creating @tf.function repeatedly in a loop, (2) passing tensors with different shapes, (3) passing Python objects instead of tensors. For (1), please define your @tf.function outside of the loop. For (2), @tf.function has experimental_relax_shapes=True option that relaxes argument shapes that can avoid unnecessary retracing. For (3), please refer to https://www.tensorflow.org/tutorials/customization/performance#python_or_tensor_args and https://www.tensorflow.org/api_docs/python/tf/function for  more details.\n"
          ],
          "name": "stdout"
        },
        {
          "output_type": "stream",
          "text": [
            "\n",
            "\n",
            "\n",
            "\n",
            " 22%|██▏       | 49/222 [04:15<15:27,  5.36s/it]\u001b[A\u001b[A\u001b[A\u001b[A"
          ],
          "name": "stderr"
        },
        {
          "output_type": "stream",
          "text": [
            "WARNING:tensorflow:11 out of the last 11 calls to <function Model.make_predict_function.<locals>.predict_function at 0x7f9ec57cd8c8> triggered tf.function retracing. Tracing is expensive and the excessive number of tracings could be due to (1) creating @tf.function repeatedly in a loop, (2) passing tensors with different shapes, (3) passing Python objects instead of tensors. For (1), please define your @tf.function outside of the loop. For (2), @tf.function has experimental_relax_shapes=True option that relaxes argument shapes that can avoid unnecessary retracing. For (3), please refer to https://www.tensorflow.org/tutorials/customization/performance#python_or_tensor_args and https://www.tensorflow.org/api_docs/python/tf/function for  more details.\n"
          ],
          "name": "stdout"
        },
        {
          "output_type": "stream",
          "text": [
            "\n",
            "\n",
            "\n",
            "\n",
            " 23%|██▎       | 50/222 [04:20<14:59,  5.23s/it]\u001b[A\u001b[A\u001b[A\u001b[A"
          ],
          "name": "stderr"
        },
        {
          "output_type": "stream",
          "text": [
            "WARNING:tensorflow:11 out of the last 11 calls to <function Model.make_predict_function.<locals>.predict_function at 0x7f9ec579a2f0> triggered tf.function retracing. Tracing is expensive and the excessive number of tracings could be due to (1) creating @tf.function repeatedly in a loop, (2) passing tensors with different shapes, (3) passing Python objects instead of tensors. For (1), please define your @tf.function outside of the loop. For (2), @tf.function has experimental_relax_shapes=True option that relaxes argument shapes that can avoid unnecessary retracing. For (3), please refer to https://www.tensorflow.org/tutorials/customization/performance#python_or_tensor_args and https://www.tensorflow.org/api_docs/python/tf/function for  more details.\n"
          ],
          "name": "stdout"
        },
        {
          "output_type": "stream",
          "text": [
            "\n",
            "\n",
            "\n",
            "\n",
            " 23%|██▎       | 51/222 [04:25<14:30,  5.09s/it]\u001b[A\u001b[A\u001b[A\u001b[A"
          ],
          "name": "stderr"
        },
        {
          "output_type": "stream",
          "text": [
            "WARNING:tensorflow:11 out of the last 11 calls to <function Model.make_predict_function.<locals>.predict_function at 0x7f9ec6662488> triggered tf.function retracing. Tracing is expensive and the excessive number of tracings could be due to (1) creating @tf.function repeatedly in a loop, (2) passing tensors with different shapes, (3) passing Python objects instead of tensors. For (1), please define your @tf.function outside of the loop. For (2), @tf.function has experimental_relax_shapes=True option that relaxes argument shapes that can avoid unnecessary retracing. For (3), please refer to https://www.tensorflow.org/tutorials/customization/performance#python_or_tensor_args and https://www.tensorflow.org/api_docs/python/tf/function for  more details.\n"
          ],
          "name": "stdout"
        },
        {
          "output_type": "stream",
          "text": [
            "\n",
            "\n",
            "\n",
            "\n",
            " 23%|██▎       | 52/222 [04:29<14:08,  4.99s/it]\u001b[A\u001b[A\u001b[A\u001b[A"
          ],
          "name": "stderr"
        },
        {
          "output_type": "stream",
          "text": [
            "WARNING:tensorflow:11 out of the last 11 calls to <function Model.make_predict_function.<locals>.predict_function at 0x7f9ecb472598> triggered tf.function retracing. Tracing is expensive and the excessive number of tracings could be due to (1) creating @tf.function repeatedly in a loop, (2) passing tensors with different shapes, (3) passing Python objects instead of tensors. For (1), please define your @tf.function outside of the loop. For (2), @tf.function has experimental_relax_shapes=True option that relaxes argument shapes that can avoid unnecessary retracing. For (3), please refer to https://www.tensorflow.org/tutorials/customization/performance#python_or_tensor_args and https://www.tensorflow.org/api_docs/python/tf/function for  more details.\n"
          ],
          "name": "stdout"
        },
        {
          "output_type": "stream",
          "text": [
            "\n",
            "\n",
            "\n",
            "\n",
            " 24%|██▍       | 53/222 [04:34<13:57,  4.95s/it]\u001b[A\u001b[A\u001b[A\u001b[A"
          ],
          "name": "stderr"
        },
        {
          "output_type": "stream",
          "text": [
            "WARNING:tensorflow:11 out of the last 11 calls to <function Model.make_predict_function.<locals>.predict_function at 0x7f9eca427840> triggered tf.function retracing. Tracing is expensive and the excessive number of tracings could be due to (1) creating @tf.function repeatedly in a loop, (2) passing tensors with different shapes, (3) passing Python objects instead of tensors. For (1), please define your @tf.function outside of the loop. For (2), @tf.function has experimental_relax_shapes=True option that relaxes argument shapes that can avoid unnecessary retracing. For (3), please refer to https://www.tensorflow.org/tutorials/customization/performance#python_or_tensor_args and https://www.tensorflow.org/api_docs/python/tf/function for  more details.\n"
          ],
          "name": "stdout"
        },
        {
          "output_type": "stream",
          "text": [
            "\n",
            "\n",
            "\n",
            "\n",
            " 24%|██▍       | 54/222 [04:39<13:48,  4.93s/it]\u001b[A\u001b[A\u001b[A\u001b[A"
          ],
          "name": "stderr"
        },
        {
          "output_type": "stream",
          "text": [
            "WARNING:tensorflow:11 out of the last 11 calls to <function Model.make_predict_function.<locals>.predict_function at 0x7f9ecd6fa400> triggered tf.function retracing. Tracing is expensive and the excessive number of tracings could be due to (1) creating @tf.function repeatedly in a loop, (2) passing tensors with different shapes, (3) passing Python objects instead of tensors. For (1), please define your @tf.function outside of the loop. For (2), @tf.function has experimental_relax_shapes=True option that relaxes argument shapes that can avoid unnecessary retracing. For (3), please refer to https://www.tensorflow.org/tutorials/customization/performance#python_or_tensor_args and https://www.tensorflow.org/api_docs/python/tf/function for  more details.\n"
          ],
          "name": "stdout"
        },
        {
          "output_type": "stream",
          "text": [
            "\n",
            "\n",
            "\n",
            "\n",
            " 25%|██▍       | 55/222 [04:44<13:52,  4.99s/it]\u001b[A\u001b[A\u001b[A\u001b[A"
          ],
          "name": "stderr"
        },
        {
          "output_type": "stream",
          "text": [
            "WARNING:tensorflow:11 out of the last 11 calls to <function Model.make_predict_function.<locals>.predict_function at 0x7f9ecc04d510> triggered tf.function retracing. Tracing is expensive and the excessive number of tracings could be due to (1) creating @tf.function repeatedly in a loop, (2) passing tensors with different shapes, (3) passing Python objects instead of tensors. For (1), please define your @tf.function outside of the loop. For (2), @tf.function has experimental_relax_shapes=True option that relaxes argument shapes that can avoid unnecessary retracing. For (3), please refer to https://www.tensorflow.org/tutorials/customization/performance#python_or_tensor_args and https://www.tensorflow.org/api_docs/python/tf/function for  more details.\n"
          ],
          "name": "stdout"
        },
        {
          "output_type": "stream",
          "text": [
            "\n",
            "\n",
            "\n",
            "\n",
            " 25%|██▌       | 56/222 [04:49<13:59,  5.05s/it]\u001b[A\u001b[A\u001b[A\u001b[A"
          ],
          "name": "stderr"
        },
        {
          "output_type": "stream",
          "text": [
            "WARNING:tensorflow:11 out of the last 11 calls to <function Model.make_predict_function.<locals>.predict_function at 0x7f9eca632510> triggered tf.function retracing. Tracing is expensive and the excessive number of tracings could be due to (1) creating @tf.function repeatedly in a loop, (2) passing tensors with different shapes, (3) passing Python objects instead of tensors. For (1), please define your @tf.function outside of the loop. For (2), @tf.function has experimental_relax_shapes=True option that relaxes argument shapes that can avoid unnecessary retracing. For (3), please refer to https://www.tensorflow.org/tutorials/customization/performance#python_or_tensor_args and https://www.tensorflow.org/api_docs/python/tf/function for  more details.\n"
          ],
          "name": "stdout"
        },
        {
          "output_type": "stream",
          "text": [
            "\n",
            "\n",
            "\n",
            "\n",
            " 26%|██▌       | 57/222 [04:55<14:04,  5.12s/it]\u001b[A\u001b[A\u001b[A\u001b[A"
          ],
          "name": "stderr"
        },
        {
          "output_type": "stream",
          "text": [
            "WARNING:tensorflow:11 out of the last 11 calls to <function Model.make_predict_function.<locals>.predict_function at 0x7f9ec4b7c2f0> triggered tf.function retracing. Tracing is expensive and the excessive number of tracings could be due to (1) creating @tf.function repeatedly in a loop, (2) passing tensors with different shapes, (3) passing Python objects instead of tensors. For (1), please define your @tf.function outside of the loop. For (2), @tf.function has experimental_relax_shapes=True option that relaxes argument shapes that can avoid unnecessary retracing. For (3), please refer to https://www.tensorflow.org/tutorials/customization/performance#python_or_tensor_args and https://www.tensorflow.org/api_docs/python/tf/function for  more details.\n"
          ],
          "name": "stdout"
        },
        {
          "output_type": "stream",
          "text": [
            "\n",
            "\n",
            "\n",
            "\n",
            " 26%|██▌       | 58/222 [05:01<14:49,  5.43s/it]\u001b[A\u001b[A\u001b[A\u001b[A"
          ],
          "name": "stderr"
        },
        {
          "output_type": "stream",
          "text": [
            "WARNING:tensorflow:11 out of the last 11 calls to <function Model.make_predict_function.<locals>.predict_function at 0x7f9ecb527510> triggered tf.function retracing. Tracing is expensive and the excessive number of tracings could be due to (1) creating @tf.function repeatedly in a loop, (2) passing tensors with different shapes, (3) passing Python objects instead of tensors. For (1), please define your @tf.function outside of the loop. For (2), @tf.function has experimental_relax_shapes=True option that relaxes argument shapes that can avoid unnecessary retracing. For (3), please refer to https://www.tensorflow.org/tutorials/customization/performance#python_or_tensor_args and https://www.tensorflow.org/api_docs/python/tf/function for  more details.\n"
          ],
          "name": "stdout"
        },
        {
          "output_type": "stream",
          "text": [
            "\n",
            "\n",
            "\n",
            "\n",
            " 27%|██▋       | 59/222 [05:06<14:27,  5.32s/it]\u001b[A\u001b[A\u001b[A\u001b[A"
          ],
          "name": "stderr"
        },
        {
          "output_type": "stream",
          "text": [
            "WARNING:tensorflow:11 out of the last 11 calls to <function Model.make_predict_function.<locals>.predict_function at 0x7f9eca67f840> triggered tf.function retracing. Tracing is expensive and the excessive number of tracings could be due to (1) creating @tf.function repeatedly in a loop, (2) passing tensors with different shapes, (3) passing Python objects instead of tensors. For (1), please define your @tf.function outside of the loop. For (2), @tf.function has experimental_relax_shapes=True option that relaxes argument shapes that can avoid unnecessary retracing. For (3), please refer to https://www.tensorflow.org/tutorials/customization/performance#python_or_tensor_args and https://www.tensorflow.org/api_docs/python/tf/function for  more details.\n"
          ],
          "name": "stdout"
        },
        {
          "output_type": "stream",
          "text": [
            "\n",
            "\n",
            "\n",
            "\n",
            " 27%|██▋       | 60/222 [05:11<14:06,  5.22s/it]\u001b[A\u001b[A\u001b[A\u001b[A"
          ],
          "name": "stderr"
        },
        {
          "output_type": "stream",
          "text": [
            "WARNING:tensorflow:11 out of the last 11 calls to <function Model.make_predict_function.<locals>.predict_function at 0x7f9ecb32e400> triggered tf.function retracing. Tracing is expensive and the excessive number of tracings could be due to (1) creating @tf.function repeatedly in a loop, (2) passing tensors with different shapes, (3) passing Python objects instead of tensors. For (1), please define your @tf.function outside of the loop. For (2), @tf.function has experimental_relax_shapes=True option that relaxes argument shapes that can avoid unnecessary retracing. For (3), please refer to https://www.tensorflow.org/tutorials/customization/performance#python_or_tensor_args and https://www.tensorflow.org/api_docs/python/tf/function for  more details.\n"
          ],
          "name": "stdout"
        },
        {
          "output_type": "stream",
          "text": [
            "\n",
            "\n",
            "\n",
            "\n",
            " 27%|██▋       | 61/222 [05:16<13:49,  5.15s/it]\u001b[A\u001b[A\u001b[A\u001b[A"
          ],
          "name": "stderr"
        },
        {
          "output_type": "stream",
          "text": [
            "WARNING:tensorflow:11 out of the last 11 calls to <function Model.make_predict_function.<locals>.predict_function at 0x7f9ecb6c36a8> triggered tf.function retracing. Tracing is expensive and the excessive number of tracings could be due to (1) creating @tf.function repeatedly in a loop, (2) passing tensors with different shapes, (3) passing Python objects instead of tensors. For (1), please define your @tf.function outside of the loop. For (2), @tf.function has experimental_relax_shapes=True option that relaxes argument shapes that can avoid unnecessary retracing. For (3), please refer to https://www.tensorflow.org/tutorials/customization/performance#python_or_tensor_args and https://www.tensorflow.org/api_docs/python/tf/function for  more details.\n"
          ],
          "name": "stdout"
        },
        {
          "output_type": "stream",
          "text": [
            "\n",
            "\n",
            "\n",
            "\n",
            " 28%|██▊       | 62/222 [05:21<13:31,  5.07s/it]\u001b[A\u001b[A\u001b[A\u001b[A"
          ],
          "name": "stderr"
        },
        {
          "output_type": "stream",
          "text": [
            "WARNING:tensorflow:11 out of the last 11 calls to <function Model.make_predict_function.<locals>.predict_function at 0x7f9ecb560400> triggered tf.function retracing. Tracing is expensive and the excessive number of tracings could be due to (1) creating @tf.function repeatedly in a loop, (2) passing tensors with different shapes, (3) passing Python objects instead of tensors. For (1), please define your @tf.function outside of the loop. For (2), @tf.function has experimental_relax_shapes=True option that relaxes argument shapes that can avoid unnecessary retracing. For (3), please refer to https://www.tensorflow.org/tutorials/customization/performance#python_or_tensor_args and https://www.tensorflow.org/api_docs/python/tf/function for  more details.\n"
          ],
          "name": "stdout"
        },
        {
          "output_type": "stream",
          "text": [
            "\n",
            "\n",
            "\n",
            "\n",
            " 28%|██▊       | 63/222 [05:26<13:23,  5.06s/it]\u001b[A\u001b[A\u001b[A\u001b[A"
          ],
          "name": "stderr"
        },
        {
          "output_type": "stream",
          "text": [
            "WARNING:tensorflow:11 out of the last 11 calls to <function Model.make_predict_function.<locals>.predict_function at 0x7f9ecd3801e0> triggered tf.function retracing. Tracing is expensive and the excessive number of tracings could be due to (1) creating @tf.function repeatedly in a loop, (2) passing tensors with different shapes, (3) passing Python objects instead of tensors. For (1), please define your @tf.function outside of the loop. For (2), @tf.function has experimental_relax_shapes=True option that relaxes argument shapes that can avoid unnecessary retracing. For (3), please refer to https://www.tensorflow.org/tutorials/customization/performance#python_or_tensor_args and https://www.tensorflow.org/api_docs/python/tf/function for  more details.\n"
          ],
          "name": "stdout"
        },
        {
          "output_type": "stream",
          "text": [
            "\n",
            "\n",
            "\n",
            "\n",
            " 29%|██▉       | 64/222 [05:31<13:11,  5.01s/it]\u001b[A\u001b[A\u001b[A\u001b[A"
          ],
          "name": "stderr"
        },
        {
          "output_type": "stream",
          "text": [
            "WARNING:tensorflow:11 out of the last 11 calls to <function Model.make_predict_function.<locals>.predict_function at 0x7f9ecc17b510> triggered tf.function retracing. Tracing is expensive and the excessive number of tracings could be due to (1) creating @tf.function repeatedly in a loop, (2) passing tensors with different shapes, (3) passing Python objects instead of tensors. For (1), please define your @tf.function outside of the loop. For (2), @tf.function has experimental_relax_shapes=True option that relaxes argument shapes that can avoid unnecessary retracing. For (3), please refer to https://www.tensorflow.org/tutorials/customization/performance#python_or_tensor_args and https://www.tensorflow.org/api_docs/python/tf/function for  more details.\n"
          ],
          "name": "stdout"
        },
        {
          "output_type": "stream",
          "text": [
            "\n",
            "\n",
            "\n",
            "\n",
            " 29%|██▉       | 65/222 [05:36<13:19,  5.10s/it]\u001b[A\u001b[A\u001b[A\u001b[A"
          ],
          "name": "stderr"
        },
        {
          "output_type": "stream",
          "text": [
            "WARNING:tensorflow:11 out of the last 11 calls to <function Model.make_predict_function.<locals>.predict_function at 0x7f9ec963d488> triggered tf.function retracing. Tracing is expensive and the excessive number of tracings could be due to (1) creating @tf.function repeatedly in a loop, (2) passing tensors with different shapes, (3) passing Python objects instead of tensors. For (1), please define your @tf.function outside of the loop. For (2), @tf.function has experimental_relax_shapes=True option that relaxes argument shapes that can avoid unnecessary retracing. For (3), please refer to https://www.tensorflow.org/tutorials/customization/performance#python_or_tensor_args and https://www.tensorflow.org/api_docs/python/tf/function for  more details.\n"
          ],
          "name": "stdout"
        },
        {
          "output_type": "stream",
          "text": [
            "\n",
            "\n",
            "\n",
            "\n",
            " 30%|██▉       | 66/222 [05:42<14:06,  5.43s/it]\u001b[A\u001b[A\u001b[A\u001b[A"
          ],
          "name": "stderr"
        },
        {
          "output_type": "stream",
          "text": [
            "WARNING:tensorflow:11 out of the last 11 calls to <function Model.make_predict_function.<locals>.predict_function at 0x7f9ecb527ae8> triggered tf.function retracing. Tracing is expensive and the excessive number of tracings could be due to (1) creating @tf.function repeatedly in a loop, (2) passing tensors with different shapes, (3) passing Python objects instead of tensors. For (1), please define your @tf.function outside of the loop. For (2), @tf.function has experimental_relax_shapes=True option that relaxes argument shapes that can avoid unnecessary retracing. For (3), please refer to https://www.tensorflow.org/tutorials/customization/performance#python_or_tensor_args and https://www.tensorflow.org/api_docs/python/tf/function for  more details.\n"
          ],
          "name": "stdout"
        },
        {
          "output_type": "stream",
          "text": [
            "\n",
            "\n",
            "\n",
            "\n",
            " 30%|███       | 67/222 [05:47<13:40,  5.29s/it]\u001b[A\u001b[A\u001b[A\u001b[A"
          ],
          "name": "stderr"
        },
        {
          "output_type": "stream",
          "text": [
            "WARNING:tensorflow:11 out of the last 11 calls to <function Model.make_predict_function.<locals>.predict_function at 0x7f9ec57cd2f0> triggered tf.function retracing. Tracing is expensive and the excessive number of tracings could be due to (1) creating @tf.function repeatedly in a loop, (2) passing tensors with different shapes, (3) passing Python objects instead of tensors. For (1), please define your @tf.function outside of the loop. For (2), @tf.function has experimental_relax_shapes=True option that relaxes argument shapes that can avoid unnecessary retracing. For (3), please refer to https://www.tensorflow.org/tutorials/customization/performance#python_or_tensor_args and https://www.tensorflow.org/api_docs/python/tf/function for  more details.\n"
          ],
          "name": "stdout"
        },
        {
          "output_type": "stream",
          "text": [
            "\n",
            "\n",
            "\n",
            "\n",
            " 31%|███       | 68/222 [05:52<13:19,  5.19s/it]\u001b[A\u001b[A\u001b[A\u001b[A"
          ],
          "name": "stderr"
        },
        {
          "output_type": "stream",
          "text": [
            "WARNING:tensorflow:11 out of the last 11 calls to <function Model.make_predict_function.<locals>.predict_function at 0x7f9ec8dcd488> triggered tf.function retracing. Tracing is expensive and the excessive number of tracings could be due to (1) creating @tf.function repeatedly in a loop, (2) passing tensors with different shapes, (3) passing Python objects instead of tensors. For (1), please define your @tf.function outside of the loop. For (2), @tf.function has experimental_relax_shapes=True option that relaxes argument shapes that can avoid unnecessary retracing. For (3), please refer to https://www.tensorflow.org/tutorials/customization/performance#python_or_tensor_args and https://www.tensorflow.org/api_docs/python/tf/function for  more details.\n"
          ],
          "name": "stdout"
        },
        {
          "output_type": "stream",
          "text": [
            "\n",
            "\n",
            "\n",
            "\n",
            " 31%|███       | 69/222 [05:57<13:02,  5.11s/it]\u001b[A\u001b[A\u001b[A\u001b[A"
          ],
          "name": "stderr"
        },
        {
          "output_type": "stream",
          "text": [
            "WARNING:tensorflow:11 out of the last 11 calls to <function Model.make_predict_function.<locals>.predict_function at 0x7f9ec67d7840> triggered tf.function retracing. Tracing is expensive and the excessive number of tracings could be due to (1) creating @tf.function repeatedly in a loop, (2) passing tensors with different shapes, (3) passing Python objects instead of tensors. For (1), please define your @tf.function outside of the loop. For (2), @tf.function has experimental_relax_shapes=True option that relaxes argument shapes that can avoid unnecessary retracing. For (3), please refer to https://www.tensorflow.org/tutorials/customization/performance#python_or_tensor_args and https://www.tensorflow.org/api_docs/python/tf/function for  more details.\n"
          ],
          "name": "stdout"
        },
        {
          "output_type": "stream",
          "text": [
            "\n",
            "\n",
            "\n",
            "\n",
            " 32%|███▏      | 70/222 [06:02<12:48,  5.06s/it]\u001b[A\u001b[A\u001b[A\u001b[A"
          ],
          "name": "stderr"
        },
        {
          "output_type": "stream",
          "text": [
            "WARNING:tensorflow:11 out of the last 11 calls to <function Model.make_predict_function.<locals>.predict_function at 0x7f9ec90ec840> triggered tf.function retracing. Tracing is expensive and the excessive number of tracings could be due to (1) creating @tf.function repeatedly in a loop, (2) passing tensors with different shapes, (3) passing Python objects instead of tensors. For (1), please define your @tf.function outside of the loop. For (2), @tf.function has experimental_relax_shapes=True option that relaxes argument shapes that can avoid unnecessary retracing. For (3), please refer to https://www.tensorflow.org/tutorials/customization/performance#python_or_tensor_args and https://www.tensorflow.org/api_docs/python/tf/function for  more details.\n"
          ],
          "name": "stdout"
        },
        {
          "output_type": "stream",
          "text": [
            "\n",
            "\n",
            "\n",
            "\n",
            " 32%|███▏      | 71/222 [06:07<12:37,  5.02s/it]\u001b[A\u001b[A\u001b[A\u001b[A"
          ],
          "name": "stderr"
        },
        {
          "output_type": "stream",
          "text": [
            "WARNING:tensorflow:11 out of the last 11 calls to <function Model.make_predict_function.<locals>.predict_function at 0x7f9eca6c9400> triggered tf.function retracing. Tracing is expensive and the excessive number of tracings could be due to (1) creating @tf.function repeatedly in a loop, (2) passing tensors with different shapes, (3) passing Python objects instead of tensors. For (1), please define your @tf.function outside of the loop. For (2), @tf.function has experimental_relax_shapes=True option that relaxes argument shapes that can avoid unnecessary retracing. For (3), please refer to https://www.tensorflow.org/tutorials/customization/performance#python_or_tensor_args and https://www.tensorflow.org/api_docs/python/tf/function for  more details.\n"
          ],
          "name": "stdout"
        },
        {
          "output_type": "stream",
          "text": [
            "\n",
            "\n",
            "\n",
            "\n",
            " 32%|███▏      | 72/222 [06:12<12:36,  5.04s/it]\u001b[A\u001b[A\u001b[A\u001b[A"
          ],
          "name": "stderr"
        },
        {
          "output_type": "stream",
          "text": [
            "WARNING:tensorflow:11 out of the last 11 calls to <function Model.make_predict_function.<locals>.predict_function at 0x7f9ec59af6a8> triggered tf.function retracing. Tracing is expensive and the excessive number of tracings could be due to (1) creating @tf.function repeatedly in a loop, (2) passing tensors with different shapes, (3) passing Python objects instead of tensors. For (1), please define your @tf.function outside of the loop. For (2), @tf.function has experimental_relax_shapes=True option that relaxes argument shapes that can avoid unnecessary retracing. For (3), please refer to https://www.tensorflow.org/tutorials/customization/performance#python_or_tensor_args and https://www.tensorflow.org/api_docs/python/tf/function for  more details.\n"
          ],
          "name": "stdout"
        },
        {
          "output_type": "stream",
          "text": [
            "\n",
            "\n",
            "\n",
            "\n",
            " 33%|███▎      | 73/222 [06:17<12:26,  5.01s/it]\u001b[A\u001b[A\u001b[A\u001b[A"
          ],
          "name": "stderr"
        },
        {
          "output_type": "stream",
          "text": [
            "WARNING:tensorflow:11 out of the last 11 calls to <function Model.make_predict_function.<locals>.predict_function at 0x7f9ec919c400> triggered tf.function retracing. Tracing is expensive and the excessive number of tracings could be due to (1) creating @tf.function repeatedly in a loop, (2) passing tensors with different shapes, (3) passing Python objects instead of tensors. For (1), please define your @tf.function outside of the loop. For (2), @tf.function has experimental_relax_shapes=True option that relaxes argument shapes that can avoid unnecessary retracing. For (3), please refer to https://www.tensorflow.org/tutorials/customization/performance#python_or_tensor_args and https://www.tensorflow.org/api_docs/python/tf/function for  more details.\n"
          ],
          "name": "stdout"
        },
        {
          "output_type": "stream",
          "text": [
            "\n",
            "\n",
            "\n",
            "\n",
            " 33%|███▎      | 74/222 [06:23<13:14,  5.37s/it]\u001b[A\u001b[A\u001b[A\u001b[A"
          ],
          "name": "stderr"
        },
        {
          "output_type": "stream",
          "text": [
            "WARNING:tensorflow:11 out of the last 11 calls to <function Model.make_predict_function.<locals>.predict_function at 0x7f9ec75a9ea0> triggered tf.function retracing. Tracing is expensive and the excessive number of tracings could be due to (1) creating @tf.function repeatedly in a loop, (2) passing tensors with different shapes, (3) passing Python objects instead of tensors. For (1), please define your @tf.function outside of the loop. For (2), @tf.function has experimental_relax_shapes=True option that relaxes argument shapes that can avoid unnecessary retracing. For (3), please refer to https://www.tensorflow.org/tutorials/customization/performance#python_or_tensor_args and https://www.tensorflow.org/api_docs/python/tf/function for  more details.\n"
          ],
          "name": "stdout"
        },
        {
          "output_type": "stream",
          "text": [
            "\n",
            "\n",
            "\n",
            "\n",
            " 34%|███▍      | 75/222 [06:28<13:00,  5.31s/it]\u001b[A\u001b[A\u001b[A\u001b[A"
          ],
          "name": "stderr"
        },
        {
          "output_type": "stream",
          "text": [
            "WARNING:tensorflow:11 out of the last 11 calls to <function Model.make_predict_function.<locals>.predict_function at 0x7f9ecd304b70> triggered tf.function retracing. Tracing is expensive and the excessive number of tracings could be due to (1) creating @tf.function repeatedly in a loop, (2) passing tensors with different shapes, (3) passing Python objects instead of tensors. For (1), please define your @tf.function outside of the loop. For (2), @tf.function has experimental_relax_shapes=True option that relaxes argument shapes that can avoid unnecessary retracing. For (3), please refer to https://www.tensorflow.org/tutorials/customization/performance#python_or_tensor_args and https://www.tensorflow.org/api_docs/python/tf/function for  more details.\n"
          ],
          "name": "stdout"
        },
        {
          "output_type": "stream",
          "text": [
            "\n",
            "\n",
            "\n",
            "\n",
            " 34%|███▍      | 76/222 [06:33<12:42,  5.22s/it]\u001b[A\u001b[A\u001b[A\u001b[A"
          ],
          "name": "stderr"
        },
        {
          "output_type": "stream",
          "text": [
            "WARNING:tensorflow:11 out of the last 11 calls to <function Model.make_predict_function.<locals>.predict_function at 0x7f9ec67fa488> triggered tf.function retracing. Tracing is expensive and the excessive number of tracings could be due to (1) creating @tf.function repeatedly in a loop, (2) passing tensors with different shapes, (3) passing Python objects instead of tensors. For (1), please define your @tf.function outside of the loop. For (2), @tf.function has experimental_relax_shapes=True option that relaxes argument shapes that can avoid unnecessary retracing. For (3), please refer to https://www.tensorflow.org/tutorials/customization/performance#python_or_tensor_args and https://www.tensorflow.org/api_docs/python/tf/function for  more details.\n"
          ],
          "name": "stdout"
        },
        {
          "output_type": "stream",
          "text": [
            "\n",
            "\n",
            "\n",
            "\n",
            " 35%|███▍      | 77/222 [06:38<12:31,  5.18s/it]\u001b[A\u001b[A\u001b[A\u001b[A"
          ],
          "name": "stderr"
        },
        {
          "output_type": "stream",
          "text": [
            "WARNING:tensorflow:11 out of the last 11 calls to <function Model.make_predict_function.<locals>.predict_function at 0x7f9ec8dbe9d8> triggered tf.function retracing. Tracing is expensive and the excessive number of tracings could be due to (1) creating @tf.function repeatedly in a loop, (2) passing tensors with different shapes, (3) passing Python objects instead of tensors. For (1), please define your @tf.function outside of the loop. For (2), @tf.function has experimental_relax_shapes=True option that relaxes argument shapes that can avoid unnecessary retracing. For (3), please refer to https://www.tensorflow.org/tutorials/customization/performance#python_or_tensor_args and https://www.tensorflow.org/api_docs/python/tf/function for  more details.\n"
          ],
          "name": "stdout"
        },
        {
          "output_type": "stream",
          "text": [
            "\n",
            "\n",
            "\n",
            "\n",
            " 35%|███▌      | 78/222 [06:43<12:16,  5.11s/it]\u001b[A\u001b[A\u001b[A\u001b[A"
          ],
          "name": "stderr"
        },
        {
          "output_type": "stream",
          "text": [
            "WARNING:tensorflow:11 out of the last 11 calls to <function Model.make_predict_function.<locals>.predict_function at 0x7f9ec8357840> triggered tf.function retracing. Tracing is expensive and the excessive number of tracings could be due to (1) creating @tf.function repeatedly in a loop, (2) passing tensors with different shapes, (3) passing Python objects instead of tensors. For (1), please define your @tf.function outside of the loop. For (2), @tf.function has experimental_relax_shapes=True option that relaxes argument shapes that can avoid unnecessary retracing. For (3), please refer to https://www.tensorflow.org/tutorials/customization/performance#python_or_tensor_args and https://www.tensorflow.org/api_docs/python/tf/function for  more details.\n"
          ],
          "name": "stdout"
        },
        {
          "output_type": "stream",
          "text": [
            "\n",
            "\n",
            "\n",
            "\n",
            " 36%|███▌      | 79/222 [06:48<12:09,  5.10s/it]\u001b[A\u001b[A\u001b[A\u001b[A"
          ],
          "name": "stderr"
        },
        {
          "output_type": "stream",
          "text": [
            "WARNING:tensorflow:11 out of the last 11 calls to <function Model.make_predict_function.<locals>.predict_function at 0x7f9ec5a08400> triggered tf.function retracing. Tracing is expensive and the excessive number of tracings could be due to (1) creating @tf.function repeatedly in a loop, (2) passing tensors with different shapes, (3) passing Python objects instead of tensors. For (1), please define your @tf.function outside of the loop. For (2), @tf.function has experimental_relax_shapes=True option that relaxes argument shapes that can avoid unnecessary retracing. For (3), please refer to https://www.tensorflow.org/tutorials/customization/performance#python_or_tensor_args and https://www.tensorflow.org/api_docs/python/tf/function for  more details.\n"
          ],
          "name": "stdout"
        },
        {
          "output_type": "stream",
          "text": [
            "\n",
            "\n",
            "\n",
            "\n",
            " 36%|███▌      | 80/222 [06:55<13:01,  5.50s/it]\u001b[A\u001b[A\u001b[A\u001b[A"
          ],
          "name": "stderr"
        },
        {
          "output_type": "stream",
          "text": [
            "WARNING:tensorflow:11 out of the last 11 calls to <function Model.make_predict_function.<locals>.predict_function at 0x7f9ec8d7b730> triggered tf.function retracing. Tracing is expensive and the excessive number of tracings could be due to (1) creating @tf.function repeatedly in a loop, (2) passing tensors with different shapes, (3) passing Python objects instead of tensors. For (1), please define your @tf.function outside of the loop. For (2), @tf.function has experimental_relax_shapes=True option that relaxes argument shapes that can avoid unnecessary retracing. For (3), please refer to https://www.tensorflow.org/tutorials/customization/performance#python_or_tensor_args and https://www.tensorflow.org/api_docs/python/tf/function for  more details.\n"
          ],
          "name": "stdout"
        },
        {
          "output_type": "stream",
          "text": [
            "\n",
            "\n",
            "\n",
            "\n",
            " 36%|███▋      | 81/222 [07:00<12:58,  5.52s/it]\u001b[A\u001b[A\u001b[A\u001b[A"
          ],
          "name": "stderr"
        },
        {
          "output_type": "stream",
          "text": [
            "WARNING:tensorflow:11 out of the last 11 calls to <function Model.make_predict_function.<locals>.predict_function at 0x7f9ecc25c400> triggered tf.function retracing. Tracing is expensive and the excessive number of tracings could be due to (1) creating @tf.function repeatedly in a loop, (2) passing tensors with different shapes, (3) passing Python objects instead of tensors. For (1), please define your @tf.function outside of the loop. For (2), @tf.function has experimental_relax_shapes=True option that relaxes argument shapes that can avoid unnecessary retracing. For (3), please refer to https://www.tensorflow.org/tutorials/customization/performance#python_or_tensor_args and https://www.tensorflow.org/api_docs/python/tf/function for  more details.\n"
          ],
          "name": "stdout"
        },
        {
          "output_type": "stream",
          "text": [
            "\n",
            "\n",
            "\n",
            "\n",
            " 37%|███▋      | 82/222 [07:06<12:38,  5.41s/it]\u001b[A\u001b[A\u001b[A\u001b[A"
          ],
          "name": "stderr"
        },
        {
          "output_type": "stream",
          "text": [
            "WARNING:tensorflow:11 out of the last 11 calls to <function Model.make_predict_function.<locals>.predict_function at 0x7f9ec8efa1e0> triggered tf.function retracing. Tracing is expensive and the excessive number of tracings could be due to (1) creating @tf.function repeatedly in a loop, (2) passing tensors with different shapes, (3) passing Python objects instead of tensors. For (1), please define your @tf.function outside of the loop. For (2), @tf.function has experimental_relax_shapes=True option that relaxes argument shapes that can avoid unnecessary retracing. For (3), please refer to https://www.tensorflow.org/tutorials/customization/performance#python_or_tensor_args and https://www.tensorflow.org/api_docs/python/tf/function for  more details.\n"
          ],
          "name": "stdout"
        },
        {
          "output_type": "stream",
          "text": [
            "\n",
            "\n",
            "\n",
            "\n",
            " 37%|███▋      | 83/222 [07:12<13:10,  5.69s/it]\u001b[A\u001b[A\u001b[A\u001b[A"
          ],
          "name": "stderr"
        },
        {
          "output_type": "stream",
          "text": [
            "WARNING:tensorflow:11 out of the last 11 calls to <function Model.make_predict_function.<locals>.predict_function at 0x7f9ecd7e0950> triggered tf.function retracing. Tracing is expensive and the excessive number of tracings could be due to (1) creating @tf.function repeatedly in a loop, (2) passing tensors with different shapes, (3) passing Python objects instead of tensors. For (1), please define your @tf.function outside of the loop. For (2), @tf.function has experimental_relax_shapes=True option that relaxes argument shapes that can avoid unnecessary retracing. For (3), please refer to https://www.tensorflow.org/tutorials/customization/performance#python_or_tensor_args and https://www.tensorflow.org/api_docs/python/tf/function for  more details.\n"
          ],
          "name": "stdout"
        },
        {
          "output_type": "stream",
          "text": [
            "\n",
            "\n",
            "\n",
            "\n",
            " 38%|███▊      | 84/222 [07:17<12:38,  5.50s/it]\u001b[A\u001b[A\u001b[A\u001b[A"
          ],
          "name": "stderr"
        },
        {
          "output_type": "stream",
          "text": [
            "WARNING:tensorflow:11 out of the last 11 calls to <function Model.make_predict_function.<locals>.predict_function at 0x7f9eca940730> triggered tf.function retracing. Tracing is expensive and the excessive number of tracings could be due to (1) creating @tf.function repeatedly in a loop, (2) passing tensors with different shapes, (3) passing Python objects instead of tensors. For (1), please define your @tf.function outside of the loop. For (2), @tf.function has experimental_relax_shapes=True option that relaxes argument shapes that can avoid unnecessary retracing. For (3), please refer to https://www.tensorflow.org/tutorials/customization/performance#python_or_tensor_args and https://www.tensorflow.org/api_docs/python/tf/function for  more details.\n"
          ],
          "name": "stdout"
        },
        {
          "output_type": "stream",
          "text": [
            "\n",
            "\n",
            "\n",
            "\n",
            " 38%|███▊      | 85/222 [07:22<12:09,  5.32s/it]\u001b[A\u001b[A\u001b[A\u001b[A"
          ],
          "name": "stderr"
        },
        {
          "output_type": "stream",
          "text": [
            "WARNING:tensorflow:11 out of the last 11 calls to <function Model.make_predict_function.<locals>.predict_function at 0x7f9ec90a0488> triggered tf.function retracing. Tracing is expensive and the excessive number of tracings could be due to (1) creating @tf.function repeatedly in a loop, (2) passing tensors with different shapes, (3) passing Python objects instead of tensors. For (1), please define your @tf.function outside of the loop. For (2), @tf.function has experimental_relax_shapes=True option that relaxes argument shapes that can avoid unnecessary retracing. For (3), please refer to https://www.tensorflow.org/tutorials/customization/performance#python_or_tensor_args and https://www.tensorflow.org/api_docs/python/tf/function for  more details.\n"
          ],
          "name": "stdout"
        },
        {
          "output_type": "stream",
          "text": [
            "\n",
            "\n",
            "\n",
            "\n",
            " 39%|███▊      | 86/222 [07:27<11:46,  5.19s/it]\u001b[A\u001b[A\u001b[A\u001b[A"
          ],
          "name": "stderr"
        },
        {
          "output_type": "stream",
          "text": [
            "WARNING:tensorflow:11 out of the last 11 calls to <function Model.make_predict_function.<locals>.predict_function at 0x7f9ec90a9840> triggered tf.function retracing. Tracing is expensive and the excessive number of tracings could be due to (1) creating @tf.function repeatedly in a loop, (2) passing tensors with different shapes, (3) passing Python objects instead of tensors. For (1), please define your @tf.function outside of the loop. For (2), @tf.function has experimental_relax_shapes=True option that relaxes argument shapes that can avoid unnecessary retracing. For (3), please refer to https://www.tensorflow.org/tutorials/customization/performance#python_or_tensor_args and https://www.tensorflow.org/api_docs/python/tf/function for  more details.\n"
          ],
          "name": "stdout"
        },
        {
          "output_type": "stream",
          "text": [
            "\n",
            "\n",
            "\n",
            "\n",
            " 39%|███▉      | 87/222 [07:32<11:33,  5.14s/it]\u001b[A\u001b[A\u001b[A\u001b[A"
          ],
          "name": "stderr"
        },
        {
          "output_type": "stream",
          "text": [
            "WARNING:tensorflow:11 out of the last 11 calls to <function Model.make_predict_function.<locals>.predict_function at 0x7f9eca691840> triggered tf.function retracing. Tracing is expensive and the excessive number of tracings could be due to (1) creating @tf.function repeatedly in a loop, (2) passing tensors with different shapes, (3) passing Python objects instead of tensors. For (1), please define your @tf.function outside of the loop. For (2), @tf.function has experimental_relax_shapes=True option that relaxes argument shapes that can avoid unnecessary retracing. For (3), please refer to https://www.tensorflow.org/tutorials/customization/performance#python_or_tensor_args and https://www.tensorflow.org/api_docs/python/tf/function for  more details.\n"
          ],
          "name": "stdout"
        },
        {
          "output_type": "stream",
          "text": [
            "\n",
            "\n",
            "\n",
            "\n",
            " 40%|███▉      | 88/222 [07:37<11:18,  5.06s/it]\u001b[A\u001b[A\u001b[A\u001b[A"
          ],
          "name": "stderr"
        },
        {
          "output_type": "stream",
          "text": [
            "WARNING:tensorflow:11 out of the last 11 calls to <function Model.make_predict_function.<locals>.predict_function at 0x7f9ecbfe8400> triggered tf.function retracing. Tracing is expensive and the excessive number of tracings could be due to (1) creating @tf.function repeatedly in a loop, (2) passing tensors with different shapes, (3) passing Python objects instead of tensors. For (1), please define your @tf.function outside of the loop. For (2), @tf.function has experimental_relax_shapes=True option that relaxes argument shapes that can avoid unnecessary retracing. For (3), please refer to https://www.tensorflow.org/tutorials/customization/performance#python_or_tensor_args and https://www.tensorflow.org/api_docs/python/tf/function for  more details.\n"
          ],
          "name": "stdout"
        },
        {
          "output_type": "stream",
          "text": [
            "\n",
            "\n",
            "\n",
            "\n",
            " 40%|████      | 89/222 [07:42<11:05,  5.01s/it]\u001b[A\u001b[A\u001b[A\u001b[A"
          ],
          "name": "stderr"
        },
        {
          "output_type": "stream",
          "text": [
            "WARNING:tensorflow:11 out of the last 11 calls to <function Model.make_predict_function.<locals>.predict_function at 0x7f9ec76c0730> triggered tf.function retracing. Tracing is expensive and the excessive number of tracings could be due to (1) creating @tf.function repeatedly in a loop, (2) passing tensors with different shapes, (3) passing Python objects instead of tensors. For (1), please define your @tf.function outside of the loop. For (2), @tf.function has experimental_relax_shapes=True option that relaxes argument shapes that can avoid unnecessary retracing. For (3), please refer to https://www.tensorflow.org/tutorials/customization/performance#python_or_tensor_args and https://www.tensorflow.org/api_docs/python/tf/function for  more details.\n"
          ],
          "name": "stdout"
        },
        {
          "output_type": "stream",
          "text": [
            "\n",
            "\n",
            "\n",
            "\n",
            " 41%|████      | 90/222 [07:47<11:08,  5.07s/it]\u001b[A\u001b[A\u001b[A\u001b[A"
          ],
          "name": "stderr"
        },
        {
          "output_type": "stream",
          "text": [
            "WARNING:tensorflow:11 out of the last 11 calls to <function Model.make_predict_function.<locals>.predict_function at 0x7f9ec8d3f400> triggered tf.function retracing. Tracing is expensive and the excessive number of tracings could be due to (1) creating @tf.function repeatedly in a loop, (2) passing tensors with different shapes, (3) passing Python objects instead of tensors. For (1), please define your @tf.function outside of the loop. For (2), @tf.function has experimental_relax_shapes=True option that relaxes argument shapes that can avoid unnecessary retracing. For (3), please refer to https://www.tensorflow.org/tutorials/customization/performance#python_or_tensor_args and https://www.tensorflow.org/api_docs/python/tf/function for  more details.\n"
          ],
          "name": "stdout"
        },
        {
          "output_type": "stream",
          "text": [
            "\n",
            "\n",
            "\n",
            "\n",
            " 41%|████      | 91/222 [07:53<11:46,  5.39s/it]\u001b[A\u001b[A\u001b[A\u001b[A"
          ],
          "name": "stderr"
        },
        {
          "output_type": "stream",
          "text": [
            "WARNING:tensorflow:11 out of the last 11 calls to <function Model.make_predict_function.<locals>.predict_function at 0x7f9ec73d3488> triggered tf.function retracing. Tracing is expensive and the excessive number of tracings could be due to (1) creating @tf.function repeatedly in a loop, (2) passing tensors with different shapes, (3) passing Python objects instead of tensors. For (1), please define your @tf.function outside of the loop. For (2), @tf.function has experimental_relax_shapes=True option that relaxes argument shapes that can avoid unnecessary retracing. For (3), please refer to https://www.tensorflow.org/tutorials/customization/performance#python_or_tensor_args and https://www.tensorflow.org/api_docs/python/tf/function for  more details.\n"
          ],
          "name": "stdout"
        },
        {
          "output_type": "stream",
          "text": [
            "\n",
            "\n",
            "\n",
            "\n",
            " 41%|████▏     | 92/222 [07:58<11:24,  5.26s/it]\u001b[A\u001b[A\u001b[A\u001b[A"
          ],
          "name": "stderr"
        },
        {
          "output_type": "stream",
          "text": [
            "WARNING:tensorflow:11 out of the last 11 calls to <function Model.make_predict_function.<locals>.predict_function at 0x7f9ecd304c80> triggered tf.function retracing. Tracing is expensive and the excessive number of tracings could be due to (1) creating @tf.function repeatedly in a loop, (2) passing tensors with different shapes, (3) passing Python objects instead of tensors. For (1), please define your @tf.function outside of the loop. For (2), @tf.function has experimental_relax_shapes=True option that relaxes argument shapes that can avoid unnecessary retracing. For (3), please refer to https://www.tensorflow.org/tutorials/customization/performance#python_or_tensor_args and https://www.tensorflow.org/api_docs/python/tf/function for  more details.\n"
          ],
          "name": "stdout"
        },
        {
          "output_type": "stream",
          "text": [
            "\n",
            "\n",
            "\n",
            "\n",
            " 42%|████▏     | 93/222 [08:03<11:07,  5.18s/it]\u001b[A\u001b[A\u001b[A\u001b[A"
          ],
          "name": "stderr"
        },
        {
          "output_type": "stream",
          "text": [
            "WARNING:tensorflow:11 out of the last 11 calls to <function Model.make_predict_function.<locals>.predict_function at 0x7f9eca573488> triggered tf.function retracing. Tracing is expensive and the excessive number of tracings could be due to (1) creating @tf.function repeatedly in a loop, (2) passing tensors with different shapes, (3) passing Python objects instead of tensors. For (1), please define your @tf.function outside of the loop. For (2), @tf.function has experimental_relax_shapes=True option that relaxes argument shapes that can avoid unnecessary retracing. For (3), please refer to https://www.tensorflow.org/tutorials/customization/performance#python_or_tensor_args and https://www.tensorflow.org/api_docs/python/tf/function for  more details.\n"
          ],
          "name": "stdout"
        },
        {
          "output_type": "stream",
          "text": [
            "\n",
            "\n",
            "\n",
            "\n",
            " 42%|████▏     | 94/222 [08:08<10:55,  5.12s/it]\u001b[A\u001b[A\u001b[A\u001b[A"
          ],
          "name": "stderr"
        },
        {
          "output_type": "stream",
          "text": [
            "WARNING:tensorflow:11 out of the last 11 calls to <function Model.make_predict_function.<locals>.predict_function at 0x7f9ec8dae730> triggered tf.function retracing. Tracing is expensive and the excessive number of tracings could be due to (1) creating @tf.function repeatedly in a loop, (2) passing tensors with different shapes, (3) passing Python objects instead of tensors. For (1), please define your @tf.function outside of the loop. For (2), @tf.function has experimental_relax_shapes=True option that relaxes argument shapes that can avoid unnecessary retracing. For (3), please refer to https://www.tensorflow.org/tutorials/customization/performance#python_or_tensor_args and https://www.tensorflow.org/api_docs/python/tf/function for  more details.\n"
          ],
          "name": "stdout"
        },
        {
          "output_type": "stream",
          "text": [
            "\n",
            "\n",
            "\n",
            "\n",
            " 43%|████▎     | 95/222 [08:13<10:45,  5.09s/it]\u001b[A\u001b[A\u001b[A\u001b[A"
          ],
          "name": "stderr"
        },
        {
          "output_type": "stream",
          "text": [
            "WARNING:tensorflow:11 out of the last 11 calls to <function Model.make_predict_function.<locals>.predict_function at 0x7f9eca3a5840> triggered tf.function retracing. Tracing is expensive and the excessive number of tracings could be due to (1) creating @tf.function repeatedly in a loop, (2) passing tensors with different shapes, (3) passing Python objects instead of tensors. For (1), please define your @tf.function outside of the loop. For (2), @tf.function has experimental_relax_shapes=True option that relaxes argument shapes that can avoid unnecessary retracing. For (3), please refer to https://www.tensorflow.org/tutorials/customization/performance#python_or_tensor_args and https://www.tensorflow.org/api_docs/python/tf/function for  more details.\n"
          ],
          "name": "stdout"
        },
        {
          "output_type": "stream",
          "text": [
            "\n",
            "\n",
            "\n",
            "\n",
            " 43%|████▎     | 96/222 [08:18<10:39,  5.08s/it]\u001b[A\u001b[A\u001b[A\u001b[A"
          ],
          "name": "stderr"
        },
        {
          "output_type": "stream",
          "text": [
            "WARNING:tensorflow:11 out of the last 11 calls to <function Model.make_predict_function.<locals>.predict_function at 0x7f9ecb573400> triggered tf.function retracing. Tracing is expensive and the excessive number of tracings could be due to (1) creating @tf.function repeatedly in a loop, (2) passing tensors with different shapes, (3) passing Python objects instead of tensors. For (1), please define your @tf.function outside of the loop. For (2), @tf.function has experimental_relax_shapes=True option that relaxes argument shapes that can avoid unnecessary retracing. For (3), please refer to https://www.tensorflow.org/tutorials/customization/performance#python_or_tensor_args and https://www.tensorflow.org/api_docs/python/tf/function for  more details.\n"
          ],
          "name": "stdout"
        },
        {
          "output_type": "stream",
          "text": [
            "\n",
            "\n",
            "\n",
            "\n",
            " 44%|████▎     | 97/222 [08:23<10:31,  5.05s/it]\u001b[A\u001b[A\u001b[A\u001b[A"
          ],
          "name": "stderr"
        },
        {
          "output_type": "stream",
          "text": [
            "WARNING:tensorflow:11 out of the last 11 calls to <function Model.make_predict_function.<locals>.predict_function at 0x7f9ec67277b8> triggered tf.function retracing. Tracing is expensive and the excessive number of tracings could be due to (1) creating @tf.function repeatedly in a loop, (2) passing tensors with different shapes, (3) passing Python objects instead of tensors. For (1), please define your @tf.function outside of the loop. For (2), @tf.function has experimental_relax_shapes=True option that relaxes argument shapes that can avoid unnecessary retracing. For (3), please refer to https://www.tensorflow.org/tutorials/customization/performance#python_or_tensor_args and https://www.tensorflow.org/api_docs/python/tf/function for  more details.\n"
          ],
          "name": "stdout"
        },
        {
          "output_type": "stream",
          "text": [
            "\n",
            "\n",
            "\n",
            "\n",
            " 44%|████▍     | 98/222 [08:29<10:45,  5.20s/it]\u001b[A\u001b[A\u001b[A\u001b[A"
          ],
          "name": "stderr"
        },
        {
          "output_type": "stream",
          "text": [
            "WARNING:tensorflow:11 out of the last 11 calls to <function Model.make_predict_function.<locals>.predict_function at 0x7f9ecd637400> triggered tf.function retracing. Tracing is expensive and the excessive number of tracings could be due to (1) creating @tf.function repeatedly in a loop, (2) passing tensors with different shapes, (3) passing Python objects instead of tensors. For (1), please define your @tf.function outside of the loop. For (2), @tf.function has experimental_relax_shapes=True option that relaxes argument shapes that can avoid unnecessary retracing. For (3), please refer to https://www.tensorflow.org/tutorials/customization/performance#python_or_tensor_args and https://www.tensorflow.org/api_docs/python/tf/function for  more details.\n"
          ],
          "name": "stdout"
        },
        {
          "output_type": "stream",
          "text": [
            "\n",
            "\n",
            "\n",
            "\n",
            " 45%|████▍     | 99/222 [08:34<10:40,  5.21s/it]\u001b[A\u001b[A\u001b[A\u001b[A"
          ],
          "name": "stderr"
        },
        {
          "output_type": "stream",
          "text": [
            "WARNING:tensorflow:11 out of the last 11 calls to <function Model.make_predict_function.<locals>.predict_function at 0x7f9ec90731e0> triggered tf.function retracing. Tracing is expensive and the excessive number of tracings could be due to (1) creating @tf.function repeatedly in a loop, (2) passing tensors with different shapes, (3) passing Python objects instead of tensors. For (1), please define your @tf.function outside of the loop. For (2), @tf.function has experimental_relax_shapes=True option that relaxes argument shapes that can avoid unnecessary retracing. For (3), please refer to https://www.tensorflow.org/tutorials/customization/performance#python_or_tensor_args and https://www.tensorflow.org/api_docs/python/tf/function for  more details.\n"
          ],
          "name": "stdout"
        },
        {
          "output_type": "stream",
          "text": [
            "\n",
            "\n",
            "\n",
            "\n",
            " 45%|████▌     | 100/222 [08:40<11:13,  5.52s/it]\u001b[A\u001b[A\u001b[A\u001b[A"
          ],
          "name": "stderr"
        },
        {
          "output_type": "stream",
          "text": [
            "WARNING:tensorflow:11 out of the last 11 calls to <function Model.make_predict_function.<locals>.predict_function at 0x7f9eca917950> triggered tf.function retracing. Tracing is expensive and the excessive number of tracings could be due to (1) creating @tf.function repeatedly in a loop, (2) passing tensors with different shapes, (3) passing Python objects instead of tensors. For (1), please define your @tf.function outside of the loop. For (2), @tf.function has experimental_relax_shapes=True option that relaxes argument shapes that can avoid unnecessary retracing. For (3), please refer to https://www.tensorflow.org/tutorials/customization/performance#python_or_tensor_args and https://www.tensorflow.org/api_docs/python/tf/function for  more details.\n"
          ],
          "name": "stdout"
        },
        {
          "output_type": "stream",
          "text": [
            "\n",
            "\n",
            "\n",
            "\n",
            " 45%|████▌     | 101/222 [08:45<10:49,  5.37s/it]\u001b[A\u001b[A\u001b[A\u001b[A"
          ],
          "name": "stderr"
        },
        {
          "output_type": "stream",
          "text": [
            "WARNING:tensorflow:11 out of the last 11 calls to <function Model.make_predict_function.<locals>.predict_function at 0x7f9eca8cbd08> triggered tf.function retracing. Tracing is expensive and the excessive number of tracings could be due to (1) creating @tf.function repeatedly in a loop, (2) passing tensors with different shapes, (3) passing Python objects instead of tensors. For (1), please define your @tf.function outside of the loop. For (2), @tf.function has experimental_relax_shapes=True option that relaxes argument shapes that can avoid unnecessary retracing. For (3), please refer to https://www.tensorflow.org/tutorials/customization/performance#python_or_tensor_args and https://www.tensorflow.org/api_docs/python/tf/function for  more details.\n"
          ],
          "name": "stdout"
        },
        {
          "output_type": "stream",
          "text": [
            "\n",
            "\n",
            "\n",
            "\n",
            " 46%|████▌     | 102/222 [08:50<10:43,  5.36s/it]\u001b[A\u001b[A\u001b[A\u001b[A"
          ],
          "name": "stderr"
        },
        {
          "output_type": "stream",
          "text": [
            "WARNING:tensorflow:11 out of the last 11 calls to <function Model.make_predict_function.<locals>.predict_function at 0x7f9ec95ab488> triggered tf.function retracing. Tracing is expensive and the excessive number of tracings could be due to (1) creating @tf.function repeatedly in a loop, (2) passing tensors with different shapes, (3) passing Python objects instead of tensors. For (1), please define your @tf.function outside of the loop. For (2), @tf.function has experimental_relax_shapes=True option that relaxes argument shapes that can avoid unnecessary retracing. For (3), please refer to https://www.tensorflow.org/tutorials/customization/performance#python_or_tensor_args and https://www.tensorflow.org/api_docs/python/tf/function for  more details.\n"
          ],
          "name": "stdout"
        },
        {
          "output_type": "stream",
          "text": [
            "\n",
            "\n",
            "\n",
            "\n",
            " 46%|████▋     | 103/222 [08:55<10:16,  5.18s/it]\u001b[A\u001b[A\u001b[A\u001b[A"
          ],
          "name": "stderr"
        },
        {
          "output_type": "stream",
          "text": [
            "WARNING:tensorflow:11 out of the last 11 calls to <function Model.make_predict_function.<locals>.predict_function at 0x7f9ec95b4840> triggered tf.function retracing. Tracing is expensive and the excessive number of tracings could be due to (1) creating @tf.function repeatedly in a loop, (2) passing tensors with different shapes, (3) passing Python objects instead of tensors. For (1), please define your @tf.function outside of the loop. For (2), @tf.function has experimental_relax_shapes=True option that relaxes argument shapes that can avoid unnecessary retracing. For (3), please refer to https://www.tensorflow.org/tutorials/customization/performance#python_or_tensor_args and https://www.tensorflow.org/api_docs/python/tf/function for  more details.\n"
          ],
          "name": "stdout"
        },
        {
          "output_type": "stream",
          "text": [
            "\n",
            "\n",
            "\n",
            "\n",
            " 47%|████▋     | 104/222 [09:00<09:54,  5.04s/it]\u001b[A\u001b[A\u001b[A\u001b[A"
          ],
          "name": "stderr"
        },
        {
          "output_type": "stream",
          "text": [
            "WARNING:tensorflow:11 out of the last 11 calls to <function Model.make_predict_function.<locals>.predict_function at 0x7f9ecc04c840> triggered tf.function retracing. Tracing is expensive and the excessive number of tracings could be due to (1) creating @tf.function repeatedly in a loop, (2) passing tensors with different shapes, (3) passing Python objects instead of tensors. For (1), please define your @tf.function outside of the loop. For (2), @tf.function has experimental_relax_shapes=True option that relaxes argument shapes that can avoid unnecessary retracing. For (3), please refer to https://www.tensorflow.org/tutorials/customization/performance#python_or_tensor_args and https://www.tensorflow.org/api_docs/python/tf/function for  more details.\n"
          ],
          "name": "stdout"
        },
        {
          "output_type": "stream",
          "text": [
            "\n",
            "\n",
            "\n",
            "\n",
            " 47%|████▋     | 105/222 [09:05<09:45,  5.01s/it]\u001b[A\u001b[A\u001b[A\u001b[A"
          ],
          "name": "stderr"
        },
        {
          "output_type": "stream",
          "text": [
            "WARNING:tensorflow:11 out of the last 11 calls to <function Model.make_predict_function.<locals>.predict_function at 0x7f9ecc064400> triggered tf.function retracing. Tracing is expensive and the excessive number of tracings could be due to (1) creating @tf.function repeatedly in a loop, (2) passing tensors with different shapes, (3) passing Python objects instead of tensors. For (1), please define your @tf.function outside of the loop. For (2), @tf.function has experimental_relax_shapes=True option that relaxes argument shapes that can avoid unnecessary retracing. For (3), please refer to https://www.tensorflow.org/tutorials/customization/performance#python_or_tensor_args and https://www.tensorflow.org/api_docs/python/tf/function for  more details.\n"
          ],
          "name": "stdout"
        },
        {
          "output_type": "stream",
          "text": [
            "\n",
            "\n",
            "\n",
            "\n",
            " 48%|████▊     | 106/222 [09:10<09:32,  4.94s/it]\u001b[A\u001b[A\u001b[A\u001b[A"
          ],
          "name": "stderr"
        },
        {
          "output_type": "stream",
          "text": [
            "WARNING:tensorflow:11 out of the last 11 calls to <function Model.make_predict_function.<locals>.predict_function at 0x7f9ec7524730> triggered tf.function retracing. Tracing is expensive and the excessive number of tracings could be due to (1) creating @tf.function repeatedly in a loop, (2) passing tensors with different shapes, (3) passing Python objects instead of tensors. For (1), please define your @tf.function outside of the loop. For (2), @tf.function has experimental_relax_shapes=True option that relaxes argument shapes that can avoid unnecessary retracing. For (3), please refer to https://www.tensorflow.org/tutorials/customization/performance#python_or_tensor_args and https://www.tensorflow.org/api_docs/python/tf/function for  more details.\n"
          ],
          "name": "stdout"
        },
        {
          "output_type": "stream",
          "text": [
            "\n",
            "\n",
            "\n",
            "\n",
            " 48%|████▊     | 107/222 [09:14<09:15,  4.83s/it]\u001b[A\u001b[A\u001b[A\u001b[A"
          ],
          "name": "stderr"
        },
        {
          "output_type": "stream",
          "text": [
            "WARNING:tensorflow:11 out of the last 11 calls to <function Model.make_predict_function.<locals>.predict_function at 0x7f9ecc339400> triggered tf.function retracing. Tracing is expensive and the excessive number of tracings could be due to (1) creating @tf.function repeatedly in a loop, (2) passing tensors with different shapes, (3) passing Python objects instead of tensors. For (1), please define your @tf.function outside of the loop. For (2), @tf.function has experimental_relax_shapes=True option that relaxes argument shapes that can avoid unnecessary retracing. For (3), please refer to https://www.tensorflow.org/tutorials/customization/performance#python_or_tensor_args and https://www.tensorflow.org/api_docs/python/tf/function for  more details.\n"
          ],
          "name": "stdout"
        },
        {
          "output_type": "stream",
          "text": [
            "\n",
            "\n",
            "\n",
            "\n",
            " 49%|████▊     | 108/222 [09:20<09:53,  5.20s/it]\u001b[A\u001b[A\u001b[A\u001b[A"
          ],
          "name": "stderr"
        },
        {
          "output_type": "stream",
          "text": [
            "WARNING:tensorflow:11 out of the last 11 calls to <function Model.make_predict_function.<locals>.predict_function at 0x7f9ec90fd2f0> triggered tf.function retracing. Tracing is expensive and the excessive number of tracings could be due to (1) creating @tf.function repeatedly in a loop, (2) passing tensors with different shapes, (3) passing Python objects instead of tensors. For (1), please define your @tf.function outside of the loop. For (2), @tf.function has experimental_relax_shapes=True option that relaxes argument shapes that can avoid unnecessary retracing. For (3), please refer to https://www.tensorflow.org/tutorials/customization/performance#python_or_tensor_args and https://www.tensorflow.org/api_docs/python/tf/function for  more details.\n"
          ],
          "name": "stdout"
        },
        {
          "output_type": "stream",
          "text": [
            "\n",
            "\n",
            "\n",
            "\n",
            " 49%|████▉     | 109/222 [09:25<09:32,  5.06s/it]\u001b[A\u001b[A\u001b[A\u001b[A"
          ],
          "name": "stderr"
        },
        {
          "output_type": "stream",
          "text": [
            "WARNING:tensorflow:11 out of the last 11 calls to <function Model.make_predict_function.<locals>.predict_function at 0x7f9ec67af400> triggered tf.function retracing. Tracing is expensive and the excessive number of tracings could be due to (1) creating @tf.function repeatedly in a loop, (2) passing tensors with different shapes, (3) passing Python objects instead of tensors. For (1), please define your @tf.function outside of the loop. For (2), @tf.function has experimental_relax_shapes=True option that relaxes argument shapes that can avoid unnecessary retracing. For (3), please refer to https://www.tensorflow.org/tutorials/customization/performance#python_or_tensor_args and https://www.tensorflow.org/api_docs/python/tf/function for  more details.\n"
          ],
          "name": "stdout"
        },
        {
          "output_type": "stream",
          "text": [
            "\n",
            "\n",
            "\n",
            "\n",
            " 50%|████▉     | 110/222 [09:30<09:22,  5.02s/it]\u001b[A\u001b[A\u001b[A\u001b[A"
          ],
          "name": "stderr"
        },
        {
          "output_type": "stream",
          "text": [
            "WARNING:tensorflow:11 out of the last 11 calls to <function Model.make_predict_function.<locals>.predict_function at 0x7f9ecd696488> triggered tf.function retracing. Tracing is expensive and the excessive number of tracings could be due to (1) creating @tf.function repeatedly in a loop, (2) passing tensors with different shapes, (3) passing Python objects instead of tensors. For (1), please define your @tf.function outside of the loop. For (2), @tf.function has experimental_relax_shapes=True option that relaxes argument shapes that can avoid unnecessary retracing. For (3), please refer to https://www.tensorflow.org/tutorials/customization/performance#python_or_tensor_args and https://www.tensorflow.org/api_docs/python/tf/function for  more details.\n"
          ],
          "name": "stdout"
        },
        {
          "output_type": "stream",
          "text": [
            "\n",
            "\n",
            "\n",
            "\n",
            " 50%|█████     | 111/222 [09:35<09:13,  4.98s/it]\u001b[A\u001b[A\u001b[A\u001b[A"
          ],
          "name": "stderr"
        },
        {
          "output_type": "stream",
          "text": [
            "WARNING:tensorflow:11 out of the last 11 calls to <function Model.make_predict_function.<locals>.predict_function at 0x7f9ec5b72840> triggered tf.function retracing. Tracing is expensive and the excessive number of tracings could be due to (1) creating @tf.function repeatedly in a loop, (2) passing tensors with different shapes, (3) passing Python objects instead of tensors. For (1), please define your @tf.function outside of the loop. For (2), @tf.function has experimental_relax_shapes=True option that relaxes argument shapes that can avoid unnecessary retracing. For (3), please refer to https://www.tensorflow.org/tutorials/customization/performance#python_or_tensor_args and https://www.tensorflow.org/api_docs/python/tf/function for  more details.\n"
          ],
          "name": "stdout"
        },
        {
          "output_type": "stream",
          "text": [
            "\n",
            "\n",
            "\n",
            "\n",
            " 50%|█████     | 112/222 [09:39<08:56,  4.88s/it]\u001b[A\u001b[A\u001b[A\u001b[A"
          ],
          "name": "stderr"
        },
        {
          "output_type": "stream",
          "text": [
            "WARNING:tensorflow:11 out of the last 11 calls to <function Model.make_predict_function.<locals>.predict_function at 0x7f9ec9706840> triggered tf.function retracing. Tracing is expensive and the excessive number of tracings could be due to (1) creating @tf.function repeatedly in a loop, (2) passing tensors with different shapes, (3) passing Python objects instead of tensors. For (1), please define your @tf.function outside of the loop. For (2), @tf.function has experimental_relax_shapes=True option that relaxes argument shapes that can avoid unnecessary retracing. For (3), please refer to https://www.tensorflow.org/tutorials/customization/performance#python_or_tensor_args and https://www.tensorflow.org/api_docs/python/tf/function for  more details.\n"
          ],
          "name": "stdout"
        },
        {
          "output_type": "stream",
          "text": [
            "\n",
            "\n",
            "\n",
            "\n",
            " 51%|█████     | 113/222 [09:44<08:50,  4.87s/it]\u001b[A\u001b[A\u001b[A\u001b[A"
          ],
          "name": "stderr"
        },
        {
          "output_type": "stream",
          "text": [
            "WARNING:tensorflow:11 out of the last 11 calls to <function Model.make_predict_function.<locals>.predict_function at 0x7f9ecd3b4400> triggered tf.function retracing. Tracing is expensive and the excessive number of tracings could be due to (1) creating @tf.function repeatedly in a loop, (2) passing tensors with different shapes, (3) passing Python objects instead of tensors. For (1), please define your @tf.function outside of the loop. For (2), @tf.function has experimental_relax_shapes=True option that relaxes argument shapes that can avoid unnecessary retracing. For (3), please refer to https://www.tensorflow.org/tutorials/customization/performance#python_or_tensor_args and https://www.tensorflow.org/api_docs/python/tf/function for  more details.\n"
          ],
          "name": "stdout"
        },
        {
          "output_type": "stream",
          "text": [
            "\n",
            "\n",
            "\n",
            "\n",
            " 51%|█████▏    | 114/222 [09:49<08:40,  4.82s/it]\u001b[A\u001b[A\u001b[A\u001b[A"
          ],
          "name": "stderr"
        },
        {
          "output_type": "stream",
          "text": [
            "WARNING:tensorflow:11 out of the last 11 calls to <function Model.make_predict_function.<locals>.predict_function at 0x7f9ec81998c8> triggered tf.function retracing. Tracing is expensive and the excessive number of tracings could be due to (1) creating @tf.function repeatedly in a loop, (2) passing tensors with different shapes, (3) passing Python objects instead of tensors. For (1), please define your @tf.function outside of the loop. For (2), @tf.function has experimental_relax_shapes=True option that relaxes argument shapes that can avoid unnecessary retracing. For (3), please refer to https://www.tensorflow.org/tutorials/customization/performance#python_or_tensor_args and https://www.tensorflow.org/api_docs/python/tf/function for  more details.\n"
          ],
          "name": "stdout"
        },
        {
          "output_type": "stream",
          "text": [
            "\n",
            "\n",
            "\n",
            "\n",
            " 52%|█████▏    | 115/222 [09:54<08:30,  4.77s/it]\u001b[A\u001b[A\u001b[A\u001b[A"
          ],
          "name": "stderr"
        },
        {
          "output_type": "stream",
          "text": [
            "WARNING:tensorflow:11 out of the last 11 calls to <function Model.make_predict_function.<locals>.predict_function at 0x7f9ecd5b4400> triggered tf.function retracing. Tracing is expensive and the excessive number of tracings could be due to (1) creating @tf.function repeatedly in a loop, (2) passing tensors with different shapes, (3) passing Python objects instead of tensors. For (1), please define your @tf.function outside of the loop. For (2), @tf.function has experimental_relax_shapes=True option that relaxes argument shapes that can avoid unnecessary retracing. For (3), please refer to https://www.tensorflow.org/tutorials/customization/performance#python_or_tensor_args and https://www.tensorflow.org/api_docs/python/tf/function for  more details.\n"
          ],
          "name": "stdout"
        },
        {
          "output_type": "stream",
          "text": [
            "\n",
            "\n",
            "\n",
            "\n",
            " 52%|█████▏    | 116/222 [09:59<08:37,  4.88s/it]\u001b[A\u001b[A\u001b[A\u001b[A"
          ],
          "name": "stderr"
        },
        {
          "output_type": "stream",
          "text": [
            "WARNING:tensorflow:11 out of the last 11 calls to <function Model.make_predict_function.<locals>.predict_function at 0x7f9ec90fdea0> triggered tf.function retracing. Tracing is expensive and the excessive number of tracings could be due to (1) creating @tf.function repeatedly in a loop, (2) passing tensors with different shapes, (3) passing Python objects instead of tensors. For (1), please define your @tf.function outside of the loop. For (2), @tf.function has experimental_relax_shapes=True option that relaxes argument shapes that can avoid unnecessary retracing. For (3), please refer to https://www.tensorflow.org/tutorials/customization/performance#python_or_tensor_args and https://www.tensorflow.org/api_docs/python/tf/function for  more details.\n"
          ],
          "name": "stdout"
        },
        {
          "output_type": "stream",
          "text": [
            "\n",
            "\n",
            "\n",
            "\n",
            " 53%|█████▎    | 117/222 [10:05<09:07,  5.22s/it]\u001b[A\u001b[A\u001b[A\u001b[A"
          ],
          "name": "stderr"
        },
        {
          "output_type": "stream",
          "text": [
            "WARNING:tensorflow:11 out of the last 11 calls to <function Model.make_predict_function.<locals>.predict_function at 0x7f9ee7447e18> triggered tf.function retracing. Tracing is expensive and the excessive number of tracings could be due to (1) creating @tf.function repeatedly in a loop, (2) passing tensors with different shapes, (3) passing Python objects instead of tensors. For (1), please define your @tf.function outside of the loop. For (2), @tf.function has experimental_relax_shapes=True option that relaxes argument shapes that can avoid unnecessary retracing. For (3), please refer to https://www.tensorflow.org/tutorials/customization/performance#python_or_tensor_args and https://www.tensorflow.org/api_docs/python/tf/function for  more details.\n"
          ],
          "name": "stdout"
        },
        {
          "output_type": "stream",
          "text": [
            "\n",
            "\n",
            "\n",
            "\n",
            " 53%|█████▎    | 118/222 [10:09<08:48,  5.08s/it]\u001b[A\u001b[A\u001b[A\u001b[A"
          ],
          "name": "stderr"
        },
        {
          "output_type": "stream",
          "text": [
            "WARNING:tensorflow:11 out of the last 11 calls to <function Model.make_predict_function.<locals>.predict_function at 0x7f9ec9061840> triggered tf.function retracing. Tracing is expensive and the excessive number of tracings could be due to (1) creating @tf.function repeatedly in a loop, (2) passing tensors with different shapes, (3) passing Python objects instead of tensors. For (1), please define your @tf.function outside of the loop. For (2), @tf.function has experimental_relax_shapes=True option that relaxes argument shapes that can avoid unnecessary retracing. For (3), please refer to https://www.tensorflow.org/tutorials/customization/performance#python_or_tensor_args and https://www.tensorflow.org/api_docs/python/tf/function for  more details.\n"
          ],
          "name": "stdout"
        },
        {
          "output_type": "stream",
          "text": [
            "\n",
            "\n",
            "\n",
            "\n",
            " 54%|█████▎    | 119/222 [10:14<08:40,  5.05s/it]\u001b[A\u001b[A\u001b[A\u001b[A"
          ],
          "name": "stderr"
        },
        {
          "output_type": "stream",
          "text": [
            "WARNING:tensorflow:11 out of the last 11 calls to <function Model.make_predict_function.<locals>.predict_function at 0x7f9ec68e3400> triggered tf.function retracing. Tracing is expensive and the excessive number of tracings could be due to (1) creating @tf.function repeatedly in a loop, (2) passing tensors with different shapes, (3) passing Python objects instead of tensors. For (1), please define your @tf.function outside of the loop. For (2), @tf.function has experimental_relax_shapes=True option that relaxes argument shapes that can avoid unnecessary retracing. For (3), please refer to https://www.tensorflow.org/tutorials/customization/performance#python_or_tensor_args and https://www.tensorflow.org/api_docs/python/tf/function for  more details.\n"
          ],
          "name": "stdout"
        },
        {
          "output_type": "stream",
          "text": [
            "\n",
            "\n",
            "\n",
            "\n",
            " 54%|█████▍    | 120/222 [10:19<08:28,  4.99s/it]\u001b[A\u001b[A\u001b[A\u001b[A"
          ],
          "name": "stderr"
        },
        {
          "output_type": "stream",
          "text": [
            "WARNING:tensorflow:11 out of the last 11 calls to <function Model.make_predict_function.<locals>.predict_function at 0x7f9ec72e16a8> triggered tf.function retracing. Tracing is expensive and the excessive number of tracings could be due to (1) creating @tf.function repeatedly in a loop, (2) passing tensors with different shapes, (3) passing Python objects instead of tensors. For (1), please define your @tf.function outside of the loop. For (2), @tf.function has experimental_relax_shapes=True option that relaxes argument shapes that can avoid unnecessary retracing. For (3), please refer to https://www.tensorflow.org/tutorials/customization/performance#python_or_tensor_args and https://www.tensorflow.org/api_docs/python/tf/function for  more details.\n"
          ],
          "name": "stdout"
        },
        {
          "output_type": "stream",
          "text": [
            "\n",
            "\n",
            "\n",
            "\n",
            " 55%|█████▍    | 121/222 [10:24<08:11,  4.87s/it]\u001b[A\u001b[A\u001b[A\u001b[A"
          ],
          "name": "stderr"
        },
        {
          "output_type": "stream",
          "text": [
            "WARNING:tensorflow:11 out of the last 11 calls to <function Model.make_predict_function.<locals>.predict_function at 0x7f9ecd390400> triggered tf.function retracing. Tracing is expensive and the excessive number of tracings could be due to (1) creating @tf.function repeatedly in a loop, (2) passing tensors with different shapes, (3) passing Python objects instead of tensors. For (1), please define your @tf.function outside of the loop. For (2), @tf.function has experimental_relax_shapes=True option that relaxes argument shapes that can avoid unnecessary retracing. For (3), please refer to https://www.tensorflow.org/tutorials/customization/performance#python_or_tensor_args and https://www.tensorflow.org/api_docs/python/tf/function for  more details.\n"
          ],
          "name": "stdout"
        },
        {
          "output_type": "stream",
          "text": [
            "\n",
            "\n",
            "\n",
            "\n",
            " 55%|█████▍    | 122/222 [10:29<08:05,  4.85s/it]\u001b[A\u001b[A\u001b[A\u001b[A"
          ],
          "name": "stderr"
        },
        {
          "output_type": "stream",
          "text": [
            "WARNING:tensorflow:11 out of the last 11 calls to <function Model.make_predict_function.<locals>.predict_function at 0x7f9ec71531e0> triggered tf.function retracing. Tracing is expensive and the excessive number of tracings could be due to (1) creating @tf.function repeatedly in a loop, (2) passing tensors with different shapes, (3) passing Python objects instead of tensors. For (1), please define your @tf.function outside of the loop. For (2), @tf.function has experimental_relax_shapes=True option that relaxes argument shapes that can avoid unnecessary retracing. For (3), please refer to https://www.tensorflow.org/tutorials/customization/performance#python_or_tensor_args and https://www.tensorflow.org/api_docs/python/tf/function for  more details.\n"
          ],
          "name": "stdout"
        },
        {
          "output_type": "stream",
          "text": [
            "\n",
            "\n",
            "\n",
            "\n",
            " 55%|█████▌    | 123/222 [10:33<07:54,  4.80s/it]\u001b[A\u001b[A\u001b[A\u001b[A"
          ],
          "name": "stderr"
        },
        {
          "output_type": "stream",
          "text": [
            "WARNING:tensorflow:11 out of the last 11 calls to <function Model.make_predict_function.<locals>.predict_function at 0x7f9eca3f3620> triggered tf.function retracing. Tracing is expensive and the excessive number of tracings could be due to (1) creating @tf.function repeatedly in a loop, (2) passing tensors with different shapes, (3) passing Python objects instead of tensors. For (1), please define your @tf.function outside of the loop. For (2), @tf.function has experimental_relax_shapes=True option that relaxes argument shapes that can avoid unnecessary retracing. For (3), please refer to https://www.tensorflow.org/tutorials/customization/performance#python_or_tensor_args and https://www.tensorflow.org/api_docs/python/tf/function for  more details.\n"
          ],
          "name": "stdout"
        },
        {
          "output_type": "stream",
          "text": [
            "\n",
            "\n",
            "\n",
            "\n",
            " 56%|█████▌    | 124/222 [10:38<07:45,  4.75s/it]\u001b[A\u001b[A\u001b[A\u001b[A"
          ],
          "name": "stderr"
        },
        {
          "output_type": "stream",
          "text": [
            "WARNING:tensorflow:11 out of the last 11 calls to <function Model.make_predict_function.<locals>.predict_function at 0x7f9ecc4c9488> triggered tf.function retracing. Tracing is expensive and the excessive number of tracings could be due to (1) creating @tf.function repeatedly in a loop, (2) passing tensors with different shapes, (3) passing Python objects instead of tensors. For (1), please define your @tf.function outside of the loop. For (2), @tf.function has experimental_relax_shapes=True option that relaxes argument shapes that can avoid unnecessary retracing. For (3), please refer to https://www.tensorflow.org/tutorials/customization/performance#python_or_tensor_args and https://www.tensorflow.org/api_docs/python/tf/function for  more details.\n"
          ],
          "name": "stdout"
        },
        {
          "output_type": "stream",
          "text": [
            "\n",
            "\n",
            "\n",
            "\n",
            " 56%|█████▋    | 125/222 [10:44<08:23,  5.19s/it]\u001b[A\u001b[A\u001b[A\u001b[A"
          ],
          "name": "stderr"
        },
        {
          "output_type": "stream",
          "text": [
            "WARNING:tensorflow:11 out of the last 11 calls to <function Model.make_predict_function.<locals>.predict_function at 0x7f9ec67eb158> triggered tf.function retracing. Tracing is expensive and the excessive number of tracings could be due to (1) creating @tf.function repeatedly in a loop, (2) passing tensors with different shapes, (3) passing Python objects instead of tensors. For (1), please define your @tf.function outside of the loop. For (2), @tf.function has experimental_relax_shapes=True option that relaxes argument shapes that can avoid unnecessary retracing. For (3), please refer to https://www.tensorflow.org/tutorials/customization/performance#python_or_tensor_args and https://www.tensorflow.org/api_docs/python/tf/function for  more details.\n"
          ],
          "name": "stdout"
        },
        {
          "output_type": "stream",
          "text": [
            "\n",
            "\n",
            "\n",
            "\n",
            " 57%|█████▋    | 126/222 [10:49<08:09,  5.10s/it]\u001b[A\u001b[A\u001b[A\u001b[A"
          ],
          "name": "stderr"
        },
        {
          "output_type": "stream",
          "text": [
            "WARNING:tensorflow:11 out of the last 11 calls to <function Model.make_predict_function.<locals>.predict_function at 0x7f9ecd7f87b8> triggered tf.function retracing. Tracing is expensive and the excessive number of tracings could be due to (1) creating @tf.function repeatedly in a loop, (2) passing tensors with different shapes, (3) passing Python objects instead of tensors. For (1), please define your @tf.function outside of the loop. For (2), @tf.function has experimental_relax_shapes=True option that relaxes argument shapes that can avoid unnecessary retracing. For (3), please refer to https://www.tensorflow.org/tutorials/customization/performance#python_or_tensor_args and https://www.tensorflow.org/api_docs/python/tf/function for  more details.\n"
          ],
          "name": "stdout"
        },
        {
          "output_type": "stream",
          "text": [
            "\n",
            "\n",
            "\n",
            "\n",
            " 57%|█████▋    | 127/222 [10:54<07:54,  4.99s/it]\u001b[A\u001b[A\u001b[A\u001b[A"
          ],
          "name": "stderr"
        },
        {
          "output_type": "stream",
          "text": [
            "WARNING:tensorflow:11 out of the last 11 calls to <function Model.make_predict_function.<locals>.predict_function at 0x7f9ec6819488> triggered tf.function retracing. Tracing is expensive and the excessive number of tracings could be due to (1) creating @tf.function repeatedly in a loop, (2) passing tensors with different shapes, (3) passing Python objects instead of tensors. For (1), please define your @tf.function outside of the loop. For (2), @tf.function has experimental_relax_shapes=True option that relaxes argument shapes that can avoid unnecessary retracing. For (3), please refer to https://www.tensorflow.org/tutorials/customization/performance#python_or_tensor_args and https://www.tensorflow.org/api_docs/python/tf/function for  more details.\n"
          ],
          "name": "stdout"
        },
        {
          "output_type": "stream",
          "text": [
            "\n",
            "\n",
            "\n",
            "\n",
            " 58%|█████▊    | 128/222 [10:59<07:45,  4.96s/it]\u001b[A\u001b[A\u001b[A\u001b[A"
          ],
          "name": "stderr"
        },
        {
          "output_type": "stream",
          "text": [
            "WARNING:tensorflow:11 out of the last 11 calls to <function Model.make_predict_function.<locals>.predict_function at 0x7f9ec8d939d8> triggered tf.function retracing. Tracing is expensive and the excessive number of tracings could be due to (1) creating @tf.function repeatedly in a loop, (2) passing tensors with different shapes, (3) passing Python objects instead of tensors. For (1), please define your @tf.function outside of the loop. For (2), @tf.function has experimental_relax_shapes=True option that relaxes argument shapes that can avoid unnecessary retracing. For (3), please refer to https://www.tensorflow.org/tutorials/customization/performance#python_or_tensor_args and https://www.tensorflow.org/api_docs/python/tf/function for  more details.\n"
          ],
          "name": "stdout"
        },
        {
          "output_type": "stream",
          "text": [
            "\n",
            "\n",
            "\n",
            "\n",
            " 58%|█████▊    | 129/222 [11:04<07:36,  4.91s/it]\u001b[A\u001b[A\u001b[A\u001b[A"
          ],
          "name": "stderr"
        },
        {
          "output_type": "stream",
          "text": [
            "WARNING:tensorflow:11 out of the last 11 calls to <function Model.make_predict_function.<locals>.predict_function at 0x7f9ec5a02840> triggered tf.function retracing. Tracing is expensive and the excessive number of tracings could be due to (1) creating @tf.function repeatedly in a loop, (2) passing tensors with different shapes, (3) passing Python objects instead of tensors. For (1), please define your @tf.function outside of the loop. For (2), @tf.function has experimental_relax_shapes=True option that relaxes argument shapes that can avoid unnecessary retracing. For (3), please refer to https://www.tensorflow.org/tutorials/customization/performance#python_or_tensor_args and https://www.tensorflow.org/api_docs/python/tf/function for  more details.\n"
          ],
          "name": "stdout"
        },
        {
          "output_type": "stream",
          "text": [
            "\n",
            "\n",
            "\n",
            "\n",
            " 59%|█████▊    | 130/222 [11:08<07:27,  4.86s/it]\u001b[A\u001b[A\u001b[A\u001b[A"
          ],
          "name": "stderr"
        },
        {
          "output_type": "stream",
          "text": [
            "WARNING:tensorflow:11 out of the last 11 calls to <function Model.make_predict_function.<locals>.predict_function at 0x7f9ecc46b400> triggered tf.function retracing. Tracing is expensive and the excessive number of tracings could be due to (1) creating @tf.function repeatedly in a loop, (2) passing tensors with different shapes, (3) passing Python objects instead of tensors. For (1), please define your @tf.function outside of the loop. For (2), @tf.function has experimental_relax_shapes=True option that relaxes argument shapes that can avoid unnecessary retracing. For (3), please refer to https://www.tensorflow.org/tutorials/customization/performance#python_or_tensor_args and https://www.tensorflow.org/api_docs/python/tf/function for  more details.\n"
          ],
          "name": "stdout"
        },
        {
          "output_type": "stream",
          "text": [
            "\n",
            "\n",
            "\n",
            "\n",
            " 59%|█████▉    | 131/222 [11:13<07:23,  4.88s/it]\u001b[A\u001b[A\u001b[A\u001b[A"
          ],
          "name": "stderr"
        },
        {
          "output_type": "stream",
          "text": [
            "WARNING:tensorflow:11 out of the last 11 calls to <function Model.make_predict_function.<locals>.predict_function at 0x7f9ecc33b6a8> triggered tf.function retracing. Tracing is expensive and the excessive number of tracings could be due to (1) creating @tf.function repeatedly in a loop, (2) passing tensors with different shapes, (3) passing Python objects instead of tensors. For (1), please define your @tf.function outside of the loop. For (2), @tf.function has experimental_relax_shapes=True option that relaxes argument shapes that can avoid unnecessary retracing. For (3), please refer to https://www.tensorflow.org/tutorials/customization/performance#python_or_tensor_args and https://www.tensorflow.org/api_docs/python/tf/function for  more details.\n"
          ],
          "name": "stdout"
        },
        {
          "output_type": "stream",
          "text": [
            "\n",
            "\n",
            "\n",
            "\n",
            " 59%|█████▉    | 132/222 [11:18<07:17,  4.86s/it]\u001b[A\u001b[A\u001b[A\u001b[A"
          ],
          "name": "stderr"
        },
        {
          "output_type": "stream",
          "text": [
            "WARNING:tensorflow:11 out of the last 11 calls to <function Model.make_predict_function.<locals>.predict_function at 0x7f9ec946d400> triggered tf.function retracing. Tracing is expensive and the excessive number of tracings could be due to (1) creating @tf.function repeatedly in a loop, (2) passing tensors with different shapes, (3) passing Python objects instead of tensors. For (1), please define your @tf.function outside of the loop. For (2), @tf.function has experimental_relax_shapes=True option that relaxes argument shapes that can avoid unnecessary retracing. For (3), please refer to https://www.tensorflow.org/tutorials/customization/performance#python_or_tensor_args and https://www.tensorflow.org/api_docs/python/tf/function for  more details.\n"
          ],
          "name": "stdout"
        },
        {
          "output_type": "stream",
          "text": [
            "\n",
            "\n",
            "\n",
            "\n",
            " 60%|█████▉    | 133/222 [11:24<07:41,  5.18s/it]\u001b[A\u001b[A\u001b[A\u001b[A"
          ],
          "name": "stderr"
        },
        {
          "output_type": "stream",
          "text": [
            "WARNING:tensorflow:11 out of the last 11 calls to <function Model.make_predict_function.<locals>.predict_function at 0x7f9ec8d79a60> triggered tf.function retracing. Tracing is expensive and the excessive number of tracings could be due to (1) creating @tf.function repeatedly in a loop, (2) passing tensors with different shapes, (3) passing Python objects instead of tensors. For (1), please define your @tf.function outside of the loop. For (2), @tf.function has experimental_relax_shapes=True option that relaxes argument shapes that can avoid unnecessary retracing. For (3), please refer to https://www.tensorflow.org/tutorials/customization/performance#python_or_tensor_args and https://www.tensorflow.org/api_docs/python/tf/function for  more details.\n"
          ],
          "name": "stdout"
        },
        {
          "output_type": "stream",
          "text": [
            "\n",
            "\n",
            "\n",
            "\n",
            " 60%|██████    | 134/222 [11:29<07:29,  5.10s/it]\u001b[A\u001b[A\u001b[A\u001b[A"
          ],
          "name": "stderr"
        },
        {
          "output_type": "stream",
          "text": [
            "WARNING:tensorflow:11 out of the last 11 calls to <function Model.make_predict_function.<locals>.predict_function at 0x7f9ecc33b840> triggered tf.function retracing. Tracing is expensive and the excessive number of tracings could be due to (1) creating @tf.function repeatedly in a loop, (2) passing tensors with different shapes, (3) passing Python objects instead of tensors. For (1), please define your @tf.function outside of the loop. For (2), @tf.function has experimental_relax_shapes=True option that relaxes argument shapes that can avoid unnecessary retracing. For (3), please refer to https://www.tensorflow.org/tutorials/customization/performance#python_or_tensor_args and https://www.tensorflow.org/api_docs/python/tf/function for  more details.\n"
          ],
          "name": "stdout"
        },
        {
          "output_type": "stream",
          "text": [
            "\n",
            "\n",
            "\n",
            "\n",
            " 61%|██████    | 135/222 [11:34<07:16,  5.02s/it]\u001b[A\u001b[A\u001b[A\u001b[A"
          ],
          "name": "stderr"
        },
        {
          "output_type": "stream",
          "text": [
            "WARNING:tensorflow:11 out of the last 11 calls to <function Model.make_predict_function.<locals>.predict_function at 0x7f9ecb6e1488> triggered tf.function retracing. Tracing is expensive and the excessive number of tracings could be due to (1) creating @tf.function repeatedly in a loop, (2) passing tensors with different shapes, (3) passing Python objects instead of tensors. For (1), please define your @tf.function outside of the loop. For (2), @tf.function has experimental_relax_shapes=True option that relaxes argument shapes that can avoid unnecessary retracing. For (3), please refer to https://www.tensorflow.org/tutorials/customization/performance#python_or_tensor_args and https://www.tensorflow.org/api_docs/python/tf/function for  more details.\n"
          ],
          "name": "stdout"
        },
        {
          "output_type": "stream",
          "text": [
            "\n",
            "\n",
            "\n",
            "\n",
            " 61%|██████▏   | 136/222 [11:38<07:01,  4.90s/it]\u001b[A\u001b[A\u001b[A\u001b[A"
          ],
          "name": "stderr"
        },
        {
          "output_type": "stream",
          "text": [
            "WARNING:tensorflow:11 out of the last 11 calls to <function Model.make_predict_function.<locals>.predict_function at 0x7f9ec4b7d6a8> triggered tf.function retracing. Tracing is expensive and the excessive number of tracings could be due to (1) creating @tf.function repeatedly in a loop, (2) passing tensors with different shapes, (3) passing Python objects instead of tensors. For (1), please define your @tf.function outside of the loop. For (2), @tf.function has experimental_relax_shapes=True option that relaxes argument shapes that can avoid unnecessary retracing. For (3), please refer to https://www.tensorflow.org/tutorials/customization/performance#python_or_tensor_args and https://www.tensorflow.org/api_docs/python/tf/function for  more details.\n"
          ],
          "name": "stdout"
        },
        {
          "output_type": "stream",
          "text": [
            "\n",
            "\n",
            "\n",
            "\n",
            " 62%|██████▏   | 137/222 [11:43<06:58,  4.92s/it]\u001b[A\u001b[A\u001b[A\u001b[A"
          ],
          "name": "stderr"
        },
        {
          "output_type": "stream",
          "text": [
            "WARNING:tensorflow:11 out of the last 11 calls to <function Model.make_predict_function.<locals>.predict_function at 0x7f9ec8366e18> triggered tf.function retracing. Tracing is expensive and the excessive number of tracings could be due to (1) creating @tf.function repeatedly in a loop, (2) passing tensors with different shapes, (3) passing Python objects instead of tensors. For (1), please define your @tf.function outside of the loop. For (2), @tf.function has experimental_relax_shapes=True option that relaxes argument shapes that can avoid unnecessary retracing. For (3), please refer to https://www.tensorflow.org/tutorials/customization/performance#python_or_tensor_args and https://www.tensorflow.org/api_docs/python/tf/function for  more details.\n"
          ],
          "name": "stdout"
        },
        {
          "output_type": "stream",
          "text": [
            "\n",
            "\n",
            "\n",
            "\n",
            " 62%|██████▏   | 138/222 [11:48<06:46,  4.84s/it]\u001b[A\u001b[A\u001b[A\u001b[A"
          ],
          "name": "stderr"
        },
        {
          "output_type": "stream",
          "text": [
            "WARNING:tensorflow:11 out of the last 11 calls to <function Model.make_predict_function.<locals>.predict_function at 0x7f9ec753e400> triggered tf.function retracing. Tracing is expensive and the excessive number of tracings could be due to (1) creating @tf.function repeatedly in a loop, (2) passing tensors with different shapes, (3) passing Python objects instead of tensors. For (1), please define your @tf.function outside of the loop. For (2), @tf.function has experimental_relax_shapes=True option that relaxes argument shapes that can avoid unnecessary retracing. For (3), please refer to https://www.tensorflow.org/tutorials/customization/performance#python_or_tensor_args and https://www.tensorflow.org/api_docs/python/tf/function for  more details.\n"
          ],
          "name": "stdout"
        },
        {
          "output_type": "stream",
          "text": [
            "\n",
            "\n",
            "\n",
            "\n",
            " 63%|██████▎   | 139/222 [11:53<06:37,  4.79s/it]\u001b[A\u001b[A\u001b[A\u001b[A"
          ],
          "name": "stderr"
        },
        {
          "output_type": "stream",
          "text": [
            "WARNING:tensorflow:11 out of the last 11 calls to <function Model.make_predict_function.<locals>.predict_function at 0x7f9ec59e46a8> triggered tf.function retracing. Tracing is expensive and the excessive number of tracings could be due to (1) creating @tf.function repeatedly in a loop, (2) passing tensors with different shapes, (3) passing Python objects instead of tensors. For (1), please define your @tf.function outside of the loop. For (2), @tf.function has experimental_relax_shapes=True option that relaxes argument shapes that can avoid unnecessary retracing. For (3), please refer to https://www.tensorflow.org/tutorials/customization/performance#python_or_tensor_args and https://www.tensorflow.org/api_docs/python/tf/function for  more details.\n"
          ],
          "name": "stdout"
        },
        {
          "output_type": "stream",
          "text": [
            "\n",
            "\n",
            "\n",
            "\n",
            " 63%|██████▎   | 140/222 [11:58<06:40,  4.89s/it]\u001b[A\u001b[A\u001b[A\u001b[A"
          ],
          "name": "stderr"
        },
        {
          "output_type": "stream",
          "text": [
            "WARNING:tensorflow:11 out of the last 11 calls to <function Model.make_predict_function.<locals>.predict_function at 0x7f9ecd5b7400> triggered tf.function retracing. Tracing is expensive and the excessive number of tracings could be due to (1) creating @tf.function repeatedly in a loop, (2) passing tensors with different shapes, (3) passing Python objects instead of tensors. For (1), please define your @tf.function outside of the loop. For (2), @tf.function has experimental_relax_shapes=True option that relaxes argument shapes that can avoid unnecessary retracing. For (3), please refer to https://www.tensorflow.org/tutorials/customization/performance#python_or_tensor_args and https://www.tensorflow.org/api_docs/python/tf/function for  more details.\n"
          ],
          "name": "stdout"
        },
        {
          "output_type": "stream",
          "text": [
            "\n",
            "\n",
            "\n",
            "\n",
            " 64%|██████▎   | 141/222 [12:03<06:35,  4.88s/it]\u001b[A\u001b[A\u001b[A\u001b[A"
          ],
          "name": "stderr"
        },
        {
          "output_type": "stream",
          "text": [
            "WARNING:tensorflow:11 out of the last 11 calls to <function Model.make_predict_function.<locals>.predict_function at 0x7f9ec92f51e0> triggered tf.function retracing. Tracing is expensive and the excessive number of tracings could be due to (1) creating @tf.function repeatedly in a loop, (2) passing tensors with different shapes, (3) passing Python objects instead of tensors. For (1), please define your @tf.function outside of the loop. For (2), @tf.function has experimental_relax_shapes=True option that relaxes argument shapes that can avoid unnecessary retracing. For (3), please refer to https://www.tensorflow.org/tutorials/customization/performance#python_or_tensor_args and https://www.tensorflow.org/api_docs/python/tf/function for  more details.\n"
          ],
          "name": "stdout"
        },
        {
          "output_type": "stream",
          "text": [
            "\n",
            "\n",
            "\n",
            "\n",
            " 64%|██████▍   | 142/222 [12:09<07:01,  5.27s/it]\u001b[A\u001b[A\u001b[A\u001b[A"
          ],
          "name": "stderr"
        },
        {
          "output_type": "stream",
          "text": [
            "WARNING:tensorflow:11 out of the last 11 calls to <function Model.make_predict_function.<locals>.predict_function at 0x7f9eca940b70> triggered tf.function retracing. Tracing is expensive and the excessive number of tracings could be due to (1) creating @tf.function repeatedly in a loop, (2) passing tensors with different shapes, (3) passing Python objects instead of tensors. For (1), please define your @tf.function outside of the loop. For (2), @tf.function has experimental_relax_shapes=True option that relaxes argument shapes that can avoid unnecessary retracing. For (3), please refer to https://www.tensorflow.org/tutorials/customization/performance#python_or_tensor_args and https://www.tensorflow.org/api_docs/python/tf/function for  more details.\n"
          ],
          "name": "stdout"
        },
        {
          "output_type": "stream",
          "text": [
            "\n",
            "\n",
            "\n",
            "\n",
            " 64%|██████▍   | 143/222 [12:14<06:50,  5.20s/it]\u001b[A\u001b[A\u001b[A\u001b[A"
          ],
          "name": "stderr"
        },
        {
          "output_type": "stream",
          "text": [
            "WARNING:tensorflow:11 out of the last 11 calls to <function Model.make_predict_function.<locals>.predict_function at 0x7f9eca917378> triggered tf.function retracing. Tracing is expensive and the excessive number of tracings could be due to (1) creating @tf.function repeatedly in a loop, (2) passing tensors with different shapes, (3) passing Python objects instead of tensors. For (1), please define your @tf.function outside of the loop. For (2), @tf.function has experimental_relax_shapes=True option that relaxes argument shapes that can avoid unnecessary retracing. For (3), please refer to https://www.tensorflow.org/tutorials/customization/performance#python_or_tensor_args and https://www.tensorflow.org/api_docs/python/tf/function for  more details.\n"
          ],
          "name": "stdout"
        },
        {
          "output_type": "stream",
          "text": [
            "\n",
            "\n",
            "\n",
            "\n",
            " 65%|██████▍   | 144/222 [12:19<06:35,  5.07s/it]\u001b[A\u001b[A\u001b[A\u001b[A"
          ],
          "name": "stderr"
        },
        {
          "output_type": "stream",
          "text": [
            "WARNING:tensorflow:11 out of the last 11 calls to <function Model.make_predict_function.<locals>.predict_function at 0x7f9ec7214488> triggered tf.function retracing. Tracing is expensive and the excessive number of tracings could be due to (1) creating @tf.function repeatedly in a loop, (2) passing tensors with different shapes, (3) passing Python objects instead of tensors. For (1), please define your @tf.function outside of the loop. For (2), @tf.function has experimental_relax_shapes=True option that relaxes argument shapes that can avoid unnecessary retracing. For (3), please refer to https://www.tensorflow.org/tutorials/customization/performance#python_or_tensor_args and https://www.tensorflow.org/api_docs/python/tf/function for  more details.\n"
          ],
          "name": "stdout"
        },
        {
          "output_type": "stream",
          "text": [
            "\n",
            "\n",
            "\n",
            "\n",
            " 65%|██████▌   | 145/222 [12:23<06:19,  4.93s/it]\u001b[A\u001b[A\u001b[A\u001b[A"
          ],
          "name": "stderr"
        },
        {
          "output_type": "stream",
          "text": [
            "WARNING:tensorflow:11 out of the last 11 calls to <function Model.make_predict_function.<locals>.predict_function at 0x7f9ecb40c840> triggered tf.function retracing. Tracing is expensive and the excessive number of tracings could be due to (1) creating @tf.function repeatedly in a loop, (2) passing tensors with different shapes, (3) passing Python objects instead of tensors. For (1), please define your @tf.function outside of the loop. For (2), @tf.function has experimental_relax_shapes=True option that relaxes argument shapes that can avoid unnecessary retracing. For (3), please refer to https://www.tensorflow.org/tutorials/customization/performance#python_or_tensor_args and https://www.tensorflow.org/api_docs/python/tf/function for  more details.\n"
          ],
          "name": "stdout"
        },
        {
          "output_type": "stream",
          "text": [
            "\n",
            "\n",
            "\n",
            "\n",
            " 66%|██████▌   | 146/222 [12:28<06:13,  4.91s/it]\u001b[A\u001b[A\u001b[A\u001b[A"
          ],
          "name": "stderr"
        },
        {
          "output_type": "stream",
          "text": [
            "WARNING:tensorflow:11 out of the last 11 calls to <function Model.make_predict_function.<locals>.predict_function at 0x7f9eca69c840> triggered tf.function retracing. Tracing is expensive and the excessive number of tracings could be due to (1) creating @tf.function repeatedly in a loop, (2) passing tensors with different shapes, (3) passing Python objects instead of tensors. For (1), please define your @tf.function outside of the loop. For (2), @tf.function has experimental_relax_shapes=True option that relaxes argument shapes that can avoid unnecessary retracing. For (3), please refer to https://www.tensorflow.org/tutorials/customization/performance#python_or_tensor_args and https://www.tensorflow.org/api_docs/python/tf/function for  more details.\n"
          ],
          "name": "stdout"
        },
        {
          "output_type": "stream",
          "text": [
            "\n",
            "\n",
            "\n",
            "\n",
            " 66%|██████▌   | 147/222 [12:33<06:03,  4.85s/it]\u001b[A\u001b[A\u001b[A\u001b[A"
          ],
          "name": "stderr"
        },
        {
          "output_type": "stream",
          "text": [
            "WARNING:tensorflow:11 out of the last 11 calls to <function Model.make_predict_function.<locals>.predict_function at 0x7f9ec80461e0> triggered tf.function retracing. Tracing is expensive and the excessive number of tracings could be due to (1) creating @tf.function repeatedly in a loop, (2) passing tensors with different shapes, (3) passing Python objects instead of tensors. For (1), please define your @tf.function outside of the loop. For (2), @tf.function has experimental_relax_shapes=True option that relaxes argument shapes that can avoid unnecessary retracing. For (3), please refer to https://www.tensorflow.org/tutorials/customization/performance#python_or_tensor_args and https://www.tensorflow.org/api_docs/python/tf/function for  more details.\n"
          ],
          "name": "stdout"
        },
        {
          "output_type": "stream",
          "text": [
            "\n",
            "\n",
            "\n",
            "\n",
            " 67%|██████▋   | 148/222 [12:37<05:55,  4.80s/it]\u001b[A\u001b[A\u001b[A\u001b[A"
          ],
          "name": "stderr"
        },
        {
          "output_type": "stream",
          "text": [
            "WARNING:tensorflow:11 out of the last 11 calls to <function Model.make_predict_function.<locals>.predict_function at 0x7f9ec75a96a8> triggered tf.function retracing. Tracing is expensive and the excessive number of tracings could be due to (1) creating @tf.function repeatedly in a loop, (2) passing tensors with different shapes, (3) passing Python objects instead of tensors. For (1), please define your @tf.function outside of the loop. For (2), @tf.function has experimental_relax_shapes=True option that relaxes argument shapes that can avoid unnecessary retracing. For (3), please refer to https://www.tensorflow.org/tutorials/customization/performance#python_or_tensor_args and https://www.tensorflow.org/api_docs/python/tf/function for  more details.\n"
          ],
          "name": "stdout"
        },
        {
          "output_type": "stream",
          "text": [
            "\n",
            "\n",
            "\n",
            "\n",
            " 67%|██████▋   | 149/222 [12:42<05:51,  4.82s/it]\u001b[A\u001b[A\u001b[A\u001b[A"
          ],
          "name": "stderr"
        },
        {
          "output_type": "stream",
          "text": [
            "WARNING:tensorflow:11 out of the last 11 calls to <function Model.make_predict_function.<locals>.predict_function at 0x7f9ecd539400> triggered tf.function retracing. Tracing is expensive and the excessive number of tracings could be due to (1) creating @tf.function repeatedly in a loop, (2) passing tensors with different shapes, (3) passing Python objects instead of tensors. For (1), please define your @tf.function outside of the loop. For (2), @tf.function has experimental_relax_shapes=True option that relaxes argument shapes that can avoid unnecessary retracing. For (3), please refer to https://www.tensorflow.org/tutorials/customization/performance#python_or_tensor_args and https://www.tensorflow.org/api_docs/python/tf/function for  more details.\n"
          ],
          "name": "stdout"
        },
        {
          "output_type": "stream",
          "text": [
            "\n",
            "\n",
            "\n",
            "\n",
            " 68%|██████▊   | 150/222 [12:48<06:13,  5.19s/it]\u001b[A\u001b[A\u001b[A\u001b[A"
          ],
          "name": "stderr"
        },
        {
          "output_type": "stream",
          "text": [
            "WARNING:tensorflow:11 out of the last 11 calls to <function Model.make_predict_function.<locals>.predict_function at 0x7f9ec6616268> triggered tf.function retracing. Tracing is expensive and the excessive number of tracings could be due to (1) creating @tf.function repeatedly in a loop, (2) passing tensors with different shapes, (3) passing Python objects instead of tensors. For (1), please define your @tf.function outside of the loop. For (2), @tf.function has experimental_relax_shapes=True option that relaxes argument shapes that can avoid unnecessary retracing. For (3), please refer to https://www.tensorflow.org/tutorials/customization/performance#python_or_tensor_args and https://www.tensorflow.org/api_docs/python/tf/function for  more details.\n"
          ],
          "name": "stdout"
        },
        {
          "output_type": "stream",
          "text": [
            "\n",
            "\n",
            "\n",
            "\n",
            " 68%|██████▊   | 151/222 [12:53<06:05,  5.15s/it]\u001b[A\u001b[A\u001b[A\u001b[A"
          ],
          "name": "stderr"
        },
        {
          "output_type": "stream",
          "text": [
            "WARNING:tensorflow:11 out of the last 11 calls to <function Model.make_predict_function.<locals>.predict_function at 0x7f9ec67eb1e0> triggered tf.function retracing. Tracing is expensive and the excessive number of tracings could be due to (1) creating @tf.function repeatedly in a loop, (2) passing tensors with different shapes, (3) passing Python objects instead of tensors. For (1), please define your @tf.function outside of the loop. For (2), @tf.function has experimental_relax_shapes=True option that relaxes argument shapes that can avoid unnecessary retracing. For (3), please refer to https://www.tensorflow.org/tutorials/customization/performance#python_or_tensor_args and https://www.tensorflow.org/api_docs/python/tf/function for  more details.\n"
          ],
          "name": "stdout"
        },
        {
          "output_type": "stream",
          "text": [
            "\n",
            "\n",
            "\n",
            "\n",
            " 68%|██████▊   | 152/222 [12:58<05:55,  5.08s/it]\u001b[A\u001b[A\u001b[A\u001b[A"
          ],
          "name": "stderr"
        },
        {
          "output_type": "stream",
          "text": [
            "WARNING:tensorflow:11 out of the last 11 calls to <function Model.make_predict_function.<locals>.predict_function at 0x7f9ecc230488> triggered tf.function retracing. Tracing is expensive and the excessive number of tracings could be due to (1) creating @tf.function repeatedly in a loop, (2) passing tensors with different shapes, (3) passing Python objects instead of tensors. For (1), please define your @tf.function outside of the loop. For (2), @tf.function has experimental_relax_shapes=True option that relaxes argument shapes that can avoid unnecessary retracing. For (3), please refer to https://www.tensorflow.org/tutorials/customization/performance#python_or_tensor_args and https://www.tensorflow.org/api_docs/python/tf/function for  more details.\n"
          ],
          "name": "stdout"
        },
        {
          "output_type": "stream",
          "text": [
            "\n",
            "\n",
            "\n",
            "\n",
            " 69%|██████▉   | 153/222 [13:03<05:41,  4.95s/it]\u001b[A\u001b[A\u001b[A\u001b[A"
          ],
          "name": "stderr"
        },
        {
          "output_type": "stream",
          "text": [
            "WARNING:tensorflow:11 out of the last 11 calls to <function Model.make_predict_function.<locals>.predict_function at 0x7f9ec66a0950> triggered tf.function retracing. Tracing is expensive and the excessive number of tracings could be due to (1) creating @tf.function repeatedly in a loop, (2) passing tensors with different shapes, (3) passing Python objects instead of tensors. For (1), please define your @tf.function outside of the loop. For (2), @tf.function has experimental_relax_shapes=True option that relaxes argument shapes that can avoid unnecessary retracing. For (3), please refer to https://www.tensorflow.org/tutorials/customization/performance#python_or_tensor_args and https://www.tensorflow.org/api_docs/python/tf/function for  more details.\n"
          ],
          "name": "stdout"
        },
        {
          "output_type": "stream",
          "text": [
            "\n",
            "\n",
            "\n",
            "\n",
            " 69%|██████▉   | 154/222 [13:08<05:37,  4.96s/it]\u001b[A\u001b[A\u001b[A\u001b[A"
          ],
          "name": "stderr"
        },
        {
          "output_type": "stream",
          "text": [
            "WARNING:tensorflow:11 out of the last 11 calls to <function Model.make_predict_function.<locals>.predict_function at 0x7f9ec926e840> triggered tf.function retracing. Tracing is expensive and the excessive number of tracings could be due to (1) creating @tf.function repeatedly in a loop, (2) passing tensors with different shapes, (3) passing Python objects instead of tensors. For (1), please define your @tf.function outside of the loop. For (2), @tf.function has experimental_relax_shapes=True option that relaxes argument shapes that can avoid unnecessary retracing. For (3), please refer to https://www.tensorflow.org/tutorials/customization/performance#python_or_tensor_args and https://www.tensorflow.org/api_docs/python/tf/function for  more details.\n"
          ],
          "name": "stdout"
        },
        {
          "output_type": "stream",
          "text": [
            "\n",
            "\n",
            "\n",
            "\n",
            " 70%|██████▉   | 155/222 [13:13<05:27,  4.89s/it]\u001b[A\u001b[A\u001b[A\u001b[A"
          ],
          "name": "stderr"
        },
        {
          "output_type": "stream",
          "text": [
            "WARNING:tensorflow:11 out of the last 11 calls to <function Model.make_predict_function.<locals>.predict_function at 0x7f9ecc460400> triggered tf.function retracing. Tracing is expensive and the excessive number of tracings could be due to (1) creating @tf.function repeatedly in a loop, (2) passing tensors with different shapes, (3) passing Python objects instead of tensors. For (1), please define your @tf.function outside of the loop. For (2), @tf.function has experimental_relax_shapes=True option that relaxes argument shapes that can avoid unnecessary retracing. For (3), please refer to https://www.tensorflow.org/tutorials/customization/performance#python_or_tensor_args and https://www.tensorflow.org/api_docs/python/tf/function for  more details.\n"
          ],
          "name": "stdout"
        },
        {
          "output_type": "stream",
          "text": [
            "\n",
            "\n",
            "\n",
            "\n",
            " 70%|███████   | 156/222 [13:17<05:18,  4.82s/it]\u001b[A\u001b[A\u001b[A\u001b[A"
          ],
          "name": "stderr"
        },
        {
          "output_type": "stream",
          "text": [
            "WARNING:tensorflow:11 out of the last 11 calls to <function Model.make_predict_function.<locals>.predict_function at 0x7f9ec769e730> triggered tf.function retracing. Tracing is expensive and the excessive number of tracings could be due to (1) creating @tf.function repeatedly in a loop, (2) passing tensors with different shapes, (3) passing Python objects instead of tensors. For (1), please define your @tf.function outside of the loop. For (2), @tf.function has experimental_relax_shapes=True option that relaxes argument shapes that can avoid unnecessary retracing. For (3), please refer to https://www.tensorflow.org/tutorials/customization/performance#python_or_tensor_args and https://www.tensorflow.org/api_docs/python/tf/function for  more details.\n"
          ],
          "name": "stdout"
        },
        {
          "output_type": "stream",
          "text": [
            "\n",
            "\n",
            "\n",
            "\n",
            " 71%|███████   | 157/222 [13:23<05:20,  4.93s/it]\u001b[A\u001b[A\u001b[A\u001b[A"
          ],
          "name": "stderr"
        },
        {
          "output_type": "stream",
          "text": [
            "WARNING:tensorflow:11 out of the last 11 calls to <function Model.make_predict_function.<locals>.predict_function at 0x7f9ec820e400> triggered tf.function retracing. Tracing is expensive and the excessive number of tracings could be due to (1) creating @tf.function repeatedly in a loop, (2) passing tensors with different shapes, (3) passing Python objects instead of tensors. For (1), please define your @tf.function outside of the loop. For (2), @tf.function has experimental_relax_shapes=True option that relaxes argument shapes that can avoid unnecessary retracing. For (3), please refer to https://www.tensorflow.org/tutorials/customization/performance#python_or_tensor_args and https://www.tensorflow.org/api_docs/python/tf/function for  more details.\n"
          ],
          "name": "stdout"
        },
        {
          "output_type": "stream",
          "text": [
            "\n",
            "\n",
            "\n",
            "\n",
            " 71%|███████   | 158/222 [13:27<05:15,  4.93s/it]\u001b[A\u001b[A\u001b[A\u001b[A"
          ],
          "name": "stderr"
        },
        {
          "output_type": "stream",
          "text": [
            "WARNING:tensorflow:11 out of the last 11 calls to <function Model.make_predict_function.<locals>.predict_function at 0x7f9ec94861e0> triggered tf.function retracing. Tracing is expensive and the excessive number of tracings could be due to (1) creating @tf.function repeatedly in a loop, (2) passing tensors with different shapes, (3) passing Python objects instead of tensors. For (1), please define your @tf.function outside of the loop. For (2), @tf.function has experimental_relax_shapes=True option that relaxes argument shapes that can avoid unnecessary retracing. For (3), please refer to https://www.tensorflow.org/tutorials/customization/performance#python_or_tensor_args and https://www.tensorflow.org/api_docs/python/tf/function for  more details.\n"
          ],
          "name": "stdout"
        },
        {
          "output_type": "stream",
          "text": [
            "\n",
            "\n",
            "\n",
            "\n",
            " 72%|███████▏  | 159/222 [13:34<05:34,  5.31s/it]\u001b[A\u001b[A\u001b[A\u001b[A"
          ],
          "name": "stderr"
        },
        {
          "output_type": "stream",
          "text": [
            "WARNING:tensorflow:11 out of the last 11 calls to <function Model.make_predict_function.<locals>.predict_function at 0x7f9ecb188ae8> triggered tf.function retracing. Tracing is expensive and the excessive number of tracings could be due to (1) creating @tf.function repeatedly in a loop, (2) passing tensors with different shapes, (3) passing Python objects instead of tensors. For (1), please define your @tf.function outside of the loop. For (2), @tf.function has experimental_relax_shapes=True option that relaxes argument shapes that can avoid unnecessary retracing. For (3), please refer to https://www.tensorflow.org/tutorials/customization/performance#python_or_tensor_args and https://www.tensorflow.org/api_docs/python/tf/function for  more details.\n"
          ],
          "name": "stdout"
        },
        {
          "output_type": "stream",
          "text": [
            "\n",
            "\n",
            "\n",
            "\n",
            " 72%|███████▏  | 160/222 [13:39<05:24,  5.23s/it]\u001b[A\u001b[A\u001b[A\u001b[A"
          ],
          "name": "stderr"
        },
        {
          "output_type": "stream",
          "text": [
            "WARNING:tensorflow:11 out of the last 11 calls to <function Model.make_predict_function.<locals>.predict_function at 0x7f9eca9178c8> triggered tf.function retracing. Tracing is expensive and the excessive number of tracings could be due to (1) creating @tf.function repeatedly in a loop, (2) passing tensors with different shapes, (3) passing Python objects instead of tensors. For (1), please define your @tf.function outside of the loop. For (2), @tf.function has experimental_relax_shapes=True option that relaxes argument shapes that can avoid unnecessary retracing. For (3), please refer to https://www.tensorflow.org/tutorials/customization/performance#python_or_tensor_args and https://www.tensorflow.org/api_docs/python/tf/function for  more details.\n"
          ],
          "name": "stdout"
        },
        {
          "output_type": "stream",
          "text": [
            "\n",
            "\n",
            "\n",
            "\n",
            " 73%|███████▎  | 161/222 [13:43<05:11,  5.11s/it]\u001b[A\u001b[A\u001b[A\u001b[A"
          ],
          "name": "stderr"
        },
        {
          "output_type": "stream",
          "text": [
            "WARNING:tensorflow:11 out of the last 11 calls to <function Model.make_predict_function.<locals>.predict_function at 0x7f9ec997f488> triggered tf.function retracing. Tracing is expensive and the excessive number of tracings could be due to (1) creating @tf.function repeatedly in a loop, (2) passing tensors with different shapes, (3) passing Python objects instead of tensors. For (1), please define your @tf.function outside of the loop. For (2), @tf.function has experimental_relax_shapes=True option that relaxes argument shapes that can avoid unnecessary retracing. For (3), please refer to https://www.tensorflow.org/tutorials/customization/performance#python_or_tensor_args and https://www.tensorflow.org/api_docs/python/tf/function for  more details.\n"
          ],
          "name": "stdout"
        },
        {
          "output_type": "stream",
          "text": [
            "\n",
            "\n",
            "\n",
            "\n",
            " 73%|███████▎  | 162/222 [13:48<04:58,  4.98s/it]\u001b[A\u001b[A\u001b[A\u001b[A"
          ],
          "name": "stderr"
        },
        {
          "output_type": "stream",
          "text": [
            "WARNING:tensorflow:11 out of the last 11 calls to <function Model.make_predict_function.<locals>.predict_function at 0x7f9ec98db8c8> triggered tf.function retracing. Tracing is expensive and the excessive number of tracings could be due to (1) creating @tf.function repeatedly in a loop, (2) passing tensors with different shapes, (3) passing Python objects instead of tensors. For (1), please define your @tf.function outside of the loop. For (2), @tf.function has experimental_relax_shapes=True option that relaxes argument shapes that can avoid unnecessary retracing. For (3), please refer to https://www.tensorflow.org/tutorials/customization/performance#python_or_tensor_args and https://www.tensorflow.org/api_docs/python/tf/function for  more details.\n"
          ],
          "name": "stdout"
        },
        {
          "output_type": "stream",
          "text": [
            "\n",
            "\n",
            "\n",
            "\n",
            " 73%|███████▎  | 163/222 [13:53<04:52,  4.96s/it]\u001b[A\u001b[A\u001b[A\u001b[A"
          ],
          "name": "stderr"
        },
        {
          "output_type": "stream",
          "text": [
            "WARNING:tensorflow:11 out of the last 11 calls to <function Model.make_predict_function.<locals>.predict_function at 0x7f9ec6939840> triggered tf.function retracing. Tracing is expensive and the excessive number of tracings could be due to (1) creating @tf.function repeatedly in a loop, (2) passing tensors with different shapes, (3) passing Python objects instead of tensors. For (1), please define your @tf.function outside of the loop. For (2), @tf.function has experimental_relax_shapes=True option that relaxes argument shapes that can avoid unnecessary retracing. For (3), please refer to https://www.tensorflow.org/tutorials/customization/performance#python_or_tensor_args and https://www.tensorflow.org/api_docs/python/tf/function for  more details.\n"
          ],
          "name": "stdout"
        },
        {
          "output_type": "stream",
          "text": [
            "\n",
            "\n",
            "\n",
            "\n",
            " 74%|███████▍  | 164/222 [13:58<04:43,  4.89s/it]\u001b[A\u001b[A\u001b[A\u001b[A"
          ],
          "name": "stderr"
        },
        {
          "output_type": "stream",
          "text": [
            "WARNING:tensorflow:11 out of the last 11 calls to <function Model.make_predict_function.<locals>.predict_function at 0x7f9ec4b6f400> triggered tf.function retracing. Tracing is expensive and the excessive number of tracings could be due to (1) creating @tf.function repeatedly in a loop, (2) passing tensors with different shapes, (3) passing Python objects instead of tensors. For (1), please define your @tf.function outside of the loop. For (2), @tf.function has experimental_relax_shapes=True option that relaxes argument shapes that can avoid unnecessary retracing. For (3), please refer to https://www.tensorflow.org/tutorials/customization/performance#python_or_tensor_args and https://www.tensorflow.org/api_docs/python/tf/function for  more details.\n"
          ],
          "name": "stdout"
        },
        {
          "output_type": "stream",
          "text": [
            "\n",
            "\n",
            "\n",
            "\n",
            " 74%|███████▍  | 165/222 [14:02<04:34,  4.81s/it]\u001b[A\u001b[A\u001b[A\u001b[A"
          ],
          "name": "stderr"
        },
        {
          "output_type": "stream",
          "text": [
            "WARNING:tensorflow:11 out of the last 11 calls to <function Model.make_predict_function.<locals>.predict_function at 0x7f9ecd3657b8> triggered tf.function retracing. Tracing is expensive and the excessive number of tracings could be due to (1) creating @tf.function repeatedly in a loop, (2) passing tensors with different shapes, (3) passing Python objects instead of tensors. For (1), please define your @tf.function outside of the loop. For (2), @tf.function has experimental_relax_shapes=True option that relaxes argument shapes that can avoid unnecessary retracing. For (3), please refer to https://www.tensorflow.org/tutorials/customization/performance#python_or_tensor_args and https://www.tensorflow.org/api_docs/python/tf/function for  more details.\n"
          ],
          "name": "stdout"
        },
        {
          "output_type": "stream",
          "text": [
            "\n",
            "\n",
            "\n",
            "\n",
            " 75%|███████▍  | 166/222 [14:07<04:30,  4.84s/it]\u001b[A\u001b[A\u001b[A\u001b[A"
          ],
          "name": "stderr"
        },
        {
          "output_type": "stream",
          "text": [
            "WARNING:tensorflow:11 out of the last 11 calls to <function Model.make_predict_function.<locals>.predict_function at 0x7f9ec8d3a400> triggered tf.function retracing. Tracing is expensive and the excessive number of tracings could be due to (1) creating @tf.function repeatedly in a loop, (2) passing tensors with different shapes, (3) passing Python objects instead of tensors. For (1), please define your @tf.function outside of the loop. For (2), @tf.function has experimental_relax_shapes=True option that relaxes argument shapes that can avoid unnecessary retracing. For (3), please refer to https://www.tensorflow.org/tutorials/customization/performance#python_or_tensor_args and https://www.tensorflow.org/api_docs/python/tf/function for  more details.\n"
          ],
          "name": "stdout"
        },
        {
          "output_type": "stream",
          "text": [
            "\n",
            "\n",
            "\n",
            "\n",
            " 75%|███████▌  | 167/222 [14:14<04:48,  5.25s/it]\u001b[A\u001b[A\u001b[A\u001b[A"
          ],
          "name": "stderr"
        },
        {
          "output_type": "stream",
          "text": [
            "WARNING:tensorflow:11 out of the last 11 calls to <function Model.make_predict_function.<locals>.predict_function at 0x7f9ecb527048> triggered tf.function retracing. Tracing is expensive and the excessive number of tracings could be due to (1) creating @tf.function repeatedly in a loop, (2) passing tensors with different shapes, (3) passing Python objects instead of tensors. For (1), please define your @tf.function outside of the loop. For (2), @tf.function has experimental_relax_shapes=True option that relaxes argument shapes that can avoid unnecessary retracing. For (3), please refer to https://www.tensorflow.org/tutorials/customization/performance#python_or_tensor_args and https://www.tensorflow.org/api_docs/python/tf/function for  more details.\n"
          ],
          "name": "stdout"
        },
        {
          "output_type": "stream",
          "text": [
            "\n",
            "\n",
            "\n",
            "\n",
            " 76%|███████▌  | 168/222 [14:19<04:38,  5.16s/it]\u001b[A\u001b[A\u001b[A\u001b[A"
          ],
          "name": "stderr"
        },
        {
          "output_type": "stream",
          "text": [
            "WARNING:tensorflow:11 out of the last 11 calls to <function Model.make_predict_function.<locals>.predict_function at 0x7f9ec57cdae8> triggered tf.function retracing. Tracing is expensive and the excessive number of tracings could be due to (1) creating @tf.function repeatedly in a loop, (2) passing tensors with different shapes, (3) passing Python objects instead of tensors. For (1), please define your @tf.function outside of the loop. For (2), @tf.function has experimental_relax_shapes=True option that relaxes argument shapes that can avoid unnecessary retracing. For (3), please refer to https://www.tensorflow.org/tutorials/customization/performance#python_or_tensor_args and https://www.tensorflow.org/api_docs/python/tf/function for  more details.\n"
          ],
          "name": "stdout"
        },
        {
          "output_type": "stream",
          "text": [
            "\n",
            "\n",
            "\n",
            "\n",
            " 76%|███████▌  | 169/222 [14:23<04:27,  5.05s/it]\u001b[A\u001b[A\u001b[A\u001b[A"
          ],
          "name": "stderr"
        },
        {
          "output_type": "stream",
          "text": [
            "WARNING:tensorflow:11 out of the last 11 calls to <function Model.make_predict_function.<locals>.predict_function at 0x7f9ecc281488> triggered tf.function retracing. Tracing is expensive and the excessive number of tracings could be due to (1) creating @tf.function repeatedly in a loop, (2) passing tensors with different shapes, (3) passing Python objects instead of tensors. For (1), please define your @tf.function outside of the loop. For (2), @tf.function has experimental_relax_shapes=True option that relaxes argument shapes that can avoid unnecessary retracing. For (3), please refer to https://www.tensorflow.org/tutorials/customization/performance#python_or_tensor_args and https://www.tensorflow.org/api_docs/python/tf/function for  more details.\n"
          ],
          "name": "stdout"
        },
        {
          "output_type": "stream",
          "text": [
            "\n",
            "\n",
            "\n",
            "\n",
            " 77%|███████▋  | 170/222 [14:28<04:17,  4.94s/it]\u001b[A\u001b[A\u001b[A\u001b[A"
          ],
          "name": "stderr"
        },
        {
          "output_type": "stream",
          "text": [
            "WARNING:tensorflow:11 out of the last 11 calls to <function Model.make_predict_function.<locals>.predict_function at 0x7f9ec7705840> triggered tf.function retracing. Tracing is expensive and the excessive number of tracings could be due to (1) creating @tf.function repeatedly in a loop, (2) passing tensors with different shapes, (3) passing Python objects instead of tensors. For (1), please define your @tf.function outside of the loop. For (2), @tf.function has experimental_relax_shapes=True option that relaxes argument shapes that can avoid unnecessary retracing. For (3), please refer to https://www.tensorflow.org/tutorials/customization/performance#python_or_tensor_args and https://www.tensorflow.org/api_docs/python/tf/function for  more details.\n"
          ],
          "name": "stdout"
        },
        {
          "output_type": "stream",
          "text": [
            "\n",
            "\n",
            "\n",
            "\n",
            " 77%|███████▋  | 171/222 [14:33<04:12,  4.95s/it]\u001b[A\u001b[A\u001b[A\u001b[A"
          ],
          "name": "stderr"
        },
        {
          "output_type": "stream",
          "text": [
            "WARNING:tensorflow:11 out of the last 11 calls to <function Model.make_predict_function.<locals>.predict_function at 0x7f9ec6600840> triggered tf.function retracing. Tracing is expensive and the excessive number of tracings could be due to (1) creating @tf.function repeatedly in a loop, (2) passing tensors with different shapes, (3) passing Python objects instead of tensors. For (1), please define your @tf.function outside of the loop. For (2), @tf.function has experimental_relax_shapes=True option that relaxes argument shapes that can avoid unnecessary retracing. For (3), please refer to https://www.tensorflow.org/tutorials/customization/performance#python_or_tensor_args and https://www.tensorflow.org/api_docs/python/tf/function for  more details.\n"
          ],
          "name": "stdout"
        },
        {
          "output_type": "stream",
          "text": [
            "\n",
            "\n",
            "\n",
            "\n",
            " 77%|███████▋  | 172/222 [14:38<04:04,  4.88s/it]\u001b[A\u001b[A\u001b[A\u001b[A"
          ],
          "name": "stderr"
        },
        {
          "output_type": "stream",
          "text": [
            "WARNING:tensorflow:11 out of the last 11 calls to <function Model.make_predict_function.<locals>.predict_function at 0x7f9ecc054400> triggered tf.function retracing. Tracing is expensive and the excessive number of tracings could be due to (1) creating @tf.function repeatedly in a loop, (2) passing tensors with different shapes, (3) passing Python objects instead of tensors. For (1), please define your @tf.function outside of the loop. For (2), @tf.function has experimental_relax_shapes=True option that relaxes argument shapes that can avoid unnecessary retracing. For (3), please refer to https://www.tensorflow.org/tutorials/customization/performance#python_or_tensor_args and https://www.tensorflow.org/api_docs/python/tf/function for  more details.\n"
          ],
          "name": "stdout"
        },
        {
          "output_type": "stream",
          "text": [
            "\n",
            "\n",
            "\n",
            "\n",
            " 78%|███████▊  | 173/222 [14:42<03:55,  4.81s/it]\u001b[A\u001b[A\u001b[A\u001b[A"
          ],
          "name": "stderr"
        },
        {
          "output_type": "stream",
          "text": [
            "WARNING:tensorflow:11 out of the last 11 calls to <function Model.make_predict_function.<locals>.predict_function at 0x7f9ecbff3510> triggered tf.function retracing. Tracing is expensive and the excessive number of tracings could be due to (1) creating @tf.function repeatedly in a loop, (2) passing tensors with different shapes, (3) passing Python objects instead of tensors. For (1), please define your @tf.function outside of the loop. For (2), @tf.function has experimental_relax_shapes=True option that relaxes argument shapes that can avoid unnecessary retracing. For (3), please refer to https://www.tensorflow.org/tutorials/customization/performance#python_or_tensor_args and https://www.tensorflow.org/api_docs/python/tf/function for  more details.\n"
          ],
          "name": "stdout"
        },
        {
          "output_type": "stream",
          "text": [
            "\n",
            "\n",
            "\n",
            "\n",
            " 78%|███████▊  | 174/222 [14:47<03:56,  4.92s/it]\u001b[A\u001b[A\u001b[A\u001b[A"
          ],
          "name": "stderr"
        },
        {
          "output_type": "stream",
          "text": [
            "WARNING:tensorflow:11 out of the last 11 calls to <function Model.make_predict_function.<locals>.predict_function at 0x7f9ec65c9400> triggered tf.function retracing. Tracing is expensive and the excessive number of tracings could be due to (1) creating @tf.function repeatedly in a loop, (2) passing tensors with different shapes, (3) passing Python objects instead of tensors. For (1), please define your @tf.function outside of the loop. For (2), @tf.function has experimental_relax_shapes=True option that relaxes argument shapes that can avoid unnecessary retracing. For (3), please refer to https://www.tensorflow.org/tutorials/customization/performance#python_or_tensor_args and https://www.tensorflow.org/api_docs/python/tf/function for  more details.\n"
          ],
          "name": "stdout"
        },
        {
          "output_type": "stream",
          "text": [
            "\n",
            "\n",
            "\n",
            "\n",
            " 79%|███████▉  | 175/222 [14:52<03:50,  4.91s/it]\u001b[A\u001b[A\u001b[A\u001b[A"
          ],
          "name": "stderr"
        },
        {
          "output_type": "stream",
          "text": [
            "WARNING:tensorflow:11 out of the last 11 calls to <function Model.make_predict_function.<locals>.predict_function at 0x7f9ec7f13158> triggered tf.function retracing. Tracing is expensive and the excessive number of tracings could be due to (1) creating @tf.function repeatedly in a loop, (2) passing tensors with different shapes, (3) passing Python objects instead of tensors. For (1), please define your @tf.function outside of the loop. For (2), @tf.function has experimental_relax_shapes=True option that relaxes argument shapes that can avoid unnecessary retracing. For (3), please refer to https://www.tensorflow.org/tutorials/customization/performance#python_or_tensor_args and https://www.tensorflow.org/api_docs/python/tf/function for  more details.\n"
          ],
          "name": "stdout"
        },
        {
          "output_type": "stream",
          "text": [
            "\n",
            "\n",
            "\n",
            "\n",
            " 79%|███████▉  | 176/222 [14:58<04:00,  5.22s/it]\u001b[A\u001b[A\u001b[A\u001b[A"
          ],
          "name": "stderr"
        },
        {
          "output_type": "stream",
          "text": [
            "WARNING:tensorflow:11 out of the last 11 calls to <function Model.make_predict_function.<locals>.predict_function at 0x7f9ec7569488> triggered tf.function retracing. Tracing is expensive and the excessive number of tracings could be due to (1) creating @tf.function repeatedly in a loop, (2) passing tensors with different shapes, (3) passing Python objects instead of tensors. For (1), please define your @tf.function outside of the loop. For (2), @tf.function has experimental_relax_shapes=True option that relaxes argument shapes that can avoid unnecessary retracing. For (3), please refer to https://www.tensorflow.org/tutorials/customization/performance#python_or_tensor_args and https://www.tensorflow.org/api_docs/python/tf/function for  more details.\n"
          ],
          "name": "stdout"
        },
        {
          "output_type": "stream",
          "text": [
            "\n",
            "\n",
            "\n",
            "\n",
            " 80%|███████▉  | 177/222 [15:03<03:52,  5.16s/it]\u001b[A\u001b[A\u001b[A\u001b[A"
          ],
          "name": "stderr"
        },
        {
          "output_type": "stream",
          "text": [
            "WARNING:tensorflow:11 out of the last 11 calls to <function Model.make_predict_function.<locals>.predict_function at 0x7f9eca5db840> triggered tf.function retracing. Tracing is expensive and the excessive number of tracings could be due to (1) creating @tf.function repeatedly in a loop, (2) passing tensors with different shapes, (3) passing Python objects instead of tensors. For (1), please define your @tf.function outside of the loop. For (2), @tf.function has experimental_relax_shapes=True option that relaxes argument shapes that can avoid unnecessary retracing. For (3), please refer to https://www.tensorflow.org/tutorials/customization/performance#python_or_tensor_args and https://www.tensorflow.org/api_docs/python/tf/function for  more details.\n"
          ],
          "name": "stdout"
        },
        {
          "output_type": "stream",
          "text": [
            "\n",
            "\n",
            "\n",
            "\n",
            " 80%|████████  | 178/222 [15:08<03:42,  5.06s/it]\u001b[A\u001b[A\u001b[A\u001b[A"
          ],
          "name": "stderr"
        },
        {
          "output_type": "stream",
          "text": [
            "WARNING:tensorflow:11 out of the last 11 calls to <function Model.make_predict_function.<locals>.predict_function at 0x7f9ec91e4400> triggered tf.function retracing. Tracing is expensive and the excessive number of tracings could be due to (1) creating @tf.function repeatedly in a loop, (2) passing tensors with different shapes, (3) passing Python objects instead of tensors. For (1), please define your @tf.function outside of the loop. For (2), @tf.function has experimental_relax_shapes=True option that relaxes argument shapes that can avoid unnecessary retracing. For (3), please refer to https://www.tensorflow.org/tutorials/customization/performance#python_or_tensor_args and https://www.tensorflow.org/api_docs/python/tf/function for  more details.\n"
          ],
          "name": "stdout"
        },
        {
          "output_type": "stream",
          "text": [
            "\n",
            "\n",
            "\n",
            "\n",
            " 81%|████████  | 179/222 [15:13<03:33,  4.96s/it]\u001b[A\u001b[A\u001b[A\u001b[A"
          ],
          "name": "stderr"
        },
        {
          "output_type": "stream",
          "text": [
            "WARNING:tensorflow:11 out of the last 11 calls to <function Model.make_predict_function.<locals>.predict_function at 0x7f9ec584c730> triggered tf.function retracing. Tracing is expensive and the excessive number of tracings could be due to (1) creating @tf.function repeatedly in a loop, (2) passing tensors with different shapes, (3) passing Python objects instead of tensors. For (1), please define your @tf.function outside of the loop. For (2), @tf.function has experimental_relax_shapes=True option that relaxes argument shapes that can avoid unnecessary retracing. For (3), please refer to https://www.tensorflow.org/tutorials/customization/performance#python_or_tensor_args and https://www.tensorflow.org/api_docs/python/tf/function for  more details.\n"
          ],
          "name": "stdout"
        },
        {
          "output_type": "stream",
          "text": [
            "\n",
            "\n",
            "\n",
            "\n",
            " 81%|████████  | 180/222 [15:18<03:28,  4.96s/it]\u001b[A\u001b[A\u001b[A\u001b[A"
          ],
          "name": "stderr"
        },
        {
          "output_type": "stream",
          "text": [
            "WARNING:tensorflow:11 out of the last 11 calls to <function Model.make_predict_function.<locals>.predict_function at 0x7f9ec6946510> triggered tf.function retracing. Tracing is expensive and the excessive number of tracings could be due to (1) creating @tf.function repeatedly in a loop, (2) passing tensors with different shapes, (3) passing Python objects instead of tensors. For (1), please define your @tf.function outside of the loop. For (2), @tf.function has experimental_relax_shapes=True option that relaxes argument shapes that can avoid unnecessary retracing. For (3), please refer to https://www.tensorflow.org/tutorials/customization/performance#python_or_tensor_args and https://www.tensorflow.org/api_docs/python/tf/function for  more details.\n"
          ],
          "name": "stdout"
        },
        {
          "output_type": "stream",
          "text": [
            "\n",
            "\n",
            "\n",
            "\n",
            " 82%|████████▏ | 181/222 [15:23<03:20,  4.90s/it]\u001b[A\u001b[A\u001b[A\u001b[A"
          ],
          "name": "stderr"
        },
        {
          "output_type": "stream",
          "text": [
            "WARNING:tensorflow:11 out of the last 11 calls to <function Model.make_predict_function.<locals>.predict_function at 0x7f9ec93e91e0> triggered tf.function retracing. Tracing is expensive and the excessive number of tracings could be due to (1) creating @tf.function repeatedly in a loop, (2) passing tensors with different shapes, (3) passing Python objects instead of tensors. For (1), please define your @tf.function outside of the loop. For (2), @tf.function has experimental_relax_shapes=True option that relaxes argument shapes that can avoid unnecessary retracing. For (3), please refer to https://www.tensorflow.org/tutorials/customization/performance#python_or_tensor_args and https://www.tensorflow.org/api_docs/python/tf/function for  more details.\n"
          ],
          "name": "stdout"
        },
        {
          "output_type": "stream",
          "text": [
            "\n",
            "\n",
            "\n",
            "\n",
            " 82%|████████▏ | 182/222 [15:27<03:13,  4.84s/it]\u001b[A\u001b[A\u001b[A\u001b[A"
          ],
          "name": "stderr"
        },
        {
          "output_type": "stream",
          "text": [
            "WARNING:tensorflow:11 out of the last 11 calls to <function Model.make_predict_function.<locals>.predict_function at 0x7f9ecd5f2158> triggered tf.function retracing. Tracing is expensive and the excessive number of tracings could be due to (1) creating @tf.function repeatedly in a loop, (2) passing tensors with different shapes, (3) passing Python objects instead of tensors. For (1), please define your @tf.function outside of the loop. For (2), @tf.function has experimental_relax_shapes=True option that relaxes argument shapes that can avoid unnecessary retracing. For (3), please refer to https://www.tensorflow.org/tutorials/customization/performance#python_or_tensor_args and https://www.tensorflow.org/api_docs/python/tf/function for  more details.\n"
          ],
          "name": "stdout"
        },
        {
          "output_type": "stream",
          "text": [
            "\n",
            "\n",
            "\n",
            "\n",
            " 82%|████████▏ | 183/222 [15:32<03:12,  4.94s/it]\u001b[A\u001b[A\u001b[A\u001b[A"
          ],
          "name": "stderr"
        },
        {
          "output_type": "stream",
          "text": [
            "WARNING:tensorflow:11 out of the last 11 calls to <function Model.make_predict_function.<locals>.predict_function at 0x7f9eca70c488> triggered tf.function retracing. Tracing is expensive and the excessive number of tracings could be due to (1) creating @tf.function repeatedly in a loop, (2) passing tensors with different shapes, (3) passing Python objects instead of tensors. For (1), please define your @tf.function outside of the loop. For (2), @tf.function has experimental_relax_shapes=True option that relaxes argument shapes that can avoid unnecessary retracing. For (3), please refer to https://www.tensorflow.org/tutorials/customization/performance#python_or_tensor_args and https://www.tensorflow.org/api_docs/python/tf/function for  more details.\n"
          ],
          "name": "stdout"
        },
        {
          "output_type": "stream",
          "text": [
            "\n",
            "\n",
            "\n",
            "\n",
            " 83%|████████▎ | 184/222 [15:39<03:22,  5.32s/it]\u001b[A\u001b[A\u001b[A\u001b[A"
          ],
          "name": "stderr"
        },
        {
          "output_type": "stream",
          "text": [
            "WARNING:tensorflow:11 out of the last 11 calls to <function Model.make_predict_function.<locals>.predict_function at 0x7f9ecb5277b8> triggered tf.function retracing. Tracing is expensive and the excessive number of tracings could be due to (1) creating @tf.function repeatedly in a loop, (2) passing tensors with different shapes, (3) passing Python objects instead of tensors. For (1), please define your @tf.function outside of the loop. For (2), @tf.function has experimental_relax_shapes=True option that relaxes argument shapes that can avoid unnecessary retracing. For (3), please refer to https://www.tensorflow.org/tutorials/customization/performance#python_or_tensor_args and https://www.tensorflow.org/api_docs/python/tf/function for  more details.\n"
          ],
          "name": "stdout"
        },
        {
          "output_type": "stream",
          "text": [
            "\n",
            "\n",
            "\n",
            "\n",
            " 83%|████████▎ | 185/222 [15:43<03:10,  5.14s/it]\u001b[A\u001b[A\u001b[A\u001b[A"
          ],
          "name": "stderr"
        },
        {
          "output_type": "stream",
          "text": [
            "WARNING:tensorflow:11 out of the last 11 calls to <function Model.make_predict_function.<locals>.predict_function at 0x7f9ec91729d8> triggered tf.function retracing. Tracing is expensive and the excessive number of tracings could be due to (1) creating @tf.function repeatedly in a loop, (2) passing tensors with different shapes, (3) passing Python objects instead of tensors. For (1), please define your @tf.function outside of the loop. For (2), @tf.function has experimental_relax_shapes=True option that relaxes argument shapes that can avoid unnecessary retracing. For (3), please refer to https://www.tensorflow.org/tutorials/customization/performance#python_or_tensor_args and https://www.tensorflow.org/api_docs/python/tf/function for  more details.\n"
          ],
          "name": "stdout"
        },
        {
          "output_type": "stream",
          "text": [
            "\n",
            "\n",
            "\n",
            "\n",
            " 84%|████████▍ | 186/222 [15:48<03:02,  5.07s/it]\u001b[A\u001b[A\u001b[A\u001b[A"
          ],
          "name": "stderr"
        },
        {
          "output_type": "stream",
          "text": [
            "WARNING:tensorflow:11 out of the last 11 calls to <function Model.make_predict_function.<locals>.predict_function at 0x7f9ec92e3488> triggered tf.function retracing. Tracing is expensive and the excessive number of tracings could be due to (1) creating @tf.function repeatedly in a loop, (2) passing tensors with different shapes, (3) passing Python objects instead of tensors. For (1), please define your @tf.function outside of the loop. For (2), @tf.function has experimental_relax_shapes=True option that relaxes argument shapes that can avoid unnecessary retracing. For (3), please refer to https://www.tensorflow.org/tutorials/customization/performance#python_or_tensor_args and https://www.tensorflow.org/api_docs/python/tf/function for  more details.\n"
          ],
          "name": "stdout"
        },
        {
          "output_type": "stream",
          "text": [
            "\n",
            "\n",
            "\n",
            "\n",
            " 84%|████████▍ | 187/222 [15:53<02:55,  5.00s/it]\u001b[A\u001b[A\u001b[A\u001b[A"
          ],
          "name": "stderr"
        },
        {
          "output_type": "stream",
          "text": [
            "WARNING:tensorflow:11 out of the last 11 calls to <function Model.make_predict_function.<locals>.predict_function at 0x7f9ec665e9d8> triggered tf.function retracing. Tracing is expensive and the excessive number of tracings could be due to (1) creating @tf.function repeatedly in a loop, (2) passing tensors with different shapes, (3) passing Python objects instead of tensors. For (1), please define your @tf.function outside of the loop. For (2), @tf.function has experimental_relax_shapes=True option that relaxes argument shapes that can avoid unnecessary retracing. For (3), please refer to https://www.tensorflow.org/tutorials/customization/performance#python_or_tensor_args and https://www.tensorflow.org/api_docs/python/tf/function for  more details.\n"
          ],
          "name": "stdout"
        },
        {
          "output_type": "stream",
          "text": [
            "\n",
            "\n",
            "\n",
            "\n",
            " 85%|████████▍ | 188/222 [15:58<02:46,  4.90s/it]\u001b[A\u001b[A\u001b[A\u001b[A"
          ],
          "name": "stderr"
        },
        {
          "output_type": "stream",
          "text": [
            "WARNING:tensorflow:11 out of the last 11 calls to <function Model.make_predict_function.<locals>.predict_function at 0x7f9ec970b840> triggered tf.function retracing. Tracing is expensive and the excessive number of tracings could be due to (1) creating @tf.function repeatedly in a loop, (2) passing tensors with different shapes, (3) passing Python objects instead of tensors. For (1), please define your @tf.function outside of the loop. For (2), @tf.function has experimental_relax_shapes=True option that relaxes argument shapes that can avoid unnecessary retracing. For (3), please refer to https://www.tensorflow.org/tutorials/customization/performance#python_or_tensor_args and https://www.tensorflow.org/api_docs/python/tf/function for  more details.\n"
          ],
          "name": "stdout"
        },
        {
          "output_type": "stream",
          "text": [
            "\n",
            "\n",
            "\n",
            "\n",
            " 85%|████████▌ | 189/222 [16:03<02:41,  4.89s/it]\u001b[A\u001b[A\u001b[A\u001b[A"
          ],
          "name": "stderr"
        },
        {
          "output_type": "stream",
          "text": [
            "WARNING:tensorflow:11 out of the last 11 calls to <function Model.make_predict_function.<locals>.predict_function at 0x7f9ec7545400> triggered tf.function retracing. Tracing is expensive and the excessive number of tracings could be due to (1) creating @tf.function repeatedly in a loop, (2) passing tensors with different shapes, (3) passing Python objects instead of tensors. For (1), please define your @tf.function outside of the loop. For (2), @tf.function has experimental_relax_shapes=True option that relaxes argument shapes that can avoid unnecessary retracing. For (3), please refer to https://www.tensorflow.org/tutorials/customization/performance#python_or_tensor_args and https://www.tensorflow.org/api_docs/python/tf/function for  more details.\n"
          ],
          "name": "stdout"
        },
        {
          "output_type": "stream",
          "text": [
            "\n",
            "\n",
            "\n",
            "\n",
            " 86%|████████▌ | 190/222 [16:07<02:35,  4.86s/it]\u001b[A\u001b[A\u001b[A\u001b[A"
          ],
          "name": "stderr"
        },
        {
          "output_type": "stream",
          "text": [
            "WARNING:tensorflow:11 out of the last 11 calls to <function Model.make_predict_function.<locals>.predict_function at 0x7f9ec66fd378> triggered tf.function retracing. Tracing is expensive and the excessive number of tracings could be due to (1) creating @tf.function repeatedly in a loop, (2) passing tensors with different shapes, (3) passing Python objects instead of tensors. For (1), please define your @tf.function outside of the loop. For (2), @tf.function has experimental_relax_shapes=True option that relaxes argument shapes that can avoid unnecessary retracing. For (3), please refer to https://www.tensorflow.org/tutorials/customization/performance#python_or_tensor_args and https://www.tensorflow.org/api_docs/python/tf/function for  more details.\n"
          ],
          "name": "stdout"
        },
        {
          "output_type": "stream",
          "text": [
            "\n",
            "\n",
            "\n",
            "\n",
            " 86%|████████▌ | 191/222 [16:12<02:28,  4.79s/it]\u001b[A\u001b[A\u001b[A\u001b[A"
          ],
          "name": "stderr"
        },
        {
          "output_type": "stream",
          "text": [
            "WARNING:tensorflow:11 out of the last 11 calls to <function Model.make_predict_function.<locals>.predict_function at 0x7f9ec9999400> triggered tf.function retracing. Tracing is expensive and the excessive number of tracings could be due to (1) creating @tf.function repeatedly in a loop, (2) passing tensors with different shapes, (3) passing Python objects instead of tensors. For (1), please define your @tf.function outside of the loop. For (2), @tf.function has experimental_relax_shapes=True option that relaxes argument shapes that can avoid unnecessary retracing. For (3), please refer to https://www.tensorflow.org/tutorials/customization/performance#python_or_tensor_args and https://www.tensorflow.org/api_docs/python/tf/function for  more details.\n"
          ],
          "name": "stdout"
        },
        {
          "output_type": "stream",
          "text": [
            "\n",
            "\n",
            "\n",
            "\n",
            " 86%|████████▋ | 192/222 [16:18<02:36,  5.23s/it]\u001b[A\u001b[A\u001b[A\u001b[A"
          ],
          "name": "stderr"
        },
        {
          "output_type": "stream",
          "text": [
            "WARNING:tensorflow:11 out of the last 11 calls to <function Model.make_predict_function.<locals>.predict_function at 0x7f9ec6511488> triggered tf.function retracing. Tracing is expensive and the excessive number of tracings could be due to (1) creating @tf.function repeatedly in a loop, (2) passing tensors with different shapes, (3) passing Python objects instead of tensors. For (1), please define your @tf.function outside of the loop. For (2), @tf.function has experimental_relax_shapes=True option that relaxes argument shapes that can avoid unnecessary retracing. For (3), please refer to https://www.tensorflow.org/tutorials/customization/performance#python_or_tensor_args and https://www.tensorflow.org/api_docs/python/tf/function for  more details.\n"
          ],
          "name": "stdout"
        },
        {
          "output_type": "stream",
          "text": [
            "\n",
            "\n",
            "\n",
            "\n",
            " 87%|████████▋ | 193/222 [16:23<02:28,  5.11s/it]\u001b[A\u001b[A\u001b[A\u001b[A"
          ],
          "name": "stderr"
        },
        {
          "output_type": "stream",
          "text": [
            "WARNING:tensorflow:11 out of the last 11 calls to <function Model.make_predict_function.<locals>.predict_function at 0x7f9ec57cd1e0> triggered tf.function retracing. Tracing is expensive and the excessive number of tracings could be due to (1) creating @tf.function repeatedly in a loop, (2) passing tensors with different shapes, (3) passing Python objects instead of tensors. For (1), please define your @tf.function outside of the loop. For (2), @tf.function has experimental_relax_shapes=True option that relaxes argument shapes that can avoid unnecessary retracing. For (3), please refer to https://www.tensorflow.org/tutorials/customization/performance#python_or_tensor_args and https://www.tensorflow.org/api_docs/python/tf/function for  more details.\n"
          ],
          "name": "stdout"
        },
        {
          "output_type": "stream",
          "text": [
            "\n",
            "\n",
            "\n",
            "\n",
            " 87%|████████▋ | 194/222 [16:28<02:19,  4.99s/it]\u001b[A\u001b[A\u001b[A\u001b[A"
          ],
          "name": "stderr"
        },
        {
          "output_type": "stream",
          "text": [
            "WARNING:tensorflow:11 out of the last 11 calls to <function Model.make_predict_function.<locals>.predict_function at 0x7f9ec4b84488> triggered tf.function retracing. Tracing is expensive and the excessive number of tracings could be due to (1) creating @tf.function repeatedly in a loop, (2) passing tensors with different shapes, (3) passing Python objects instead of tensors. For (1), please define your @tf.function outside of the loop. For (2), @tf.function has experimental_relax_shapes=True option that relaxes argument shapes that can avoid unnecessary retracing. For (3), please refer to https://www.tensorflow.org/tutorials/customization/performance#python_or_tensor_args and https://www.tensorflow.org/api_docs/python/tf/function for  more details.\n"
          ],
          "name": "stdout"
        },
        {
          "output_type": "stream",
          "text": [
            "\n",
            "\n",
            "\n",
            "\n",
            " 88%|████████▊ | 195/222 [16:33<02:13,  4.96s/it]\u001b[A\u001b[A\u001b[A\u001b[A"
          ],
          "name": "stderr"
        },
        {
          "output_type": "stream",
          "text": [
            "WARNING:tensorflow:11 out of the last 11 calls to <function Model.make_predict_function.<locals>.predict_function at 0x7f9ec8d4e9d8> triggered tf.function retracing. Tracing is expensive and the excessive number of tracings could be due to (1) creating @tf.function repeatedly in a loop, (2) passing tensors with different shapes, (3) passing Python objects instead of tensors. For (1), please define your @tf.function outside of the loop. For (2), @tf.function has experimental_relax_shapes=True option that relaxes argument shapes that can avoid unnecessary retracing. For (3), please refer to https://www.tensorflow.org/tutorials/customization/performance#python_or_tensor_args and https://www.tensorflow.org/api_docs/python/tf/function for  more details.\n"
          ],
          "name": "stdout"
        },
        {
          "output_type": "stream",
          "text": [
            "\n",
            "\n",
            "\n",
            "\n",
            " 88%|████████▊ | 196/222 [16:38<02:07,  4.90s/it]\u001b[A\u001b[A\u001b[A\u001b[A"
          ],
          "name": "stderr"
        },
        {
          "output_type": "stream",
          "text": [
            "WARNING:tensorflow:11 out of the last 11 calls to <function Model.make_predict_function.<locals>.predict_function at 0x7f9ec8dde840> triggered tf.function retracing. Tracing is expensive and the excessive number of tracings could be due to (1) creating @tf.function repeatedly in a loop, (2) passing tensors with different shapes, (3) passing Python objects instead of tensors. For (1), please define your @tf.function outside of the loop. For (2), @tf.function has experimental_relax_shapes=True option that relaxes argument shapes that can avoid unnecessary retracing. For (3), please refer to https://www.tensorflow.org/tutorials/customization/performance#python_or_tensor_args and https://www.tensorflow.org/api_docs/python/tf/function for  more details.\n"
          ],
          "name": "stdout"
        },
        {
          "output_type": "stream",
          "text": [
            "\n",
            "\n",
            "\n",
            "\n",
            " 89%|████████▊ | 197/222 [16:42<02:00,  4.81s/it]\u001b[A\u001b[A\u001b[A\u001b[A"
          ],
          "name": "stderr"
        },
        {
          "output_type": "stream",
          "text": [
            "WARNING:tensorflow:11 out of the last 11 calls to <function Model.make_predict_function.<locals>.predict_function at 0x7f9ecd4c3400> triggered tf.function retracing. Tracing is expensive and the excessive number of tracings could be due to (1) creating @tf.function repeatedly in a loop, (2) passing tensors with different shapes, (3) passing Python objects instead of tensors. For (1), please define your @tf.function outside of the loop. For (2), @tf.function has experimental_relax_shapes=True option that relaxes argument shapes that can avoid unnecessary retracing. For (3), please refer to https://www.tensorflow.org/tutorials/customization/performance#python_or_tensor_args and https://www.tensorflow.org/api_docs/python/tf/function for  more details.\n"
          ],
          "name": "stdout"
        },
        {
          "output_type": "stream",
          "text": [
            "\n",
            "\n",
            "\n",
            "\n",
            " 89%|████████▉ | 198/222 [16:47<01:56,  4.84s/it]\u001b[A\u001b[A\u001b[A\u001b[A"
          ],
          "name": "stderr"
        },
        {
          "output_type": "stream",
          "text": [
            "WARNING:tensorflow:11 out of the last 11 calls to <function Model.make_predict_function.<locals>.predict_function at 0x7f9ec6724730> triggered tf.function retracing. Tracing is expensive and the excessive number of tracings could be due to (1) creating @tf.function repeatedly in a loop, (2) passing tensors with different shapes, (3) passing Python objects instead of tensors. For (1), please define your @tf.function outside of the loop. For (2), @tf.function has experimental_relax_shapes=True option that relaxes argument shapes that can avoid unnecessary retracing. For (3), please refer to https://www.tensorflow.org/tutorials/customization/performance#python_or_tensor_args and https://www.tensorflow.org/api_docs/python/tf/function for  more details.\n"
          ],
          "name": "stdout"
        },
        {
          "output_type": "stream",
          "text": [
            "\n",
            "\n",
            "\n",
            "\n",
            " 90%|████████▉ | 199/222 [16:52<01:50,  4.82s/it]\u001b[A\u001b[A\u001b[A\u001b[A"
          ],
          "name": "stderr"
        },
        {
          "output_type": "stream",
          "text": [
            "WARNING:tensorflow:11 out of the last 11 calls to <function Model.make_predict_function.<locals>.predict_function at 0x7f9ec5711400> triggered tf.function retracing. Tracing is expensive and the excessive number of tracings could be due to (1) creating @tf.function repeatedly in a loop, (2) passing tensors with different shapes, (3) passing Python objects instead of tensors. For (1), please define your @tf.function outside of the loop. For (2), @tf.function has experimental_relax_shapes=True option that relaxes argument shapes that can avoid unnecessary retracing. For (3), please refer to https://www.tensorflow.org/tutorials/customization/performance#python_or_tensor_args and https://www.tensorflow.org/api_docs/python/tf/function for  more details.\n"
          ],
          "name": "stdout"
        },
        {
          "output_type": "stream",
          "text": [
            "\n",
            "\n",
            "\n",
            "\n",
            " 90%|█████████ | 200/222 [16:56<01:44,  4.74s/it]\u001b[A\u001b[A\u001b[A\u001b[A"
          ],
          "name": "stderr"
        },
        {
          "output_type": "stream",
          "text": [
            "WARNING:tensorflow:11 out of the last 11 calls to <function Model.make_predict_function.<locals>.predict_function at 0x7f9ec91341e0> triggered tf.function retracing. Tracing is expensive and the excessive number of tracings could be due to (1) creating @tf.function repeatedly in a loop, (2) passing tensors with different shapes, (3) passing Python objects instead of tensors. For (1), please define your @tf.function outside of the loop. For (2), @tf.function has experimental_relax_shapes=True option that relaxes argument shapes that can avoid unnecessary retracing. For (3), please refer to https://www.tensorflow.org/tutorials/customization/performance#python_or_tensor_args and https://www.tensorflow.org/api_docs/python/tf/function for  more details.\n"
          ],
          "name": "stdout"
        },
        {
          "output_type": "stream",
          "text": [
            "\n",
            "\n",
            "\n",
            "\n",
            " 91%|█████████ | 201/222 [17:03<01:49,  5.22s/it]\u001b[A\u001b[A\u001b[A\u001b[A"
          ],
          "name": "stderr"
        },
        {
          "output_type": "stream",
          "text": [
            "WARNING:tensorflow:11 out of the last 11 calls to <function Model.make_predict_function.<locals>.predict_function at 0x7f9ecd7cf048> triggered tf.function retracing. Tracing is expensive and the excessive number of tracings could be due to (1) creating @tf.function repeatedly in a loop, (2) passing tensors with different shapes, (3) passing Python objects instead of tensors. For (1), please define your @tf.function outside of the loop. For (2), @tf.function has experimental_relax_shapes=True option that relaxes argument shapes that can avoid unnecessary retracing. For (3), please refer to https://www.tensorflow.org/tutorials/customization/performance#python_or_tensor_args and https://www.tensorflow.org/api_docs/python/tf/function for  more details.\n"
          ],
          "name": "stdout"
        },
        {
          "output_type": "stream",
          "text": [
            "\n",
            "\n",
            "\n",
            "\n",
            " 91%|█████████ | 202/222 [17:08<01:42,  5.11s/it]\u001b[A\u001b[A\u001b[A\u001b[A"
          ],
          "name": "stderr"
        },
        {
          "output_type": "stream",
          "text": [
            "WARNING:tensorflow:11 out of the last 11 calls to <function Model.make_predict_function.<locals>.predict_function at 0x7f9ecd7e0620> triggered tf.function retracing. Tracing is expensive and the excessive number of tracings could be due to (1) creating @tf.function repeatedly in a loop, (2) passing tensors with different shapes, (3) passing Python objects instead of tensors. For (1), please define your @tf.function outside of the loop. For (2), @tf.function has experimental_relax_shapes=True option that relaxes argument shapes that can avoid unnecessary retracing. For (3), please refer to https://www.tensorflow.org/tutorials/customization/performance#python_or_tensor_args and https://www.tensorflow.org/api_docs/python/tf/function for  more details.\n"
          ],
          "name": "stdout"
        },
        {
          "output_type": "stream",
          "text": [
            "\n",
            "\n",
            "\n",
            "\n",
            " 91%|█████████▏| 203/222 [17:12<01:35,  5.01s/it]\u001b[A\u001b[A\u001b[A\u001b[A"
          ],
          "name": "stderr"
        },
        {
          "output_type": "stream",
          "text": [
            "WARNING:tensorflow:11 out of the last 11 calls to <function Model.make_predict_function.<locals>.predict_function at 0x7f9ecc0f0488> triggered tf.function retracing. Tracing is expensive and the excessive number of tracings could be due to (1) creating @tf.function repeatedly in a loop, (2) passing tensors with different shapes, (3) passing Python objects instead of tensors. For (1), please define your @tf.function outside of the loop. For (2), @tf.function has experimental_relax_shapes=True option that relaxes argument shapes that can avoid unnecessary retracing. For (3), please refer to https://www.tensorflow.org/tutorials/customization/performance#python_or_tensor_args and https://www.tensorflow.org/api_docs/python/tf/function for  more details.\n"
          ],
          "name": "stdout"
        },
        {
          "output_type": "stream",
          "text": [
            "\n",
            "\n",
            "\n",
            "\n",
            " 92%|█████████▏| 204/222 [17:17<01:28,  4.90s/it]\u001b[A\u001b[A\u001b[A\u001b[A"
          ],
          "name": "stderr"
        },
        {
          "output_type": "stream",
          "text": [
            "WARNING:tensorflow:11 out of the last 11 calls to <function Model.make_predict_function.<locals>.predict_function at 0x7f9ec8503598> triggered tf.function retracing. Tracing is expensive and the excessive number of tracings could be due to (1) creating @tf.function repeatedly in a loop, (2) passing tensors with different shapes, (3) passing Python objects instead of tensors. For (1), please define your @tf.function outside of the loop. For (2), @tf.function has experimental_relax_shapes=True option that relaxes argument shapes that can avoid unnecessary retracing. For (3), please refer to https://www.tensorflow.org/tutorials/customization/performance#python_or_tensor_args and https://www.tensorflow.org/api_docs/python/tf/function for  more details.\n"
          ],
          "name": "stdout"
        },
        {
          "output_type": "stream",
          "text": [
            "\n",
            "\n",
            "\n",
            "\n",
            " 92%|█████████▏| 205/222 [17:22<01:22,  4.85s/it]\u001b[A\u001b[A\u001b[A\u001b[A"
          ],
          "name": "stderr"
        },
        {
          "output_type": "stream",
          "text": [
            "WARNING:tensorflow:11 out of the last 11 calls to <function Model.make_predict_function.<locals>.predict_function at 0x7f9ec96d0840> triggered tf.function retracing. Tracing is expensive and the excessive number of tracings could be due to (1) creating @tf.function repeatedly in a loop, (2) passing tensors with different shapes, (3) passing Python objects instead of tensors. For (1), please define your @tf.function outside of the loop. For (2), @tf.function has experimental_relax_shapes=True option that relaxes argument shapes that can avoid unnecessary retracing. For (3), please refer to https://www.tensorflow.org/tutorials/customization/performance#python_or_tensor_args and https://www.tensorflow.org/api_docs/python/tf/function for  more details.\n"
          ],
          "name": "stdout"
        },
        {
          "output_type": "stream",
          "text": [
            "\n",
            "\n",
            "\n",
            "\n",
            " 93%|█████████▎| 206/222 [17:26<01:16,  4.76s/it]\u001b[A\u001b[A\u001b[A\u001b[A"
          ],
          "name": "stderr"
        },
        {
          "output_type": "stream",
          "text": [
            "WARNING:tensorflow:11 out of the last 11 calls to <function Model.make_predict_function.<locals>.predict_function at 0x7f9eca7cb400> triggered tf.function retracing. Tracing is expensive and the excessive number of tracings could be due to (1) creating @tf.function repeatedly in a loop, (2) passing tensors with different shapes, (3) passing Python objects instead of tensors. For (1), please define your @tf.function outside of the loop. For (2), @tf.function has experimental_relax_shapes=True option that relaxes argument shapes that can avoid unnecessary retracing. For (3), please refer to https://www.tensorflow.org/tutorials/customization/performance#python_or_tensor_args and https://www.tensorflow.org/api_docs/python/tf/function for  more details.\n"
          ],
          "name": "stdout"
        },
        {
          "output_type": "stream",
          "text": [
            "\n",
            "\n",
            "\n",
            "\n",
            " 93%|█████████▎| 207/222 [17:31<01:10,  4.68s/it]\u001b[A\u001b[A\u001b[A\u001b[A"
          ],
          "name": "stderr"
        },
        {
          "output_type": "stream",
          "text": [
            "WARNING:tensorflow:11 out of the last 11 calls to <function Model.make_predict_function.<locals>.predict_function at 0x7f9ec9a14488> triggered tf.function retracing. Tracing is expensive and the excessive number of tracings could be due to (1) creating @tf.function repeatedly in a loop, (2) passing tensors with different shapes, (3) passing Python objects instead of tensors. For (1), please define your @tf.function outside of the loop. For (2), @tf.function has experimental_relax_shapes=True option that relaxes argument shapes that can avoid unnecessary retracing. For (3), please refer to https://www.tensorflow.org/tutorials/customization/performance#python_or_tensor_args and https://www.tensorflow.org/api_docs/python/tf/function for  more details.\n"
          ],
          "name": "stdout"
        },
        {
          "output_type": "stream",
          "text": [
            "\n",
            "\n",
            "\n",
            "\n",
            " 94%|█████████▎| 208/222 [17:35<01:05,  4.68s/it]\u001b[A\u001b[A\u001b[A\u001b[A"
          ],
          "name": "stderr"
        },
        {
          "output_type": "stream",
          "text": [
            "WARNING:tensorflow:11 out of the last 11 calls to <function Model.make_predict_function.<locals>.predict_function at 0x7f9ec944b400> triggered tf.function retracing. Tracing is expensive and the excessive number of tracings could be due to (1) creating @tf.function repeatedly in a loop, (2) passing tensors with different shapes, (3) passing Python objects instead of tensors. For (1), please define your @tf.function outside of the loop. For (2), @tf.function has experimental_relax_shapes=True option that relaxes argument shapes that can avoid unnecessary retracing. For (3), please refer to https://www.tensorflow.org/tutorials/customization/performance#python_or_tensor_args and https://www.tensorflow.org/api_docs/python/tf/function for  more details.\n"
          ],
          "name": "stdout"
        },
        {
          "output_type": "stream",
          "text": [
            "\n",
            "\n",
            "\n",
            "\n",
            " 94%|█████████▍| 209/222 [17:41<01:05,  5.05s/it]\u001b[A\u001b[A\u001b[A\u001b[A"
          ],
          "name": "stderr"
        },
        {
          "output_type": "stream",
          "text": [
            "WARNING:tensorflow:11 out of the last 11 calls to <function Model.make_predict_function.<locals>.predict_function at 0x7f9ec56008c8> triggered tf.function retracing. Tracing is expensive and the excessive number of tracings could be due to (1) creating @tf.function repeatedly in a loop, (2) passing tensors with different shapes, (3) passing Python objects instead of tensors. For (1), please define your @tf.function outside of the loop. For (2), @tf.function has experimental_relax_shapes=True option that relaxes argument shapes that can avoid unnecessary retracing. For (3), please refer to https://www.tensorflow.org/tutorials/customization/performance#python_or_tensor_args and https://www.tensorflow.org/api_docs/python/tf/function for  more details.\n"
          ],
          "name": "stdout"
        },
        {
          "output_type": "stream",
          "text": [
            "\n",
            "\n",
            "\n",
            "\n",
            " 95%|█████████▍| 210/222 [17:46<01:00,  5.03s/it]\u001b[A\u001b[A\u001b[A\u001b[A"
          ],
          "name": "stderr"
        },
        {
          "output_type": "stream",
          "text": [
            "WARNING:tensorflow:11 out of the last 11 calls to <function Model.make_predict_function.<locals>.predict_function at 0x7f9ecb17bae8> triggered tf.function retracing. Tracing is expensive and the excessive number of tracings could be due to (1) creating @tf.function repeatedly in a loop, (2) passing tensors with different shapes, (3) passing Python objects instead of tensors. For (1), please define your @tf.function outside of the loop. For (2), @tf.function has experimental_relax_shapes=True option that relaxes argument shapes that can avoid unnecessary retracing. For (3), please refer to https://www.tensorflow.org/tutorials/customization/performance#python_or_tensor_args and https://www.tensorflow.org/api_docs/python/tf/function for  more details.\n"
          ],
          "name": "stdout"
        },
        {
          "output_type": "stream",
          "text": [
            "\n",
            "\n",
            "\n",
            "\n",
            " 95%|█████████▌| 211/222 [17:51<00:54,  4.97s/it]\u001b[A\u001b[A\u001b[A\u001b[A"
          ],
          "name": "stderr"
        },
        {
          "output_type": "stream",
          "text": [
            "WARNING:tensorflow:11 out of the last 11 calls to <function Model.make_predict_function.<locals>.predict_function at 0x7f9ec7fab488> triggered tf.function retracing. Tracing is expensive and the excessive number of tracings could be due to (1) creating @tf.function repeatedly in a loop, (2) passing tensors with different shapes, (3) passing Python objects instead of tensors. For (1), please define your @tf.function outside of the loop. For (2), @tf.function has experimental_relax_shapes=True option that relaxes argument shapes that can avoid unnecessary retracing. For (3), please refer to https://www.tensorflow.org/tutorials/customization/performance#python_or_tensor_args and https://www.tensorflow.org/api_docs/python/tf/function for  more details.\n"
          ],
          "name": "stdout"
        },
        {
          "output_type": "stream",
          "text": [
            "\n",
            "\n",
            "\n",
            "\n",
            " 95%|█████████▌| 212/222 [17:56<00:48,  4.86s/it]\u001b[A\u001b[A\u001b[A\u001b[A"
          ],
          "name": "stderr"
        },
        {
          "output_type": "stream",
          "text": [
            "WARNING:tensorflow:11 out of the last 11 calls to <function Model.make_predict_function.<locals>.predict_function at 0x7f9ec7f8d730> triggered tf.function retracing. Tracing is expensive and the excessive number of tracings could be due to (1) creating @tf.function repeatedly in a loop, (2) passing tensors with different shapes, (3) passing Python objects instead of tensors. For (1), please define your @tf.function outside of the loop. For (2), @tf.function has experimental_relax_shapes=True option that relaxes argument shapes that can avoid unnecessary retracing. For (3), please refer to https://www.tensorflow.org/tutorials/customization/performance#python_or_tensor_args and https://www.tensorflow.org/api_docs/python/tf/function for  more details.\n"
          ],
          "name": "stdout"
        },
        {
          "output_type": "stream",
          "text": [
            "\n",
            "\n",
            "\n",
            "\n",
            " 96%|█████████▌| 213/222 [18:01<00:43,  4.88s/it]\u001b[A\u001b[A\u001b[A\u001b[A"
          ],
          "name": "stderr"
        },
        {
          "output_type": "stream",
          "text": [
            "WARNING:tensorflow:11 out of the last 11 calls to <function Model.make_predict_function.<locals>.predict_function at 0x7f9ec837b840> triggered tf.function retracing. Tracing is expensive and the excessive number of tracings could be due to (1) creating @tf.function repeatedly in a loop, (2) passing tensors with different shapes, (3) passing Python objects instead of tensors. For (1), please define your @tf.function outside of the loop. For (2), @tf.function has experimental_relax_shapes=True option that relaxes argument shapes that can avoid unnecessary retracing. For (3), please refer to https://www.tensorflow.org/tutorials/customization/performance#python_or_tensor_args and https://www.tensorflow.org/api_docs/python/tf/function for  more details.\n"
          ],
          "name": "stdout"
        },
        {
          "output_type": "stream",
          "text": [
            "\n",
            "\n",
            "\n",
            "\n",
            " 96%|█████████▋| 214/222 [18:05<00:38,  4.84s/it]\u001b[A\u001b[A\u001b[A\u001b[A"
          ],
          "name": "stderr"
        },
        {
          "output_type": "stream",
          "text": [
            "WARNING:tensorflow:11 out of the last 11 calls to <function Model.make_predict_function.<locals>.predict_function at 0x7f9ec82b7400> triggered tf.function retracing. Tracing is expensive and the excessive number of tracings could be due to (1) creating @tf.function repeatedly in a loop, (2) passing tensors with different shapes, (3) passing Python objects instead of tensors. For (1), please define your @tf.function outside of the loop. For (2), @tf.function has experimental_relax_shapes=True option that relaxes argument shapes that can avoid unnecessary retracing. For (3), please refer to https://www.tensorflow.org/tutorials/customization/performance#python_or_tensor_args and https://www.tensorflow.org/api_docs/python/tf/function for  more details.\n"
          ],
          "name": "stdout"
        },
        {
          "output_type": "stream",
          "text": [
            "\n",
            "\n",
            "\n",
            "\n",
            " 97%|█████████▋| 215/222 [18:10<00:33,  4.79s/it]\u001b[A\u001b[A\u001b[A\u001b[A"
          ],
          "name": "stderr"
        },
        {
          "output_type": "stream",
          "text": [
            "WARNING:tensorflow:11 out of the last 11 calls to <function Model.make_predict_function.<locals>.predict_function at 0x7f9ecd332840> triggered tf.function retracing. Tracing is expensive and the excessive number of tracings could be due to (1) creating @tf.function repeatedly in a loop, (2) passing tensors with different shapes, (3) passing Python objects instead of tensors. For (1), please define your @tf.function outside of the loop. For (2), @tf.function has experimental_relax_shapes=True option that relaxes argument shapes that can avoid unnecessary retracing. For (3), please refer to https://www.tensorflow.org/tutorials/customization/performance#python_or_tensor_args and https://www.tensorflow.org/api_docs/python/tf/function for  more details.\n"
          ],
          "name": "stdout"
        },
        {
          "output_type": "stream",
          "text": [
            "\n",
            "\n",
            "\n",
            "\n",
            " 97%|█████████▋| 216/222 [18:15<00:29,  4.90s/it]\u001b[A\u001b[A\u001b[A\u001b[A"
          ],
          "name": "stderr"
        },
        {
          "output_type": "stream",
          "text": [
            "WARNING:tensorflow:11 out of the last 11 calls to <function Model.make_predict_function.<locals>.predict_function at 0x7f9ec6503510> triggered tf.function retracing. Tracing is expensive and the excessive number of tracings could be due to (1) creating @tf.function repeatedly in a loop, (2) passing tensors with different shapes, (3) passing Python objects instead of tensors. For (1), please define your @tf.function outside of the loop. For (2), @tf.function has experimental_relax_shapes=True option that relaxes argument shapes that can avoid unnecessary retracing. For (3), please refer to https://www.tensorflow.org/tutorials/customization/performance#python_or_tensor_args and https://www.tensorflow.org/api_docs/python/tf/function for  more details.\n"
          ],
          "name": "stdout"
        },
        {
          "output_type": "stream",
          "text": [
            "\n",
            "\n",
            "\n",
            "\n",
            " 98%|█████████▊| 217/222 [18:20<00:24,  4.86s/it]\u001b[A\u001b[A\u001b[A\u001b[A"
          ],
          "name": "stderr"
        },
        {
          "output_type": "stream",
          "text": [
            "WARNING:tensorflow:11 out of the last 11 calls to <function Model.make_predict_function.<locals>.predict_function at 0x7f9ec96371e0> triggered tf.function retracing. Tracing is expensive and the excessive number of tracings could be due to (1) creating @tf.function repeatedly in a loop, (2) passing tensors with different shapes, (3) passing Python objects instead of tensors. For (1), please define your @tf.function outside of the loop. For (2), @tf.function has experimental_relax_shapes=True option that relaxes argument shapes that can avoid unnecessary retracing. For (3), please refer to https://www.tensorflow.org/tutorials/customization/performance#python_or_tensor_args and https://www.tensorflow.org/api_docs/python/tf/function for  more details.\n"
          ],
          "name": "stdout"
        },
        {
          "output_type": "stream",
          "text": [
            "\n",
            "\n",
            "\n",
            "\n",
            " 98%|█████████▊| 218/222 [18:26<00:20,  5.21s/it]\u001b[A\u001b[A\u001b[A\u001b[A"
          ],
          "name": "stderr"
        },
        {
          "output_type": "stream",
          "text": [
            "WARNING:tensorflow:11 out of the last 11 calls to <function Model.make_predict_function.<locals>.predict_function at 0x7f9ecd7e0598> triggered tf.function retracing. Tracing is expensive and the excessive number of tracings could be due to (1) creating @tf.function repeatedly in a loop, (2) passing tensors with different shapes, (3) passing Python objects instead of tensors. For (1), please define your @tf.function outside of the loop. For (2), @tf.function has experimental_relax_shapes=True option that relaxes argument shapes that can avoid unnecessary retracing. For (3), please refer to https://www.tensorflow.org/tutorials/customization/performance#python_or_tensor_args and https://www.tensorflow.org/api_docs/python/tf/function for  more details.\n"
          ],
          "name": "stdout"
        },
        {
          "output_type": "stream",
          "text": [
            "\n",
            "\n",
            "\n",
            "\n",
            " 99%|█████████▊| 219/222 [18:31<00:15,  5.13s/it]\u001b[A\u001b[A\u001b[A\u001b[A"
          ],
          "name": "stderr"
        },
        {
          "output_type": "stream",
          "text": [
            "WARNING:tensorflow:11 out of the last 11 calls to <function Model.make_predict_function.<locals>.predict_function at 0x7f9eca940e18> triggered tf.function retracing. Tracing is expensive and the excessive number of tracings could be due to (1) creating @tf.function repeatedly in a loop, (2) passing tensors with different shapes, (3) passing Python objects instead of tensors. For (1), please define your @tf.function outside of the loop. For (2), @tf.function has experimental_relax_shapes=True option that relaxes argument shapes that can avoid unnecessary retracing. For (3), please refer to https://www.tensorflow.org/tutorials/customization/performance#python_or_tensor_args and https://www.tensorflow.org/api_docs/python/tf/function for  more details.\n"
          ],
          "name": "stdout"
        },
        {
          "output_type": "stream",
          "text": [
            "\n",
            "\n",
            "\n",
            "\n",
            " 99%|█████████▉| 220/222 [18:36<00:10,  5.02s/it]\u001b[A\u001b[A\u001b[A\u001b[A"
          ],
          "name": "stderr"
        },
        {
          "output_type": "stream",
          "text": [
            "WARNING:tensorflow:11 out of the last 11 calls to <function Model.make_predict_function.<locals>.predict_function at 0x7f9ec92e3488> triggered tf.function retracing. Tracing is expensive and the excessive number of tracings could be due to (1) creating @tf.function repeatedly in a loop, (2) passing tensors with different shapes, (3) passing Python objects instead of tensors. For (1), please define your @tf.function outside of the loop. For (2), @tf.function has experimental_relax_shapes=True option that relaxes argument shapes that can avoid unnecessary retracing. For (3), please refer to https://www.tensorflow.org/tutorials/customization/performance#python_or_tensor_args and https://www.tensorflow.org/api_docs/python/tf/function for  more details.\n"
          ],
          "name": "stdout"
        },
        {
          "output_type": "stream",
          "text": [
            "\n",
            "\n",
            "\n",
            "\n",
            "100%|█████████▉| 221/222 [18:41<00:04,  4.93s/it]\u001b[A\u001b[A\u001b[A\u001b[A"
          ],
          "name": "stderr"
        },
        {
          "output_type": "stream",
          "text": [
            "WARNING:tensorflow:11 out of the last 11 calls to <function Model.make_predict_function.<locals>.predict_function at 0x7f9ec8290400> triggered tf.function retracing. Tracing is expensive and the excessive number of tracings could be due to (1) creating @tf.function repeatedly in a loop, (2) passing tensors with different shapes, (3) passing Python objects instead of tensors. For (1), please define your @tf.function outside of the loop. For (2), @tf.function has experimental_relax_shapes=True option that relaxes argument shapes that can avoid unnecessary retracing. For (3), please refer to https://www.tensorflow.org/tutorials/customization/performance#python_or_tensor_args and https://www.tensorflow.org/api_docs/python/tf/function for  more details.\n"
          ],
          "name": "stdout"
        },
        {
          "output_type": "stream",
          "text": [
            "\n",
            "\n",
            "\n",
            "\n",
            "100%|██████████| 222/222 [18:44<00:00,  5.07s/it]\n"
          ],
          "name": "stderr"
        }
      ]
    },
    {
      "cell_type": "code",
      "metadata": {
        "colab": {
          "base_uri": "https://localhost:8080/"
        },
        "id": "cL8J-h2EQNov",
        "outputId": "3022b309-b0fc-4b46-c027-59fb79a8d7dd"
      },
      "source": [
        "print(finaltrainingset.shape) #(3543, 1920)"
      ],
      "execution_count": null,
      "outputs": [
        {
          "output_type": "stream",
          "text": [
            "\n"
          ],
          "name": "stdout"
        }
      ]
    },
    {
      "cell_type": "code",
      "metadata": {
        "colab": {
          "base_uri": "https://localhost:8080/"
        },
        "id": "JzNRNVqwQK60",
        "outputId": "4e538712-94e2-4f62-9177-c2734f9f1613"
      },
      "source": [
        "from sklearn.svm import OneClassSVM\n",
        "# define outlier detection model\n",
        "modellinear = OneClassSVM(kernel=\"linear\", verbose=True)\n",
        "\n",
        "# fit \n",
        "modellinear.fit(finaltrainingset)"
      ],
      "execution_count": null,
      "outputs": [
        {
          "output_type": "stream",
          "text": [
            "[LibSVM]"
          ],
          "name": "stdout"
        },
        {
          "output_type": "execute_result",
          "data": {
            "text/plain": [
              "OneClassSVM(cache_size=200, coef0=0.0, degree=3, gamma='scale', kernel='linear',\n",
              "            max_iter=-1, nu=0.5, shrinking=True, tol=0.001, verbose=True)"
            ]
          },
          "metadata": {
            "tags": []
          },
          "execution_count": 73
        }
      ]
    },
    {
      "cell_type": "code",
      "metadata": {
        "colab": {
          "base_uri": "https://localhost:8080/"
        },
        "id": "glhZPpA8FpvQ",
        "outputId": "ae2a0d8f-da2b-42b0-ee68-6323880c9c98"
      },
      "source": [
        "modelpoly = OneClassSVM(kernel=\"poly\", verbose=True)\n",
        "\n",
        "# fit \n",
        "modelpoly.fit(finaltrainingset)"
      ],
      "execution_count": null,
      "outputs": [
        {
          "output_type": "stream",
          "text": [
            "[LibSVM]"
          ],
          "name": "stdout"
        },
        {
          "output_type": "execute_result",
          "data": {
            "text/plain": [
              "OneClassSVM(cache_size=200, coef0=0.0, degree=3, gamma='scale', kernel='poly',\n",
              "            max_iter=-1, nu=0.5, shrinking=True, tol=0.001, verbose=True)"
            ]
          },
          "metadata": {
            "tags": []
          },
          "execution_count": 72
        }
      ]
    },
    {
      "cell_type": "code",
      "metadata": {
        "colab": {
          "base_uri": "https://localhost:8080/"
        },
        "id": "yv7l1VGiFuuW",
        "outputId": "808bac6b-cabb-43ad-f214-39734e6a2874"
      },
      "source": [
        "modelrbf = OneClassSVM(kernel=\"rbf\", verbose=True)\n",
        "\n",
        "# fit \n",
        "modelrbf.fit(finaltrainingset)"
      ],
      "execution_count": null,
      "outputs": [
        {
          "output_type": "stream",
          "text": [
            "[LibSVM]"
          ],
          "name": "stdout"
        },
        {
          "output_type": "execute_result",
          "data": {
            "text/plain": [
              "OneClassSVM(cache_size=200, coef0=0.0, degree=3, gamma='scale', kernel='rbf',\n",
              "            max_iter=-1, nu=0.5, shrinking=True, tol=0.001, verbose=True)"
            ]
          },
          "metadata": {
            "tags": []
          },
          "execution_count": 75
        }
      ]
    },
    {
      "cell_type": "code",
      "metadata": {
        "colab": {
          "base_uri": "https://localhost:8080/"
        },
        "id": "e7xVuzUzF3YQ",
        "outputId": "602f75d6-b18e-45b2-ffe2-1b0553e4abc9"
      },
      "source": [
        "modelsigmoid = OneClassSVM(kernel=\"sigmoid\", verbose=True)\n",
        "\n",
        "# fit \n",
        "modelsigmoid.fit(finaltrainingset)"
      ],
      "execution_count": null,
      "outputs": [
        {
          "output_type": "stream",
          "text": [
            "[LibSVM]"
          ],
          "name": "stdout"
        },
        {
          "output_type": "execute_result",
          "data": {
            "text/plain": [
              "OneClassSVM(cache_size=200, coef0=0.0, degree=3, gamma='scale',\n",
              "            kernel='sigmoid', max_iter=-1, nu=0.5, shrinking=True, tol=0.001,\n",
              "            verbose=True)"
            ]
          },
          "metadata": {
            "tags": []
          },
          "execution_count": 76
        }
      ]
    },
    {
      "cell_type": "code",
      "metadata": {
        "id": "bWrCZeCQGUo5"
      },
      "source": [
        "import pickle\n",
        "\n",
        "kn = [\"linear\",\"poly\",\"rbf\",\"sigmoid\"]\n",
        "models = [modellinear,modelpoly,modelrbf,modelsigmoid]\n",
        "\n",
        "# save model\n",
        "for i in range(len(kn)):\n",
        "  save_filename = os.path.join(root_path,\"OneClassSVM Models/basemodel_\"+kn[i])\n",
        "  # save the model to disk\n",
        "  pickle.dump(models[i], open(save_filename, 'wb'))"
      ],
      "execution_count": null,
      "outputs": []
    },
    {
      "cell_type": "markdown",
      "metadata": {
        "id": "l-vp4j4HRH0T"
      },
      "source": [
        "###Test"
      ]
    },
    {
      "cell_type": "code",
      "metadata": {
        "colab": {
          "base_uri": "https://localhost:8080/"
        },
        "id": "qjzmZ90maxGq",
        "outputId": "dcd7202e-fc03-4cd6-8f43-dc9662c13000"
      },
      "source": [
        "# load in the models\n",
        "print(\"loading linear...\")\n",
        "modellinear = pickle.load(open(root_path+\"OneClassSVM Models/basemodel_linear\", 'rb'))\n",
        "print(\"loading poly...\")\n",
        "modelpoly = pickle.load(open(root_path+\"OneClassSVM Models/basemodel_poly\", 'rb'))\n",
        "print(\"loading rbf...\")\n",
        "modelrbf = pickle.load(open(root_path+\"OneClassSVM Models/basemodel_rbf\", 'rb'))\n",
        "print(\"loading sigmoid...\")\n",
        "modelsigmoid = pickle.load(open(root_path+\"OneClassSVM Models/basemodel_sigmoid\", 'rb'))"
      ],
      "execution_count": null,
      "outputs": [
        {
          "output_type": "stream",
          "text": [
            "loading linear...\n",
            "loading poly...\n",
            "loading rbf...\n",
            "loading sigmoid...\n"
          ],
          "name": "stdout"
        }
      ]
    },
    {
      "cell_type": "code",
      "metadata": {
        "colab": {
          "base_uri": "https://localhost:8080/"
        },
        "id": "1TGPWKlwRhWg",
        "outputId": "161f76b1-9145-4bed-f696-6b6b15b2e710"
      },
      "source": [
        "#Xtestvalunknown = data_df_unknown['slice_file_name'].tolist()\n",
        "X_trash, Xtestvalunknown, y_trash, y_unknown = train_test_split(data_df_unknown['slice_file_name'].tolist(), data_df_unknown['classID'].tolist(), test_size=test_size, random_state = 42)\n",
        "\n",
        "#Xtestvalunknown = Xtestvalunknown[:25]\n",
        "#X_test = X_test[:25]\n",
        "\n",
        "testX = Xtestvalunknown + X_test\n",
        "\n",
        "actualtestY = [-1 for i in Xtestvalunknown] + y_test\n",
        "print(\"length of actual test y\", len(actualtestY))\n",
        "\n",
        "actualtestY = [-1 for i in Xtestvalunknown] + y_test\n",
        "print(\"length of actual test y\", len(actualtestY))\n",
        "\n",
        "testY = [-1 for i in Xtestvalunknown]+[1 for i in X_test]\n",
        "testY = np.array(testY)\n",
        "print(testY.shape)"
      ],
      "execution_count": null,
      "outputs": [
        {
          "output_type": "stream",
          "text": [
            "length of actual test y 1747\n",
            "length of actual test y 1747\n",
            "(1747,)\n"
          ],
          "name": "stdout"
        }
      ]
    },
    {
      "cell_type": "code",
      "metadata": {
        "colab": {
          "base_uri": "https://localhost:8080/"
        },
        "id": "KOce-taJRHK1",
        "outputId": "7b5e801d-751d-4ae7-de05-153e067968d3"
      },
      "source": [
        "from keras import Model\n",
        "from tqdm import tqdm\n",
        "\n",
        "test_loader = SpecLoaderWnn(testX, batch_size, spectrograms_path)\n",
        "\n",
        "finaltestset = None\n",
        "for ind in tqdm(range(len(test_loader))):\n",
        "  model_output = model.get_layer(\"global_average_pooling2d_1\").output\n",
        "  m = Model(inputs=model.input, outputs=model_output)\n",
        "  finaloutput = m.predict(test_loader.getitem(ind))\n",
        "  if ind==0:\n",
        "    print(finaloutput.shape)\n",
        "  if type(finaltestset) == type(None):\n",
        "    finaltestset = finaloutput\n",
        "  else:\n",
        "    finaltestset=np.concatenate((finaltestset,finaloutput),axis=0)"
      ],
      "execution_count": null,
      "outputs": [
        {
          "output_type": "stream",
          "text": [
            "  1%|          | 1/110 [00:05<09:21,  5.16s/it]"
          ],
          "name": "stderr"
        },
        {
          "output_type": "stream",
          "text": [
            "(16, 1920)\n"
          ],
          "name": "stdout"
        },
        {
          "output_type": "stream",
          "text": [
            "  3%|▎         | 3/110 [00:16<09:32,  5.35s/it]"
          ],
          "name": "stderr"
        },
        {
          "output_type": "stream",
          "text": [
            "WARNING:tensorflow:5 out of the last 229 calls to <function Model.make_predict_function.<locals>.predict_function at 0x7f575c202488> triggered tf.function retracing. Tracing is expensive and the excessive number of tracings could be due to (1) creating @tf.function repeatedly in a loop, (2) passing tensors with different shapes, (3) passing Python objects instead of tensors. For (1), please define your @tf.function outside of the loop. For (2), @tf.function has experimental_relax_shapes=True option that relaxes argument shapes that can avoid unnecessary retracing. For (3), please refer to https://www.tensorflow.org/tutorials/customization/performance#python_or_tensor_args and https://www.tensorflow.org/api_docs/python/tf/function for  more details.\n"
          ],
          "name": "stdout"
        },
        {
          "output_type": "stream",
          "text": [
            "\r  4%|▎         | 4/110 [00:21<09:16,  5.25s/it]"
          ],
          "name": "stderr"
        },
        {
          "output_type": "stream",
          "text": [
            "WARNING:tensorflow:6 out of the last 230 calls to <function Model.make_predict_function.<locals>.predict_function at 0x7f576198c8c8> triggered tf.function retracing. Tracing is expensive and the excessive number of tracings could be due to (1) creating @tf.function repeatedly in a loop, (2) passing tensors with different shapes, (3) passing Python objects instead of tensors. For (1), please define your @tf.function outside of the loop. For (2), @tf.function has experimental_relax_shapes=True option that relaxes argument shapes that can avoid unnecessary retracing. For (3), please refer to https://www.tensorflow.org/tutorials/customization/performance#python_or_tensor_args and https://www.tensorflow.org/api_docs/python/tf/function for  more details.\n"
          ],
          "name": "stdout"
        },
        {
          "output_type": "stream",
          "text": [
            "\r  5%|▍         | 5/110 [00:25<09:01,  5.15s/it]"
          ],
          "name": "stderr"
        },
        {
          "output_type": "stream",
          "text": [
            "WARNING:tensorflow:7 out of the last 231 calls to <function Model.make_predict_function.<locals>.predict_function at 0x7f575a7dd7b8> triggered tf.function retracing. Tracing is expensive and the excessive number of tracings could be due to (1) creating @tf.function repeatedly in a loop, (2) passing tensors with different shapes, (3) passing Python objects instead of tensors. For (1), please define your @tf.function outside of the loop. For (2), @tf.function has experimental_relax_shapes=True option that relaxes argument shapes that can avoid unnecessary retracing. For (3), please refer to https://www.tensorflow.org/tutorials/customization/performance#python_or_tensor_args and https://www.tensorflow.org/api_docs/python/tf/function for  more details.\n"
          ],
          "name": "stdout"
        },
        {
          "output_type": "stream",
          "text": [
            "\r  5%|▌         | 6/110 [00:31<08:51,  5.11s/it]"
          ],
          "name": "stderr"
        },
        {
          "output_type": "stream",
          "text": [
            "WARNING:tensorflow:8 out of the last 232 calls to <function Model.make_predict_function.<locals>.predict_function at 0x7f575a769840> triggered tf.function retracing. Tracing is expensive and the excessive number of tracings could be due to (1) creating @tf.function repeatedly in a loop, (2) passing tensors with different shapes, (3) passing Python objects instead of tensors. For (1), please define your @tf.function outside of the loop. For (2), @tf.function has experimental_relax_shapes=True option that relaxes argument shapes that can avoid unnecessary retracing. For (3), please refer to https://www.tensorflow.org/tutorials/customization/performance#python_or_tensor_args and https://www.tensorflow.org/api_docs/python/tf/function for  more details.\n"
          ],
          "name": "stdout"
        },
        {
          "output_type": "stream",
          "text": [
            "\r  6%|▋         | 7/110 [00:35<08:39,  5.05s/it]"
          ],
          "name": "stderr"
        },
        {
          "output_type": "stream",
          "text": [
            "WARNING:tensorflow:9 out of the last 233 calls to <function Model.make_predict_function.<locals>.predict_function at 0x7f5759743378> triggered tf.function retracing. Tracing is expensive and the excessive number of tracings could be due to (1) creating @tf.function repeatedly in a loop, (2) passing tensors with different shapes, (3) passing Python objects instead of tensors. For (1), please define your @tf.function outside of the loop. For (2), @tf.function has experimental_relax_shapes=True option that relaxes argument shapes that can avoid unnecessary retracing. For (3), please refer to https://www.tensorflow.org/tutorials/customization/performance#python_or_tensor_args and https://www.tensorflow.org/api_docs/python/tf/function for  more details.\n"
          ],
          "name": "stdout"
        },
        {
          "output_type": "stream",
          "text": [
            "\r  7%|▋         | 8/110 [00:40<08:30,  5.01s/it]"
          ],
          "name": "stderr"
        },
        {
          "output_type": "stream",
          "text": [
            "WARNING:tensorflow:10 out of the last 234 calls to <function Model.make_predict_function.<locals>.predict_function at 0x7f5757b97400> triggered tf.function retracing. Tracing is expensive and the excessive number of tracings could be due to (1) creating @tf.function repeatedly in a loop, (2) passing tensors with different shapes, (3) passing Python objects instead of tensors. For (1), please define your @tf.function outside of the loop. For (2), @tf.function has experimental_relax_shapes=True option that relaxes argument shapes that can avoid unnecessary retracing. For (3), please refer to https://www.tensorflow.org/tutorials/customization/performance#python_or_tensor_args and https://www.tensorflow.org/api_docs/python/tf/function for  more details.\n"
          ],
          "name": "stdout"
        },
        {
          "output_type": "stream",
          "text": [
            "\r  8%|▊         | 9/110 [00:46<08:53,  5.28s/it]"
          ],
          "name": "stderr"
        },
        {
          "output_type": "stream",
          "text": [
            "WARNING:tensorflow:11 out of the last 235 calls to <function Model.make_predict_function.<locals>.predict_function at 0x7f5760c6c510> triggered tf.function retracing. Tracing is expensive and the excessive number of tracings could be due to (1) creating @tf.function repeatedly in a loop, (2) passing tensors with different shapes, (3) passing Python objects instead of tensors. For (1), please define your @tf.function outside of the loop. For (2), @tf.function has experimental_relax_shapes=True option that relaxes argument shapes that can avoid unnecessary retracing. For (3), please refer to https://www.tensorflow.org/tutorials/customization/performance#python_or_tensor_args and https://www.tensorflow.org/api_docs/python/tf/function for  more details.\n"
          ],
          "name": "stdout"
        },
        {
          "output_type": "stream",
          "text": [
            "\r  9%|▉         | 10/110 [00:51<08:41,  5.22s/it]"
          ],
          "name": "stderr"
        },
        {
          "output_type": "stream",
          "text": [
            "WARNING:tensorflow:11 out of the last 11 calls to <function Model.make_predict_function.<locals>.predict_function at 0x7f57619828c8> triggered tf.function retracing. Tracing is expensive and the excessive number of tracings could be due to (1) creating @tf.function repeatedly in a loop, (2) passing tensors with different shapes, (3) passing Python objects instead of tensors. For (1), please define your @tf.function outside of the loop. For (2), @tf.function has experimental_relax_shapes=True option that relaxes argument shapes that can avoid unnecessary retracing. For (3), please refer to https://www.tensorflow.org/tutorials/customization/performance#python_or_tensor_args and https://www.tensorflow.org/api_docs/python/tf/function for  more details.\n"
          ],
          "name": "stdout"
        },
        {
          "output_type": "stream",
          "text": [
            "\r 10%|█         | 11/110 [00:56<08:30,  5.16s/it]"
          ],
          "name": "stderr"
        },
        {
          "output_type": "stream",
          "text": [
            "WARNING:tensorflow:11 out of the last 11 calls to <function Model.make_predict_function.<locals>.predict_function at 0x7f5757eb17b8> triggered tf.function retracing. Tracing is expensive and the excessive number of tracings could be due to (1) creating @tf.function repeatedly in a loop, (2) passing tensors with different shapes, (3) passing Python objects instead of tensors. For (1), please define your @tf.function outside of the loop. For (2), @tf.function has experimental_relax_shapes=True option that relaxes argument shapes that can avoid unnecessary retracing. For (3), please refer to https://www.tensorflow.org/tutorials/customization/performance#python_or_tensor_args and https://www.tensorflow.org/api_docs/python/tf/function for  more details.\n"
          ],
          "name": "stdout"
        },
        {
          "output_type": "stream",
          "text": [
            "\r 11%|█         | 12/110 [01:01<08:19,  5.10s/it]"
          ],
          "name": "stderr"
        },
        {
          "output_type": "stream",
          "text": [
            "WARNING:tensorflow:11 out of the last 11 calls to <function Model.make_predict_function.<locals>.predict_function at 0x7f5757e839d8> triggered tf.function retracing. Tracing is expensive and the excessive number of tracings could be due to (1) creating @tf.function repeatedly in a loop, (2) passing tensors with different shapes, (3) passing Python objects instead of tensors. For (1), please define your @tf.function outside of the loop. For (2), @tf.function has experimental_relax_shapes=True option that relaxes argument shapes that can avoid unnecessary retracing. For (3), please refer to https://www.tensorflow.org/tutorials/customization/performance#python_or_tensor_args and https://www.tensorflow.org/api_docs/python/tf/function for  more details.\n"
          ],
          "name": "stdout"
        },
        {
          "output_type": "stream",
          "text": [
            "\r 12%|█▏        | 13/110 [01:06<08:08,  5.04s/it]"
          ],
          "name": "stderr"
        },
        {
          "output_type": "stream",
          "text": [
            "WARNING:tensorflow:11 out of the last 11 calls to <function Model.make_predict_function.<locals>.predict_function at 0x7f575c1b1510> triggered tf.function retracing. Tracing is expensive and the excessive number of tracings could be due to (1) creating @tf.function repeatedly in a loop, (2) passing tensors with different shapes, (3) passing Python objects instead of tensors. For (1), please define your @tf.function outside of the loop. For (2), @tf.function has experimental_relax_shapes=True option that relaxes argument shapes that can avoid unnecessary retracing. For (3), please refer to https://www.tensorflow.org/tutorials/customization/performance#python_or_tensor_args and https://www.tensorflow.org/api_docs/python/tf/function for  more details.\n"
          ],
          "name": "stdout"
        },
        {
          "output_type": "stream",
          "text": [
            "\r 13%|█▎        | 14/110 [01:11<08:01,  5.02s/it]"
          ],
          "name": "stderr"
        },
        {
          "output_type": "stream",
          "text": [
            "WARNING:tensorflow:11 out of the last 11 calls to <function Model.make_predict_function.<locals>.predict_function at 0x7f5759ad9400> triggered tf.function retracing. Tracing is expensive and the excessive number of tracings could be due to (1) creating @tf.function repeatedly in a loop, (2) passing tensors with different shapes, (3) passing Python objects instead of tensors. For (1), please define your @tf.function outside of the loop. For (2), @tf.function has experimental_relax_shapes=True option that relaxes argument shapes that can avoid unnecessary retracing. For (3), please refer to https://www.tensorflow.org/tutorials/customization/performance#python_or_tensor_args and https://www.tensorflow.org/api_docs/python/tf/function for  more details.\n"
          ],
          "name": "stdout"
        },
        {
          "output_type": "stream",
          "text": [
            "\r 14%|█▎        | 15/110 [01:17<08:22,  5.29s/it]"
          ],
          "name": "stderr"
        },
        {
          "output_type": "stream",
          "text": [
            "WARNING:tensorflow:11 out of the last 11 calls to <function Model.make_predict_function.<locals>.predict_function at 0x7f576a5e3840> triggered tf.function retracing. Tracing is expensive and the excessive number of tracings could be due to (1) creating @tf.function repeatedly in a loop, (2) passing tensors with different shapes, (3) passing Python objects instead of tensors. For (1), please define your @tf.function outside of the loop. For (2), @tf.function has experimental_relax_shapes=True option that relaxes argument shapes that can avoid unnecessary retracing. For (3), please refer to https://www.tensorflow.org/tutorials/customization/performance#python_or_tensor_args and https://www.tensorflow.org/api_docs/python/tf/function for  more details.\n"
          ],
          "name": "stdout"
        },
        {
          "output_type": "stream",
          "text": [
            "\r 15%|█▍        | 16/110 [01:22<08:20,  5.32s/it]"
          ],
          "name": "stderr"
        },
        {
          "output_type": "stream",
          "text": [
            "WARNING:tensorflow:11 out of the last 11 calls to <function Model.make_predict_function.<locals>.predict_function at 0x7f5756f257b8> triggered tf.function retracing. Tracing is expensive and the excessive number of tracings could be due to (1) creating @tf.function repeatedly in a loop, (2) passing tensors with different shapes, (3) passing Python objects instead of tensors. For (1), please define your @tf.function outside of the loop. For (2), @tf.function has experimental_relax_shapes=True option that relaxes argument shapes that can avoid unnecessary retracing. For (3), please refer to https://www.tensorflow.org/tutorials/customization/performance#python_or_tensor_args and https://www.tensorflow.org/api_docs/python/tf/function for  more details.\n"
          ],
          "name": "stdout"
        },
        {
          "output_type": "stream",
          "text": [
            "\r 15%|█▌        | 17/110 [01:28<08:15,  5.33s/it]"
          ],
          "name": "stderr"
        },
        {
          "output_type": "stream",
          "text": [
            "WARNING:tensorflow:11 out of the last 11 calls to <function Model.make_predict_function.<locals>.predict_function at 0x7f575c6547b8> triggered tf.function retracing. Tracing is expensive and the excessive number of tracings could be due to (1) creating @tf.function repeatedly in a loop, (2) passing tensors with different shapes, (3) passing Python objects instead of tensors. For (1), please define your @tf.function outside of the loop. For (2), @tf.function has experimental_relax_shapes=True option that relaxes argument shapes that can avoid unnecessary retracing. For (3), please refer to https://www.tensorflow.org/tutorials/customization/performance#python_or_tensor_args and https://www.tensorflow.org/api_docs/python/tf/function for  more details.\n"
          ],
          "name": "stdout"
        },
        {
          "output_type": "stream",
          "text": [
            "\r 16%|█▋        | 18/110 [01:33<08:06,  5.29s/it]"
          ],
          "name": "stderr"
        },
        {
          "output_type": "stream",
          "text": [
            "WARNING:tensorflow:11 out of the last 11 calls to <function Model.make_predict_function.<locals>.predict_function at 0x7f575c70b840> triggered tf.function retracing. Tracing is expensive and the excessive number of tracings could be due to (1) creating @tf.function repeatedly in a loop, (2) passing tensors with different shapes, (3) passing Python objects instead of tensors. For (1), please define your @tf.function outside of the loop. For (2), @tf.function has experimental_relax_shapes=True option that relaxes argument shapes that can avoid unnecessary retracing. For (3), please refer to https://www.tensorflow.org/tutorials/customization/performance#python_or_tensor_args and https://www.tensorflow.org/api_docs/python/tf/function for  more details.\n"
          ],
          "name": "stdout"
        },
        {
          "output_type": "stream",
          "text": [
            "\r 17%|█▋        | 19/110 [01:38<07:57,  5.25s/it]"
          ],
          "name": "stderr"
        },
        {
          "output_type": "stream",
          "text": [
            "WARNING:tensorflow:11 out of the last 11 calls to <function Model.make_predict_function.<locals>.predict_function at 0x7f5758bd3488> triggered tf.function retracing. Tracing is expensive and the excessive number of tracings could be due to (1) creating @tf.function repeatedly in a loop, (2) passing tensors with different shapes, (3) passing Python objects instead of tensors. For (1), please define your @tf.function outside of the loop. For (2), @tf.function has experimental_relax_shapes=True option that relaxes argument shapes that can avoid unnecessary retracing. For (3), please refer to https://www.tensorflow.org/tutorials/customization/performance#python_or_tensor_args and https://www.tensorflow.org/api_docs/python/tf/function for  more details.\n"
          ],
          "name": "stdout"
        },
        {
          "output_type": "stream",
          "text": [
            "\r 18%|█▊        | 20/110 [01:43<07:50,  5.23s/it]"
          ],
          "name": "stderr"
        },
        {
          "output_type": "stream",
          "text": [
            "WARNING:tensorflow:11 out of the last 11 calls to <function Model.make_predict_function.<locals>.predict_function at 0x7f5757ed8400> triggered tf.function retracing. Tracing is expensive and the excessive number of tracings could be due to (1) creating @tf.function repeatedly in a loop, (2) passing tensors with different shapes, (3) passing Python objects instead of tensors. For (1), please define your @tf.function outside of the loop. For (2), @tf.function has experimental_relax_shapes=True option that relaxes argument shapes that can avoid unnecessary retracing. For (3), please refer to https://www.tensorflow.org/tutorials/customization/performance#python_or_tensor_args and https://www.tensorflow.org/api_docs/python/tf/function for  more details.\n"
          ],
          "name": "stdout"
        },
        {
          "output_type": "stream",
          "text": [
            "\r 19%|█▉        | 21/110 [01:49<08:07,  5.48s/it]"
          ],
          "name": "stderr"
        },
        {
          "output_type": "stream",
          "text": [
            "WARNING:tensorflow:11 out of the last 11 calls to <function Model.make_predict_function.<locals>.predict_function at 0x7f5761b841e0> triggered tf.function retracing. Tracing is expensive and the excessive number of tracings could be due to (1) creating @tf.function repeatedly in a loop, (2) passing tensors with different shapes, (3) passing Python objects instead of tensors. For (1), please define your @tf.function outside of the loop. For (2), @tf.function has experimental_relax_shapes=True option that relaxes argument shapes that can avoid unnecessary retracing. For (3), please refer to https://www.tensorflow.org/tutorials/customization/performance#python_or_tensor_args and https://www.tensorflow.org/api_docs/python/tf/function for  more details.\n"
          ],
          "name": "stdout"
        },
        {
          "output_type": "stream",
          "text": [
            "\r 20%|██        | 22/110 [01:55<07:52,  5.37s/it]"
          ],
          "name": "stderr"
        },
        {
          "output_type": "stream",
          "text": [
            "WARNING:tensorflow:11 out of the last 11 calls to <function Model.make_predict_function.<locals>.predict_function at 0x7f57599349d8> triggered tf.function retracing. Tracing is expensive and the excessive number of tracings could be due to (1) creating @tf.function repeatedly in a loop, (2) passing tensors with different shapes, (3) passing Python objects instead of tensors. For (1), please define your @tf.function outside of the loop. For (2), @tf.function has experimental_relax_shapes=True option that relaxes argument shapes that can avoid unnecessary retracing. For (3), please refer to https://www.tensorflow.org/tutorials/customization/performance#python_or_tensor_args and https://www.tensorflow.org/api_docs/python/tf/function for  more details.\n"
          ],
          "name": "stdout"
        },
        {
          "output_type": "stream",
          "text": [
            "\r 21%|██        | 23/110 [02:00<07:38,  5.27s/it]"
          ],
          "name": "stderr"
        },
        {
          "output_type": "stream",
          "text": [
            "WARNING:tensorflow:11 out of the last 11 calls to <function Model.make_predict_function.<locals>.predict_function at 0x7f57618587b8> triggered tf.function retracing. Tracing is expensive and the excessive number of tracings could be due to (1) creating @tf.function repeatedly in a loop, (2) passing tensors with different shapes, (3) passing Python objects instead of tensors. For (1), please define your @tf.function outside of the loop. For (2), @tf.function has experimental_relax_shapes=True option that relaxes argument shapes that can avoid unnecessary retracing. For (3), please refer to https://www.tensorflow.org/tutorials/customization/performance#python_or_tensor_args and https://www.tensorflow.org/api_docs/python/tf/function for  more details.\n"
          ],
          "name": "stdout"
        },
        {
          "output_type": "stream",
          "text": [
            "\r 22%|██▏       | 24/110 [02:05<07:26,  5.19s/it]"
          ],
          "name": "stderr"
        },
        {
          "output_type": "stream",
          "text": [
            "WARNING:tensorflow:11 out of the last 11 calls to <function Model.make_predict_function.<locals>.predict_function at 0x7f57619ae1e0> triggered tf.function retracing. Tracing is expensive and the excessive number of tracings could be due to (1) creating @tf.function repeatedly in a loop, (2) passing tensors with different shapes, (3) passing Python objects instead of tensors. For (1), please define your @tf.function outside of the loop. For (2), @tf.function has experimental_relax_shapes=True option that relaxes argument shapes that can avoid unnecessary retracing. For (3), please refer to https://www.tensorflow.org/tutorials/customization/performance#python_or_tensor_args and https://www.tensorflow.org/api_docs/python/tf/function for  more details.\n"
          ],
          "name": "stdout"
        },
        {
          "output_type": "stream",
          "text": [
            "\r 23%|██▎       | 25/110 [02:10<07:15,  5.12s/it]"
          ],
          "name": "stderr"
        },
        {
          "output_type": "stream",
          "text": [
            "WARNING:tensorflow:11 out of the last 11 calls to <function Model.make_predict_function.<locals>.predict_function at 0x7f575a72c488> triggered tf.function retracing. Tracing is expensive and the excessive number of tracings could be due to (1) creating @tf.function repeatedly in a loop, (2) passing tensors with different shapes, (3) passing Python objects instead of tensors. For (1), please define your @tf.function outside of the loop. For (2), @tf.function has experimental_relax_shapes=True option that relaxes argument shapes that can avoid unnecessary retracing. For (3), please refer to https://www.tensorflow.org/tutorials/customization/performance#python_or_tensor_args and https://www.tensorflow.org/api_docs/python/tf/function for  more details.\n"
          ],
          "name": "stdout"
        },
        {
          "output_type": "stream",
          "text": [
            "\r 24%|██▎       | 26/110 [02:15<07:07,  5.09s/it]"
          ],
          "name": "stderr"
        },
        {
          "output_type": "stream",
          "text": [
            "WARNING:tensorflow:11 out of the last 11 calls to <function Model.make_predict_function.<locals>.predict_function at 0x7f575a51b400> triggered tf.function retracing. Tracing is expensive and the excessive number of tracings could be due to (1) creating @tf.function repeatedly in a loop, (2) passing tensors with different shapes, (3) passing Python objects instead of tensors. For (1), please define your @tf.function outside of the loop. For (2), @tf.function has experimental_relax_shapes=True option that relaxes argument shapes that can avoid unnecessary retracing. For (3), please refer to https://www.tensorflow.org/tutorials/customization/performance#python_or_tensor_args and https://www.tensorflow.org/api_docs/python/tf/function for  more details.\n"
          ],
          "name": "stdout"
        },
        {
          "output_type": "stream",
          "text": [
            "\r 25%|██▍       | 27/110 [02:19<06:55,  5.01s/it]"
          ],
          "name": "stderr"
        },
        {
          "output_type": "stream",
          "text": [
            "WARNING:tensorflow:11 out of the last 11 calls to <function Model.make_predict_function.<locals>.predict_function at 0x7f575a4c06a8> triggered tf.function retracing. Tracing is expensive and the excessive number of tracings could be due to (1) creating @tf.function repeatedly in a loop, (2) passing tensors with different shapes, (3) passing Python objects instead of tensors. For (1), please define your @tf.function outside of the loop. For (2), @tf.function has experimental_relax_shapes=True option that relaxes argument shapes that can avoid unnecessary retracing. For (3), please refer to https://www.tensorflow.org/tutorials/customization/performance#python_or_tensor_args and https://www.tensorflow.org/api_docs/python/tf/function for  more details.\n"
          ],
          "name": "stdout"
        },
        {
          "output_type": "stream",
          "text": [
            "\r 25%|██▌       | 28/110 [02:26<07:23,  5.40s/it]"
          ],
          "name": "stderr"
        },
        {
          "output_type": "stream",
          "text": [
            "WARNING:tensorflow:11 out of the last 11 calls to <function Model.make_predict_function.<locals>.predict_function at 0x7f57616b7510> triggered tf.function retracing. Tracing is expensive and the excessive number of tracings could be due to (1) creating @tf.function repeatedly in a loop, (2) passing tensors with different shapes, (3) passing Python objects instead of tensors. For (1), please define your @tf.function outside of the loop. For (2), @tf.function has experimental_relax_shapes=True option that relaxes argument shapes that can avoid unnecessary retracing. For (3), please refer to https://www.tensorflow.org/tutorials/customization/performance#python_or_tensor_args and https://www.tensorflow.org/api_docs/python/tf/function for  more details.\n"
          ],
          "name": "stdout"
        },
        {
          "output_type": "stream",
          "text": [
            "\r 26%|██▋       | 29/110 [02:31<07:17,  5.40s/it]"
          ],
          "name": "stderr"
        },
        {
          "output_type": "stream",
          "text": [
            "WARNING:tensorflow:11 out of the last 11 calls to <function Model.make_predict_function.<locals>.predict_function at 0x7f5760d0e730> triggered tf.function retracing. Tracing is expensive and the excessive number of tracings could be due to (1) creating @tf.function repeatedly in a loop, (2) passing tensors with different shapes, (3) passing Python objects instead of tensors. For (1), please define your @tf.function outside of the loop. For (2), @tf.function has experimental_relax_shapes=True option that relaxes argument shapes that can avoid unnecessary retracing. For (3), please refer to https://www.tensorflow.org/tutorials/customization/performance#python_or_tensor_args and https://www.tensorflow.org/api_docs/python/tf/function for  more details.\n"
          ],
          "name": "stdout"
        },
        {
          "output_type": "stream",
          "text": [
            "\r 27%|██▋       | 30/110 [02:36<07:10,  5.38s/it]"
          ],
          "name": "stderr"
        },
        {
          "output_type": "stream",
          "text": [
            "WARNING:tensorflow:11 out of the last 11 calls to <function Model.make_predict_function.<locals>.predict_function at 0x7f57598457b8> triggered tf.function retracing. Tracing is expensive and the excessive number of tracings could be due to (1) creating @tf.function repeatedly in a loop, (2) passing tensors with different shapes, (3) passing Python objects instead of tensors. For (1), please define your @tf.function outside of the loop. For (2), @tf.function has experimental_relax_shapes=True option that relaxes argument shapes that can avoid unnecessary retracing. For (3), please refer to https://www.tensorflow.org/tutorials/customization/performance#python_or_tensor_args and https://www.tensorflow.org/api_docs/python/tf/function for  more details.\n"
          ],
          "name": "stdout"
        },
        {
          "output_type": "stream",
          "text": [
            "\r 28%|██▊       | 31/110 [02:42<07:11,  5.47s/it]"
          ],
          "name": "stderr"
        },
        {
          "output_type": "stream",
          "text": [
            "WARNING:tensorflow:11 out of the last 11 calls to <function Model.make_predict_function.<locals>.predict_function at 0x7f5758ee08c8> triggered tf.function retracing. Tracing is expensive and the excessive number of tracings could be due to (1) creating @tf.function repeatedly in a loop, (2) passing tensors with different shapes, (3) passing Python objects instead of tensors. For (1), please define your @tf.function outside of the loop. For (2), @tf.function has experimental_relax_shapes=True option that relaxes argument shapes that can avoid unnecessary retracing. For (3), please refer to https://www.tensorflow.org/tutorials/customization/performance#python_or_tensor_args and https://www.tensorflow.org/api_docs/python/tf/function for  more details.\n"
          ],
          "name": "stdout"
        },
        {
          "output_type": "stream",
          "text": [
            "\r 29%|██▉       | 32/110 [02:47<06:57,  5.36s/it]"
          ],
          "name": "stderr"
        },
        {
          "output_type": "stream",
          "text": [
            "WARNING:tensorflow:11 out of the last 11 calls to <function Model.make_predict_function.<locals>.predict_function at 0x7f5759a2e378> triggered tf.function retracing. Tracing is expensive and the excessive number of tracings could be due to (1) creating @tf.function repeatedly in a loop, (2) passing tensors with different shapes, (3) passing Python objects instead of tensors. For (1), please define your @tf.function outside of the loop. For (2), @tf.function has experimental_relax_shapes=True option that relaxes argument shapes that can avoid unnecessary retracing. For (3), please refer to https://www.tensorflow.org/tutorials/customization/performance#python_or_tensor_args and https://www.tensorflow.org/api_docs/python/tf/function for  more details.\n"
          ],
          "name": "stdout"
        },
        {
          "output_type": "stream",
          "text": [
            "\r 30%|███       | 33/110 [02:53<06:52,  5.36s/it]"
          ],
          "name": "stderr"
        },
        {
          "output_type": "stream",
          "text": [
            "WARNING:tensorflow:11 out of the last 11 calls to <function Model.make_predict_function.<locals>.predict_function at 0x7f575891b400> triggered tf.function retracing. Tracing is expensive and the excessive number of tracings could be due to (1) creating @tf.function repeatedly in a loop, (2) passing tensors with different shapes, (3) passing Python objects instead of tensors. For (1), please define your @tf.function outside of the loop. For (2), @tf.function has experimental_relax_shapes=True option that relaxes argument shapes that can avoid unnecessary retracing. For (3), please refer to https://www.tensorflow.org/tutorials/customization/performance#python_or_tensor_args and https://www.tensorflow.org/api_docs/python/tf/function for  more details.\n"
          ],
          "name": "stdout"
        },
        {
          "output_type": "stream",
          "text": [
            "\r 31%|███       | 34/110 [02:59<07:03,  5.57s/it]"
          ],
          "name": "stderr"
        },
        {
          "output_type": "stream",
          "text": [
            "WARNING:tensorflow:11 out of the last 11 calls to <function Model.make_predict_function.<locals>.predict_function at 0x7f5760d81510> triggered tf.function retracing. Tracing is expensive and the excessive number of tracings could be due to (1) creating @tf.function repeatedly in a loop, (2) passing tensors with different shapes, (3) passing Python objects instead of tensors. For (1), please define your @tf.function outside of the loop. For (2), @tf.function has experimental_relax_shapes=True option that relaxes argument shapes that can avoid unnecessary retracing. For (3), please refer to https://www.tensorflow.org/tutorials/customization/performance#python_or_tensor_args and https://www.tensorflow.org/api_docs/python/tf/function for  more details.\n"
          ],
          "name": "stdout"
        },
        {
          "output_type": "stream",
          "text": [
            "\r 32%|███▏      | 35/110 [03:04<06:48,  5.44s/it]"
          ],
          "name": "stderr"
        },
        {
          "output_type": "stream",
          "text": [
            "WARNING:tensorflow:11 out of the last 11 calls to <function Model.make_predict_function.<locals>.predict_function at 0x7f575c53b8c8> triggered tf.function retracing. Tracing is expensive and the excessive number of tracings could be due to (1) creating @tf.function repeatedly in a loop, (2) passing tensors with different shapes, (3) passing Python objects instead of tensors. For (1), please define your @tf.function outside of the loop. For (2), @tf.function has experimental_relax_shapes=True option that relaxes argument shapes that can avoid unnecessary retracing. For (3), please refer to https://www.tensorflow.org/tutorials/customization/performance#python_or_tensor_args and https://www.tensorflow.org/api_docs/python/tf/function for  more details.\n"
          ],
          "name": "stdout"
        },
        {
          "output_type": "stream",
          "text": [
            "\r 33%|███▎      | 36/110 [03:09<06:41,  5.43s/it]"
          ],
          "name": "stderr"
        },
        {
          "output_type": "stream",
          "text": [
            "WARNING:tensorflow:11 out of the last 11 calls to <function Model.make_predict_function.<locals>.predict_function at 0x7f5758d277b8> triggered tf.function retracing. Tracing is expensive and the excessive number of tracings could be due to (1) creating @tf.function repeatedly in a loop, (2) passing tensors with different shapes, (3) passing Python objects instead of tensors. For (1), please define your @tf.function outside of the loop. For (2), @tf.function has experimental_relax_shapes=True option that relaxes argument shapes that can avoid unnecessary retracing. For (3), please refer to https://www.tensorflow.org/tutorials/customization/performance#python_or_tensor_args and https://www.tensorflow.org/api_docs/python/tf/function for  more details.\n"
          ],
          "name": "stdout"
        },
        {
          "output_type": "stream",
          "text": [
            "\r 34%|███▎      | 37/110 [03:15<06:39,  5.47s/it]"
          ],
          "name": "stderr"
        },
        {
          "output_type": "stream",
          "text": [
            "WARNING:tensorflow:11 out of the last 11 calls to <function Model.make_predict_function.<locals>.predict_function at 0x7f5758d40b70> triggered tf.function retracing. Tracing is expensive and the excessive number of tracings could be due to (1) creating @tf.function repeatedly in a loop, (2) passing tensors with different shapes, (3) passing Python objects instead of tensors. For (1), please define your @tf.function outside of the loop. For (2), @tf.function has experimental_relax_shapes=True option that relaxes argument shapes that can avoid unnecessary retracing. For (3), please refer to https://www.tensorflow.org/tutorials/customization/performance#python_or_tensor_args and https://www.tensorflow.org/api_docs/python/tf/function for  more details.\n"
          ],
          "name": "stdout"
        },
        {
          "output_type": "stream",
          "text": [
            "\r 35%|███▍      | 38/110 [03:20<06:27,  5.38s/it]"
          ],
          "name": "stderr"
        },
        {
          "output_type": "stream",
          "text": [
            "WARNING:tensorflow:11 out of the last 11 calls to <function Model.make_predict_function.<locals>.predict_function at 0x7f5756f48400> triggered tf.function retracing. Tracing is expensive and the excessive number of tracings could be due to (1) creating @tf.function repeatedly in a loop, (2) passing tensors with different shapes, (3) passing Python objects instead of tensors. For (1), please define your @tf.function outside of the loop. For (2), @tf.function has experimental_relax_shapes=True option that relaxes argument shapes that can avoid unnecessary retracing. For (3), please refer to https://www.tensorflow.org/tutorials/customization/performance#python_or_tensor_args and https://www.tensorflow.org/api_docs/python/tf/function for  more details.\n"
          ],
          "name": "stdout"
        },
        {
          "output_type": "stream",
          "text": [
            "\r 35%|███▌      | 39/110 [03:25<06:18,  5.34s/it]"
          ],
          "name": "stderr"
        },
        {
          "output_type": "stream",
          "text": [
            "WARNING:tensorflow:11 out of the last 11 calls to <function Model.make_predict_function.<locals>.predict_function at 0x7f575875a400> triggered tf.function retracing. Tracing is expensive and the excessive number of tracings could be due to (1) creating @tf.function repeatedly in a loop, (2) passing tensors with different shapes, (3) passing Python objects instead of tensors. For (1), please define your @tf.function outside of the loop. For (2), @tf.function has experimental_relax_shapes=True option that relaxes argument shapes that can avoid unnecessary retracing. For (3), please refer to https://www.tensorflow.org/tutorials/customization/performance#python_or_tensor_args and https://www.tensorflow.org/api_docs/python/tf/function for  more details.\n"
          ],
          "name": "stdout"
        },
        {
          "output_type": "stream",
          "text": [
            "\r 36%|███▋      | 40/110 [03:32<06:35,  5.65s/it]"
          ],
          "name": "stderr"
        },
        {
          "output_type": "stream",
          "text": [
            "WARNING:tensorflow:11 out of the last 11 calls to <function Model.make_predict_function.<locals>.predict_function at 0x7f57616dd510> triggered tf.function retracing. Tracing is expensive and the excessive number of tracings could be due to (1) creating @tf.function repeatedly in a loop, (2) passing tensors with different shapes, (3) passing Python objects instead of tensors. For (1), please define your @tf.function outside of the loop. For (2), @tf.function has experimental_relax_shapes=True option that relaxes argument shapes that can avoid unnecessary retracing. For (3), please refer to https://www.tensorflow.org/tutorials/customization/performance#python_or_tensor_args and https://www.tensorflow.org/api_docs/python/tf/function for  more details.\n"
          ],
          "name": "stdout"
        },
        {
          "output_type": "stream",
          "text": [
            "\r 37%|███▋      | 41/110 [03:37<06:23,  5.55s/it]"
          ],
          "name": "stderr"
        },
        {
          "output_type": "stream",
          "text": [
            "WARNING:tensorflow:11 out of the last 11 calls to <function Model.make_predict_function.<locals>.predict_function at 0x7f576195b8c8> triggered tf.function retracing. Tracing is expensive and the excessive number of tracings could be due to (1) creating @tf.function repeatedly in a loop, (2) passing tensors with different shapes, (3) passing Python objects instead of tensors. For (1), please define your @tf.function outside of the loop. For (2), @tf.function has experimental_relax_shapes=True option that relaxes argument shapes that can avoid unnecessary retracing. For (3), please refer to https://www.tensorflow.org/tutorials/customization/performance#python_or_tensor_args and https://www.tensorflow.org/api_docs/python/tf/function for  more details.\n"
          ],
          "name": "stdout"
        },
        {
          "output_type": "stream",
          "text": [
            "\r 38%|███▊      | 42/110 [03:42<06:10,  5.45s/it]"
          ],
          "name": "stderr"
        },
        {
          "output_type": "stream",
          "text": [
            "WARNING:tensorflow:11 out of the last 11 calls to <function Model.make_predict_function.<locals>.predict_function at 0x7f5758c647b8> triggered tf.function retracing. Tracing is expensive and the excessive number of tracings could be due to (1) creating @tf.function repeatedly in a loop, (2) passing tensors with different shapes, (3) passing Python objects instead of tensors. For (1), please define your @tf.function outside of the loop. For (2), @tf.function has experimental_relax_shapes=True option that relaxes argument shapes that can avoid unnecessary retracing. For (3), please refer to https://www.tensorflow.org/tutorials/customization/performance#python_or_tensor_args and https://www.tensorflow.org/api_docs/python/tf/function for  more details.\n"
          ],
          "name": "stdout"
        },
        {
          "output_type": "stream",
          "text": [
            "\r 39%|███▉      | 43/110 [03:47<05:57,  5.34s/it]"
          ],
          "name": "stderr"
        },
        {
          "output_type": "stream",
          "text": [
            "WARNING:tensorflow:11 out of the last 11 calls to <function Model.make_predict_function.<locals>.predict_function at 0x7f5758c7c8c8> triggered tf.function retracing. Tracing is expensive and the excessive number of tracings could be due to (1) creating @tf.function repeatedly in a loop, (2) passing tensors with different shapes, (3) passing Python objects instead of tensors. For (1), please define your @tf.function outside of the loop. For (2), @tf.function has experimental_relax_shapes=True option that relaxes argument shapes that can avoid unnecessary retracing. For (3), please refer to https://www.tensorflow.org/tutorials/customization/performance#python_or_tensor_args and https://www.tensorflow.org/api_docs/python/tf/function for  more details.\n"
          ],
          "name": "stdout"
        },
        {
          "output_type": "stream",
          "text": [
            "\r 40%|████      | 44/110 [03:52<05:47,  5.27s/it]"
          ],
          "name": "stderr"
        },
        {
          "output_type": "stream",
          "text": [
            "WARNING:tensorflow:11 out of the last 11 calls to <function Model.make_predict_function.<locals>.predict_function at 0x7f5758bcf1e0> triggered tf.function retracing. Tracing is expensive and the excessive number of tracings could be due to (1) creating @tf.function repeatedly in a loop, (2) passing tensors with different shapes, (3) passing Python objects instead of tensors. For (1), please define your @tf.function outside of the loop. For (2), @tf.function has experimental_relax_shapes=True option that relaxes argument shapes that can avoid unnecessary retracing. For (3), please refer to https://www.tensorflow.org/tutorials/customization/performance#python_or_tensor_args and https://www.tensorflow.org/api_docs/python/tf/function for  more details.\n"
          ],
          "name": "stdout"
        },
        {
          "output_type": "stream",
          "text": [
            "\r 41%|████      | 45/110 [03:57<05:40,  5.24s/it]"
          ],
          "name": "stderr"
        },
        {
          "output_type": "stream",
          "text": [
            "WARNING:tensorflow:11 out of the last 11 calls to <function Model.make_predict_function.<locals>.predict_function at 0x7f5758a9b400> triggered tf.function retracing. Tracing is expensive and the excessive number of tracings could be due to (1) creating @tf.function repeatedly in a loop, (2) passing tensors with different shapes, (3) passing Python objects instead of tensors. For (1), please define your @tf.function outside of the loop. For (2), @tf.function has experimental_relax_shapes=True option that relaxes argument shapes that can avoid unnecessary retracing. For (3), please refer to https://www.tensorflow.org/tutorials/customization/performance#python_or_tensor_args and https://www.tensorflow.org/api_docs/python/tf/function for  more details.\n"
          ],
          "name": "stdout"
        },
        {
          "output_type": "stream",
          "text": [
            "\r 42%|████▏     | 46/110 [04:04<05:57,  5.59s/it]"
          ],
          "name": "stderr"
        },
        {
          "output_type": "stream",
          "text": [
            "WARNING:tensorflow:11 out of the last 11 calls to <function Model.make_predict_function.<locals>.predict_function at 0x7f5758ab2510> triggered tf.function retracing. Tracing is expensive and the excessive number of tracings could be due to (1) creating @tf.function repeatedly in a loop, (2) passing tensors with different shapes, (3) passing Python objects instead of tensors. For (1), please define your @tf.function outside of the loop. For (2), @tf.function has experimental_relax_shapes=True option that relaxes argument shapes that can avoid unnecessary retracing. For (3), please refer to https://www.tensorflow.org/tutorials/customization/performance#python_or_tensor_args and https://www.tensorflow.org/api_docs/python/tf/function for  more details.\n"
          ],
          "name": "stdout"
        },
        {
          "output_type": "stream",
          "text": [
            "\r 43%|████▎     | 47/110 [04:09<05:50,  5.57s/it]"
          ],
          "name": "stderr"
        },
        {
          "output_type": "stream",
          "text": [
            "WARNING:tensorflow:11 out of the last 11 calls to <function Model.make_predict_function.<locals>.predict_function at 0x7f5760c79840> triggered tf.function retracing. Tracing is expensive and the excessive number of tracings could be due to (1) creating @tf.function repeatedly in a loop, (2) passing tensors with different shapes, (3) passing Python objects instead of tensors. For (1), please define your @tf.function outside of the loop. For (2), @tf.function has experimental_relax_shapes=True option that relaxes argument shapes that can avoid unnecessary retracing. For (3), please refer to https://www.tensorflow.org/tutorials/customization/performance#python_or_tensor_args and https://www.tensorflow.org/api_docs/python/tf/function for  more details.\n"
          ],
          "name": "stdout"
        },
        {
          "output_type": "stream",
          "text": [
            "\r 44%|████▎     | 48/110 [04:15<05:43,  5.54s/it]"
          ],
          "name": "stderr"
        },
        {
          "output_type": "stream",
          "text": [
            "WARNING:tensorflow:11 out of the last 11 calls to <function Model.make_predict_function.<locals>.predict_function at 0x7f5761710268> triggered tf.function retracing. Tracing is expensive and the excessive number of tracings could be due to (1) creating @tf.function repeatedly in a loop, (2) passing tensors with different shapes, (3) passing Python objects instead of tensors. For (1), please define your @tf.function outside of the loop. For (2), @tf.function has experimental_relax_shapes=True option that relaxes argument shapes that can avoid unnecessary retracing. For (3), please refer to https://www.tensorflow.org/tutorials/customization/performance#python_or_tensor_args and https://www.tensorflow.org/api_docs/python/tf/function for  more details.\n"
          ],
          "name": "stdout"
        },
        {
          "output_type": "stream",
          "text": [
            "\r 45%|████▍     | 49/110 [04:20<05:29,  5.41s/it]"
          ],
          "name": "stderr"
        },
        {
          "output_type": "stream",
          "text": [
            "WARNING:tensorflow:11 out of the last 11 calls to <function Model.make_predict_function.<locals>.predict_function at 0x7f575a4a7268> triggered tf.function retracing. Tracing is expensive and the excessive number of tracings could be due to (1) creating @tf.function repeatedly in a loop, (2) passing tensors with different shapes, (3) passing Python objects instead of tensors. For (1), please define your @tf.function outside of the loop. For (2), @tf.function has experimental_relax_shapes=True option that relaxes argument shapes that can avoid unnecessary retracing. For (3), please refer to https://www.tensorflow.org/tutorials/customization/performance#python_or_tensor_args and https://www.tensorflow.org/api_docs/python/tf/function for  more details.\n"
          ],
          "name": "stdout"
        },
        {
          "output_type": "stream",
          "text": [
            "\r 45%|████▌     | 50/110 [04:25<05:21,  5.37s/it]"
          ],
          "name": "stderr"
        },
        {
          "output_type": "stream",
          "text": [
            "WARNING:tensorflow:11 out of the last 11 calls to <function Model.make_predict_function.<locals>.predict_function at 0x7f5757e8d6a8> triggered tf.function retracing. Tracing is expensive and the excessive number of tracings could be due to (1) creating @tf.function repeatedly in a loop, (2) passing tensors with different shapes, (3) passing Python objects instead of tensors. For (1), please define your @tf.function outside of the loop. For (2), @tf.function has experimental_relax_shapes=True option that relaxes argument shapes that can avoid unnecessary retracing. For (3), please refer to https://www.tensorflow.org/tutorials/customization/performance#python_or_tensor_args and https://www.tensorflow.org/api_docs/python/tf/function for  more details.\n"
          ],
          "name": "stdout"
        },
        {
          "output_type": "stream",
          "text": [
            "\r 46%|████▋     | 51/110 [04:30<05:10,  5.26s/it]"
          ],
          "name": "stderr"
        },
        {
          "output_type": "stream",
          "text": [
            "WARNING:tensorflow:11 out of the last 11 calls to <function Model.make_predict_function.<locals>.predict_function at 0x7f5759986400> triggered tf.function retracing. Tracing is expensive and the excessive number of tracings could be due to (1) creating @tf.function repeatedly in a loop, (2) passing tensors with different shapes, (3) passing Python objects instead of tensors. For (1), please define your @tf.function outside of the loop. For (2), @tf.function has experimental_relax_shapes=True option that relaxes argument shapes that can avoid unnecessary retracing. For (3), please refer to https://www.tensorflow.org/tutorials/customization/performance#python_or_tensor_args and https://www.tensorflow.org/api_docs/python/tf/function for  more details.\n"
          ],
          "name": "stdout"
        },
        {
          "output_type": "stream",
          "text": [
            "\r 47%|████▋     | 52/110 [04:36<05:22,  5.56s/it]"
          ],
          "name": "stderr"
        },
        {
          "output_type": "stream",
          "text": [
            "WARNING:tensorflow:11 out of the last 11 calls to <function Model.make_predict_function.<locals>.predict_function at 0x7f5761b57730> triggered tf.function retracing. Tracing is expensive and the excessive number of tracings could be due to (1) creating @tf.function repeatedly in a loop, (2) passing tensors with different shapes, (3) passing Python objects instead of tensors. For (1), please define your @tf.function outside of the loop. For (2), @tf.function has experimental_relax_shapes=True option that relaxes argument shapes that can avoid unnecessary retracing. For (3), please refer to https://www.tensorflow.org/tutorials/customization/performance#python_or_tensor_args and https://www.tensorflow.org/api_docs/python/tf/function for  more details.\n"
          ],
          "name": "stdout"
        },
        {
          "output_type": "stream",
          "text": [
            "\r 48%|████▊     | 53/110 [04:42<05:14,  5.52s/it]"
          ],
          "name": "stderr"
        },
        {
          "output_type": "stream",
          "text": [
            "WARNING:tensorflow:11 out of the last 11 calls to <function Model.make_predict_function.<locals>.predict_function at 0x7f575c4c57b8> triggered tf.function retracing. Tracing is expensive and the excessive number of tracings could be due to (1) creating @tf.function repeatedly in a loop, (2) passing tensors with different shapes, (3) passing Python objects instead of tensors. For (1), please define your @tf.function outside of the loop. For (2), @tf.function has experimental_relax_shapes=True option that relaxes argument shapes that can avoid unnecessary retracing. For (3), please refer to https://www.tensorflow.org/tutorials/customization/performance#python_or_tensor_args and https://www.tensorflow.org/api_docs/python/tf/function for  more details.\n"
          ],
          "name": "stdout"
        },
        {
          "output_type": "stream",
          "text": [
            "\r 49%|████▉     | 54/110 [04:47<05:05,  5.45s/it]"
          ],
          "name": "stderr"
        },
        {
          "output_type": "stream",
          "text": [
            "WARNING:tensorflow:11 out of the last 11 calls to <function Model.make_predict_function.<locals>.predict_function at 0x7f575c3ee1e0> triggered tf.function retracing. Tracing is expensive and the excessive number of tracings could be due to (1) creating @tf.function repeatedly in a loop, (2) passing tensors with different shapes, (3) passing Python objects instead of tensors. For (1), please define your @tf.function outside of the loop. For (2), @tf.function has experimental_relax_shapes=True option that relaxes argument shapes that can avoid unnecessary retracing. For (3), please refer to https://www.tensorflow.org/tutorials/customization/performance#python_or_tensor_args and https://www.tensorflow.org/api_docs/python/tf/function for  more details.\n"
          ],
          "name": "stdout"
        },
        {
          "output_type": "stream",
          "text": [
            "\r 50%|█████     | 55/110 [04:52<04:56,  5.39s/it]"
          ],
          "name": "stderr"
        },
        {
          "output_type": "stream",
          "text": [
            "WARNING:tensorflow:11 out of the last 11 calls to <function Model.make_predict_function.<locals>.predict_function at 0x7f57619a6400> triggered tf.function retracing. Tracing is expensive and the excessive number of tracings could be due to (1) creating @tf.function repeatedly in a loop, (2) passing tensors with different shapes, (3) passing Python objects instead of tensors. For (1), please define your @tf.function outside of the loop. For (2), @tf.function has experimental_relax_shapes=True option that relaxes argument shapes that can avoid unnecessary retracing. For (3), please refer to https://www.tensorflow.org/tutorials/customization/performance#python_or_tensor_args and https://www.tensorflow.org/api_docs/python/tf/function for  more details.\n"
          ],
          "name": "stdout"
        },
        {
          "output_type": "stream",
          "text": [
            "\r 51%|█████     | 56/110 [04:58<04:47,  5.33s/it]"
          ],
          "name": "stderr"
        },
        {
          "output_type": "stream",
          "text": [
            "WARNING:tensorflow:11 out of the last 11 calls to <function Model.make_predict_function.<locals>.predict_function at 0x7f575896d7b8> triggered tf.function retracing. Tracing is expensive and the excessive number of tracings could be due to (1) creating @tf.function repeatedly in a loop, (2) passing tensors with different shapes, (3) passing Python objects instead of tensors. For (1), please define your @tf.function outside of the loop. For (2), @tf.function has experimental_relax_shapes=True option that relaxes argument shapes that can avoid unnecessary retracing. For (3), please refer to https://www.tensorflow.org/tutorials/customization/performance#python_or_tensor_args and https://www.tensorflow.org/api_docs/python/tf/function for  more details.\n"
          ],
          "name": "stdout"
        },
        {
          "output_type": "stream",
          "text": [
            "\r 52%|█████▏    | 57/110 [05:03<04:39,  5.28s/it]"
          ],
          "name": "stderr"
        },
        {
          "output_type": "stream",
          "text": [
            "WARNING:tensorflow:11 out of the last 11 calls to <function Model.make_predict_function.<locals>.predict_function at 0x7f575a509730> triggered tf.function retracing. Tracing is expensive and the excessive number of tracings could be due to (1) creating @tf.function repeatedly in a loop, (2) passing tensors with different shapes, (3) passing Python objects instead of tensors. For (1), please define your @tf.function outside of the loop. For (2), @tf.function has experimental_relax_shapes=True option that relaxes argument shapes that can avoid unnecessary retracing. For (3), please refer to https://www.tensorflow.org/tutorials/customization/performance#python_or_tensor_args and https://www.tensorflow.org/api_docs/python/tf/function for  more details.\n"
          ],
          "name": "stdout"
        },
        {
          "output_type": "stream",
          "text": [
            "\r 53%|█████▎    | 58/110 [05:09<04:48,  5.55s/it]"
          ],
          "name": "stderr"
        },
        {
          "output_type": "stream",
          "text": [
            "WARNING:tensorflow:11 out of the last 11 calls to <function Model.make_predict_function.<locals>.predict_function at 0x7f5758a8ee18> triggered tf.function retracing. Tracing is expensive and the excessive number of tracings could be due to (1) creating @tf.function repeatedly in a loop, (2) passing tensors with different shapes, (3) passing Python objects instead of tensors. For (1), please define your @tf.function outside of the loop. For (2), @tf.function has experimental_relax_shapes=True option that relaxes argument shapes that can avoid unnecessary retracing. For (3), please refer to https://www.tensorflow.org/tutorials/customization/performance#python_or_tensor_args and https://www.tensorflow.org/api_docs/python/tf/function for  more details.\n"
          ],
          "name": "stdout"
        },
        {
          "output_type": "stream",
          "text": [
            "\r 54%|█████▎    | 59/110 [05:14<04:40,  5.50s/it]"
          ],
          "name": "stderr"
        },
        {
          "output_type": "stream",
          "text": [
            "WARNING:tensorflow:11 out of the last 11 calls to <function Model.make_predict_function.<locals>.predict_function at 0x7f5758c549d8> triggered tf.function retracing. Tracing is expensive and the excessive number of tracings could be due to (1) creating @tf.function repeatedly in a loop, (2) passing tensors with different shapes, (3) passing Python objects instead of tensors. For (1), please define your @tf.function outside of the loop. For (2), @tf.function has experimental_relax_shapes=True option that relaxes argument shapes that can avoid unnecessary retracing. For (3), please refer to https://www.tensorflow.org/tutorials/customization/performance#python_or_tensor_args and https://www.tensorflow.org/api_docs/python/tf/function for  more details.\n"
          ],
          "name": "stdout"
        },
        {
          "output_type": "stream",
          "text": [
            "\r 55%|█████▍    | 60/110 [05:20<04:32,  5.45s/it]"
          ],
          "name": "stderr"
        },
        {
          "output_type": "stream",
          "text": [
            "WARNING:tensorflow:11 out of the last 11 calls to <function Model.make_predict_function.<locals>.predict_function at 0x7f575c600268> triggered tf.function retracing. Tracing is expensive and the excessive number of tracings could be due to (1) creating @tf.function repeatedly in a loop, (2) passing tensors with different shapes, (3) passing Python objects instead of tensors. For (1), please define your @tf.function outside of the loop. For (2), @tf.function has experimental_relax_shapes=True option that relaxes argument shapes that can avoid unnecessary retracing. For (3), please refer to https://www.tensorflow.org/tutorials/customization/performance#python_or_tensor_args and https://www.tensorflow.org/api_docs/python/tf/function for  more details.\n"
          ],
          "name": "stdout"
        },
        {
          "output_type": "stream",
          "text": [
            "\r 55%|█████▌    | 61/110 [05:25<04:24,  5.40s/it]"
          ],
          "name": "stderr"
        },
        {
          "output_type": "stream",
          "text": [
            "WARNING:tensorflow:11 out of the last 11 calls to <function Model.make_predict_function.<locals>.predict_function at 0x7f575a764400> triggered tf.function retracing. Tracing is expensive and the excessive number of tracings could be due to (1) creating @tf.function repeatedly in a loop, (2) passing tensors with different shapes, (3) passing Python objects instead of tensors. For (1), please define your @tf.function outside of the loop. For (2), @tf.function has experimental_relax_shapes=True option that relaxes argument shapes that can avoid unnecessary retracing. For (3), please refer to https://www.tensorflow.org/tutorials/customization/performance#python_or_tensor_args and https://www.tensorflow.org/api_docs/python/tf/function for  more details.\n"
          ],
          "name": "stdout"
        },
        {
          "output_type": "stream",
          "text": [
            "\r 56%|█████▋    | 62/110 [05:30<04:16,  5.34s/it]"
          ],
          "name": "stderr"
        },
        {
          "output_type": "stream",
          "text": [
            "WARNING:tensorflow:11 out of the last 11 calls to <function Model.make_predict_function.<locals>.predict_function at 0x7f5761998620> triggered tf.function retracing. Tracing is expensive and the excessive number of tracings could be due to (1) creating @tf.function repeatedly in a loop, (2) passing tensors with different shapes, (3) passing Python objects instead of tensors. For (1), please define your @tf.function outside of the loop. For (2), @tf.function has experimental_relax_shapes=True option that relaxes argument shapes that can avoid unnecessary retracing. For (3), please refer to https://www.tensorflow.org/tutorials/customization/performance#python_or_tensor_args and https://www.tensorflow.org/api_docs/python/tf/function for  more details.\n"
          ],
          "name": "stdout"
        },
        {
          "output_type": "stream",
          "text": [
            "\r 57%|█████▋    | 63/110 [05:35<04:08,  5.30s/it]"
          ],
          "name": "stderr"
        },
        {
          "output_type": "stream",
          "text": [
            "WARNING:tensorflow:11 out of the last 11 calls to <function Model.make_predict_function.<locals>.predict_function at 0x7f575a54a620> triggered tf.function retracing. Tracing is expensive and the excessive number of tracings could be due to (1) creating @tf.function repeatedly in a loop, (2) passing tensors with different shapes, (3) passing Python objects instead of tensors. For (1), please define your @tf.function outside of the loop. For (2), @tf.function has experimental_relax_shapes=True option that relaxes argument shapes that can avoid unnecessary retracing. For (3), please refer to https://www.tensorflow.org/tutorials/customization/performance#python_or_tensor_args and https://www.tensorflow.org/api_docs/python/tf/function for  more details.\n"
          ],
          "name": "stdout"
        },
        {
          "output_type": "stream",
          "text": [
            "\r 58%|█████▊    | 64/110 [05:41<04:02,  5.27s/it]"
          ],
          "name": "stderr"
        },
        {
          "output_type": "stream",
          "text": [
            "WARNING:tensorflow:11 out of the last 11 calls to <function Model.make_predict_function.<locals>.predict_function at 0x7f575a429840> triggered tf.function retracing. Tracing is expensive and the excessive number of tracings could be due to (1) creating @tf.function repeatedly in a loop, (2) passing tensors with different shapes, (3) passing Python objects instead of tensors. For (1), please define your @tf.function outside of the loop. For (2), @tf.function has experimental_relax_shapes=True option that relaxes argument shapes that can avoid unnecessary retracing. For (3), please refer to https://www.tensorflow.org/tutorials/customization/performance#python_or_tensor_args and https://www.tensorflow.org/api_docs/python/tf/function for  more details.\n"
          ],
          "name": "stdout"
        },
        {
          "output_type": "stream",
          "text": [
            "\r 59%|█████▉    | 65/110 [05:47<04:09,  5.55s/it]"
          ],
          "name": "stderr"
        },
        {
          "output_type": "stream",
          "text": [
            "WARNING:tensorflow:11 out of the last 11 calls to <function Model.make_predict_function.<locals>.predict_function at 0x7f575c237488> triggered tf.function retracing. Tracing is expensive and the excessive number of tracings could be due to (1) creating @tf.function repeatedly in a loop, (2) passing tensors with different shapes, (3) passing Python objects instead of tensors. For (1), please define your @tf.function outside of the loop. For (2), @tf.function has experimental_relax_shapes=True option that relaxes argument shapes that can avoid unnecessary retracing. For (3), please refer to https://www.tensorflow.org/tutorials/customization/performance#python_or_tensor_args and https://www.tensorflow.org/api_docs/python/tf/function for  more details.\n"
          ],
          "name": "stdout"
        },
        {
          "output_type": "stream",
          "text": [
            "\r 60%|██████    | 66/110 [05:52<04:02,  5.52s/it]"
          ],
          "name": "stderr"
        },
        {
          "output_type": "stream",
          "text": [
            "WARNING:tensorflow:11 out of the last 11 calls to <function Model.make_predict_function.<locals>.predict_function at 0x7f57616b66a8> triggered tf.function retracing. Tracing is expensive and the excessive number of tracings could be due to (1) creating @tf.function repeatedly in a loop, (2) passing tensors with different shapes, (3) passing Python objects instead of tensors. For (1), please define your @tf.function outside of the loop. For (2), @tf.function has experimental_relax_shapes=True option that relaxes argument shapes that can avoid unnecessary retracing. For (3), please refer to https://www.tensorflow.org/tutorials/customization/performance#python_or_tensor_args and https://www.tensorflow.org/api_docs/python/tf/function for  more details.\n"
          ],
          "name": "stdout"
        },
        {
          "output_type": "stream",
          "text": [
            "\r 61%|██████    | 67/110 [05:57<03:53,  5.44s/it]"
          ],
          "name": "stderr"
        },
        {
          "output_type": "stream",
          "text": [
            "WARNING:tensorflow:11 out of the last 11 calls to <function Model.make_predict_function.<locals>.predict_function at 0x7f57618be048> triggered tf.function retracing. Tracing is expensive and the excessive number of tracings could be due to (1) creating @tf.function repeatedly in a loop, (2) passing tensors with different shapes, (3) passing Python objects instead of tensors. For (1), please define your @tf.function outside of the loop. For (2), @tf.function has experimental_relax_shapes=True option that relaxes argument shapes that can avoid unnecessary retracing. For (3), please refer to https://www.tensorflow.org/tutorials/customization/performance#python_or_tensor_args and https://www.tensorflow.org/api_docs/python/tf/function for  more details.\n"
          ],
          "name": "stdout"
        },
        {
          "output_type": "stream",
          "text": [
            "\r 62%|██████▏   | 68/110 [06:03<03:49,  5.46s/it]"
          ],
          "name": "stderr"
        },
        {
          "output_type": "stream",
          "text": [
            "WARNING:tensorflow:11 out of the last 11 calls to <function Model.make_predict_function.<locals>.predict_function at 0x7f575a499400> triggered tf.function retracing. Tracing is expensive and the excessive number of tracings could be due to (1) creating @tf.function repeatedly in a loop, (2) passing tensors with different shapes, (3) passing Python objects instead of tensors. For (1), please define your @tf.function outside of the loop. For (2), @tf.function has experimental_relax_shapes=True option that relaxes argument shapes that can avoid unnecessary retracing. For (3), please refer to https://www.tensorflow.org/tutorials/customization/performance#python_or_tensor_args and https://www.tensorflow.org/api_docs/python/tf/function for  more details.\n"
          ],
          "name": "stdout"
        },
        {
          "output_type": "stream",
          "text": [
            "\r 63%|██████▎   | 69/110 [06:08<03:41,  5.41s/it]"
          ],
          "name": "stderr"
        },
        {
          "output_type": "stream",
          "text": [
            "WARNING:tensorflow:11 out of the last 11 calls to <function Model.make_predict_function.<locals>.predict_function at 0x7f5758b0a730> triggered tf.function retracing. Tracing is expensive and the excessive number of tracings could be due to (1) creating @tf.function repeatedly in a loop, (2) passing tensors with different shapes, (3) passing Python objects instead of tensors. For (1), please define your @tf.function outside of the loop. For (2), @tf.function has experimental_relax_shapes=True option that relaxes argument shapes that can avoid unnecessary retracing. For (3), please refer to https://www.tensorflow.org/tutorials/customization/performance#python_or_tensor_args and https://www.tensorflow.org/api_docs/python/tf/function for  more details.\n"
          ],
          "name": "stdout"
        },
        {
          "output_type": "stream",
          "text": [
            "\r 64%|██████▎   | 70/110 [06:14<03:36,  5.41s/it]"
          ],
          "name": "stderr"
        },
        {
          "output_type": "stream",
          "text": [
            "WARNING:tensorflow:11 out of the last 11 calls to <function Model.make_predict_function.<locals>.predict_function at 0x7f575a84e730> triggered tf.function retracing. Tracing is expensive and the excessive number of tracings could be due to (1) creating @tf.function repeatedly in a loop, (2) passing tensors with different shapes, (3) passing Python objects instead of tensors. For (1), please define your @tf.function outside of the loop. For (2), @tf.function has experimental_relax_shapes=True option that relaxes argument shapes that can avoid unnecessary retracing. For (3), please refer to https://www.tensorflow.org/tutorials/customization/performance#python_or_tensor_args and https://www.tensorflow.org/api_docs/python/tf/function for  more details.\n"
          ],
          "name": "stdout"
        },
        {
          "output_type": "stream",
          "text": [
            "\r 65%|██████▍   | 71/110 [06:20<03:43,  5.74s/it]"
          ],
          "name": "stderr"
        },
        {
          "output_type": "stream",
          "text": [
            "WARNING:tensorflow:11 out of the last 11 calls to <function Model.make_predict_function.<locals>.predict_function at 0x7f5761982488> triggered tf.function retracing. Tracing is expensive and the excessive number of tracings could be due to (1) creating @tf.function repeatedly in a loop, (2) passing tensors with different shapes, (3) passing Python objects instead of tensors. For (1), please define your @tf.function outside of the loop. For (2), @tf.function has experimental_relax_shapes=True option that relaxes argument shapes that can avoid unnecessary retracing. For (3), please refer to https://www.tensorflow.org/tutorials/customization/performance#python_or_tensor_args and https://www.tensorflow.org/api_docs/python/tf/function for  more details.\n"
          ],
          "name": "stdout"
        },
        {
          "output_type": "stream",
          "text": [
            "\r 65%|██████▌   | 72/110 [06:26<03:35,  5.68s/it]"
          ],
          "name": "stderr"
        },
        {
          "output_type": "stream",
          "text": [
            "WARNING:tensorflow:11 out of the last 11 calls to <function Model.make_predict_function.<locals>.predict_function at 0x7f57616ea620> triggered tf.function retracing. Tracing is expensive and the excessive number of tracings could be due to (1) creating @tf.function repeatedly in a loop, (2) passing tensors with different shapes, (3) passing Python objects instead of tensors. For (1), please define your @tf.function outside of the loop. For (2), @tf.function has experimental_relax_shapes=True option that relaxes argument shapes that can avoid unnecessary retracing. For (3), please refer to https://www.tensorflow.org/tutorials/customization/performance#python_or_tensor_args and https://www.tensorflow.org/api_docs/python/tf/function for  more details.\n"
          ],
          "name": "stdout"
        },
        {
          "output_type": "stream",
          "text": [
            "\r 66%|██████▋   | 73/110 [06:32<03:31,  5.71s/it]"
          ],
          "name": "stderr"
        },
        {
          "output_type": "stream",
          "text": [
            "WARNING:tensorflow:11 out of the last 11 calls to <function Model.make_predict_function.<locals>.predict_function at 0x7f57617e32f0> triggered tf.function retracing. Tracing is expensive and the excessive number of tracings could be due to (1) creating @tf.function repeatedly in a loop, (2) passing tensors with different shapes, (3) passing Python objects instead of tensors. For (1), please define your @tf.function outside of the loop. For (2), @tf.function has experimental_relax_shapes=True option that relaxes argument shapes that can avoid unnecessary retracing. For (3), please refer to https://www.tensorflow.org/tutorials/customization/performance#python_or_tensor_args and https://www.tensorflow.org/api_docs/python/tf/function for  more details.\n"
          ],
          "name": "stdout"
        },
        {
          "output_type": "stream",
          "text": [
            "\r 67%|██████▋   | 74/110 [06:37<03:26,  5.72s/it]"
          ],
          "name": "stderr"
        },
        {
          "output_type": "stream",
          "text": [
            "WARNING:tensorflow:11 out of the last 11 calls to <function Model.make_predict_function.<locals>.predict_function at 0x7f575a758400> triggered tf.function retracing. Tracing is expensive and the excessive number of tracings could be due to (1) creating @tf.function repeatedly in a loop, (2) passing tensors with different shapes, (3) passing Python objects instead of tensors. For (1), please define your @tf.function outside of the loop. For (2), @tf.function has experimental_relax_shapes=True option that relaxes argument shapes that can avoid unnecessary retracing. For (3), please refer to https://www.tensorflow.org/tutorials/customization/performance#python_or_tensor_args and https://www.tensorflow.org/api_docs/python/tf/function for  more details.\n"
          ],
          "name": "stdout"
        },
        {
          "output_type": "stream",
          "text": [
            "\r 68%|██████▊   | 75/110 [06:43<03:20,  5.72s/it]"
          ],
          "name": "stderr"
        },
        {
          "output_type": "stream",
          "text": [
            "WARNING:tensorflow:11 out of the last 11 calls to <function Model.make_predict_function.<locals>.predict_function at 0x7f5758bfe7b8> triggered tf.function retracing. Tracing is expensive and the excessive number of tracings could be due to (1) creating @tf.function repeatedly in a loop, (2) passing tensors with different shapes, (3) passing Python objects instead of tensors. For (1), please define your @tf.function outside of the loop. For (2), @tf.function has experimental_relax_shapes=True option that relaxes argument shapes that can avoid unnecessary retracing. For (3), please refer to https://www.tensorflow.org/tutorials/customization/performance#python_or_tensor_args and https://www.tensorflow.org/api_docs/python/tf/function for  more details.\n"
          ],
          "name": "stdout"
        },
        {
          "output_type": "stream",
          "text": [
            "\r 69%|██████▉   | 76/110 [06:48<03:11,  5.64s/it]"
          ],
          "name": "stderr"
        },
        {
          "output_type": "stream",
          "text": [
            "WARNING:tensorflow:11 out of the last 11 calls to <function Model.make_predict_function.<locals>.predict_function at 0x7f5758808620> triggered tf.function retracing. Tracing is expensive and the excessive number of tracings could be due to (1) creating @tf.function repeatedly in a loop, (2) passing tensors with different shapes, (3) passing Python objects instead of tensors. For (1), please define your @tf.function outside of the loop. For (2), @tf.function has experimental_relax_shapes=True option that relaxes argument shapes that can avoid unnecessary retracing. For (3), please refer to https://www.tensorflow.org/tutorials/customization/performance#python_or_tensor_args and https://www.tensorflow.org/api_docs/python/tf/function for  more details.\n"
          ],
          "name": "stdout"
        },
        {
          "output_type": "stream",
          "text": [
            "\r 70%|███████   | 77/110 [06:55<03:18,  6.02s/it]"
          ],
          "name": "stderr"
        },
        {
          "output_type": "stream",
          "text": [
            "WARNING:tensorflow:11 out of the last 11 calls to <function Model.make_predict_function.<locals>.predict_function at 0x7f576195c488> triggered tf.function retracing. Tracing is expensive and the excessive number of tracings could be due to (1) creating @tf.function repeatedly in a loop, (2) passing tensors with different shapes, (3) passing Python objects instead of tensors. For (1), please define your @tf.function outside of the loop. For (2), @tf.function has experimental_relax_shapes=True option that relaxes argument shapes that can avoid unnecessary retracing. For (3), please refer to https://www.tensorflow.org/tutorials/customization/performance#python_or_tensor_args and https://www.tensorflow.org/api_docs/python/tf/function for  more details.\n"
          ],
          "name": "stdout"
        },
        {
          "output_type": "stream",
          "text": [
            "\r 71%|███████   | 78/110 [07:01<03:07,  5.87s/it]"
          ],
          "name": "stderr"
        },
        {
          "output_type": "stream",
          "text": [
            "WARNING:tensorflow:11 out of the last 11 calls to <function Model.make_predict_function.<locals>.predict_function at 0x7f575c52a9d8> triggered tf.function retracing. Tracing is expensive and the excessive number of tracings could be due to (1) creating @tf.function repeatedly in a loop, (2) passing tensors with different shapes, (3) passing Python objects instead of tensors. For (1), please define your @tf.function outside of the loop. For (2), @tf.function has experimental_relax_shapes=True option that relaxes argument shapes that can avoid unnecessary retracing. For (3), please refer to https://www.tensorflow.org/tutorials/customization/performance#python_or_tensor_args and https://www.tensorflow.org/api_docs/python/tf/function for  more details.\n"
          ],
          "name": "stdout"
        },
        {
          "output_type": "stream",
          "text": [
            "\r 72%|███████▏  | 79/110 [07:06<02:55,  5.65s/it]"
          ],
          "name": "stderr"
        },
        {
          "output_type": "stream",
          "text": [
            "WARNING:tensorflow:11 out of the last 11 calls to <function Model.make_predict_function.<locals>.predict_function at 0x7f57618ca400> triggered tf.function retracing. Tracing is expensive and the excessive number of tracings could be due to (1) creating @tf.function repeatedly in a loop, (2) passing tensors with different shapes, (3) passing Python objects instead of tensors. For (1), please define your @tf.function outside of the loop. For (2), @tf.function has experimental_relax_shapes=True option that relaxes argument shapes that can avoid unnecessary retracing. For (3), please refer to https://www.tensorflow.org/tutorials/customization/performance#python_or_tensor_args and https://www.tensorflow.org/api_docs/python/tf/function for  more details.\n"
          ],
          "name": "stdout"
        },
        {
          "output_type": "stream",
          "text": [
            "\r 73%|███████▎  | 80/110 [07:11<02:44,  5.50s/it]"
          ],
          "name": "stderr"
        },
        {
          "output_type": "stream",
          "text": [
            "WARNING:tensorflow:11 out of the last 11 calls to <function Model.make_predict_function.<locals>.predict_function at 0x7f5756f0e400> triggered tf.function retracing. Tracing is expensive and the excessive number of tracings could be due to (1) creating @tf.function repeatedly in a loop, (2) passing tensors with different shapes, (3) passing Python objects instead of tensors. For (1), please define your @tf.function outside of the loop. For (2), @tf.function has experimental_relax_shapes=True option that relaxes argument shapes that can avoid unnecessary retracing. For (3), please refer to https://www.tensorflow.org/tutorials/customization/performance#python_or_tensor_args and https://www.tensorflow.org/api_docs/python/tf/function for  more details.\n"
          ],
          "name": "stdout"
        },
        {
          "output_type": "stream",
          "text": [
            "\r 74%|███████▎  | 81/110 [07:16<02:35,  5.36s/it]"
          ],
          "name": "stderr"
        },
        {
          "output_type": "stream",
          "text": [
            "WARNING:tensorflow:11 out of the last 11 calls to <function Model.make_predict_function.<locals>.predict_function at 0x7f575a450730> triggered tf.function retracing. Tracing is expensive and the excessive number of tracings could be due to (1) creating @tf.function repeatedly in a loop, (2) passing tensors with different shapes, (3) passing Python objects instead of tensors. For (1), please define your @tf.function outside of the loop. For (2), @tf.function has experimental_relax_shapes=True option that relaxes argument shapes that can avoid unnecessary retracing. For (3), please refer to https://www.tensorflow.org/tutorials/customization/performance#python_or_tensor_args and https://www.tensorflow.org/api_docs/python/tf/function for  more details.\n"
          ],
          "name": "stdout"
        },
        {
          "output_type": "stream",
          "text": [
            "\r 75%|███████▍  | 82/110 [07:21<02:28,  5.30s/it]"
          ],
          "name": "stderr"
        },
        {
          "output_type": "stream",
          "text": [
            "WARNING:tensorflow:11 out of the last 11 calls to <function Model.make_predict_function.<locals>.predict_function at 0x7f57619d5620> triggered tf.function retracing. Tracing is expensive and the excessive number of tracings could be due to (1) creating @tf.function repeatedly in a loop, (2) passing tensors with different shapes, (3) passing Python objects instead of tensors. For (1), please define your @tf.function outside of the loop. For (2), @tf.function has experimental_relax_shapes=True option that relaxes argument shapes that can avoid unnecessary retracing. For (3), please refer to https://www.tensorflow.org/tutorials/customization/performance#python_or_tensor_args and https://www.tensorflow.org/api_docs/python/tf/function for  more details.\n"
          ],
          "name": "stdout"
        },
        {
          "output_type": "stream",
          "text": [
            "\r 75%|███████▌  | 83/110 [07:27<02:29,  5.55s/it]"
          ],
          "name": "stderr"
        },
        {
          "output_type": "stream",
          "text": [
            "WARNING:tensorflow:11 out of the last 11 calls to <function Model.make_predict_function.<locals>.predict_function at 0x7f5761a07730> triggered tf.function retracing. Tracing is expensive and the excessive number of tracings could be due to (1) creating @tf.function repeatedly in a loop, (2) passing tensors with different shapes, (3) passing Python objects instead of tensors. For (1), please define your @tf.function outside of the loop. For (2), @tf.function has experimental_relax_shapes=True option that relaxes argument shapes that can avoid unnecessary retracing. For (3), please refer to https://www.tensorflow.org/tutorials/customization/performance#python_or_tensor_args and https://www.tensorflow.org/api_docs/python/tf/function for  more details.\n"
          ],
          "name": "stdout"
        },
        {
          "output_type": "stream",
          "text": [
            "\r 76%|███████▋  | 84/110 [07:33<02:22,  5.48s/it]"
          ],
          "name": "stderr"
        },
        {
          "output_type": "stream",
          "text": [
            "WARNING:tensorflow:11 out of the last 11 calls to <function Model.make_predict_function.<locals>.predict_function at 0x7f5760d247b8> triggered tf.function retracing. Tracing is expensive and the excessive number of tracings could be due to (1) creating @tf.function repeatedly in a loop, (2) passing tensors with different shapes, (3) passing Python objects instead of tensors. For (1), please define your @tf.function outside of the loop. For (2), @tf.function has experimental_relax_shapes=True option that relaxes argument shapes that can avoid unnecessary retracing. For (3), please refer to https://www.tensorflow.org/tutorials/customization/performance#python_or_tensor_args and https://www.tensorflow.org/api_docs/python/tf/function for  more details.\n"
          ],
          "name": "stdout"
        },
        {
          "output_type": "stream",
          "text": [
            "\r 77%|███████▋  | 85/110 [07:38<02:13,  5.35s/it]"
          ],
          "name": "stderr"
        },
        {
          "output_type": "stream",
          "text": [
            "WARNING:tensorflow:11 out of the last 11 calls to <function Model.make_predict_function.<locals>.predict_function at 0x7f575c614048> triggered tf.function retracing. Tracing is expensive and the excessive number of tracings could be due to (1) creating @tf.function repeatedly in a loop, (2) passing tensors with different shapes, (3) passing Python objects instead of tensors. For (1), please define your @tf.function outside of the loop. For (2), @tf.function has experimental_relax_shapes=True option that relaxes argument shapes that can avoid unnecessary retracing. For (3), please refer to https://www.tensorflow.org/tutorials/customization/performance#python_or_tensor_args and https://www.tensorflow.org/api_docs/python/tf/function for  more details.\n"
          ],
          "name": "stdout"
        },
        {
          "output_type": "stream",
          "text": [
            "\r 78%|███████▊  | 86/110 [07:43<02:06,  5.28s/it]"
          ],
          "name": "stderr"
        },
        {
          "output_type": "stream",
          "text": [
            "WARNING:tensorflow:11 out of the last 11 calls to <function Model.make_predict_function.<locals>.predict_function at 0x7f57587de400> triggered tf.function retracing. Tracing is expensive and the excessive number of tracings could be due to (1) creating @tf.function repeatedly in a loop, (2) passing tensors with different shapes, (3) passing Python objects instead of tensors. For (1), please define your @tf.function outside of the loop. For (2), @tf.function has experimental_relax_shapes=True option that relaxes argument shapes that can avoid unnecessary retracing. For (3), please refer to https://www.tensorflow.org/tutorials/customization/performance#python_or_tensor_args and https://www.tensorflow.org/api_docs/python/tf/function for  more details.\n"
          ],
          "name": "stdout"
        },
        {
          "output_type": "stream",
          "text": [
            "\r 79%|███████▉  | 87/110 [07:48<02:01,  5.28s/it]"
          ],
          "name": "stderr"
        },
        {
          "output_type": "stream",
          "text": [
            "WARNING:tensorflow:11 out of the last 11 calls to <function Model.make_predict_function.<locals>.predict_function at 0x7f57589c87b8> triggered tf.function retracing. Tracing is expensive and the excessive number of tracings could be due to (1) creating @tf.function repeatedly in a loop, (2) passing tensors with different shapes, (3) passing Python objects instead of tensors. For (1), please define your @tf.function outside of the loop. For (2), @tf.function has experimental_relax_shapes=True option that relaxes argument shapes that can avoid unnecessary retracing. For (3), please refer to https://www.tensorflow.org/tutorials/customization/performance#python_or_tensor_args and https://www.tensorflow.org/api_docs/python/tf/function for  more details.\n"
          ],
          "name": "stdout"
        },
        {
          "output_type": "stream",
          "text": [
            "\r 80%|████████  | 88/110 [07:53<01:54,  5.20s/it]"
          ],
          "name": "stderr"
        },
        {
          "output_type": "stream",
          "text": [
            "WARNING:tensorflow:11 out of the last 11 calls to <function Model.make_predict_function.<locals>.predict_function at 0x7f57597cc730> triggered tf.function retracing. Tracing is expensive and the excessive number of tracings could be due to (1) creating @tf.function repeatedly in a loop, (2) passing tensors with different shapes, (3) passing Python objects instead of tensors. For (1), please define your @tf.function outside of the loop. For (2), @tf.function has experimental_relax_shapes=True option that relaxes argument shapes that can avoid unnecessary retracing. For (3), please refer to https://www.tensorflow.org/tutorials/customization/performance#python_or_tensor_args and https://www.tensorflow.org/api_docs/python/tf/function for  more details.\n"
          ],
          "name": "stdout"
        },
        {
          "output_type": "stream",
          "text": [
            "\r 81%|████████  | 89/110 [08:00<02:02,  5.82s/it]"
          ],
          "name": "stderr"
        },
        {
          "output_type": "stream",
          "text": [
            "WARNING:tensorflow:11 out of the last 11 calls to <function Model.make_predict_function.<locals>.predict_function at 0x7f57587de620> triggered tf.function retracing. Tracing is expensive and the excessive number of tracings could be due to (1) creating @tf.function repeatedly in a loop, (2) passing tensors with different shapes, (3) passing Python objects instead of tensors. For (1), please define your @tf.function outside of the loop. For (2), @tf.function has experimental_relax_shapes=True option that relaxes argument shapes that can avoid unnecessary retracing. For (3), please refer to https://www.tensorflow.org/tutorials/customization/performance#python_or_tensor_args and https://www.tensorflow.org/api_docs/python/tf/function for  more details.\n"
          ],
          "name": "stdout"
        },
        {
          "output_type": "stream",
          "text": [
            "\r 82%|████████▏ | 90/110 [08:06<01:55,  5.80s/it]"
          ],
          "name": "stderr"
        },
        {
          "output_type": "stream",
          "text": [
            "WARNING:tensorflow:11 out of the last 11 calls to <function Model.make_predict_function.<locals>.predict_function at 0x7f5761b579d8> triggered tf.function retracing. Tracing is expensive and the excessive number of tracings could be due to (1) creating @tf.function repeatedly in a loop, (2) passing tensors with different shapes, (3) passing Python objects instead of tensors. For (1), please define your @tf.function outside of the loop. For (2), @tf.function has experimental_relax_shapes=True option that relaxes argument shapes that can avoid unnecessary retracing. For (3), please refer to https://www.tensorflow.org/tutorials/customization/performance#python_or_tensor_args and https://www.tensorflow.org/api_docs/python/tf/function for  more details.\n"
          ],
          "name": "stdout"
        },
        {
          "output_type": "stream",
          "text": [
            "\r 83%|████████▎ | 91/110 [08:11<01:46,  5.61s/it]"
          ],
          "name": "stderr"
        },
        {
          "output_type": "stream",
          "text": [
            "WARNING:tensorflow:11 out of the last 11 calls to <function Model.make_predict_function.<locals>.predict_function at 0x7f575c317048> triggered tf.function retracing. Tracing is expensive and the excessive number of tracings could be due to (1) creating @tf.function repeatedly in a loop, (2) passing tensors with different shapes, (3) passing Python objects instead of tensors. For (1), please define your @tf.function outside of the loop. For (2), @tf.function has experimental_relax_shapes=True option that relaxes argument shapes that can avoid unnecessary retracing. For (3), please refer to https://www.tensorflow.org/tutorials/customization/performance#python_or_tensor_args and https://www.tensorflow.org/api_docs/python/tf/function for  more details.\n"
          ],
          "name": "stdout"
        },
        {
          "output_type": "stream",
          "text": [
            "\r 84%|████████▎ | 92/110 [08:16<01:37,  5.44s/it]"
          ],
          "name": "stderr"
        },
        {
          "output_type": "stream",
          "text": [
            "WARNING:tensorflow:11 out of the last 11 calls to <function Model.make_predict_function.<locals>.predict_function at 0x7f575a410400> triggered tf.function retracing. Tracing is expensive and the excessive number of tracings could be due to (1) creating @tf.function repeatedly in a loop, (2) passing tensors with different shapes, (3) passing Python objects instead of tensors. For (1), please define your @tf.function outside of the loop. For (2), @tf.function has experimental_relax_shapes=True option that relaxes argument shapes that can avoid unnecessary retracing. For (3), please refer to https://www.tensorflow.org/tutorials/customization/performance#python_or_tensor_args and https://www.tensorflow.org/api_docs/python/tf/function for  more details.\n"
          ],
          "name": "stdout"
        },
        {
          "output_type": "stream",
          "text": [
            "\r 85%|████████▍ | 93/110 [08:22<01:30,  5.35s/it]"
          ],
          "name": "stderr"
        },
        {
          "output_type": "stream",
          "text": [
            "WARNING:tensorflow:11 out of the last 11 calls to <function Model.make_predict_function.<locals>.predict_function at 0x7f57598c1730> triggered tf.function retracing. Tracing is expensive and the excessive number of tracings could be due to (1) creating @tf.function repeatedly in a loop, (2) passing tensors with different shapes, (3) passing Python objects instead of tensors. For (1), please define your @tf.function outside of the loop. For (2), @tf.function has experimental_relax_shapes=True option that relaxes argument shapes that can avoid unnecessary retracing. For (3), please refer to https://www.tensorflow.org/tutorials/customization/performance#python_or_tensor_args and https://www.tensorflow.org/api_docs/python/tf/function for  more details.\n"
          ],
          "name": "stdout"
        },
        {
          "output_type": "stream",
          "text": [
            "\r 85%|████████▌ | 94/110 [08:27<01:24,  5.28s/it]"
          ],
          "name": "stderr"
        },
        {
          "output_type": "stream",
          "text": [
            "WARNING:tensorflow:11 out of the last 11 calls to <function Model.make_predict_function.<locals>.predict_function at 0x7f575879b730> triggered tf.function retracing. Tracing is expensive and the excessive number of tracings could be due to (1) creating @tf.function repeatedly in a loop, (2) passing tensors with different shapes, (3) passing Python objects instead of tensors. For (1), please define your @tf.function outside of the loop. For (2), @tf.function has experimental_relax_shapes=True option that relaxes argument shapes that can avoid unnecessary retracing. For (3), please refer to https://www.tensorflow.org/tutorials/customization/performance#python_or_tensor_args and https://www.tensorflow.org/api_docs/python/tf/function for  more details.\n"
          ],
          "name": "stdout"
        },
        {
          "output_type": "stream",
          "text": [
            "\r 86%|████████▋ | 95/110 [08:33<01:24,  5.63s/it]"
          ],
          "name": "stderr"
        },
        {
          "output_type": "stream",
          "text": [
            "WARNING:tensorflow:11 out of the last 11 calls to <function Model.make_predict_function.<locals>.predict_function at 0x7f5761b841e0> triggered tf.function retracing. Tracing is expensive and the excessive number of tracings could be due to (1) creating @tf.function repeatedly in a loop, (2) passing tensors with different shapes, (3) passing Python objects instead of tensors. For (1), please define your @tf.function outside of the loop. For (2), @tf.function has experimental_relax_shapes=True option that relaxes argument shapes that can avoid unnecessary retracing. For (3), please refer to https://www.tensorflow.org/tutorials/customization/performance#python_or_tensor_args and https://www.tensorflow.org/api_docs/python/tf/function for  more details.\n"
          ],
          "name": "stdout"
        },
        {
          "output_type": "stream",
          "text": [
            "\r 87%|████████▋ | 96/110 [08:38<01:17,  5.53s/it]"
          ],
          "name": "stderr"
        },
        {
          "output_type": "stream",
          "text": [
            "WARNING:tensorflow:11 out of the last 11 calls to <function Model.make_predict_function.<locals>.predict_function at 0x7f575a472598> triggered tf.function retracing. Tracing is expensive and the excessive number of tracings could be due to (1) creating @tf.function repeatedly in a loop, (2) passing tensors with different shapes, (3) passing Python objects instead of tensors. For (1), please define your @tf.function outside of the loop. For (2), @tf.function has experimental_relax_shapes=True option that relaxes argument shapes that can avoid unnecessary retracing. For (3), please refer to https://www.tensorflow.org/tutorials/customization/performance#python_or_tensor_args and https://www.tensorflow.org/api_docs/python/tf/function for  more details.\n"
          ],
          "name": "stdout"
        },
        {
          "output_type": "stream",
          "text": [
            "\r 88%|████████▊ | 97/110 [08:44<01:10,  5.44s/it]"
          ],
          "name": "stderr"
        },
        {
          "output_type": "stream",
          "text": [
            "WARNING:tensorflow:11 out of the last 11 calls to <function Model.make_predict_function.<locals>.predict_function at 0x7f5760d8f1e0> triggered tf.function retracing. Tracing is expensive and the excessive number of tracings could be due to (1) creating @tf.function repeatedly in a loop, (2) passing tensors with different shapes, (3) passing Python objects instead of tensors. For (1), please define your @tf.function outside of the loop. For (2), @tf.function has experimental_relax_shapes=True option that relaxes argument shapes that can avoid unnecessary retracing. For (3), please refer to https://www.tensorflow.org/tutorials/customization/performance#python_or_tensor_args and https://www.tensorflow.org/api_docs/python/tf/function for  more details.\n"
          ],
          "name": "stdout"
        },
        {
          "output_type": "stream",
          "text": [
            "\r 89%|████████▉ | 98/110 [08:49<01:04,  5.35s/it]"
          ],
          "name": "stderr"
        },
        {
          "output_type": "stream",
          "text": [
            "WARNING:tensorflow:11 out of the last 11 calls to <function Model.make_predict_function.<locals>.predict_function at 0x7f575a7ff400> triggered tf.function retracing. Tracing is expensive and the excessive number of tracings could be due to (1) creating @tf.function repeatedly in a loop, (2) passing tensors with different shapes, (3) passing Python objects instead of tensors. For (1), please define your @tf.function outside of the loop. For (2), @tf.function has experimental_relax_shapes=True option that relaxes argument shapes that can avoid unnecessary retracing. For (3), please refer to https://www.tensorflow.org/tutorials/customization/performance#python_or_tensor_args and https://www.tensorflow.org/api_docs/python/tf/function for  more details.\n"
          ],
          "name": "stdout"
        },
        {
          "output_type": "stream",
          "text": [
            "\r 90%|█████████ | 99/110 [08:54<00:58,  5.31s/it]"
          ],
          "name": "stderr"
        },
        {
          "output_type": "stream",
          "text": [
            "WARNING:tensorflow:11 out of the last 11 calls to <function Model.make_predict_function.<locals>.predict_function at 0x7f575a69c7b8> triggered tf.function retracing. Tracing is expensive and the excessive number of tracings could be due to (1) creating @tf.function repeatedly in a loop, (2) passing tensors with different shapes, (3) passing Python objects instead of tensors. For (1), please define your @tf.function outside of the loop. For (2), @tf.function has experimental_relax_shapes=True option that relaxes argument shapes that can avoid unnecessary retracing. For (3), please refer to https://www.tensorflow.org/tutorials/customization/performance#python_or_tensor_args and https://www.tensorflow.org/api_docs/python/tf/function for  more details.\n"
          ],
          "name": "stdout"
        },
        {
          "output_type": "stream",
          "text": [
            "\r 91%|█████████ | 100/110 [08:59<00:53,  5.32s/it]"
          ],
          "name": "stderr"
        },
        {
          "output_type": "stream",
          "text": [
            "WARNING:tensorflow:11 out of the last 11 calls to <function Model.make_predict_function.<locals>.predict_function at 0x7f575a535730> triggered tf.function retracing. Tracing is expensive and the excessive number of tracings could be due to (1) creating @tf.function repeatedly in a loop, (2) passing tensors with different shapes, (3) passing Python objects instead of tensors. For (1), please define your @tf.function outside of the loop. For (2), @tf.function has experimental_relax_shapes=True option that relaxes argument shapes that can avoid unnecessary retracing. For (3), please refer to https://www.tensorflow.org/tutorials/customization/performance#python_or_tensor_args and https://www.tensorflow.org/api_docs/python/tf/function for  more details.\n"
          ],
          "name": "stdout"
        },
        {
          "output_type": "stream",
          "text": [
            "\r 92%|█████████▏| 101/110 [09:05<00:48,  5.40s/it]"
          ],
          "name": "stderr"
        },
        {
          "output_type": "stream",
          "text": [
            "WARNING:tensorflow:11 out of the last 11 calls to <function Model.make_predict_function.<locals>.predict_function at 0x7f575a560ae8> triggered tf.function retracing. Tracing is expensive and the excessive number of tracings could be due to (1) creating @tf.function repeatedly in a loop, (2) passing tensors with different shapes, (3) passing Python objects instead of tensors. For (1), please define your @tf.function outside of the loop. For (2), @tf.function has experimental_relax_shapes=True option that relaxes argument shapes that can avoid unnecessary retracing. For (3), please refer to https://www.tensorflow.org/tutorials/customization/performance#python_or_tensor_args and https://www.tensorflow.org/api_docs/python/tf/function for  more details.\n"
          ],
          "name": "stdout"
        },
        {
          "output_type": "stream",
          "text": [
            "\r 93%|█████████▎| 102/110 [09:12<00:46,  5.82s/it]"
          ],
          "name": "stderr"
        },
        {
          "output_type": "stream",
          "text": [
            "WARNING:tensorflow:11 out of the last 11 calls to <function Model.make_predict_function.<locals>.predict_function at 0x7f5760d7a488> triggered tf.function retracing. Tracing is expensive and the excessive number of tracings could be due to (1) creating @tf.function repeatedly in a loop, (2) passing tensors with different shapes, (3) passing Python objects instead of tensors. For (1), please define your @tf.function outside of the loop. For (2), @tf.function has experimental_relax_shapes=True option that relaxes argument shapes that can avoid unnecessary retracing. For (3), please refer to https://www.tensorflow.org/tutorials/customization/performance#python_or_tensor_args and https://www.tensorflow.org/api_docs/python/tf/function for  more details.\n"
          ],
          "name": "stdout"
        },
        {
          "output_type": "stream",
          "text": [
            "\r 94%|█████████▎| 103/110 [09:17<00:39,  5.68s/it]"
          ],
          "name": "stderr"
        },
        {
          "output_type": "stream",
          "text": [
            "WARNING:tensorflow:11 out of the last 11 calls to <function Model.make_predict_function.<locals>.predict_function at 0x7f575c238950> triggered tf.function retracing. Tracing is expensive and the excessive number of tracings could be due to (1) creating @tf.function repeatedly in a loop, (2) passing tensors with different shapes, (3) passing Python objects instead of tensors. For (1), please define your @tf.function outside of the loop. For (2), @tf.function has experimental_relax_shapes=True option that relaxes argument shapes that can avoid unnecessary retracing. For (3), please refer to https://www.tensorflow.org/tutorials/customization/performance#python_or_tensor_args and https://www.tensorflow.org/api_docs/python/tf/function for  more details.\n"
          ],
          "name": "stdout"
        },
        {
          "output_type": "stream",
          "text": [
            "\r 95%|█████████▍| 104/110 [09:23<00:34,  5.69s/it]"
          ],
          "name": "stderr"
        },
        {
          "output_type": "stream",
          "text": [
            "WARNING:tensorflow:11 out of the last 11 calls to <function Model.make_predict_function.<locals>.predict_function at 0x7f575c7790d0> triggered tf.function retracing. Tracing is expensive and the excessive number of tracings could be due to (1) creating @tf.function repeatedly in a loop, (2) passing tensors with different shapes, (3) passing Python objects instead of tensors. For (1), please define your @tf.function outside of the loop. For (2), @tf.function has experimental_relax_shapes=True option that relaxes argument shapes that can avoid unnecessary retracing. For (3), please refer to https://www.tensorflow.org/tutorials/customization/performance#python_or_tensor_args and https://www.tensorflow.org/api_docs/python/tf/function for  more details.\n"
          ],
          "name": "stdout"
        },
        {
          "output_type": "stream",
          "text": [
            "\r 95%|█████████▌| 105/110 [09:28<00:28,  5.63s/it]"
          ],
          "name": "stderr"
        },
        {
          "output_type": "stream",
          "text": [
            "WARNING:tensorflow:11 out of the last 11 calls to <function Model.make_predict_function.<locals>.predict_function at 0x7f5758710400> triggered tf.function retracing. Tracing is expensive and the excessive number of tracings could be due to (1) creating @tf.function repeatedly in a loop, (2) passing tensors with different shapes, (3) passing Python objects instead of tensors. For (1), please define your @tf.function outside of the loop. For (2), @tf.function has experimental_relax_shapes=True option that relaxes argument shapes that can avoid unnecessary retracing. For (3), please refer to https://www.tensorflow.org/tutorials/customization/performance#python_or_tensor_args and https://www.tensorflow.org/api_docs/python/tf/function for  more details.\n"
          ],
          "name": "stdout"
        },
        {
          "output_type": "stream",
          "text": [
            "\r 96%|█████████▋| 106/110 [09:34<00:22,  5.57s/it]"
          ],
          "name": "stderr"
        },
        {
          "output_type": "stream",
          "text": [
            "WARNING:tensorflow:11 out of the last 11 calls to <function Model.make_predict_function.<locals>.predict_function at 0x7f57588ce598> triggered tf.function retracing. Tracing is expensive and the excessive number of tracings could be due to (1) creating @tf.function repeatedly in a loop, (2) passing tensors with different shapes, (3) passing Python objects instead of tensors. For (1), please define your @tf.function outside of the loop. For (2), @tf.function has experimental_relax_shapes=True option that relaxes argument shapes that can avoid unnecessary retracing. For (3), please refer to https://www.tensorflow.org/tutorials/customization/performance#python_or_tensor_args and https://www.tensorflow.org/api_docs/python/tf/function for  more details.\n"
          ],
          "name": "stdout"
        },
        {
          "output_type": "stream",
          "text": [
            "\r 97%|█████████▋| 107/110 [09:39<00:16,  5.44s/it]"
          ],
          "name": "stderr"
        },
        {
          "output_type": "stream",
          "text": [
            "WARNING:tensorflow:11 out of the last 11 calls to <function Model.make_predict_function.<locals>.predict_function at 0x7f575a92e730> triggered tf.function retracing. Tracing is expensive and the excessive number of tracings could be due to (1) creating @tf.function repeatedly in a loop, (2) passing tensors with different shapes, (3) passing Python objects instead of tensors. For (1), please define your @tf.function outside of the loop. For (2), @tf.function has experimental_relax_shapes=True option that relaxes argument shapes that can avoid unnecessary retracing. For (3), please refer to https://www.tensorflow.org/tutorials/customization/performance#python_or_tensor_args and https://www.tensorflow.org/api_docs/python/tf/function for  more details.\n"
          ],
          "name": "stdout"
        },
        {
          "output_type": "stream",
          "text": [
            "\r 98%|█████████▊| 108/110 [09:45<00:11,  5.67s/it]"
          ],
          "name": "stderr"
        },
        {
          "output_type": "stream",
          "text": [
            "WARNING:tensorflow:11 out of the last 11 calls to <function Model.make_predict_function.<locals>.predict_function at 0x7f5761976488> triggered tf.function retracing. Tracing is expensive and the excessive number of tracings could be due to (1) creating @tf.function repeatedly in a loop, (2) passing tensors with different shapes, (3) passing Python objects instead of tensors. For (1), please define your @tf.function outside of the loop. For (2), @tf.function has experimental_relax_shapes=True option that relaxes argument shapes that can avoid unnecessary retracing. For (3), please refer to https://www.tensorflow.org/tutorials/customization/performance#python_or_tensor_args and https://www.tensorflow.org/api_docs/python/tf/function for  more details.\n"
          ],
          "name": "stdout"
        },
        {
          "output_type": "stream",
          "text": [
            "\r 99%|█████████▉| 109/110 [09:50<00:05,  5.54s/it]"
          ],
          "name": "stderr"
        },
        {
          "output_type": "stream",
          "text": [
            "WARNING:tensorflow:11 out of the last 11 calls to <function Model.make_predict_function.<locals>.predict_function at 0x7f5761afc598> triggered tf.function retracing. Tracing is expensive and the excessive number of tracings could be due to (1) creating @tf.function repeatedly in a loop, (2) passing tensors with different shapes, (3) passing Python objects instead of tensors. For (1), please define your @tf.function outside of the loop. For (2), @tf.function has experimental_relax_shapes=True option that relaxes argument shapes that can avoid unnecessary retracing. For (3), please refer to https://www.tensorflow.org/tutorials/customization/performance#python_or_tensor_args and https://www.tensorflow.org/api_docs/python/tf/function for  more details.\n"
          ],
          "name": "stdout"
        },
        {
          "output_type": "stream",
          "text": [
            "100%|██████████| 110/110 [09:54<00:00,  5.40s/it]\n"
          ],
          "name": "stderr"
        }
      ]
    },
    {
      "cell_type": "code",
      "metadata": {
        "colab": {
          "base_uri": "https://localhost:8080/"
        },
        "id": "mZO29b2yQ5Gd",
        "outputId": "56829fe3-b655-4cb5-a4bb-01cb456e3eee"
      },
      "source": [
        "print(finaltestset.shape) #(1747, 1920)"
      ],
      "execution_count": null,
      "outputs": [
        {
          "output_type": "stream",
          "text": [
            "(1747, 1920)\n"
          ],
          "name": "stdout"
        }
      ]
    },
    {
      "cell_type": "code",
      "metadata": {
        "id": "XJkgMddLR9F2",
        "colab": {
          "base_uri": "https://localhost:8080/"
        },
        "outputId": "11c8877f-7cf4-4e95-c6cd-ee01cbb0386a"
      },
      "source": [
        "# detect outliers in the test set\n",
        "print(\"predicting linear...\")\n",
        "yhatLinear = modellinear.predict(finaltestset)\n",
        "print(\"predicting poly...\")\n",
        "yhatPoly = modelpoly.predict(finaltestset)\n",
        "print(\"predicting rbf...\")\n",
        "yhatRBF = modelrbf.predict(finaltestset)\n",
        "print(\"predicting sigmoid...\")\n",
        "yhatSigmoid = modelsigmoid.predict(finaltestset)"
      ],
      "execution_count": null,
      "outputs": [
        {
          "output_type": "stream",
          "text": [
            "predicting linear...\n",
            "predicting poly...\n",
            "predicting rbf...\n",
            "predicting sigmoid...\n"
          ],
          "name": "stdout"
        }
      ]
    },
    {
      "cell_type": "code",
      "metadata": {
        "colab": {
          "base_uri": "https://localhost:8080/"
        },
        "id": "RVyQsj8TSMrp",
        "outputId": "e3a07a98-8b55-4037-ecbd-86d822f03294"
      },
      "source": [
        "print(yhatLinear.shape)"
      ],
      "execution_count": null,
      "outputs": [
        {
          "output_type": "stream",
          "text": [
            "(1747,)\n"
          ],
          "name": "stdout"
        }
      ]
    },
    {
      "cell_type": "code",
      "metadata": {
        "id": "QWIoWvUHSPeX"
      },
      "source": [
        "# evaluate\n",
        "# input: x,y - numpy of shape (n,) \n",
        "# output: percentage of hits\n",
        "def evaluate(x,y):\n",
        "  hit = 0\n",
        "  for i in range(len(y)):\n",
        "    if int(x[i])==int(y[i]):\n",
        "      hit+=1\n",
        "  return hit/len(y)\n",
        "\n",
        "def evaluate2(predicted, expected):\n",
        "    acc = np.mean(np.array(predicted) == np.array(expected))\n",
        "    print(\"Overall accuracy: {}\".format(acc))\n",
        "    acc_dict = {}\n",
        "    for i in range(len(expected)):\n",
        "        expected_class = expected[i]\n",
        "        if expected_class not in acc_dict:\n",
        "            acc_dict[expected_class] = [0, 0]\n",
        "        acc_dict[expected_class][1] += 1\n",
        "        if expected_class == predicted[i]:\n",
        "            acc_dict[expected_class][0] += 1\n",
        "    for k,v in acc_dict.items():\n",
        "        print(\"Accuracy for class {}: {}\".format(k, v[0]/v[1]))\n",
        "    for average in [\"macro\", \"weighted\", \"micro\"]:\n",
        "        f1 = f1_score(expected, predicted, average=average)\n",
        "        print(\"{} f1 score: {}\".format(average, f1))"
      ],
      "execution_count": null,
      "outputs": []
    },
    {
      "cell_type": "code",
      "metadata": {
        "colab": {
          "base_uri": "https://localhost:8080/"
        },
        "id": "QjKi8aEGShUS",
        "outputId": "4ee7438c-0f2f-4be1-cb8e-71b1d5813212"
      },
      "source": [
        "kn = [\"Linear\",\"Poly\",\"RBF\",\"Sigmoid\"]\n",
        "yhats = [yhatLinear,yhatPoly,yhatRBF,yhatSigmoid]\n",
        "print(\"Accuracy - hit rate\")\n",
        "print(\"--------------------------------\")\n",
        "\n",
        "for i in range(len(kn)):\n",
        "  print(\"{}: {}\".format(kn[i],evaluate(yhats[i],testY)))\n"
      ],
      "execution_count": null,
      "outputs": [
        {
          "output_type": "stream",
          "text": [
            "Accuracy - hit rate\n",
            "--------------------------------\n",
            "Linear: 0.683457355466514\n",
            "Poly: 0.6886090440755581\n",
            "RBF: 0.3331425300515169\n",
            "Sigmoid: 0.6794504865483686\n"
          ],
          "name": "stdout"
        }
      ]
    },
    {
      "cell_type": "code",
      "metadata": {
        "colab": {
          "base_uri": "https://localhost:8080/"
        },
        "id": "_PE9TZ_TtFcm",
        "outputId": "d240bd5e-e981-4602-bf6e-11070534aae3"
      },
      "source": [
        "# get index of all 1s/normal class\n",
        "index_normalList = [i for i in range(len(yhatLinear)) if yhatLinear[i]==1]\n",
        "print(\"length of index_normalList\", len(index_normalList))\n",
        "\n",
        "testXfilenames = Xtestvalunknown + X_test\n",
        "normalXfilenames = [testXfilenames[i] for i in index_normalList]\n",
        "print(\"length of normalXfilenames\", len(normalXfilenames))\n",
        "\n",
        "normalLoader = SpecLoaderWnn(normalXfilenames, batch_size,spectrograms_path)\n",
        "normal_predictions = model.predict_classes(x=normalLoader, batch_size=None)\n",
        "\n",
        "print(\"predict using one class svm:\",yhatLinear[:100])\n",
        "for i in range(len(normal_predictions)):\n",
        "  index_yhat = index_normalList[i]\n",
        "  predClass = normal_predictions[i]\n",
        "  # change the value in yhatLinear\n",
        "  yhatLinear[index_yhat] = predClass\n",
        "\n",
        "print(\"prediction of positive classes through base model\", yhatLinear)\n",
        "\n",
        "print(\"\\nLinear - F1 Scores\")\n",
        "print(\"--------------------------------\")\n",
        "print(\"Macro:\", f1_score(actualtestY, yhatLinear, average='macro'))\n",
        "print(\"Micro:\", f1_score(actualtestY, yhatLinear, average='micro'))\n",
        "print(\"Weighted:\", f1_score(actualtestY, yhatLinear, average='weighted'))\n",
        "print(\"None:\", f1_score(actualtestY, yhatLinear, average=None))\n",
        "\n",
        "print(\"\\nEvaluate\\n\")\n",
        "evaluate2(yhatLinear, actualtestY)"
      ],
      "execution_count": null,
      "outputs": [
        {
          "output_type": "stream",
          "text": [
            "length of index_normalList 505\n",
            "length of normalXfilenames 505\n",
            "WARNING:tensorflow:11 out of the last 11 calls to <function Model.make_predict_function.<locals>.predict_function at 0x7f57598dc6a8> triggered tf.function retracing. Tracing is expensive and the excessive number of tracings could be due to (1) creating @tf.function repeatedly in a loop, (2) passing tensors with different shapes, (3) passing Python objects instead of tensors. For (1), please define your @tf.function outside of the loop. For (2), @tf.function has experimental_relax_shapes=True option that relaxes argument shapes that can avoid unnecessary retracing. For (3), please refer to https://www.tensorflow.org/tutorials/customization/performance#python_or_tensor_args and https://www.tensorflow.org/api_docs/python/tf/function for  more details.\n",
            "predict using one class svm: [-1  1 -1 -1 -1 -1  1 -1 -1 -1 -1 -1 -1 -1 -1 -1 -1 -1 -1 -1 -1  1 -1 -1\n",
            " -1 -1 -1 -1 -1 -1 -1 -1 -1 -1 -1 -1 -1  1 -1 -1 -1 -1 -1 -1 -1 -1  1 -1\n",
            " -1 -1 -1 -1 -1 -1 -1  1 -1  1 -1 -1  1 -1 -1  1 -1 -1 -1 -1 -1 -1  1 -1\n",
            " -1 -1 -1  1 -1 -1 -1 -1  1 -1 -1 -1 -1 -1 -1 -1 -1 -1 -1 -1 -1 -1 -1 -1\n",
            " -1 -1 -1 -1]\n",
            "prediction of positive classes through base model [-1  4 -1 ... -1 -1 -1]\n",
            "\n",
            "Linear - F1 Scores\n",
            "--------------------------------\n",
            "Macro: 0.6233993776581975\n",
            "Micro: 0.67830566685747\n",
            "Weighted: 0.6598884054226275\n",
            "None: [0.73704232 0.53246753 0.67241379 0.59333333 0.52601156 0.67912773]\n",
            "\n",
            "Evaluate\n",
            "\n",
            "Overall accuracy: 0.67830566685747\n",
            "Accuracy for class -1: 0.9001161440185831\n",
            "Accuracy for class 2: 0.43842364532019706\n",
            "Accuracy for class 4: 0.6337209302325582\n",
            "Accuracy for class 0: 0.3923444976076555\n",
            "Accuracy for class 3: 0.3991228070175439\n",
            "Accuracy for class 1: 0.527027027027027\n",
            "macro f1 score: 0.6233993776581975\n",
            "weighted f1 score: 0.6598884054226275\n",
            "micro f1 score: 0.67830566685747\n"
          ],
          "name": "stdout"
        }
      ]
    },
    {
      "cell_type": "code",
      "metadata": {
        "colab": {
          "base_uri": "https://localhost:8080/"
        },
        "id": "lHas04zNuCjt",
        "outputId": "7553f46f-60a2-49bf-b157-dfe3c53dbd2d"
      },
      "source": [
        "# get index of all 1s/normal class\n",
        "index_normalList = [i for i in range(len(yhatPoly)) if yhatPoly[i]==1]\n",
        "print(\"length of index_normalList\", len(index_normalList))\n",
        "\n",
        "testXfilenames = Xtestvalunknown + X_test\n",
        "normalXfilenames = [testXfilenames[i] for i in index_normalList]\n",
        "print(\"length of normalXfilenames\", len(normalXfilenames))\n",
        "\n",
        "normalLoader = SpecLoaderWnn(normalXfilenames, batch_size,spectrograms_path)\n",
        "normal_predictions = model.predict_classes(x=normalLoader, batch_size=None)\n",
        "\n",
        "print(\"predict using one class svm:\",yhatPoly[:100])\n",
        "for i in range(len(normal_predictions)):\n",
        "  index_yhat = index_normalList[i]\n",
        "  predClass = normal_predictions[i]\n",
        "  # change the value in yhatPoly\n",
        "  yhatPoly[index_yhat] = predClass\n",
        "\n",
        "print(\"prediction of positive classes through base model\", yhatPoly)\n",
        "\n",
        "print(\"\\nPoly - F1 Scores\")\n",
        "print(\"--------------------------------\")\n",
        "print(\"Macro:\", f1_score(actualtestY, yhatPoly, average='macro'))\n",
        "print(\"Micro:\", f1_score(actualtestY, yhatPoly, average='micro'))\n",
        "print(\"Weighted:\", f1_score(actualtestY, yhatPoly, average='weighted'))\n",
        "print(\"None:\", f1_score(actualtestY, yhatPoly, average=None))\n",
        "\n",
        "print(\"\\nEvaluate\\n\")\n",
        "evaluate2(yhatPoly, actualtestY)"
      ],
      "execution_count": null,
      "outputs": [
        {
          "output_type": "stream",
          "text": [
            "length of index_normalList 482\n",
            "length of normalXfilenames 482\n",
            "predict using one class svm: [-1  1 -1 -1 -1 -1  1 -1 -1 -1 -1 -1 -1 -1 -1 -1 -1 -1 -1 -1 -1 -1 -1 -1\n",
            " -1 -1 -1 -1 -1 -1 -1 -1 -1 -1 -1 -1 -1  1 -1 -1 -1 -1 -1 -1 -1 -1  1 -1\n",
            " -1 -1 -1 -1 -1 -1 -1  1 -1  1 -1 -1  1 -1 -1 -1 -1 -1 -1 -1 -1 -1  1 -1\n",
            " -1 -1 -1 -1 -1 -1 -1 -1  1 -1 -1 -1 -1 -1 -1 -1 -1 -1 -1 -1 -1 -1 -1 -1\n",
            " -1 -1 -1 -1]\n",
            "prediction of positive classes through base model [-1  4 -1 ... -1 -1 -1]\n",
            "\n",
            "Poly - F1 Scores\n",
            "--------------------------------\n",
            "Macro: 0.6267071185604906\n",
            "Micro: 0.6846021751574127\n",
            "Weighted: 0.6653804941979486\n",
            "None: [0.74412041 0.57413249 0.67241379 0.62987013 0.50154799 0.63815789]\n",
            "\n",
            "Evaluate\n",
            "\n",
            "Overall accuracy: 0.6846021751574127\n",
            "Accuracy for class -1: 0.9186991869918699\n",
            "Accuracy for class 2: 0.47783251231527096\n",
            "Accuracy for class 4: 0.563953488372093\n",
            "Accuracy for class 0: 0.4354066985645933\n",
            "Accuracy for class 3: 0.35526315789473684\n",
            "Accuracy for class 1: 0.527027027027027\n",
            "macro f1 score: 0.6267071185604906\n",
            "weighted f1 score: 0.6653804941979486\n",
            "micro f1 score: 0.6846021751574127\n"
          ],
          "name": "stdout"
        }
      ]
    },
    {
      "cell_type": "code",
      "metadata": {
        "colab": {
          "base_uri": "https://localhost:8080/"
        },
        "id": "wi0XjK0ruGVu",
        "outputId": "11e284f7-4169-41d7-985d-1e09402c2ef0"
      },
      "source": [
        "# get index of all 1s/normal class\n",
        "index_normalList = [i for i in range(len(yhatRBF)) if yhatRBF[i]==1]\n",
        "print(\"length of index_normalList\", len(index_normalList))\n",
        "\n",
        "testXfilenames = Xtestvalunknown + X_test\n",
        "normalXfilenames = [testXfilenames[i] for i in index_normalList]\n",
        "print(\"length of normalXfilenames\", len(normalXfilenames))\n",
        "\n",
        "normalLoader = SpecLoaderWnn(normalXfilenames, batch_size,spectrograms_path)\n",
        "normal_predictions = model.predict_classes(x=normalLoader, batch_size=None)\n",
        "\n",
        "print(\"predict using one class svm:\",yhatRBF[:100])\n",
        "for i in range(len(normal_predictions)):\n",
        "  index_yhat = index_normalList[i]\n",
        "  predClass = normal_predictions[i]\n",
        "  # change the value in yhatRBF\n",
        "  yhatRBF[index_yhat] = predClass\n",
        "\n",
        "print(\"prediction of positive classes through base model\", yhatRBF)\n",
        "\n",
        "print(\"\\nRBF - F1 Scores\")\n",
        "print(\"--------------------------------\")\n",
        "print(\"Macro:\", f1_score(actualtestY, yhatRBF, average='macro'))\n",
        "print(\"Micro:\", f1_score(actualtestY, yhatRBF, average='micro'))\n",
        "print(\"Weighted:\", f1_score(actualtestY, yhatRBF, average='weighted'))\n",
        "print(\"None:\", f1_score(actualtestY, yhatRBF, average=None))\n",
        "\n",
        "print(\"\\nEvaluate\\n\")\n",
        "evaluate2(yhatRBF, actualtestY)"
      ],
      "execution_count": null,
      "outputs": [
        {
          "output_type": "stream",
          "text": [
            "length of index_normalList 1217\n",
            "length of normalXfilenames 1217\n",
            "predict using one class svm: [ 1 -1  1  1  1  1 -1  1  1  1  1  1  1  1  1  1 -1  1  1 -1  1  1  1  1\n",
            "  1  1  1  1  1  1  1  1  1  1  1  1  1  1  1 -1  1  1  1 -1  1  1 -1  1\n",
            "  1  1  1  1  1  1  1 -1  1 -1  1  1 -1  1  1  1  1  1  1  1  1  1 -1 -1\n",
            "  1  1  1 -1  1  1  1  1  1 -1  1  1  1  1  1  1  1  1  1  1  1  1 -1  1\n",
            "  1  1  1  1]\n",
            "prediction of positive classes through base model [ 4 -1  0 ...  3  2 -1]\n",
            "\n",
            "RBF - F1 Scores\n",
            "--------------------------------\n",
            "Macro: 0.3466274763647119\n",
            "Micro: 0.3113909559244419\n",
            "Weighted: 0.288500974605474\n",
            "None: [0.16247304 0.41532258 0.20437956 0.50731707 0.41577061 0.37450199]\n",
            "\n",
            "Evaluate\n",
            "\n",
            "Overall accuracy: 0.3113909559244419\n",
            "Accuracy for class -1: 0.13124274099883856\n",
            "Accuracy for class 2: 0.5123152709359606\n",
            "Accuracy for class 4: 0.5465116279069767\n",
            "Accuracy for class 0: 0.49282296650717705\n",
            "Accuracy for class 3: 0.5087719298245614\n",
            "Accuracy for class 1: 0.1891891891891892\n",
            "macro f1 score: 0.3466274763647119\n",
            "weighted f1 score: 0.288500974605474\n",
            "micro f1 score: 0.3113909559244419\n"
          ],
          "name": "stdout"
        }
      ]
    },
    {
      "cell_type": "code",
      "metadata": {
        "colab": {
          "base_uri": "https://localhost:8080/"
        },
        "id": "czMmZFNMuLeZ",
        "outputId": "8e8e3d98-6d0e-4e81-e088-ce32c2be52d9"
      },
      "source": [
        "# get index of all 1s/normal class\n",
        "index_normalList = [i for i in range(len(yhatSigmoid)) if yhatSigmoid[i]==1]\n",
        "print(\"length of index_normalList\", len(index_normalList))\n",
        "\n",
        "testXfilenames = Xtestvalunknown + X_test\n",
        "normalXfilenames = [testXfilenames[i] for i in index_normalList]\n",
        "print(\"length of normalXfilenames\", len(normalXfilenames))\n",
        "\n",
        "normalLoader = SpecLoaderWnn(normalXfilenames, batch_size,spectrograms_path)\n",
        "normal_predictions = model.predict_classes(x=normalLoader, batch_size=None)\n",
        "\n",
        "print(\"predict using one class svm:\",yhatSigmoid[:100])\n",
        "for i in range(len(normal_predictions)):\n",
        "  index_yhat = index_normalList[i]\n",
        "  predClass = normal_predictions[i]\n",
        "  # change the value in yhatSigmoid\n",
        "  yhatSigmoid[index_yhat] = predClass\n",
        "\n",
        "print(\"prediction of positive classes through base model\", yhatSigmoid)\n",
        "\n",
        "print(\"\\nSigmoid - F1 Scores\")\n",
        "print(\"--------------------------------\")\n",
        "print(\"Macro:\", f1_score(actualtestY, yhatSigmoid, average='macro'))\n",
        "print(\"Micro:\", f1_score(actualtestY, yhatSigmoid, average='micro'))\n",
        "print(\"Weighted:\", f1_score(actualtestY, yhatSigmoid, average='weighted'))\n",
        "print(\"None:\", f1_score(actualtestY, yhatSigmoid, average=None))\n",
        "\n",
        "print(\"\\nEvaluate\\n\")\n",
        "evaluate2(yhatSigmoid, actualtestY)"
      ],
      "execution_count": null,
      "outputs": [
        {
          "output_type": "stream",
          "text": [
            "length of index_normalList 504\n",
            "length of normalXfilenames 504\n",
            "predict using one class svm: [-1  1 -1 -1 -1 -1  1 -1 -1 -1 -1 -1 -1 -1 -1 -1 -1 -1 -1 -1 -1  1 -1 -1\n",
            " -1 -1 -1 -1 -1 -1 -1 -1 -1 -1 -1 -1 -1  1 -1 -1 -1 -1 -1 -1 -1 -1  1 -1\n",
            " -1 -1 -1 -1 -1 -1 -1  1 -1  1 -1 -1  1 -1 -1  1 -1 -1 -1 -1 -1 -1  1 -1\n",
            " -1 -1 -1  1 -1 -1 -1 -1  1 -1 -1 -1 -1 -1 -1 -1 -1 -1 -1 -1 -1 -1 -1 -1\n",
            " -1 -1 -1 -1]\n",
            "prediction of positive classes through base model [-1  4 -1 ... -1 -1 -1]\n",
            "\n",
            "Sigmoid - F1 Scores\n",
            "--------------------------------\n",
            "Macro: 0.6178692444865497\n",
            "Micro: 0.6742987979393246\n",
            "Weighted: 0.6546729644028844\n",
            "None: [0.7338403  0.50331126 0.67241379 0.56462585 0.53977273 0.69325153]\n",
            "\n",
            "Evaluate\n",
            "\n",
            "Overall accuracy: 0.6742987979393246\n",
            "Accuracy for class -1: 0.8966318234610917\n",
            "Accuracy for class 2: 0.4088669950738916\n",
            "Accuracy for class 4: 0.6569767441860465\n",
            "Accuracy for class 0: 0.36363636363636365\n",
            "Accuracy for class 3: 0.4166666666666667\n",
            "Accuracy for class 1: 0.527027027027027\n",
            "macro f1 score: 0.6178692444865497\n",
            "weighted f1 score: 0.6546729644028844\n",
            "micro f1 score: 0.6742987979393246\n"
          ],
          "name": "stdout"
        }
      ]
    },
    {
      "cell_type": "markdown",
      "metadata": {
        "id": "R1Z3dV8s8RTv"
      },
      "source": [
        "#Using features extracted from VGGish"
      ]
    },
    {
      "cell_type": "code",
      "metadata": {
        "id": "QUZZxBSZwxaE"
      },
      "source": [
        "from tqdm import tqdm\n",
        "\n",
        "class SpecLoader():\n",
        "  def __init__(self, x_set, spec_dir):\n",
        "    self.x = x_set\n",
        "    self.spec_dir = spec_dir\n",
        "\n",
        "  def __len__(self):\n",
        "    return len(self.x)\n",
        "\n",
        "  def getitem(self):\n",
        "    specs = []\n",
        "    for fileName in tqdm(self.x):\n",
        "        spec = np.load(self.spec_dir + fileName + \".npy\")\n",
        "        specs.append(spec.transpose())\n",
        "    return np.array(specs)\n",
        "\n",
        "  def getitemlist(self):\n",
        "    specs = []\n",
        "    for fileName in tqdm(self.x):\n",
        "        spec = np.load(self.spec_dir + fileName + \".npy\")\n",
        "        specs.append(spec.transpose())\n",
        "    return specs\n",
        "\n",
        "class SpecLoaderWnn(keras.utils.Sequence):\n",
        "  def __init__(self, x_set, batch_size, spec_dir):\n",
        "    self.x = x_set\n",
        "    self.batch_size = batch_size\n",
        "    self.spec_dir = spec_dir\n",
        "\n",
        "  def __len__(self):\n",
        "    return int(np.ceil(len(self.x) / self.batch_size))\n",
        "\n",
        "  def __getitem__(self, idx):\n",
        "    batch_x = self.x[idx * self.batch_size:(idx + 1) * self.batch_size]\n",
        "    # batch_y = self.y[idx * self.batch_size:(idx + 1) * self.batch_size]\n",
        "\n",
        "    batchSpecs = []\n",
        "    for fileName in batch_x:\n",
        "        spec = np.load(self.spec_dir + fileName + \".npy\")\n",
        "        batchSpecs.append(spec.transpose())\n",
        "    return np.array(batchSpecs)"
      ],
      "execution_count": null,
      "outputs": []
    },
    {
      "cell_type": "code",
      "metadata": {
        "id": "1VTTpIbX-QCe"
      },
      "source": [
        "# original, shape into OneClassSVM: (3543, 96000)\n",
        "# after VGGish, shape into OneClassSVM: (3543, 128)\n",
        "\n",
        "batch_size = 16"
      ],
      "execution_count": null,
      "outputs": []
    },
    {
      "cell_type": "code",
      "metadata": {
        "id": "hkLtwfUUN9m0"
      },
      "source": [
        "from sklearn.model_selection import train_test_split\n",
        "\n",
        "vggfeatures_path = os.path.join(root_path,\"embeddings/\")\n",
        "\n",
        "data_df = pd.read_csv(csv_path)\n",
        "data_df_known = data_df.loc[data_df[\"classID\"] < 5]\n",
        "data_df_unknown = data_df.loc[data_df[\"classID\"] >= 5]\n",
        "\n",
        "Xtrainval, X_test, Ytrainval, y_test = train_test_split(data_df_known['slice_file_name'].tolist(), data_df_known['classID'].tolist(), test_size=test_size, random_state = 42)\n"
      ],
      "execution_count": null,
      "outputs": []
    },
    {
      "cell_type": "code",
      "metadata": {
        "colab": {
          "base_uri": "https://localhost:8080/"
        },
        "id": "tW_dOUYJ9Att",
        "outputId": "78931aa3-7d93-4b91-95fd-77dee8b344d1"
      },
      "source": [
        "#Xtrainval = data_df_known['slice_file_name'].tolist()\n",
        "#Ytrainval = data_df_known['classID'].tolist()\n",
        "\n",
        "slvgg = SpecLoader(Xtrainval, vggfeatures_path)\n",
        "trainX = slvgg.getitem()\n",
        "\n",
        "print(trainX.shape)\n"
      ],
      "execution_count": null,
      "outputs": [
        {
          "output_type": "stream",
          "text": [
            "\n",
            "  0%|          | 0/3543 [00:00<?, ?it/s]\u001b[A\n",
            "  2%|▏         | 56/3543 [00:00<00:06, 558.09it/s]\u001b[A\n",
            "  3%|▎         | 110/3543 [00:00<00:06, 552.13it/s]\u001b[A\n",
            "  5%|▍         | 174/3543 [00:00<00:05, 575.68it/s]\u001b[A\n",
            "  7%|▋         | 235/3543 [00:00<00:05, 583.86it/s]\u001b[A\n",
            "  8%|▊         | 295/3543 [00:00<00:05, 586.17it/s]\u001b[A\n",
            " 10%|▉         | 351/3543 [00:00<00:05, 575.86it/s]\u001b[A\n",
            " 11%|█▏        | 406/3543 [00:00<00:05, 565.29it/s]\u001b[A\n",
            " 13%|█▎        | 466/3543 [00:00<00:05, 573.35it/s]\u001b[A\n",
            " 13%|█▎        | 466/3543 [00:16<00:05, 573.35it/s]\u001b[A\n",
            " 14%|█▍        | 497/3543 [00:16<07:50,  6.47it/s] \u001b[A\n",
            " 14%|█▍        | 498/3543 [00:17<14:21,  3.53it/s]\u001b[A\n",
            " 14%|█▍        | 499/3543 [00:17<19:55,  2.55it/s]\u001b[A\n",
            " 14%|█▍        | 500/3543 [00:18<21:22,  2.37it/s]\u001b[A\n",
            " 14%|█▍        | 501/3543 [00:18<22:09,  2.29it/s]\u001b[A\n",
            " 14%|█▍        | 502/3543 [00:19<24:50,  2.04it/s]\u001b[A\n",
            " 14%|█▍        | 503/3543 [00:19<25:32,  1.98it/s]\u001b[A\n",
            " 14%|█▍        | 504/3543 [00:20<25:57,  1.95it/s]\u001b[A\n",
            " 14%|█▍        | 505/3543 [00:21<26:14,  1.93it/s]\u001b[A\n",
            " 14%|█▍        | 506/3543 [00:21<27:34,  1.84it/s]\u001b[A\n",
            " 14%|█▍        | 507/3543 [00:22<27:05,  1.87it/s]\u001b[A\n",
            " 14%|█▍        | 508/3543 [00:22<26:35,  1.90it/s]\u001b[A\n",
            " 14%|█▍        | 509/3543 [00:23<28:09,  1.80it/s]\u001b[A\n",
            " 14%|█▍        | 510/3543 [00:23<26:33,  1.90it/s]\u001b[A\n",
            " 14%|█▍        | 511/3543 [00:24<28:08,  1.80it/s]\u001b[A\n",
            " 14%|█▍        | 512/3543 [00:24<27:56,  1.81it/s]\u001b[A\n",
            " 14%|█▍        | 513/3543 [00:25<28:25,  1.78it/s]\u001b[A\n",
            " 15%|█▍        | 514/3543 [00:26<27:48,  1.81it/s]\u001b[A\n",
            " 15%|█▍        | 515/3543 [00:26<28:39,  1.76it/s]\u001b[A\n",
            " 15%|█▍        | 516/3543 [00:27<27:02,  1.87it/s]\u001b[A\n",
            " 15%|█▍        | 517/3543 [00:27<26:53,  1.88it/s]\u001b[A\n",
            " 15%|█▍        | 518/3543 [00:27<23:56,  2.11it/s]\u001b[A\n",
            " 15%|█▍        | 519/3543 [00:28<24:32,  2.05it/s]\u001b[A\n",
            " 15%|█▍        | 520/3543 [00:29<26:23,  1.91it/s]\u001b[A\n",
            " 15%|█▍        | 521/3543 [00:29<27:56,  1.80it/s]\u001b[A\n",
            " 15%|█▍        | 522/3543 [00:30<26:58,  1.87it/s]\u001b[A\n",
            " 15%|█▍        | 523/3543 [00:30<28:25,  1.77it/s]\u001b[A\n",
            " 15%|█▍        | 524/3543 [00:31<29:15,  1.72it/s]\u001b[A\n",
            " 15%|█▍        | 525/3543 [00:32<31:29,  1.60it/s]\u001b[A\n",
            " 15%|█▍        | 526/3543 [00:32<29:05,  1.73it/s]\u001b[A\n",
            " 15%|█▍        | 527/3543 [00:33<27:52,  1.80it/s]\u001b[A\n",
            " 15%|█▍        | 528/3543 [00:33<28:59,  1.73it/s]\u001b[A\n",
            " 15%|█▍        | 529/3543 [00:34<28:41,  1.75it/s]\u001b[A\n",
            " 15%|█▍        | 530/3543 [00:35<30:42,  1.63it/s]\u001b[A\n",
            " 15%|█▍        | 531/3543 [00:35<31:11,  1.61it/s]\u001b[A\n",
            " 15%|█▌        | 532/3543 [00:36<26:58,  1.86it/s]\u001b[A\n",
            " 15%|█▌        | 533/3543 [00:36<26:34,  1.89it/s]\u001b[A\n",
            " 15%|█▌        | 534/3543 [00:37<28:56,  1.73it/s]\u001b[A\n",
            " 15%|█▌        | 535/3543 [00:37<27:42,  1.81it/s]\u001b[A\n",
            " 15%|█▌        | 536/3543 [00:38<27:04,  1.85it/s]\u001b[A\n",
            " 15%|█▌        | 537/3543 [00:38<28:14,  1.77it/s]\u001b[A\n",
            " 15%|█▌        | 538/3543 [00:39<29:14,  1.71it/s]\u001b[A\n",
            " 15%|█▌        | 539/3543 [00:40<28:32,  1.75it/s]\u001b[A\n",
            " 15%|█▌        | 540/3543 [00:40<28:06,  1.78it/s]\u001b[A\n",
            " 15%|█▌        | 541/3543 [00:41<28:20,  1.77it/s]\u001b[A\n",
            " 15%|█▌        | 542/3543 [00:41<29:18,  1.71it/s]\u001b[A\n",
            " 15%|█▌        | 543/3543 [00:42<27:46,  1.80it/s]\u001b[A\n",
            " 15%|█▌        | 544/3543 [00:42<29:03,  1.72it/s]\u001b[A\n",
            " 15%|█▌        | 545/3543 [00:43<28:44,  1.74it/s]\u001b[A\n",
            " 15%|█▌        | 546/3543 [00:44<29:52,  1.67it/s]\u001b[A\n",
            " 15%|█▌        | 547/3543 [00:44<29:47,  1.68it/s]\u001b[A\n",
            " 15%|█▌        | 548/3543 [00:45<28:47,  1.73it/s]\u001b[A\n",
            " 15%|█▌        | 549/3543 [00:45<29:44,  1.68it/s]\u001b[A\n",
            " 16%|█▌        | 550/3543 [00:46<30:24,  1.64it/s]\u001b[A\n",
            " 16%|█▌        | 551/3543 [00:47<28:59,  1.72it/s]\u001b[A\n",
            " 16%|█▌        | 552/3543 [00:47<27:26,  1.82it/s]\u001b[A\n",
            " 16%|█▌        | 553/3543 [00:48<29:12,  1.71it/s]\u001b[A\n",
            " 16%|█▌        | 554/3543 [00:48<27:28,  1.81it/s]\u001b[A\n",
            " 16%|█▌        | 555/3543 [00:49<26:10,  1.90it/s]\u001b[A\n",
            " 16%|█▌        | 556/3543 [00:49<26:02,  1.91it/s]\u001b[A\n",
            " 16%|█▌        | 557/3543 [00:50<27:05,  1.84it/s]\u001b[A\n",
            " 16%|█▌        | 558/3543 [00:50<28:20,  1.76it/s]\u001b[A\n",
            " 16%|█▌        | 559/3543 [00:51<27:25,  1.81it/s]\u001b[A\n",
            " 16%|█▌        | 560/3543 [00:51<26:41,  1.86it/s]\u001b[A\n",
            " 16%|█▌        | 561/3543 [00:52<27:52,  1.78it/s]\u001b[A\n",
            " 16%|█▌        | 562/3543 [00:52<24:55,  1.99it/s]\u001b[A\n",
            " 16%|█▌        | 563/3543 [00:53<27:19,  1.82it/s]\u001b[A\n",
            " 16%|█▌        | 564/3543 [00:54<28:03,  1.77it/s]\u001b[A\n",
            " 16%|█▌        | 565/3543 [00:55<40:30,  1.23it/s]\u001b[A\n",
            " 16%|█▌        | 566/3543 [00:56<35:56,  1.38it/s]\u001b[A\n",
            " 16%|█▌        | 567/3543 [00:56<32:30,  1.53it/s]\u001b[A\n",
            " 16%|█▌        | 568/3543 [00:57<29:50,  1.66it/s]\u001b[A\n",
            " 16%|█▌        | 569/3543 [00:57<28:48,  1.72it/s]\u001b[A\n",
            " 16%|█▌        | 570/3543 [00:58<27:31,  1.80it/s]\u001b[A\n",
            " 16%|█▌        | 571/3543 [00:58<26:35,  1.86it/s]\u001b[A\n",
            " 16%|█▌        | 572/3543 [00:59<27:29,  1.80it/s]\u001b[A\n",
            " 16%|█▌        | 573/3543 [00:59<27:42,  1.79it/s]\u001b[A\n",
            " 16%|█▌        | 574/3543 [01:00<26:18,  1.88it/s]\u001b[A\n",
            " 16%|█▌        | 575/3543 [01:00<27:33,  1.80it/s]\u001b[A\n",
            " 16%|█▋        | 576/3543 [01:01<26:38,  1.86it/s]\u001b[A\n",
            " 16%|█▋        | 577/3543 [01:01<26:05,  1.89it/s]\u001b[A\n",
            " 16%|█▋        | 578/3543 [01:02<25:39,  1.93it/s]\u001b[A\n",
            " 16%|█▋        | 579/3543 [01:02<27:38,  1.79it/s]\u001b[A\n",
            " 16%|█▋        | 580/3543 [01:03<26:47,  1.84it/s]\u001b[A\n",
            " 16%|█▋        | 581/3543 [01:04<27:59,  1.76it/s]\u001b[A\n",
            " 16%|█▋        | 582/3543 [01:04<28:58,  1.70it/s]\u001b[A\n",
            " 16%|█▋        | 583/3543 [01:05<29:05,  1.70it/s]\u001b[A\n",
            " 16%|█▋        | 584/3543 [01:05<29:28,  1.67it/s]\u001b[A\n",
            " 17%|█▋        | 585/3543 [01:06<28:35,  1.72it/s]\u001b[A\n",
            " 17%|█▋        | 586/3543 [01:07<29:12,  1.69it/s]\u001b[A\n",
            " 17%|█▋        | 587/3543 [01:07<29:46,  1.65it/s]\u001b[A\n",
            " 17%|█▋        | 588/3543 [01:08<30:13,  1.63it/s]\u001b[A\n",
            " 17%|█▋        | 589/3543 [01:08<29:33,  1.67it/s]\u001b[A\n",
            " 17%|█▋        | 590/3543 [01:09<30:05,  1.64it/s]\u001b[A\n",
            " 17%|█▋        | 591/3543 [01:10<29:36,  1.66it/s]\u001b[A\n",
            " 17%|█▋        | 592/3543 [01:10<29:59,  1.64it/s]\u001b[A\n",
            " 17%|█▋        | 593/3543 [01:11<28:18,  1.74it/s]\u001b[A\n",
            " 17%|█▋        | 594/3543 [01:11<29:26,  1.67it/s]\u001b[A\n",
            " 17%|█▋        | 595/3543 [01:12<29:33,  1.66it/s]\u001b[A\n",
            " 17%|█▋        | 596/3543 [01:13<29:11,  1.68it/s]\u001b[A\n",
            " 17%|█▋        | 597/3543 [01:13<29:22,  1.67it/s]\u001b[A\n",
            " 17%|█▋        | 598/3543 [01:14<29:32,  1.66it/s]\u001b[A\n",
            " 17%|█▋        | 599/3543 [01:14<30:23,  1.61it/s]\u001b[A\n",
            " 17%|█▋        | 600/3543 [01:15<28:32,  1.72it/s]\u001b[A\n",
            " 17%|█▋        | 601/3543 [01:15<26:45,  1.83it/s]\u001b[A\n",
            " 17%|█▋        | 602/3543 [01:16<27:56,  1.75it/s]\u001b[A\n",
            " 17%|█▋        | 603/3543 [01:17<29:07,  1.68it/s]\u001b[A\n",
            " 17%|█▋        | 604/3543 [01:18<32:10,  1.52it/s]\u001b[A\n",
            " 17%|█▋        | 605/3543 [01:18<29:58,  1.63it/s]\u001b[A\n",
            " 17%|█▋        | 606/3543 [01:19<29:34,  1.66it/s]\u001b[A\n",
            " 17%|█▋        | 607/3543 [01:19<27:53,  1.75it/s]\u001b[A\n",
            " 17%|█▋        | 608/3543 [01:20<29:21,  1.67it/s]\u001b[A\n",
            " 17%|█▋        | 609/3543 [01:20<27:14,  1.80it/s]\u001b[A\n",
            " 17%|█▋        | 610/3543 [01:21<28:19,  1.73it/s]\u001b[A\n",
            " 17%|█▋        | 611/3543 [01:21<27:08,  1.80it/s]\u001b[A\n",
            " 17%|█▋        | 612/3543 [01:22<28:05,  1.74it/s]\u001b[A\n",
            " 17%|█▋        | 613/3543 [01:22<24:11,  2.02it/s]\u001b[A\n",
            " 17%|█▋        | 614/3543 [01:23<25:08,  1.94it/s]\u001b[A\n",
            " 17%|█▋        | 615/3543 [01:23<25:32,  1.91it/s]\u001b[A\n",
            " 17%|█▋        | 616/3543 [01:24<26:22,  1.85it/s]\u001b[A\n",
            " 17%|█▋        | 617/3543 [01:24<25:36,  1.90it/s]\u001b[A\n",
            " 17%|█▋        | 618/3543 [01:25<24:50,  1.96it/s]\u001b[A\n",
            " 17%|█▋        | 619/3543 [01:26<26:14,  1.86it/s]\u001b[A\n",
            " 17%|█▋        | 620/3543 [01:26<27:27,  1.77it/s]\u001b[A\n",
            " 18%|█▊        | 621/3543 [01:27<26:00,  1.87it/s]\u001b[A\n",
            " 18%|█▊        | 622/3543 [01:27<28:02,  1.74it/s]\u001b[A\n",
            " 18%|█▊        | 623/3543 [01:28<28:30,  1.71it/s]\u001b[A\n",
            " 18%|█▊        | 624/3543 [01:28<27:08,  1.79it/s]\u001b[A\n",
            " 18%|█▊        | 625/3543 [01:29<26:13,  1.85it/s]\u001b[A\n",
            " 18%|█▊        | 626/3543 [01:29<25:37,  1.90it/s]\u001b[A\n",
            " 18%|█▊        | 627/3543 [01:30<27:02,  1.80it/s]\u001b[A\n",
            " 18%|█▊        | 628/3543 [01:30<25:39,  1.89it/s]\u001b[A\n",
            " 18%|█▊        | 629/3543 [01:31<27:20,  1.78it/s]\u001b[A\n",
            " 18%|█▊        | 630/3543 [01:32<26:36,  1.82it/s]\u001b[A\n",
            " 18%|█▊        | 631/3543 [01:32<25:13,  1.92it/s]\u001b[A\n",
            " 18%|█▊        | 632/3543 [01:33<25:08,  1.93it/s]\u001b[A\n",
            " 18%|█▊        | 633/3543 [01:33<24:39,  1.97it/s]\u001b[A\n",
            " 18%|█▊        | 634/3543 [01:34<24:30,  1.98it/s]\u001b[A\n",
            " 18%|█▊        | 635/3543 [01:34<24:21,  1.99it/s]\u001b[A\n",
            " 18%|█▊        | 636/3543 [01:35<25:54,  1.87it/s]\u001b[A\n",
            " 18%|█▊        | 637/3543 [01:36<30:05,  1.61it/s]\u001b[A\n",
            " 18%|█▊        | 638/3543 [01:36<27:47,  1.74it/s]\u001b[A\n",
            " 18%|█▊        | 639/3543 [01:37<28:25,  1.70it/s]\u001b[A\n",
            " 18%|█▊        | 640/3543 [01:37<27:02,  1.79it/s]\u001b[A\n",
            " 18%|█▊        | 641/3543 [01:38<25:45,  1.88it/s]\u001b[A\n",
            " 18%|█▊        | 642/3543 [01:38<25:24,  1.90it/s]\u001b[A\n",
            " 18%|█▊        | 643/3543 [01:39<27:07,  1.78it/s]\u001b[A\n",
            " 18%|█▊        | 644/3543 [01:39<26:25,  1.83it/s]\u001b[A\n",
            " 18%|█▊        | 645/3543 [01:40<26:55,  1.79it/s]\u001b[A\n",
            " 18%|█▊        | 646/3543 [01:40<26:24,  1.83it/s]\u001b[A\n",
            " 18%|█▊        | 647/3543 [01:41<25:16,  1.91it/s]\u001b[A\n",
            " 18%|█▊        | 648/3543 [01:41<24:50,  1.94it/s]\u001b[A\n",
            " 18%|█▊        | 649/3543 [01:42<26:33,  1.82it/s]\u001b[A\n",
            " 18%|█▊        | 650/3543 [01:42<26:01,  1.85it/s]\u001b[A\n",
            " 18%|█▊        | 651/3543 [01:43<26:51,  1.79it/s]\u001b[A\n",
            " 18%|█▊        | 652/3543 [01:44<28:05,  1.72it/s]\u001b[A\n",
            " 18%|█▊        | 653/3543 [01:44<27:18,  1.76it/s]\u001b[A\n",
            " 18%|█▊        | 654/3543 [01:45<28:19,  1.70it/s]\u001b[A\n",
            " 18%|█▊        | 655/3543 [01:45<26:16,  1.83it/s]\u001b[A\n",
            " 19%|█▊        | 656/3543 [01:46<27:17,  1.76it/s]\u001b[A\n",
            " 19%|█▊        | 657/3543 [01:47<28:03,  1.71it/s]\u001b[A\n",
            " 19%|█▊        | 658/3543 [01:47<27:48,  1.73it/s]\u001b[A\n",
            " 19%|█▊        | 659/3543 [01:48<28:17,  1.70it/s]\u001b[A\n",
            " 19%|█▊        | 660/3543 [01:48<27:51,  1.72it/s]\u001b[A\n",
            " 19%|█▊        | 661/3543 [01:49<29:10,  1.65it/s]\u001b[A\n",
            " 19%|█▊        | 662/3543 [01:49<26:46,  1.79it/s]\u001b[A\n",
            " 19%|█▊        | 663/3543 [01:50<25:54,  1.85it/s]\u001b[A\n",
            " 19%|█▊        | 664/3543 [01:51<30:51,  1.56it/s]\u001b[A\n",
            " 19%|█▉        | 665/3543 [01:51<26:32,  1.81it/s]\u001b[A\n",
            " 19%|█▉        | 666/3543 [01:52<27:43,  1.73it/s]\u001b[A\n",
            " 19%|█▉        | 667/3543 [01:52<28:04,  1.71it/s]\u001b[A\n",
            " 19%|█▉        | 668/3543 [01:53<27:05,  1.77it/s]\u001b[A\n",
            " 19%|█▉        | 669/3543 [01:53<25:37,  1.87it/s]\u001b[A\n",
            " 19%|█▉        | 670/3543 [01:54<27:30,  1.74it/s]\u001b[A\n",
            " 19%|█▉        | 671/3543 [01:55<28:44,  1.67it/s]\u001b[A\n",
            " 19%|█▉        | 672/3543 [01:55<28:35,  1.67it/s]\u001b[A\n",
            " 19%|█▉        | 673/3543 [01:56<27:28,  1.74it/s]\u001b[A\n",
            " 19%|█▉        | 674/3543 [01:56<25:56,  1.84it/s]\u001b[A\n",
            " 19%|█▉        | 675/3543 [01:57<28:06,  1.70it/s]\u001b[A\n",
            " 19%|█▉        | 676/3543 [01:58<28:16,  1.69it/s]\u001b[A\n",
            " 19%|█▉        | 677/3543 [01:58<29:21,  1.63it/s]\u001b[A\n",
            " 19%|█▉        | 678/3543 [01:59<29:12,  1.63it/s]\u001b[A\n",
            " 19%|█▉        | 679/3543 [01:59<29:40,  1.61it/s]\u001b[A\n",
            " 19%|█▉        | 680/3543 [02:00<28:59,  1.65it/s]\u001b[A\n",
            " 19%|█▉        | 681/3543 [02:01<29:11,  1.63it/s]\u001b[A\n",
            " 19%|█▉        | 682/3543 [02:01<28:24,  1.68it/s]\u001b[A\n",
            " 19%|█▉        | 683/3543 [02:02<30:47,  1.55it/s]\u001b[A\n",
            " 19%|█▉        | 684/3543 [02:03<31:18,  1.52it/s]\u001b[A\n",
            " 19%|█▉        | 685/3543 [02:03<30:45,  1.55it/s]\u001b[A\n",
            " 19%|█▉        | 686/3543 [02:04<29:03,  1.64it/s]\u001b[A\n",
            " 19%|█▉        | 687/3543 [02:04<27:34,  1.73it/s]\u001b[A\n",
            " 19%|█▉        | 688/3543 [02:05<26:53,  1.77it/s]\u001b[A\n",
            " 19%|█▉        | 689/3543 [02:05<26:25,  1.80it/s]\u001b[A\n",
            " 19%|█▉        | 690/3543 [02:06<25:31,  1.86it/s]\u001b[A\n",
            " 20%|█▉        | 691/3543 [02:06<26:36,  1.79it/s]\u001b[A\n",
            " 20%|█▉        | 692/3543 [02:07<25:19,  1.88it/s]\u001b[A\n",
            " 20%|█▉        | 693/3543 [02:07<24:21,  1.95it/s]\u001b[A\n",
            " 20%|█▉        | 694/3543 [02:08<26:32,  1.79it/s]\u001b[A\n",
            " 20%|█▉        | 695/3543 [02:09<27:18,  1.74it/s]\u001b[A\n",
            " 20%|█▉        | 696/3543 [02:09<27:05,  1.75it/s]\u001b[A\n",
            " 20%|█▉        | 697/3543 [02:10<28:24,  1.67it/s]\u001b[A\n",
            " 20%|█▉        | 698/3543 [02:10<26:27,  1.79it/s]\u001b[A\n",
            " 20%|█▉        | 699/3543 [02:11<27:28,  1.73it/s]\u001b[A\n",
            " 20%|█▉        | 700/3543 [02:11<26:02,  1.82it/s]\u001b[A\n",
            " 20%|█▉        | 701/3543 [02:12<25:03,  1.89it/s]\u001b[A\n",
            " 20%|█▉        | 702/3543 [02:13<26:28,  1.79it/s]\u001b[A\n",
            " 20%|█▉        | 703/3543 [02:13<25:12,  1.88it/s]\u001b[A\n",
            " 20%|█▉        | 704/3543 [02:14<26:30,  1.79it/s]\u001b[A\n",
            " 20%|█▉        | 705/3543 [02:14<25:51,  1.83it/s]\u001b[A\n",
            " 20%|█▉        | 706/3543 [02:15<24:49,  1.90it/s]\u001b[A\n",
            " 20%|█▉        | 707/3543 [02:15<24:50,  1.90it/s]\u001b[A\n",
            " 20%|█▉        | 708/3543 [02:16<26:47,  1.76it/s]\u001b[A\n",
            " 20%|██        | 709/3543 [02:17<29:41,  1.59it/s]\u001b[A\n",
            " 20%|██        | 710/3543 [02:17<27:56,  1.69it/s]\u001b[A\n",
            " 20%|██        | 711/3543 [02:18<26:49,  1.76it/s]\u001b[A\n",
            " 20%|██        | 712/3543 [02:18<28:47,  1.64it/s]\u001b[A\n",
            " 20%|██        | 713/3543 [02:19<29:05,  1.62it/s]\u001b[A\n",
            " 20%|██        | 714/3543 [02:20<29:04,  1.62it/s]\u001b[A\n",
            " 20%|██        | 715/3543 [02:20<26:56,  1.75it/s]\u001b[A\n",
            " 20%|██        | 716/3543 [02:21<28:36,  1.65it/s]\u001b[A\n",
            " 20%|██        | 717/3543 [02:21<27:46,  1.70it/s]\u001b[A\n",
            " 20%|██        | 718/3543 [02:22<28:09,  1.67it/s]\u001b[A\n",
            " 20%|██        | 719/3543 [02:22<26:48,  1.76it/s]\u001b[A\n",
            " 20%|██        | 720/3543 [02:23<25:47,  1.82it/s]\u001b[A\n",
            " 20%|██        | 721/3543 [02:23<25:26,  1.85it/s]\u001b[A\n",
            " 20%|██        | 722/3543 [02:25<41:11,  1.14it/s]\u001b[A\n",
            " 20%|██        | 723/3543 [02:26<36:40,  1.28it/s]\u001b[A\n",
            " 20%|██        | 724/3543 [02:26<32:50,  1.43it/s]\u001b[A\n",
            " 20%|██        | 725/3543 [02:27<29:59,  1.57it/s]\u001b[A\n",
            " 20%|██        | 726/3543 [02:27<28:03,  1.67it/s]\u001b[A\n",
            " 21%|██        | 727/3543 [02:28<28:25,  1.65it/s]\u001b[A\n",
            " 21%|██        | 728/3543 [02:28<27:26,  1.71it/s]\u001b[A\n",
            " 21%|██        | 729/3543 [02:29<26:36,  1.76it/s]\u001b[A\n",
            " 21%|██        | 730/3543 [02:29<26:07,  1.79it/s]\u001b[A\n",
            " 21%|██        | 731/3543 [02:30<25:26,  1.84it/s]\u001b[A\n",
            " 21%|██        | 732/3543 [02:30<24:15,  1.93it/s]\u001b[A\n",
            " 21%|██        | 733/3543 [02:31<26:31,  1.77it/s]\u001b[A\n",
            " 21%|██        | 734/3543 [02:32<27:37,  1.69it/s]\u001b[A\n",
            " 21%|██        | 735/3543 [02:32<26:24,  1.77it/s]\u001b[A\n",
            " 21%|██        | 736/3543 [02:33<25:51,  1.81it/s]\u001b[A\n",
            " 21%|██        | 737/3543 [02:33<27:13,  1.72it/s]\u001b[A\n",
            " 21%|██        | 738/3543 [02:34<27:43,  1.69it/s]\u001b[A\n",
            " 21%|██        | 739/3543 [02:35<27:58,  1.67it/s]\u001b[A\n",
            " 21%|██        | 740/3543 [02:35<28:15,  1.65it/s]\u001b[A\n",
            " 21%|██        | 741/3543 [02:36<27:06,  1.72it/s]\u001b[A\n",
            " 21%|██        | 742/3543 [02:36<26:50,  1.74it/s]\u001b[A\n",
            " 21%|██        | 743/3543 [02:37<25:50,  1.81it/s]\u001b[A\n",
            " 21%|██        | 744/3543 [02:37<26:27,  1.76it/s]\u001b[A\n",
            " 21%|██        | 745/3543 [02:38<25:31,  1.83it/s]\u001b[A\n",
            " 21%|██        | 746/3543 [02:39<25:53,  1.80it/s]\u001b[A\n",
            " 21%|██        | 747/3543 [02:39<27:11,  1.71it/s]\u001b[A\n",
            " 21%|██        | 748/3543 [02:40<28:14,  1.65it/s]\u001b[A\n",
            " 21%|██        | 749/3543 [02:40<28:48,  1.62it/s]\u001b[A\n",
            " 21%|██        | 750/3543 [02:41<27:04,  1.72it/s]\u001b[A\n",
            " 21%|██        | 751/3543 [02:41<25:25,  1.83it/s]\u001b[A\n",
            " 21%|██        | 752/3543 [02:42<24:15,  1.92it/s]\u001b[A\n",
            " 21%|██▏       | 753/3543 [02:43<25:32,  1.82it/s]\u001b[A\n",
            " 21%|██▏       | 754/3543 [02:43<24:08,  1.93it/s]\u001b[A\n",
            " 21%|██▏       | 755/3543 [02:43<24:02,  1.93it/s]\u001b[A\n",
            " 21%|██▏       | 756/3543 [02:44<24:01,  1.93it/s]\u001b[A\n",
            " 21%|██▏       | 757/3543 [02:44<23:20,  1.99it/s]\u001b[A\n",
            " 21%|██▏       | 758/3543 [02:45<23:13,  2.00it/s]\u001b[A\n",
            " 21%|██▏       | 759/3543 [02:45<22:47,  2.04it/s]\u001b[A\n",
            " 21%|██▏       | 760/3543 [02:46<25:07,  1.85it/s]\u001b[A\n",
            " 21%|██▏       | 761/3543 [02:47<26:00,  1.78it/s]\u001b[A\n",
            " 22%|██▏       | 762/3543 [02:48<30:37,  1.51it/s]\u001b[A\n",
            " 22%|██▏       | 763/3543 [02:48<29:51,  1.55it/s]\u001b[A\n",
            " 22%|██▏       | 764/3543 [02:49<27:30,  1.68it/s]\u001b[A\n",
            " 22%|██▏       | 765/3543 [02:49<28:52,  1.60it/s]\u001b[A\n",
            " 22%|██▏       | 766/3543 [02:50<28:42,  1.61it/s]\u001b[A\n",
            " 22%|██▏       | 767/3543 [02:50<27:02,  1.71it/s]\u001b[A\n",
            " 22%|██▏       | 768/3543 [02:51<26:37,  1.74it/s]\u001b[A\n",
            " 22%|██▏       | 769/3543 [02:52<28:16,  1.64it/s]\u001b[A\n",
            " 22%|██▏       | 770/3543 [02:52<25:58,  1.78it/s]\u001b[A\n",
            " 22%|██▏       | 771/3543 [02:53<26:40,  1.73it/s]\u001b[A\n",
            " 22%|██▏       | 772/3543 [02:53<26:01,  1.77it/s]\u001b[A\n",
            " 22%|██▏       | 773/3543 [02:54<27:09,  1.70it/s]\u001b[A\n",
            " 22%|██▏       | 774/3543 [02:54<25:26,  1.81it/s]\u001b[A\n",
            " 22%|██▏       | 775/3543 [02:55<26:32,  1.74it/s]\u001b[A\n",
            " 22%|██▏       | 776/3543 [02:56<25:30,  1.81it/s]\u001b[A\n",
            " 22%|██▏       | 777/3543 [02:56<26:29,  1.74it/s]\u001b[A\n",
            " 22%|██▏       | 778/3543 [02:57<25:26,  1.81it/s]\u001b[A\n",
            " 22%|██▏       | 779/3543 [02:57<26:54,  1.71it/s]\u001b[A\n",
            " 22%|██▏       | 780/3543 [02:58<25:47,  1.79it/s]\u001b[A\n",
            " 22%|██▏       | 781/3543 [02:58<27:07,  1.70it/s]\u001b[A\n",
            " 22%|██▏       | 782/3543 [02:59<26:57,  1.71it/s]\u001b[A\n",
            " 22%|██▏       | 783/3543 [03:00<26:36,  1.73it/s]\u001b[A\n",
            " 22%|██▏       | 784/3543 [03:00<27:30,  1.67it/s]\u001b[A\n",
            " 22%|██▏       | 785/3543 [03:01<27:47,  1.65it/s]\u001b[A\n",
            " 22%|██▏       | 786/3543 [03:02<28:06,  1.63it/s]\u001b[A\n",
            " 22%|██▏       | 787/3543 [03:02<26:36,  1.73it/s]\u001b[A\n",
            " 22%|██▏       | 788/3543 [03:03<25:51,  1.78it/s]\u001b[A\n",
            " 22%|██▏       | 789/3543 [03:03<26:44,  1.72it/s]\u001b[A\n",
            " 22%|██▏       | 790/3543 [03:04<27:13,  1.69it/s]\u001b[A\n",
            " 22%|██▏       | 791/3543 [03:04<27:56,  1.64it/s]\u001b[A\n",
            " 22%|██▏       | 792/3543 [03:05<26:29,  1.73it/s]\u001b[A\n",
            " 22%|██▏       | 793/3543 [03:05<25:44,  1.78it/s]\u001b[A\n",
            " 22%|██▏       | 794/3543 [03:06<26:55,  1.70it/s]\u001b[A\n",
            " 22%|██▏       | 795/3543 [03:07<27:00,  1.70it/s]\u001b[A\n",
            " 22%|██▏       | 796/3543 [03:07<25:10,  1.82it/s]\u001b[A\n",
            " 22%|██▏       | 797/3543 [03:08<24:37,  1.86it/s]\u001b[A\n",
            " 23%|██▎       | 798/3543 [03:08<25:25,  1.80it/s]\u001b[A\n",
            " 23%|██▎       | 799/3543 [03:09<26:23,  1.73it/s]\u001b[A\n",
            " 23%|██▎       | 800/3543 [03:10<26:50,  1.70it/s]\u001b[A\n",
            " 23%|██▎       | 801/3543 [03:10<25:48,  1.77it/s]\u001b[A\n",
            " 23%|██▎       | 802/3543 [03:11<27:08,  1.68it/s]\u001b[A\n",
            " 23%|██▎       | 803/3543 [03:11<27:35,  1.66it/s]\u001b[A\n",
            " 23%|██▎       | 804/3543 [03:12<28:04,  1.63it/s]\u001b[A\n",
            " 23%|██▎       | 805/3543 [03:13<27:56,  1.63it/s]\u001b[A\n",
            " 23%|██▎       | 806/3543 [03:13<26:45,  1.70it/s]\u001b[A\n",
            " 23%|██▎       | 807/3543 [03:14<25:47,  1.77it/s]\u001b[A\n",
            " 23%|██▎       | 808/3543 [03:14<26:46,  1.70it/s]\u001b[A\n",
            " 23%|██▎       | 809/3543 [03:15<25:36,  1.78it/s]\u001b[A\n",
            " 23%|██▎       | 810/3543 [03:15<24:21,  1.87it/s]\u001b[A\n",
            " 23%|██▎       | 811/3543 [03:16<23:52,  1.91it/s]\u001b[A\n",
            " 23%|██▎       | 812/3543 [03:16<25:23,  1.79it/s]\u001b[A\n",
            " 23%|██▎       | 813/3543 [03:17<26:06,  1.74it/s]\u001b[A\n",
            " 23%|██▎       | 814/3543 [03:18<27:35,  1.65it/s]\u001b[A\n",
            " 23%|██▎       | 815/3543 [03:18<28:14,  1.61it/s]\u001b[A\n",
            " 23%|██▎       | 816/3543 [03:19<26:33,  1.71it/s]\u001b[A\n",
            " 23%|██▎       | 817/3543 [03:19<25:39,  1.77it/s]\u001b[A\n",
            " 23%|██▎       | 818/3543 [03:20<24:34,  1.85it/s]\u001b[A\n",
            " 23%|██▎       | 819/3543 [03:20<25:32,  1.78it/s]\u001b[A\n",
            " 23%|██▎       | 820/3543 [03:21<26:26,  1.72it/s]\u001b[A\n",
            " 23%|██▎       | 821/3543 [03:22<27:05,  1.67it/s]\u001b[A\n",
            " 23%|██▎       | 822/3543 [03:22<26:01,  1.74it/s]\u001b[A\n",
            " 23%|██▎       | 823/3543 [03:23<26:06,  1.74it/s]\u001b[A\n",
            " 23%|██▎       | 824/3543 [03:23<26:55,  1.68it/s]\u001b[A\n",
            " 23%|██▎       | 825/3543 [03:24<27:08,  1.67it/s]\u001b[A\n",
            " 23%|██▎       | 826/3543 [03:25<28:10,  1.61it/s]\u001b[A\n",
            " 23%|██▎       | 827/3543 [03:25<26:18,  1.72it/s]\u001b[A\n",
            " 23%|██▎       | 828/3543 [03:26<25:11,  1.80it/s]\u001b[A\n",
            " 23%|██▎       | 829/3543 [03:26<24:36,  1.84it/s]\u001b[A\n",
            " 23%|██▎       | 830/3543 [03:27<26:17,  1.72it/s]\u001b[A\n",
            " 23%|██▎       | 831/3543 [03:27<25:24,  1.78it/s]\u001b[A\n",
            " 23%|██▎       | 832/3543 [03:28<24:45,  1.82it/s]\u001b[A\n",
            " 24%|██▎       | 833/3543 [03:28<24:35,  1.84it/s]\u001b[A\n",
            " 24%|██▎       | 834/3543 [03:29<24:03,  1.88it/s]\u001b[A\n",
            " 24%|██▎       | 835/3543 [03:30<25:29,  1.77it/s]\u001b[A\n",
            " 24%|██▎       | 836/3543 [03:30<26:22,  1.71it/s]\u001b[A\n",
            " 24%|██▎       | 837/3543 [03:31<28:14,  1.60it/s]\u001b[A\n",
            " 24%|██▎       | 838/3543 [03:31<24:36,  1.83it/s]\u001b[A\n",
            " 24%|██▎       | 839/3543 [03:32<25:39,  1.76it/s]\u001b[A\n",
            " 24%|██▎       | 840/3543 [03:32<24:56,  1.81it/s]\u001b[A\n",
            " 24%|██▎       | 841/3543 [03:33<24:15,  1.86it/s]\u001b[A\n",
            " 24%|██▍       | 842/3543 [03:33<24:08,  1.87it/s]\u001b[A\n",
            " 24%|██▍       | 843/3543 [03:34<25:44,  1.75it/s]\u001b[A\n",
            " 24%|██▍       | 844/3543 [03:35<26:56,  1.67it/s]\u001b[A\n",
            " 24%|██▍       | 845/3543 [03:35<26:18,  1.71it/s]\u001b[A\n",
            " 24%|██▍       | 846/3543 [03:36<26:29,  1.70it/s]\u001b[A\n",
            " 24%|██▍       | 847/3543 [03:37<26:36,  1.69it/s]\u001b[A\n",
            " 24%|██▍       | 848/3543 [03:37<25:21,  1.77it/s]\u001b[A\n",
            " 24%|██▍       | 849/3543 [03:38<24:25,  1.84it/s]\u001b[A\n",
            " 24%|██▍       | 850/3543 [03:38<23:37,  1.90it/s]\u001b[A\n",
            " 24%|██▍       | 851/3543 [03:39<23:41,  1.89it/s]\u001b[A\n",
            " 24%|██▍       | 852/3543 [03:39<23:38,  1.90it/s]\u001b[A\n",
            " 24%|██▍       | 853/3543 [03:40<22:42,  1.97it/s]\u001b[A\n",
            " 24%|██▍       | 854/3543 [03:40<24:13,  1.85it/s]\u001b[A\n",
            " 24%|██▍       | 855/3543 [03:41<23:21,  1.92it/s]\u001b[A\n",
            " 24%|██▍       | 856/3543 [03:41<24:34,  1.82it/s]\u001b[A\n",
            " 24%|██▍       | 857/3543 [03:42<25:26,  1.76it/s]\u001b[A\n",
            " 24%|██▍       | 858/3543 [03:42<24:43,  1.81it/s]\u001b[A\n",
            " 24%|██▍       | 859/3543 [03:43<25:31,  1.75it/s]\u001b[A\n",
            " 24%|██▍       | 860/3543 [03:44<25:20,  1.76it/s]\u001b[A\n",
            " 24%|██▍       | 861/3543 [03:44<26:36,  1.68it/s]\u001b[A\n",
            " 24%|██▍       | 862/3543 [03:45<27:00,  1.65it/s]\u001b[A\n",
            " 24%|██▍       | 863/3543 [03:45<26:36,  1.68it/s]\u001b[A\n",
            " 24%|██▍       | 864/3543 [03:46<26:46,  1.67it/s]\u001b[A\n",
            " 24%|██▍       | 865/3543 [03:47<27:21,  1.63it/s]\u001b[A\n",
            " 24%|██▍       | 866/3543 [03:47<25:37,  1.74it/s]\u001b[A\n",
            " 24%|██▍       | 867/3543 [03:48<23:49,  1.87it/s]\u001b[A\n",
            " 24%|██▍       | 868/3543 [03:48<23:46,  1.88it/s]\u001b[A\n",
            " 25%|██▍       | 869/3543 [03:49<23:12,  1.92it/s]\u001b[A\n",
            " 25%|██▍       | 870/3543 [03:49<22:42,  1.96it/s]\u001b[A\n",
            " 25%|██▍       | 871/3543 [03:50<22:44,  1.96it/s]\u001b[A\n",
            " 25%|██▍       | 872/3543 [03:50<24:45,  1.80it/s]\u001b[A\n",
            " 25%|██▍       | 873/3543 [03:51<25:38,  1.74it/s]\u001b[A\n",
            " 25%|██▍       | 874/3543 [03:51<24:41,  1.80it/s]\u001b[A\n",
            " 25%|██▍       | 875/3543 [03:52<25:30,  1.74it/s]\u001b[A\n",
            " 25%|██▍       | 876/3543 [03:53<24:55,  1.78it/s]\u001b[A\n",
            " 25%|██▍       | 877/3543 [03:53<25:50,  1.72it/s]\u001b[A\n",
            " 25%|██▍       | 878/3543 [03:54<25:29,  1.74it/s]\u001b[A\n",
            " 25%|██▍       | 879/3543 [03:54<23:56,  1.85it/s]\u001b[A\n",
            " 25%|██▍       | 880/3543 [03:55<25:25,  1.75it/s]\u001b[A\n",
            " 25%|██▍       | 881/3543 [03:55<25:49,  1.72it/s]\u001b[A\n",
            " 25%|██▍       | 882/3543 [03:56<26:23,  1.68it/s]\u001b[A\n",
            " 25%|██▍       | 883/3543 [03:57<26:46,  1.66it/s]\u001b[A\n",
            " 25%|██▍       | 884/3543 [03:57<27:55,  1.59it/s]\u001b[A\n",
            " 25%|██▍       | 885/3543 [03:58<26:09,  1.69it/s]\u001b[A\n",
            " 25%|██▌       | 886/3543 [03:58<25:10,  1.76it/s]\u001b[A\n",
            " 25%|██▌       | 887/3543 [03:59<24:07,  1.83it/s]\u001b[A\n",
            " 25%|██▌       | 888/3543 [03:59<23:15,  1.90it/s]\u001b[A\n",
            " 25%|██▌       | 889/3543 [04:00<23:01,  1.92it/s]\u001b[A\n",
            " 25%|██▌       | 890/3543 [04:01<24:20,  1.82it/s]\u001b[A\n",
            " 25%|██▌       | 891/3543 [04:01<24:04,  1.84it/s]\u001b[A\n",
            " 25%|██▌       | 892/3543 [04:02<23:34,  1.87it/s]\u001b[A\n",
            " 25%|██▌       | 893/3543 [04:02<23:10,  1.91it/s]\u001b[A\n",
            " 25%|██▌       | 894/3543 [04:03<22:56,  1.92it/s]\u001b[A\n",
            " 25%|██▌       | 895/3543 [04:03<24:03,  1.83it/s]\u001b[A\n",
            " 25%|██▌       | 896/3543 [04:04<25:02,  1.76it/s]\u001b[A\n",
            " 25%|██▌       | 897/3543 [04:04<24:18,  1.81it/s]\u001b[A\n",
            " 25%|██▌       | 898/3543 [04:05<24:27,  1.80it/s]\u001b[A\n",
            " 25%|██▌       | 899/3543 [04:05<23:58,  1.84it/s]\u001b[A\n",
            " 25%|██▌       | 900/3543 [04:06<24:43,  1.78it/s]\u001b[A\n",
            " 25%|██▌       | 901/3543 [04:06<23:40,  1.86it/s]\u001b[A\n",
            " 25%|██▌       | 902/3543 [04:07<25:24,  1.73it/s]\u001b[A\n",
            " 25%|██▌       | 903/3543 [04:08<24:41,  1.78it/s]\u001b[A\n",
            " 26%|██▌       | 904/3543 [04:08<24:59,  1.76it/s]\u001b[A\n",
            " 26%|██▌       | 905/3543 [04:09<26:05,  1.69it/s]\u001b[A\n",
            " 26%|██▌       | 906/3543 [04:10<26:20,  1.67it/s]\u001b[A\n",
            " 26%|██▌       | 907/3543 [04:10<26:49,  1.64it/s]\u001b[A\n",
            " 26%|██▌       | 908/3543 [04:11<25:04,  1.75it/s]\u001b[A\n",
            " 26%|██▌       | 909/3543 [04:11<25:29,  1.72it/s]\u001b[A\n",
            " 26%|██▌       | 910/3543 [04:12<23:54,  1.84it/s]\u001b[A\n",
            " 26%|██▌       | 911/3543 [04:12<24:42,  1.77it/s]\u001b[A\n",
            " 26%|██▌       | 912/3543 [04:13<23:17,  1.88it/s]\u001b[A\n",
            " 26%|██▌       | 913/3543 [04:13<22:39,  1.93it/s]\u001b[A\n",
            " 26%|██▌       | 914/3543 [04:14<24:11,  1.81it/s]\u001b[A\n",
            " 26%|██▌       | 915/3543 [04:14<25:11,  1.74it/s]\u001b[A\n",
            " 26%|██▌       | 916/3543 [04:15<26:11,  1.67it/s]\u001b[A\n",
            " 26%|██▌       | 917/3543 [04:16<24:32,  1.78it/s]\u001b[A\n",
            " 26%|██▌       | 918/3543 [04:16<25:34,  1.71it/s]\u001b[A\n",
            " 26%|██▌       | 919/3543 [04:17<26:08,  1.67it/s]\u001b[A\n",
            " 26%|██▌       | 920/3543 [04:17<24:55,  1.75it/s]\u001b[A\n",
            " 26%|██▌       | 921/3543 [04:18<24:32,  1.78it/s]\u001b[A\n",
            " 26%|██▌       | 922/3543 [04:18<24:03,  1.82it/s]\u001b[A\n",
            " 26%|██▌       | 923/3543 [04:19<25:16,  1.73it/s]\u001b[A\n",
            " 26%|██▌       | 924/3543 [04:20<24:00,  1.82it/s]\u001b[A\n",
            " 26%|██▌       | 925/3543 [04:20<23:15,  1.88it/s]\u001b[A\n",
            " 26%|██▌       | 926/3543 [04:21<22:35,  1.93it/s]\u001b[A\n",
            " 26%|██▌       | 927/3543 [04:21<22:35,  1.93it/s]\u001b[A\n",
            " 26%|██▌       | 928/3543 [04:22<22:11,  1.96it/s]\u001b[A\n",
            " 26%|██▌       | 929/3543 [04:22<23:46,  1.83it/s]\u001b[A\n",
            " 26%|██▌       | 930/3543 [04:23<25:29,  1.71it/s]\u001b[A\n",
            " 26%|██▋       | 931/3543 [04:23<25:29,  1.71it/s]\u001b[A\n",
            " 26%|██▋       | 932/3543 [04:24<22:06,  1.97it/s]\u001b[A\n",
            " 26%|██▋       | 933/3543 [04:24<23:25,  1.86it/s]\u001b[A\n",
            " 26%|██▋       | 934/3543 [04:25<22:59,  1.89it/s]\u001b[A\n",
            " 26%|██▋       | 935/3543 [04:26<24:09,  1.80it/s]\u001b[A\n",
            " 26%|██▋       | 936/3543 [04:26<25:20,  1.71it/s]\u001b[A\n",
            " 26%|██▋       | 937/3543 [04:27<26:22,  1.65it/s]\u001b[A\n",
            " 26%|██▋       | 938/3543 [04:27<25:20,  1.71it/s]\u001b[A\n",
            " 27%|██▋       | 939/3543 [04:28<25:59,  1.67it/s]\u001b[A\n",
            " 27%|██▋       | 940/3543 [04:29<26:20,  1.65it/s]\u001b[A\n",
            " 27%|██▋       | 941/3543 [04:29<25:19,  1.71it/s]\u001b[A\n",
            " 27%|██▋       | 942/3543 [04:30<26:04,  1.66it/s]\u001b[A\n",
            " 27%|██▋       | 943/3543 [04:30<25:18,  1.71it/s]\u001b[A\n",
            " 27%|██▋       | 944/3543 [04:31<24:48,  1.75it/s]\u001b[A\n",
            " 27%|██▋       | 945/3543 [04:32<25:55,  1.67it/s]\u001b[A\n",
            " 27%|██▋       | 946/3543 [04:32<24:29,  1.77it/s]\u001b[A\n",
            " 27%|██▋       | 947/3543 [04:33<23:45,  1.82it/s]\u001b[A\n",
            " 27%|██▋       | 948/3543 [04:33<24:54,  1.74it/s]\u001b[A\n",
            " 27%|██▋       | 949/3543 [04:34<23:43,  1.82it/s]\u001b[A\n",
            " 27%|██▋       | 950/3543 [04:34<22:46,  1.90it/s]\u001b[A\n",
            " 27%|██▋       | 951/3543 [04:35<22:37,  1.91it/s]\u001b[A\n",
            " 27%|██▋       | 952/3543 [04:35<22:43,  1.90it/s]\u001b[A\n",
            " 27%|██▋       | 953/3543 [04:36<24:47,  1.74it/s]\u001b[A\n",
            " 27%|██▋       | 954/3543 [04:36<24:01,  1.80it/s]\u001b[A\n",
            " 27%|██▋       | 955/3543 [04:37<23:24,  1.84it/s]\u001b[A\n",
            " 27%|██▋       | 956/3543 [04:37<22:39,  1.90it/s]\u001b[A\n",
            " 27%|██▋       | 957/3543 [04:38<24:17,  1.77it/s]\u001b[A\n",
            " 27%|██▋       | 958/3543 [04:39<23:03,  1.87it/s]\u001b[A\n",
            " 27%|██▋       | 959/3543 [04:39<22:14,  1.94it/s]\u001b[A\n",
            " 27%|██▋       | 960/3543 [04:40<23:09,  1.86it/s]\u001b[A\n",
            " 27%|██▋       | 961/3543 [04:40<24:11,  1.78it/s]\u001b[A\n",
            " 27%|██▋       | 962/3543 [04:41<25:00,  1.72it/s]\u001b[A\n",
            " 27%|██▋       | 963/3543 [04:41<26:09,  1.64it/s]\u001b[A\n",
            " 27%|██▋       | 964/3543 [04:42<24:22,  1.76it/s]\u001b[A\n",
            " 27%|██▋       | 965/3543 [04:43<24:30,  1.75it/s]\u001b[A\n",
            " 27%|██▋       | 966/3543 [04:43<23:47,  1.80it/s]\u001b[A\n",
            " 27%|██▋       | 967/3543 [04:44<22:55,  1.87it/s]\u001b[A\n",
            " 27%|██▋       | 968/3543 [04:44<22:33,  1.90it/s]\u001b[A\n",
            " 27%|██▋       | 969/3543 [04:45<24:39,  1.74it/s]\u001b[A\n",
            " 27%|██▋       | 970/3543 [04:45<25:14,  1.70it/s]\u001b[A\n",
            " 27%|██▋       | 971/3543 [04:46<25:29,  1.68it/s]\u001b[A\n",
            " 27%|██▋       | 972/3543 [04:47<25:44,  1.66it/s]\u001b[A\n",
            " 27%|██▋       | 973/3543 [04:47<24:38,  1.74it/s]\u001b[A\n",
            " 27%|██▋       | 974/3543 [04:48<23:28,  1.82it/s]\u001b[A\n",
            " 28%|██▊       | 975/3543 [04:48<22:40,  1.89it/s]\u001b[A\n",
            " 28%|██▊       | 976/3543 [04:49<22:11,  1.93it/s]\u001b[A\n",
            " 28%|██▊       | 977/3543 [04:49<23:42,  1.80it/s]\u001b[A\n",
            " 28%|██▊       | 978/3543 [04:50<24:57,  1.71it/s]\u001b[A\n",
            " 28%|██▊       | 979/3543 [04:50<24:10,  1.77it/s]\u001b[A\n",
            " 28%|██▊       | 980/3543 [04:51<23:00,  1.86it/s]\u001b[A\n",
            " 28%|██▊       | 981/3543 [04:51<24:09,  1.77it/s]\u001b[A\n",
            " 28%|██▊       | 982/3543 [04:52<23:43,  1.80it/s]\u001b[A\n",
            " 28%|██▊       | 983/3543 [04:53<24:42,  1.73it/s]\u001b[A\n",
            " 28%|██▊       | 984/3543 [04:53<25:39,  1.66it/s]\u001b[A\n",
            " 28%|██▊       | 985/3543 [04:54<26:10,  1.63it/s]\u001b[A\n",
            " 28%|██▊       | 986/3543 [04:54<24:20,  1.75it/s]\u001b[A\n",
            " 28%|██▊       | 987/3543 [04:55<24:58,  1.71it/s]\u001b[A\n",
            " 28%|██▊       | 988/3543 [04:56<25:29,  1.67it/s]\u001b[A\n",
            " 28%|██▊       | 989/3543 [04:56<25:36,  1.66it/s]\u001b[A\n",
            " 28%|██▊       | 990/3543 [04:57<26:30,  1.60it/s]\u001b[A\n",
            " 28%|██▊       | 991/3543 [04:57<25:15,  1.68it/s]\u001b[A\n",
            " 28%|██▊       | 992/3543 [04:58<24:12,  1.76it/s]\u001b[A\n",
            " 28%|██▊       | 993/3543 [04:59<24:37,  1.73it/s]\u001b[A\n",
            " 28%|██▊       | 994/3543 [04:59<24:13,  1.75it/s]\u001b[A\n",
            " 28%|██▊       | 995/3543 [05:00<23:07,  1.84it/s]\u001b[A\n",
            " 28%|██▊       | 996/3543 [05:00<24:14,  1.75it/s]\u001b[A\n",
            " 28%|██▊       | 997/3543 [05:01<22:51,  1.86it/s]\u001b[A\n",
            " 28%|██▊       | 998/3543 [05:01<22:11,  1.91it/s]\u001b[A\n",
            " 28%|██▊       | 999/3543 [05:02<23:35,  1.80it/s]\u001b[A\n",
            " 28%|██▊       | 1000/3543 [05:02<23:32,  1.80it/s]\u001b[A\n",
            " 28%|██▊       | 1001/3543 [05:03<24:49,  1.71it/s]\u001b[A\n",
            " 28%|██▊       | 1002/3543 [05:04<25:30,  1.66it/s]\u001b[A\n",
            " 28%|██▊       | 1003/3543 [05:04<25:18,  1.67it/s]\u001b[A\n",
            " 28%|██▊       | 1004/3543 [05:05<24:45,  1.71it/s]\u001b[A\n",
            " 28%|██▊       | 1005/3543 [05:05<24:51,  1.70it/s]\u001b[A\n",
            " 28%|██▊       | 1006/3543 [05:06<23:43,  1.78it/s]\u001b[A\n",
            " 28%|██▊       | 1007/3543 [05:07<24:44,  1.71it/s]\u001b[A\n",
            " 28%|██▊       | 1008/3543 [05:07<23:10,  1.82it/s]\u001b[A\n",
            " 28%|██▊       | 1009/3543 [05:08<22:13,  1.90it/s]\u001b[A\n",
            " 29%|██▊       | 1010/3543 [05:08<22:16,  1.89it/s]\u001b[A\n",
            " 29%|██▊       | 1011/3543 [05:09<21:53,  1.93it/s]\u001b[A\n",
            " 29%|██▊       | 1012/3543 [05:09<21:49,  1.93it/s]\u001b[A\n",
            " 29%|██▊       | 1013/3543 [05:10<21:17,  1.98it/s]\u001b[A\n",
            " 29%|██▊       | 1014/3543 [05:10<23:02,  1.83it/s]\u001b[A\n",
            " 29%|██▊       | 1015/3543 [05:11<22:46,  1.85it/s]\u001b[A\n",
            " 29%|██▊       | 1016/3543 [05:11<22:16,  1.89it/s]\u001b[A\n",
            " 29%|██▊       | 1017/3543 [05:12<21:23,  1.97it/s]\u001b[A\n",
            " 29%|██▊       | 1018/3543 [05:12<20:57,  2.01it/s]\u001b[A\n",
            " 29%|██▉       | 1019/3543 [05:13<22:31,  1.87it/s]\u001b[A\n",
            " 29%|██▉       | 1020/3543 [05:13<23:32,  1.79it/s]\u001b[A\n",
            " 29%|██▉       | 1021/3543 [05:14<22:47,  1.84it/s]\u001b[A\n",
            " 29%|██▉       | 1022/3543 [05:14<23:41,  1.77it/s]\u001b[A\n",
            " 29%|██▉       | 1023/3543 [05:15<24:46,  1.69it/s]\u001b[A\n",
            " 29%|██▉       | 1024/3543 [05:16<23:22,  1.80it/s]\u001b[A\n",
            " 29%|██▉       | 1025/3543 [05:16<22:33,  1.86it/s]\u001b[A\n",
            " 29%|██▉       | 1026/3543 [05:17<21:44,  1.93it/s]\u001b[A\n",
            " 29%|██▉       | 1027/3543 [05:17<21:28,  1.95it/s]\u001b[A\n",
            " 29%|██▉       | 1028/3543 [05:18<22:37,  1.85it/s]\u001b[A\n",
            " 29%|██▉       | 1029/3543 [05:18<23:31,  1.78it/s]\u001b[A\n",
            " 29%|██▉       | 1030/3543 [05:19<22:19,  1.88it/s]\u001b[A\n",
            " 29%|██▉       | 1031/3543 [05:19<21:21,  1.96it/s]\u001b[A\n",
            " 29%|██▉       | 1032/3543 [05:20<21:03,  1.99it/s]\u001b[A\n",
            " 29%|██▉       | 1033/3543 [05:20<21:09,  1.98it/s]\u001b[A\n",
            " 29%|██▉       | 1034/3543 [05:21<20:42,  2.02it/s]\u001b[A\n",
            " 29%|██▉       | 1035/3543 [05:21<22:17,  1.88it/s]\u001b[A\n",
            " 29%|██▉       | 1036/3543 [05:22<23:27,  1.78it/s]\u001b[A\n",
            " 29%|██▉       | 1037/3543 [05:22<22:45,  1.84it/s]\u001b[A\n",
            " 29%|██▉       | 1038/3543 [05:23<22:25,  1.86it/s]\u001b[A\n",
            " 29%|██▉       | 1039/3543 [05:23<21:50,  1.91it/s]\u001b[A\n",
            " 29%|██▉       | 1040/3543 [05:24<23:07,  1.80it/s]\u001b[A\n",
            " 29%|██▉       | 1041/3543 [05:25<24:07,  1.73it/s]\u001b[A\n",
            " 29%|██▉       | 1042/3543 [05:25<24:33,  1.70it/s]\u001b[A\n",
            " 29%|██▉       | 1043/3543 [05:26<24:14,  1.72it/s]\u001b[A\n",
            " 29%|██▉       | 1044/3543 [05:26<23:11,  1.80it/s]\u001b[A\n",
            " 29%|██▉       | 1045/3543 [05:27<22:15,  1.87it/s]\u001b[A\n",
            " 30%|██▉       | 1046/3543 [05:27<21:46,  1.91it/s]\u001b[A\n",
            " 30%|██▉       | 1047/3543 [05:28<21:30,  1.93it/s]\u001b[A\n",
            " 30%|██▉       | 1048/3543 [05:28<21:08,  1.97it/s]\u001b[A\n",
            " 30%|██▉       | 1049/3543 [05:29<22:35,  1.84it/s]\u001b[A\n",
            " 30%|██▉       | 1050/3543 [05:30<22:14,  1.87it/s]\u001b[A\n",
            " 30%|██▉       | 1051/3543 [05:30<23:27,  1.77it/s]\u001b[A\n",
            " 30%|██▉       | 1052/3543 [05:31<24:40,  1.68it/s]\u001b[A\n",
            " 30%|██▉       | 1053/3543 [05:31<25:37,  1.62it/s]\u001b[A\n",
            " 30%|██▉       | 1054/3543 [05:32<26:05,  1.59it/s]\u001b[A\n",
            " 30%|██▉       | 1055/3543 [05:33<24:59,  1.66it/s]\u001b[A\n",
            " 30%|██▉       | 1056/3543 [05:33<23:10,  1.79it/s]\u001b[A\n",
            " 30%|██▉       | 1057/3543 [05:34<23:49,  1.74it/s]\u001b[A\n",
            " 30%|██▉       | 1058/3543 [05:34<24:41,  1.68it/s]\u001b[A\n",
            " 30%|██▉       | 1059/3543 [05:35<24:02,  1.72it/s]\u001b[A\n",
            " 30%|██▉       | 1060/3543 [05:35<22:53,  1.81it/s]\u001b[A\n",
            " 30%|██▉       | 1061/3543 [05:36<22:31,  1.84it/s]\u001b[A\n",
            " 30%|██▉       | 1062/3543 [05:36<21:41,  1.91it/s]\u001b[A\n",
            " 30%|███       | 1063/3543 [05:37<23:01,  1.80it/s]\u001b[A\n",
            " 30%|███       | 1064/3543 [05:38<23:40,  1.75it/s]\u001b[A\n",
            " 30%|███       | 1065/3543 [05:38<22:38,  1.82it/s]\u001b[A\n",
            " 30%|███       | 1066/3543 [05:39<22:03,  1.87it/s]\u001b[A\n",
            " 30%|███       | 1067/3543 [05:39<21:16,  1.94it/s]\u001b[A\n",
            " 30%|███       | 1068/3543 [05:40<21:06,  1.95it/s]\u001b[A\n",
            " 30%|███       | 1069/3543 [05:40<23:05,  1.79it/s]\u001b[A\n",
            " 30%|███       | 1070/3543 [05:41<24:14,  1.70it/s]\u001b[A\n",
            " 30%|███       | 1071/3543 [05:42<24:40,  1.67it/s]\u001b[A\n",
            " 30%|███       | 1072/3543 [05:42<23:43,  1.74it/s]\u001b[A\n",
            " 30%|███       | 1073/3543 [05:43<24:12,  1.70it/s]\u001b[A\n",
            " 30%|███       | 1074/3543 [05:43<24:22,  1.69it/s]\u001b[A\n",
            " 30%|███       | 1075/3543 [05:44<23:29,  1.75it/s]\u001b[A\n",
            " 30%|███       | 1076/3543 [05:44<23:52,  1.72it/s]\u001b[A\n",
            " 30%|███       | 1077/3543 [05:45<24:12,  1.70it/s]\u001b[A\n",
            " 30%|███       | 1078/3543 [05:45<22:22,  1.84it/s]\u001b[A\n",
            " 30%|███       | 1079/3543 [05:46<21:31,  1.91it/s]\u001b[A\n",
            " 30%|███       | 1080/3543 [05:47<21:55,  1.87it/s]\u001b[A\n",
            " 31%|███       | 1081/3543 [05:47<23:01,  1.78it/s]\u001b[A\n",
            " 31%|███       | 1082/3543 [05:48<23:39,  1.73it/s]\u001b[A\n",
            " 31%|███       | 1083/3543 [05:48<24:30,  1.67it/s]\u001b[A\n",
            " 31%|███       | 1084/3543 [05:49<24:03,  1.70it/s]\u001b[A\n",
            " 31%|███       | 1085/3543 [05:49<23:09,  1.77it/s]\u001b[A\n",
            " 31%|███       | 1086/3543 [05:50<24:11,  1.69it/s]\u001b[A\n",
            " 31%|███       | 1087/3543 [05:51<23:05,  1.77it/s]\u001b[A\n",
            " 31%|███       | 1088/3543 [05:51<23:55,  1.71it/s]\u001b[A\n",
            " 31%|███       | 1089/3543 [05:52<26:22,  1.55it/s]\u001b[A\n",
            " 31%|███       | 1090/3543 [05:53<24:29,  1.67it/s]\u001b[A\n",
            " 31%|███       | 1091/3543 [05:53<22:35,  1.81it/s]\u001b[A\n",
            " 31%|███       | 1092/3543 [05:53<21:31,  1.90it/s]\u001b[A\n",
            " 31%|███       | 1093/3543 [05:54<22:19,  1.83it/s]\u001b[A\n",
            " 31%|███       | 1094/3543 [05:55<23:40,  1.72it/s]\u001b[A\n",
            " 31%|███       | 1095/3543 [05:55<23:06,  1.77it/s]\u001b[A\n",
            " 31%|███       | 1096/3543 [05:56<24:17,  1.68it/s]\u001b[A\n",
            " 31%|███       | 1097/3543 [05:56<23:06,  1.76it/s]\u001b[A\n",
            " 31%|███       | 1098/3543 [05:57<24:15,  1.68it/s]\u001b[A\n",
            " 31%|███       | 1099/3543 [05:58<24:30,  1.66it/s]\u001b[A\n",
            " 31%|███       | 1100/3543 [05:58<24:57,  1.63it/s]\u001b[A\n",
            " 31%|███       | 1101/3543 [05:59<23:52,  1.70it/s]\u001b[A\n",
            " 31%|███       | 1102/3543 [05:59<22:56,  1.77it/s]\u001b[A\n",
            " 31%|███       | 1103/3543 [06:00<22:34,  1.80it/s]\u001b[A\n",
            " 31%|███       | 1104/3543 [06:00<21:55,  1.85it/s]\u001b[A\n",
            " 31%|███       | 1105/3543 [06:01<23:28,  1.73it/s]\u001b[A\n",
            " 31%|███       | 1106/3543 [06:02<22:14,  1.83it/s]\u001b[A\n",
            " 31%|███       | 1107/3543 [06:02<22:00,  1.84it/s]\u001b[A\n",
            " 31%|███▏      | 1108/3543 [06:03<22:51,  1.78it/s]\u001b[A\n",
            " 31%|███▏      | 1109/3543 [06:03<21:53,  1.85it/s]\u001b[A\n",
            " 31%|███▏      | 1110/3543 [06:04<20:59,  1.93it/s]\u001b[A\n",
            " 31%|███▏      | 1111/3543 [06:04<20:21,  1.99it/s]\u001b[A\n",
            " 31%|███▏      | 1112/3543 [06:05<21:29,  1.89it/s]\u001b[A\n",
            " 31%|███▏      | 1113/3543 [06:05<20:41,  1.96it/s]\u001b[A\n",
            " 31%|███▏      | 1114/3543 [06:06<21:56,  1.84it/s]\u001b[A\n",
            " 31%|███▏      | 1115/3543 [06:06<21:47,  1.86it/s]\u001b[A\n",
            " 31%|███▏      | 1116/3543 [06:07<23:06,  1.75it/s]\u001b[A\n",
            " 32%|███▏      | 1117/3543 [06:08<23:55,  1.69it/s]\u001b[A\n",
            " 32%|███▏      | 1118/3543 [06:08<23:25,  1.73it/s]\u001b[A\n",
            " 32%|███▏      | 1119/3543 [06:09<24:49,  1.63it/s]\u001b[A\n",
            " 32%|███▏      | 1120/3543 [06:09<25:09,  1.61it/s]\u001b[A\n",
            " 32%|███▏      | 1121/3543 [06:10<24:56,  1.62it/s]\u001b[A\n",
            " 32%|███▏      | 1122/3543 [06:11<23:33,  1.71it/s]\u001b[A\n",
            " 32%|███▏      | 1123/3543 [06:11<23:46,  1.70it/s]\u001b[A\n",
            " 32%|███▏      | 1124/3543 [06:12<23:09,  1.74it/s]\u001b[A\n",
            " 32%|███▏      | 1125/3543 [06:12<21:57,  1.84it/s]\u001b[A\n",
            " 32%|███▏      | 1126/3543 [06:13<23:09,  1.74it/s]\u001b[A\n",
            " 32%|███▏      | 1127/3543 [06:13<23:48,  1.69it/s]\u001b[A\n",
            " 32%|███▏      | 1128/3543 [06:14<22:21,  1.80it/s]\u001b[A\n",
            " 32%|███▏      | 1129/3543 [06:15<22:32,  1.78it/s]\u001b[A\n",
            " 32%|███▏      | 1130/3543 [06:15<23:43,  1.69it/s]\u001b[A\n",
            " 32%|███▏      | 1131/3543 [06:16<24:38,  1.63it/s]\u001b[A\n",
            " 32%|███▏      | 1132/3543 [06:16<24:24,  1.65it/s]\u001b[A\n",
            " 32%|███▏      | 1133/3543 [06:17<24:11,  1.66it/s]\u001b[A\n",
            " 32%|███▏      | 1134/3543 [06:18<22:51,  1.76it/s]\u001b[A\n",
            " 32%|███▏      | 1135/3543 [06:18<22:14,  1.80it/s]\u001b[A\n",
            " 32%|███▏      | 1136/3543 [06:19<21:13,  1.89it/s]\u001b[A\n",
            " 32%|███▏      | 1137/3543 [06:19<20:44,  1.93it/s]\u001b[A\n",
            " 32%|███▏      | 1138/3543 [06:20<21:34,  1.86it/s]\u001b[A\n",
            " 32%|███▏      | 1139/3543 [06:20<20:24,  1.96it/s]\u001b[A\n",
            " 32%|███▏      | 1140/3543 [06:21<21:30,  1.86it/s]\u001b[A\n",
            " 32%|███▏      | 1141/3543 [06:21<22:45,  1.76it/s]\u001b[A\n",
            " 32%|███▏      | 1142/3543 [06:22<22:41,  1.76it/s]\u001b[A\n",
            " 32%|███▏      | 1143/3543 [06:23<23:42,  1.69it/s]\u001b[A\n",
            " 32%|███▏      | 1144/3543 [06:23<22:42,  1.76it/s]\u001b[A\n",
            " 32%|███▏      | 1145/3543 [06:24<21:42,  1.84it/s]\u001b[A\n",
            " 32%|███▏      | 1146/3543 [06:24<22:27,  1.78it/s]\u001b[A\n",
            " 32%|███▏      | 1147/3543 [06:25<21:30,  1.86it/s]\u001b[A\n",
            " 32%|███▏      | 1148/3543 [06:25<20:29,  1.95it/s]\u001b[A\n",
            " 32%|███▏      | 1149/3543 [06:26<21:17,  1.87it/s]\u001b[A\n",
            " 32%|███▏      | 1150/3543 [06:26<20:32,  1.94it/s]\u001b[A\n",
            " 32%|███▏      | 1151/3543 [06:27<20:27,  1.95it/s]\u001b[A\n",
            " 33%|███▎      | 1152/3543 [06:27<19:52,  2.01it/s]\u001b[A\n",
            " 33%|███▎      | 1153/3543 [06:28<21:21,  1.87it/s]\u001b[A\n",
            " 33%|███▎      | 1154/3543 [06:28<22:32,  1.77it/s]\u001b[A\n",
            " 33%|███▎      | 1155/3543 [06:29<22:48,  1.74it/s]\u001b[A\n",
            " 33%|███▎      | 1156/3543 [06:29<22:21,  1.78it/s]\u001b[A\n",
            " 33%|███▎      | 1157/3543 [06:30<21:26,  1.86it/s]\u001b[A\n",
            " 33%|███▎      | 1158/3543 [06:30<18:42,  2.13it/s]\u001b[A\n",
            " 33%|███▎      | 1159/3543 [06:31<20:36,  1.93it/s]\u001b[A\n",
            " 33%|███▎      | 1160/3543 [06:31<20:35,  1.93it/s]\u001b[A\n",
            " 33%|███▎      | 1161/3543 [06:32<21:46,  1.82it/s]\u001b[A\n",
            " 33%|███▎      | 1162/3543 [06:33<21:15,  1.87it/s]\u001b[A\n",
            " 33%|███▎      | 1163/3543 [06:33<23:08,  1.71it/s]\u001b[A\n",
            " 33%|███▎      | 1164/3543 [06:34<21:33,  1.84it/s]\u001b[A\n",
            " 33%|███▎      | 1165/3543 [06:34<20:44,  1.91it/s]\u001b[A\n",
            " 33%|███▎      | 1166/3543 [06:35<20:51,  1.90it/s]\u001b[A\n",
            " 33%|███▎      | 1167/3543 [06:35<20:44,  1.91it/s]\u001b[A\n",
            " 33%|███▎      | 1168/3543 [06:36<21:38,  1.83it/s]\u001b[A\n",
            " 33%|███▎      | 1169/3543 [06:36<22:28,  1.76it/s]\u001b[A\n",
            " 33%|███▎      | 1170/3543 [06:37<21:54,  1.80it/s]\u001b[A\n",
            " 33%|███▎      | 1171/3543 [06:38<22:57,  1.72it/s]\u001b[A\n",
            " 33%|███▎      | 1172/3543 [06:38<22:12,  1.78it/s]\u001b[A\n",
            " 33%|███▎      | 1173/3543 [06:39<21:43,  1.82it/s]\u001b[A\n",
            " 33%|███▎      | 1174/3543 [06:39<22:48,  1.73it/s]\u001b[A\n",
            " 33%|███▎      | 1175/3543 [06:40<22:17,  1.77it/s]\u001b[A\n",
            " 33%|███▎      | 1176/3543 [06:40<21:33,  1.83it/s]\u001b[A\n",
            " 33%|███▎      | 1177/3543 [06:41<22:41,  1.74it/s]\u001b[A\n",
            " 33%|███▎      | 1178/3543 [06:42<23:27,  1.68it/s]\u001b[A\n",
            " 33%|███▎      | 1179/3543 [06:42<22:00,  1.79it/s]\u001b[A\n",
            " 33%|███▎      | 1180/3543 [06:43<22:40,  1.74it/s]\u001b[A\n",
            " 33%|███▎      | 1181/3543 [06:43<22:56,  1.72it/s]\u001b[A\n",
            " 33%|███▎      | 1182/3543 [06:44<24:02,  1.64it/s]\u001b[A\n",
            " 33%|███▎      | 1183/3543 [06:44<22:30,  1.75it/s]\u001b[A\n",
            " 33%|███▎      | 1184/3543 [06:45<21:07,  1.86it/s]\u001b[A\n",
            " 33%|███▎      | 1185/3543 [06:45<20:52,  1.88it/s]\u001b[A\n",
            " 33%|███▎      | 1186/3543 [06:46<22:09,  1.77it/s]\u001b[A\n",
            " 34%|███▎      | 1187/3543 [06:47<22:42,  1.73it/s]\u001b[A\n",
            " 34%|███▎      | 1188/3543 [06:47<24:28,  1.60it/s]\u001b[A\n",
            " 34%|███▎      | 1189/3543 [06:48<24:22,  1.61it/s]\u001b[A\n",
            " 34%|███▎      | 1190/3543 [06:49<22:51,  1.72it/s]\u001b[A\n",
            " 34%|███▎      | 1191/3543 [06:49<22:08,  1.77it/s]\u001b[A\n",
            " 34%|███▎      | 1192/3543 [06:50<22:42,  1.73it/s]\u001b[A\n",
            " 34%|███▎      | 1193/3543 [06:50<21:30,  1.82it/s]\u001b[A\n",
            " 34%|███▎      | 1194/3543 [06:51<22:14,  1.76it/s]\u001b[A\n",
            " 34%|███▎      | 1195/3543 [06:51<22:45,  1.72it/s]\u001b[A\n",
            " 34%|███▍      | 1196/3543 [06:52<23:12,  1.69it/s]\u001b[A\n",
            " 34%|███▍      | 1197/3543 [06:53<23:22,  1.67it/s]\u001b[A\n",
            " 34%|███▍      | 1198/3543 [06:53<23:51,  1.64it/s]\u001b[A\n",
            " 34%|███▍      | 1199/3543 [06:54<23:59,  1.63it/s]\u001b[A\n",
            " 34%|███▍      | 1200/3543 [06:54<22:59,  1.70it/s]\u001b[A\n",
            " 34%|███▍      | 1201/3543 [06:55<23:09,  1.69it/s]\u001b[A\n",
            " 34%|███▍      | 1202/3543 [06:55<21:57,  1.78it/s]\u001b[A\n",
            " 34%|███▍      | 1203/3543 [06:56<20:57,  1.86it/s]\u001b[A\n",
            " 34%|███▍      | 1204/3543 [06:57<22:01,  1.77it/s]\u001b[A\n",
            " 34%|███▍      | 1205/3543 [06:57<21:15,  1.83it/s]\u001b[A\n",
            " 34%|███▍      | 1206/3543 [06:58<22:35,  1.72it/s]\u001b[A\n",
            " 34%|███▍      | 1207/3543 [06:58<21:51,  1.78it/s]\u001b[A\n",
            " 34%|███▍      | 1208/3543 [06:59<21:00,  1.85it/s]\u001b[A\n",
            " 34%|███▍      | 1209/3543 [06:59<21:14,  1.83it/s]\u001b[A\n",
            " 34%|███▍      | 1210/3543 [07:00<22:07,  1.76it/s]\u001b[A\n",
            " 34%|███▍      | 1211/3543 [07:00<21:34,  1.80it/s]\u001b[A\n",
            " 34%|███▍      | 1212/3543 [07:01<22:43,  1.71it/s]\u001b[A\n",
            " 34%|███▍      | 1213/3543 [07:02<23:14,  1.67it/s]\u001b[A\n",
            " 34%|███▍      | 1214/3543 [07:02<23:35,  1.65it/s]\u001b[A\n",
            " 34%|███▍      | 1215/3543 [07:03<22:12,  1.75it/s]\u001b[A\n",
            " 34%|███▍      | 1216/3543 [07:03<22:41,  1.71it/s]\u001b[A\n",
            " 34%|███▍      | 1217/3543 [07:04<22:35,  1.72it/s]\u001b[A\n",
            " 34%|███▍      | 1218/3543 [07:05<21:55,  1.77it/s]\u001b[A\n",
            " 34%|███▍      | 1219/3543 [07:05<21:20,  1.81it/s]\u001b[A\n",
            " 34%|███▍      | 1220/3543 [07:06<22:27,  1.72it/s]\u001b[A\n",
            " 34%|███▍      | 1221/3543 [07:06<21:28,  1.80it/s]\u001b[A\n",
            " 34%|███▍      | 1222/3543 [07:07<20:43,  1.87it/s]\u001b[A\n",
            " 35%|███▍      | 1223/3543 [07:07<22:18,  1.73it/s]\u001b[A\n",
            " 35%|███▍      | 1224/3543 [07:08<22:20,  1.73it/s]\u001b[A\n",
            " 35%|███▍      | 1225/3543 [07:09<23:13,  1.66it/s]\u001b[A\n",
            " 35%|███▍      | 1226/3543 [07:09<21:52,  1.77it/s]\u001b[A\n",
            " 35%|███▍      | 1227/3543 [07:10<21:19,  1.81it/s]\u001b[A\n",
            " 35%|███▍      | 1228/3543 [07:10<20:53,  1.85it/s]\u001b[A\n",
            " 35%|███▍      | 1229/3543 [07:11<20:21,  1.89it/s]\u001b[A\n",
            " 35%|███▍      | 1230/3543 [07:11<20:11,  1.91it/s]\u001b[A\n",
            " 35%|███▍      | 1231/3543 [07:12<20:06,  1.92it/s]\u001b[A\n",
            " 35%|███▍      | 1232/3543 [07:12<21:33,  1.79it/s]\u001b[A\n",
            " 35%|███▍      | 1233/3543 [07:13<22:30,  1.71it/s]\u001b[A\n",
            " 35%|███▍      | 1234/3543 [07:14<23:52,  1.61it/s]\u001b[A\n",
            " 35%|███▍      | 1235/3543 [07:14<22:07,  1.74it/s]\u001b[A\n",
            " 35%|███▍      | 1236/3543 [07:15<22:38,  1.70it/s]\u001b[A\n",
            " 35%|███▍      | 1237/3543 [07:15<21:44,  1.77it/s]\u001b[A\n",
            " 35%|███▍      | 1238/3543 [07:16<20:51,  1.84it/s]\u001b[A\n",
            " 35%|███▍      | 1239/3543 [07:16<22:02,  1.74it/s]\u001b[A\n",
            " 35%|███▍      | 1240/3543 [07:17<19:35,  1.96it/s]\u001b[A\n",
            " 35%|███▌      | 1241/3543 [07:17<19:55,  1.93it/s]\u001b[A\n",
            " 35%|███▌      | 1242/3543 [07:18<21:11,  1.81it/s]\u001b[A\n",
            " 35%|███▌      | 1243/3543 [07:19<21:42,  1.77it/s]\u001b[A\n",
            " 35%|███▌      | 1244/3543 [07:19<21:17,  1.80it/s]\u001b[A\n",
            " 35%|███▌      | 1245/3543 [07:20<21:58,  1.74it/s]\u001b[A\n",
            " 35%|███▌      | 1246/3543 [07:20<23:02,  1.66it/s]\u001b[A\n",
            " 35%|███▌      | 1247/3543 [07:21<21:51,  1.75it/s]\u001b[A\n",
            " 35%|███▌      | 1248/3543 [07:21<21:03,  1.82it/s]\u001b[A\n",
            " 35%|███▌      | 1249/3543 [07:22<20:35,  1.86it/s]\u001b[A\n",
            " 35%|███▌      | 1250/3543 [07:22<21:36,  1.77it/s]\u001b[A\n",
            " 35%|███▌      | 1251/3543 [07:23<22:27,  1.70it/s]\u001b[A\n",
            " 35%|███▌      | 1252/3543 [07:24<23:50,  1.60it/s]\u001b[A\n",
            " 35%|███▌      | 1253/3543 [07:24<21:40,  1.76it/s]\u001b[A\n",
            " 35%|███▌      | 1254/3543 [07:25<20:41,  1.84it/s]\u001b[A\n",
            " 35%|███▌      | 1255/3543 [07:25<20:16,  1.88it/s]\u001b[A\n",
            " 35%|███▌      | 1256/3543 [07:26<21:04,  1.81it/s]\u001b[A\n",
            " 35%|███▌      | 1257/3543 [07:26<21:37,  1.76it/s]\u001b[A\n",
            " 36%|███▌      | 1258/3543 [07:27<21:17,  1.79it/s]\u001b[A\n",
            " 36%|███▌      | 1259/3543 [07:27<18:32,  2.05it/s]\u001b[A\n",
            " 36%|███▌      | 1260/3543 [07:28<19:00,  2.00it/s]\u001b[A\n",
            " 36%|███▌      | 1261/3543 [07:28<20:36,  1.85it/s]\u001b[A\n",
            " 36%|███▌      | 1262/3543 [07:29<20:20,  1.87it/s]\u001b[A\n",
            " 36%|███▌      | 1263/3543 [07:30<20:00,  1.90it/s]\u001b[A\n",
            " 36%|███▌      | 1264/3543 [07:30<20:43,  1.83it/s]\u001b[A\n",
            " 36%|███▌      | 1265/3543 [07:31<22:12,  1.71it/s]\u001b[A\n",
            " 36%|███▌      | 1266/3543 [07:31<22:20,  1.70it/s]\u001b[A\n",
            " 36%|███▌      | 1267/3543 [07:32<23:05,  1.64it/s]\u001b[A\n",
            " 36%|███▌      | 1268/3543 [07:33<21:54,  1.73it/s]\u001b[A\n",
            " 36%|███▌      | 1269/3543 [07:33<23:02,  1.65it/s]\u001b[A\n",
            " 36%|███▌      | 1270/3543 [07:34<21:43,  1.74it/s]\u001b[A\n",
            " 36%|███▌      | 1271/3543 [07:34<21:53,  1.73it/s]\u001b[A\n",
            " 36%|███▌      | 1272/3543 [07:35<21:38,  1.75it/s]\u001b[A\n",
            " 36%|███▌      | 1273/3543 [07:35<20:57,  1.80it/s]\u001b[A\n",
            " 36%|███▌      | 1274/3543 [07:36<19:48,  1.91it/s]\u001b[A\n",
            " 36%|███▌      | 1275/3543 [07:36<20:47,  1.82it/s]\u001b[A\n",
            " 36%|███▌      | 1276/3543 [07:37<23:03,  1.64it/s]\u001b[A\n",
            " 36%|███▌      | 1277/3543 [07:38<21:48,  1.73it/s]\u001b[A\n",
            " 36%|███▌      | 1278/3543 [07:38<21:13,  1.78it/s]\u001b[A\n",
            " 36%|███▌      | 1279/3543 [07:39<19:57,  1.89it/s]\u001b[A\n",
            " 36%|███▌      | 1280/3543 [07:39<19:32,  1.93it/s]\u001b[A\n",
            " 36%|███▌      | 1281/3543 [07:40<19:13,  1.96it/s]\u001b[A\n",
            " 36%|███▌      | 1282/3543 [07:40<18:33,  2.03it/s]\u001b[A\n",
            " 36%|███▌      | 1283/3543 [07:41<18:38,  2.02it/s]\u001b[A\n",
            " 36%|███▌      | 1284/3543 [07:41<19:16,  1.95it/s]\u001b[A\n",
            " 36%|███▋      | 1285/3543 [07:42<22:10,  1.70it/s]\u001b[A\n",
            " 36%|███▋      | 1286/3543 [07:42<21:38,  1.74it/s]\u001b[A\n",
            " 36%|███▋      | 1287/3543 [07:43<20:28,  1.84it/s]\u001b[A\n",
            " 36%|███▋      | 1288/3543 [07:43<20:14,  1.86it/s]\u001b[A\n",
            " 36%|███▋      | 1289/3543 [07:44<21:21,  1.76it/s]\u001b[A\n",
            " 36%|███▋      | 1290/3543 [07:45<20:28,  1.83it/s]\u001b[A\n",
            " 36%|███▋      | 1291/3543 [07:45<20:27,  1.84it/s]\u001b[A\n",
            " 36%|███▋      | 1292/3543 [07:46<19:44,  1.90it/s]\u001b[A\n",
            " 36%|███▋      | 1293/3543 [07:46<21:22,  1.75it/s]\u001b[A\n",
            " 37%|███▋      | 1294/3543 [07:47<20:26,  1.83it/s]\u001b[A\n",
            " 37%|███▋      | 1295/3543 [07:47<19:57,  1.88it/s]\u001b[A\n",
            " 37%|███▋      | 1296/3543 [07:48<21:06,  1.77it/s]\u001b[A\n",
            " 37%|███▋      | 1297/3543 [07:48<20:08,  1.86it/s]\u001b[A\n",
            " 37%|███▋      | 1298/3543 [07:49<20:52,  1.79it/s]\u001b[A\n",
            " 37%|███▋      | 1299/3543 [07:50<20:31,  1.82it/s]\u001b[A\n",
            " 37%|███▋      | 1300/3543 [07:50<21:09,  1.77it/s]\u001b[A\n",
            " 37%|███▋      | 1301/3543 [07:51<21:33,  1.73it/s]\u001b[A\n",
            " 37%|███▋      | 1302/3543 [07:51<20:36,  1.81it/s]\u001b[A\n",
            " 37%|███▋      | 1303/3543 [07:52<21:55,  1.70it/s]\u001b[A\n",
            " 37%|███▋      | 1304/3543 [07:52<20:34,  1.81it/s]\u001b[A\n",
            " 37%|███▋      | 1305/3543 [07:53<21:01,  1.77it/s]\u001b[A\n",
            " 37%|███▋      | 1306/3543 [07:54<21:57,  1.70it/s]\u001b[A\n",
            " 37%|███▋      | 1307/3543 [07:54<22:30,  1.66it/s]\u001b[A\n",
            " 37%|███▋      | 1308/3543 [07:55<22:36,  1.65it/s]\u001b[A\n",
            " 37%|███▋      | 1309/3543 [07:56<24:01,  1.55it/s]\u001b[A\n",
            " 37%|███▋      | 1310/3543 [07:56<22:20,  1.67it/s]\u001b[A\n",
            " 37%|███▋      | 1311/3543 [07:57<21:48,  1.71it/s]\u001b[A\n",
            " 37%|███▋      | 1312/3543 [07:57<21:05,  1.76it/s]\u001b[A\n",
            " 37%|███▋      | 1313/3543 [07:58<20:14,  1.84it/s]\u001b[A\n",
            " 37%|███▋      | 1314/3543 [07:58<20:47,  1.79it/s]\u001b[A\n",
            " 37%|███▋      | 1315/3543 [07:59<20:10,  1.84it/s]\u001b[A\n",
            " 37%|███▋      | 1316/3543 [07:59<20:47,  1.79it/s]\u001b[A\n",
            " 37%|███▋      | 1317/3543 [08:00<21:06,  1.76it/s]\u001b[A\n",
            " 37%|███▋      | 1318/3543 [08:01<21:29,  1.73it/s]\u001b[A\n",
            " 37%|███▋      | 1319/3543 [08:01<21:48,  1.70it/s]\u001b[A\n",
            " 37%|███▋      | 1320/3543 [08:02<21:31,  1.72it/s]\u001b[A\n",
            " 37%|███▋      | 1321/3543 [08:02<21:55,  1.69it/s]\u001b[A\n",
            " 37%|███▋      | 1322/3543 [08:03<22:10,  1.67it/s]\u001b[A\n",
            " 37%|███▋      | 1323/3543 [08:04<22:24,  1.65it/s]\u001b[A\n",
            " 37%|███▋      | 1324/3543 [08:04<22:19,  1.66it/s]\u001b[A\n",
            " 37%|███▋      | 1325/3543 [08:05<20:46,  1.78it/s]\u001b[A\n",
            " 37%|███▋      | 1326/3543 [08:05<20:50,  1.77it/s]\u001b[A\n",
            " 37%|███▋      | 1327/3543 [08:06<19:36,  1.88it/s]\u001b[A\n",
            " 37%|███▋      | 1328/3543 [08:06<18:47,  1.96it/s]\u001b[A\n",
            " 38%|███▊      | 1329/3543 [08:07<19:53,  1.85it/s]\u001b[A\n",
            " 38%|███▊      | 1330/3543 [08:07<19:25,  1.90it/s]\u001b[A\n",
            " 38%|███▊      | 1331/3543 [08:08<18:36,  1.98it/s]\u001b[A\n",
            " 38%|███▊      | 1332/3543 [08:08<18:12,  2.02it/s]\u001b[A\n",
            " 38%|███▊      | 1333/3543 [08:09<18:05,  2.04it/s]\u001b[A\n",
            " 38%|███▊      | 1334/3543 [08:09<19:31,  1.89it/s]\u001b[A\n",
            " 38%|███▊      | 1335/3543 [08:10<20:21,  1.81it/s]\u001b[A\n",
            " 38%|███▊      | 1336/3543 [08:10<19:58,  1.84it/s]\u001b[A\n",
            " 38%|███▊      | 1337/3543 [08:11<19:28,  1.89it/s]\u001b[A\n",
            " 38%|███▊      | 1338/3543 [08:11<18:59,  1.93it/s]\u001b[A\n",
            " 38%|███▊      | 1339/3543 [08:12<19:13,  1.91it/s]\u001b[A\n",
            " 38%|███▊      | 1340/3543 [08:13<20:26,  1.80it/s]\u001b[A\n",
            " 38%|███▊      | 1341/3543 [08:13<19:13,  1.91it/s]\u001b[A\n",
            " 38%|███▊      | 1342/3543 [08:14<19:43,  1.86it/s]\u001b[A\n",
            " 38%|███▊      | 1343/3543 [08:14<20:28,  1.79it/s]\u001b[A\n",
            " 38%|███▊      | 1344/3543 [08:15<19:55,  1.84it/s]\u001b[A\n",
            " 38%|███▊      | 1345/3543 [08:15<20:37,  1.78it/s]\u001b[A\n",
            " 38%|███▊      | 1346/3543 [08:16<21:03,  1.74it/s]\u001b[A\n",
            " 38%|███▊      | 1347/3543 [08:16<20:41,  1.77it/s]\u001b[A\n",
            " 38%|███▊      | 1348/3543 [08:17<20:01,  1.83it/s]\u001b[A\n",
            " 38%|███▊      | 1349/3543 [08:18<21:15,  1.72it/s]\u001b[A\n",
            " 38%|███▊      | 1350/3543 [08:18<21:48,  1.68it/s]\u001b[A\n",
            " 38%|███▊      | 1351/3543 [08:19<22:08,  1.65it/s]\u001b[A\n",
            " 38%|███▊      | 1352/3543 [08:19<21:00,  1.74it/s]\u001b[A\n",
            " 38%|███▊      | 1353/3543 [08:20<19:45,  1.85it/s]\u001b[A\n",
            " 38%|███▊      | 1354/3543 [08:20<20:44,  1.76it/s]\u001b[A\n",
            " 38%|███▊      | 1355/3543 [08:21<20:30,  1.78it/s]\u001b[A\n",
            " 38%|███▊      | 1356/3543 [08:22<20:51,  1.75it/s]\u001b[A\n",
            " 38%|███▊      | 1357/3543 [08:22<19:55,  1.83it/s]\u001b[A\n",
            " 38%|███▊      | 1358/3543 [08:23<19:26,  1.87it/s]\u001b[A\n",
            " 38%|███▊      | 1359/3543 [08:23<20:26,  1.78it/s]\u001b[A\n",
            " 38%|███▊      | 1360/3543 [08:24<20:01,  1.82it/s]\u001b[A\n",
            " 38%|███▊      | 1361/3543 [08:24<21:23,  1.70it/s]\u001b[A\n",
            " 38%|███▊      | 1362/3543 [08:25<21:57,  1.66it/s]\u001b[A\n",
            " 38%|███▊      | 1363/3543 [08:26<21:09,  1.72it/s]\u001b[A\n",
            " 38%|███▊      | 1364/3543 [08:26<21:20,  1.70it/s]\u001b[A\n",
            " 39%|███▊      | 1365/3543 [08:27<19:57,  1.82it/s]\u001b[A\n",
            " 39%|███▊      | 1366/3543 [08:27<20:25,  1.78it/s]\u001b[A\n",
            " 39%|███▊      | 1367/3543 [08:28<19:29,  1.86it/s]\u001b[A\n",
            " 39%|███▊      | 1368/3543 [08:28<21:08,  1.71it/s]\u001b[A\n",
            " 39%|███▊      | 1369/3543 [08:29<21:34,  1.68it/s]\u001b[A\n",
            " 39%|███▊      | 1370/3543 [08:30<21:42,  1.67it/s]\u001b[A\n",
            " 39%|███▊      | 1371/3543 [08:30<22:00,  1.64it/s]\u001b[A\n",
            " 39%|███▊      | 1372/3543 [08:31<20:35,  1.76it/s]\u001b[A\n",
            " 39%|███▉      | 1373/3543 [08:31<20:48,  1.74it/s]\u001b[A\n",
            " 39%|███▉      | 1374/3543 [08:32<21:09,  1.71it/s]\u001b[A\n",
            " 39%|███▉      | 1375/3543 [08:33<21:33,  1.68it/s]\u001b[A\n",
            " 39%|███▉      | 1376/3543 [08:33<20:09,  1.79it/s]\u001b[A\n",
            " 39%|███▉      | 1377/3543 [08:34<20:43,  1.74it/s]\u001b[A\n",
            " 39%|███▉      | 1378/3543 [08:34<19:56,  1.81it/s]\u001b[A\n",
            " 39%|███▉      | 1379/3543 [08:35<19:37,  1.84it/s]\u001b[A\n",
            " 39%|███▉      | 1380/3543 [08:35<20:07,  1.79it/s]\u001b[A\n",
            " 39%|███▉      | 1381/3543 [08:36<19:45,  1.82it/s]\u001b[A\n",
            " 39%|███▉      | 1382/3543 [08:36<20:30,  1.76it/s]\u001b[A\n",
            " 39%|███▉      | 1383/3543 [08:37<21:04,  1.71it/s]\u001b[A\n",
            " 39%|███▉      | 1384/3543 [08:38<20:05,  1.79it/s]\u001b[A\n",
            " 39%|███▉      | 1385/3543 [08:38<19:36,  1.83it/s]\u001b[A\n",
            " 39%|███▉      | 1386/3543 [08:39<19:11,  1.87it/s]\u001b[A\n",
            " 39%|███▉      | 1387/3543 [08:39<20:20,  1.77it/s]\u001b[A\n",
            " 39%|███▉      | 1388/3543 [08:40<19:18,  1.86it/s]\u001b[A\n",
            " 39%|███▉      | 1389/3543 [08:40<18:42,  1.92it/s]\u001b[A\n",
            " 39%|███▉      | 1390/3543 [08:41<18:40,  1.92it/s]\u001b[A\n",
            " 39%|███▉      | 1391/3543 [08:41<19:48,  1.81it/s]\u001b[A\n",
            " 39%|███▉      | 1392/3543 [08:42<20:25,  1.75it/s]\u001b[A\n",
            " 39%|███▉      | 1393/3543 [08:43<21:04,  1.70it/s]\u001b[A\n",
            " 39%|███▉      | 1394/3543 [08:43<20:24,  1.76it/s]\u001b[A\n",
            " 39%|███▉      | 1395/3543 [08:44<21:10,  1.69it/s]\u001b[A\n",
            " 39%|███▉      | 1396/3543 [08:44<20:28,  1.75it/s]\u001b[A\n",
            " 39%|███▉      | 1397/3543 [08:45<21:00,  1.70it/s]\u001b[A\n",
            " 39%|███▉      | 1398/3543 [08:45<21:17,  1.68it/s]\u001b[A\n",
            " 39%|███▉      | 1399/3543 [08:46<21:53,  1.63it/s]\u001b[A\n",
            " 40%|███▉      | 1400/3543 [08:47<22:14,  1.61it/s]\u001b[A\n",
            " 40%|███▉      | 1401/3543 [08:47<20:20,  1.76it/s]\u001b[A\n",
            " 40%|███▉      | 1402/3543 [08:48<21:53,  1.63it/s]\u001b[A\n",
            " 40%|███▉      | 1403/3543 [08:48<20:05,  1.77it/s]\u001b[A\n",
            " 40%|███▉      | 1404/3543 [08:49<20:46,  1.72it/s]\u001b[A\n",
            " 40%|███▉      | 1405/3543 [08:49<19:40,  1.81it/s]\u001b[A\n",
            " 40%|███▉      | 1406/3543 [08:50<19:21,  1.84it/s]\u001b[A\n",
            " 40%|███▉      | 1407/3543 [08:51<18:53,  1.88it/s]\u001b[A\n",
            " 40%|███▉      | 1408/3543 [08:51<19:47,  1.80it/s]\u001b[A\n",
            " 40%|███▉      | 1409/3543 [08:52<19:34,  1.82it/s]\u001b[A\n",
            " 40%|███▉      | 1410/3543 [08:52<20:54,  1.70it/s]\u001b[A\n",
            " 40%|███▉      | 1411/3543 [08:53<19:42,  1.80it/s]\u001b[A\n",
            " 40%|███▉      | 1412/3543 [08:54<21:46,  1.63it/s]\u001b[A\n",
            " 40%|███▉      | 1413/3543 [08:54<20:46,  1.71it/s]\u001b[A\n",
            " 40%|███▉      | 1414/3543 [08:55<19:57,  1.78it/s]\u001b[A\n",
            " 40%|███▉      | 1415/3543 [08:55<20:43,  1.71it/s]\u001b[A\n",
            " 40%|███▉      | 1416/3543 [08:56<21:06,  1.68it/s]\u001b[A\n",
            " 40%|███▉      | 1417/3543 [08:56<20:02,  1.77it/s]\u001b[A\n",
            " 40%|████      | 1418/3543 [08:57<20:37,  1.72it/s]\u001b[A\n",
            " 40%|████      | 1419/3543 [08:57<19:22,  1.83it/s]\u001b[A\n",
            " 40%|████      | 1420/3543 [08:58<18:31,  1.91it/s]\u001b[A\n",
            " 40%|████      | 1421/3543 [08:58<18:41,  1.89it/s]\u001b[A\n",
            " 40%|████      | 1422/3543 [08:59<19:44,  1.79it/s]\u001b[A\n",
            " 40%|████      | 1423/3543 [09:00<20:59,  1.68it/s]\u001b[A\n",
            " 40%|████      | 1424/3543 [09:00<21:22,  1.65it/s]\u001b[A\n",
            " 40%|████      | 1425/3543 [09:01<21:25,  1.65it/s]\u001b[A\n",
            " 40%|████      | 1426/3543 [09:01<19:58,  1.77it/s]\u001b[A\n",
            " 40%|████      | 1427/3543 [09:02<19:46,  1.78it/s]\u001b[A\n",
            " 40%|████      | 1428/3543 [09:03<20:18,  1.74it/s]\u001b[A\n",
            " 40%|████      | 1429/3543 [09:03<19:19,  1.82it/s]\u001b[A\n",
            " 40%|████      | 1430/3543 [09:04<18:54,  1.86it/s]\u001b[A\n",
            " 40%|████      | 1431/3543 [09:04<19:00,  1.85it/s]\u001b[A\n",
            " 40%|████      | 1432/3543 [09:05<19:41,  1.79it/s]\u001b[A\n",
            " 40%|████      | 1433/3543 [09:05<19:24,  1.81it/s]\u001b[A\n",
            " 40%|████      | 1434/3543 [09:06<19:05,  1.84it/s]\u001b[A\n",
            " 41%|████      | 1435/3543 [09:06<18:18,  1.92it/s]\u001b[A\n",
            " 41%|████      | 1436/3543 [09:07<19:07,  1.84it/s]\u001b[A\n",
            " 41%|████      | 1437/3543 [09:08<19:49,  1.77it/s]\u001b[A\n",
            " 41%|████      | 1438/3543 [09:08<19:00,  1.85it/s]\u001b[A\n",
            " 41%|████      | 1439/3543 [09:09<20:00,  1.75it/s]\u001b[A\n",
            " 41%|████      | 1440/3543 [09:09<18:35,  1.89it/s]\u001b[A\n",
            " 41%|████      | 1441/3543 [09:10<17:53,  1.96it/s]\u001b[A\n",
            " 41%|████      | 1442/3543 [09:10<17:37,  1.99it/s]\u001b[A\n",
            " 41%|████      | 1443/3543 [09:11<18:55,  1.85it/s]\u001b[A\n",
            " 41%|████      | 1444/3543 [09:11<17:57,  1.95it/s]\u001b[A\n",
            " 41%|████      | 1445/3543 [09:12<17:28,  2.00it/s]\u001b[A\n",
            " 41%|████      | 1446/3543 [09:12<18:42,  1.87it/s]\u001b[A\n",
            " 41%|████      | 1447/3543 [09:13<19:42,  1.77it/s]\u001b[A\n",
            " 41%|████      | 1448/3543 [09:13<18:57,  1.84it/s]\u001b[A\n",
            " 41%|████      | 1449/3543 [09:14<18:18,  1.91it/s]\u001b[A\n",
            " 41%|████      | 1450/3543 [09:14<18:04,  1.93it/s]\u001b[A\n",
            " 41%|████      | 1451/3543 [09:15<18:53,  1.85it/s]\u001b[A\n",
            " 41%|████      | 1452/3543 [09:16<19:43,  1.77it/s]\u001b[A\n",
            " 41%|████      | 1453/3543 [09:16<21:05,  1.65it/s]\u001b[A\n",
            " 41%|████      | 1454/3543 [09:17<21:21,  1.63it/s]\u001b[A\n",
            " 41%|████      | 1455/3543 [09:17<20:29,  1.70it/s]\u001b[A\n",
            " 41%|████      | 1456/3543 [09:18<20:58,  1.66it/s]\u001b[A\n",
            " 41%|████      | 1457/3543 [09:19<20:54,  1.66it/s]\u001b[A\n",
            " 41%|████      | 1458/3543 [09:19<20:42,  1.68it/s]\u001b[A\n",
            " 41%|████      | 1459/3543 [09:20<21:06,  1.65it/s]\u001b[A\n",
            " 41%|████      | 1460/3543 [09:20<19:32,  1.78it/s]\u001b[A\n",
            " 41%|████      | 1461/3543 [09:21<20:13,  1.72it/s]\u001b[A\n",
            " 41%|████▏     | 1462/3543 [09:22<20:53,  1.66it/s]\u001b[A\n",
            " 41%|████▏     | 1463/3543 [09:22<20:55,  1.66it/s]\u001b[A\n",
            " 41%|████▏     | 1464/3543 [09:23<20:58,  1.65it/s]\u001b[A\n",
            " 41%|████▏     | 1465/3543 [09:23<19:21,  1.79it/s]\u001b[A\n",
            " 41%|████▏     | 1466/3543 [09:24<18:55,  1.83it/s]\u001b[A\n",
            " 41%|████▏     | 1467/3543 [09:24<18:22,  1.88it/s]\u001b[A\n",
            " 41%|████▏     | 1468/3543 [09:25<19:21,  1.79it/s]\u001b[A\n",
            " 41%|████▏     | 1469/3543 [09:25<19:49,  1.74it/s]\u001b[A\n",
            " 41%|████▏     | 1470/3543 [09:26<20:22,  1.70it/s]\u001b[A\n",
            " 42%|████▏     | 1471/3543 [09:27<20:40,  1.67it/s]\u001b[A\n",
            " 42%|████▏     | 1472/3543 [09:27<19:59,  1.73it/s]\u001b[A\n",
            " 42%|████▏     | 1473/3543 [09:28<20:01,  1.72it/s]\u001b[A\n",
            " 42%|████▏     | 1474/3543 [09:28<20:41,  1.67it/s]\u001b[A\n",
            " 42%|████▏     | 1475/3543 [09:29<19:33,  1.76it/s]\u001b[A\n",
            " 42%|████▏     | 1476/3543 [09:29<18:48,  1.83it/s]\u001b[A\n",
            " 42%|████▏     | 1477/3543 [09:30<18:11,  1.89it/s]\u001b[A\n",
            " 42%|████▏     | 1478/3543 [09:31<19:43,  1.74it/s]\u001b[A\n",
            " 42%|████▏     | 1479/3543 [09:31<19:13,  1.79it/s]\u001b[A\n",
            " 42%|████▏     | 1480/3543 [09:32<18:22,  1.87it/s]\u001b[A\n",
            " 42%|████▏     | 1481/3543 [09:32<19:18,  1.78it/s]\u001b[A\n",
            " 42%|████▏     | 1482/3543 [09:33<19:08,  1.79it/s]\u001b[A\n",
            " 42%|████▏     | 1483/3543 [09:33<19:46,  1.74it/s]\u001b[A\n",
            " 42%|████▏     | 1484/3543 [09:34<17:38,  1.94it/s]\u001b[A\n",
            " 42%|████▏     | 1485/3543 [09:34<17:25,  1.97it/s]\u001b[A\n",
            " 42%|████▏     | 1486/3543 [09:35<19:25,  1.76it/s]\u001b[A\n",
            " 42%|████▏     | 1487/3543 [09:35<18:39,  1.84it/s]\u001b[A\n",
            " 42%|████▏     | 1488/3543 [09:36<19:06,  1.79it/s]\u001b[A\n",
            " 42%|████▏     | 1489/3543 [09:37<19:31,  1.75it/s]\u001b[A\n",
            " 42%|████▏     | 1490/3543 [09:37<19:14,  1.78it/s]\u001b[A\n",
            " 42%|████▏     | 1491/3543 [09:38<20:00,  1.71it/s]\u001b[A\n",
            " 42%|████▏     | 1492/3543 [09:39<20:41,  1.65it/s]\u001b[A\n",
            " 42%|████▏     | 1493/3543 [09:39<20:59,  1.63it/s]\u001b[A\n",
            " 42%|████▏     | 1494/3543 [09:40<20:41,  1.65it/s]\u001b[A\n",
            " 42%|████▏     | 1495/3543 [09:40<20:31,  1.66it/s]\u001b[A\n",
            " 42%|████▏     | 1496/3543 [09:41<21:41,  1.57it/s]\u001b[A\n",
            " 42%|████▏     | 1497/3543 [09:42<21:39,  1.57it/s]\u001b[A\n",
            " 42%|████▏     | 1498/3543 [09:42<21:25,  1.59it/s]\u001b[A\n",
            " 42%|████▏     | 1499/3543 [09:43<20:07,  1.69it/s]\u001b[A\n",
            " 42%|████▏     | 1500/3543 [09:43<18:38,  1.83it/s]\u001b[A\n",
            " 42%|████▏     | 1501/3543 [09:44<19:22,  1.76it/s]\u001b[A\n",
            " 42%|████▏     | 1502/3543 [09:44<18:57,  1.79it/s]\u001b[A\n",
            " 42%|████▏     | 1503/3543 [09:45<19:41,  1.73it/s]\u001b[A\n",
            " 42%|████▏     | 1504/3543 [09:46<19:09,  1.77it/s]\u001b[A\n",
            " 42%|████▏     | 1505/3543 [09:46<18:35,  1.83it/s]\u001b[A\n",
            " 43%|████▎     | 1506/3543 [09:47<19:16,  1.76it/s]\u001b[A\n",
            " 43%|████▎     | 1507/3543 [09:47<20:17,  1.67it/s]\u001b[A\n",
            " 43%|████▎     | 1508/3543 [09:48<19:15,  1.76it/s]\u001b[A\n",
            " 43%|████▎     | 1509/3543 [09:49<24:22,  1.39it/s]\u001b[A\n",
            " 43%|████▎     | 1510/3543 [09:50<23:33,  1.44it/s]\u001b[A\n",
            " 43%|████▎     | 1511/3543 [09:50<22:04,  1.53it/s]\u001b[A\n",
            " 43%|████▎     | 1512/3543 [09:51<20:37,  1.64it/s]\u001b[A\n",
            " 43%|████▎     | 1513/3543 [09:51<19:44,  1.71it/s]\u001b[A\n",
            " 43%|████▎     | 1514/3543 [09:52<19:34,  1.73it/s]\u001b[A\n",
            " 43%|████▎     | 1515/3543 [09:52<19:06,  1.77it/s]\u001b[A\n",
            " 43%|████▎     | 1516/3543 [09:53<18:38,  1.81it/s]\u001b[A\n",
            " 43%|████▎     | 1517/3543 [09:53<18:33,  1.82it/s]\u001b[A\n",
            " 43%|████▎     | 1518/3543 [09:54<17:57,  1.88it/s]\u001b[A\n",
            " 43%|████▎     | 1519/3543 [09:55<19:57,  1.69it/s]\u001b[A\n",
            " 43%|████▎     | 1520/3543 [09:55<19:09,  1.76it/s]\u001b[A\n",
            " 43%|████▎     | 1521/3543 [09:56<18:30,  1.82it/s]\u001b[A\n",
            " 43%|████▎     | 1522/3543 [09:56<17:48,  1.89it/s]\u001b[A\n",
            " 43%|████▎     | 1523/3543 [09:57<19:00,  1.77it/s]\u001b[A\n",
            " 43%|████▎     | 1524/3543 [09:57<19:37,  1.72it/s]\u001b[A\n",
            " 43%|████▎     | 1525/3543 [09:58<18:47,  1.79it/s]\u001b[A\n",
            " 43%|████▎     | 1526/3543 [09:58<19:53,  1.69it/s]\u001b[A\n",
            " 43%|████▎     | 1527/3543 [09:59<21:20,  1.57it/s]\u001b[A\n",
            " 43%|████▎     | 1528/3543 [10:00<19:43,  1.70it/s]\u001b[A\n",
            " 43%|████▎     | 1529/3543 [10:00<18:56,  1.77it/s]\u001b[A\n",
            " 43%|████▎     | 1530/3543 [10:01<19:42,  1.70it/s]\u001b[A\n",
            " 43%|████▎     | 1531/3543 [10:01<19:48,  1.69it/s]\u001b[A\n",
            " 43%|████▎     | 1532/3543 [10:02<19:01,  1.76it/s]\u001b[A\n",
            " 43%|████▎     | 1533/3543 [10:02<18:16,  1.83it/s]\u001b[A\n",
            " 43%|████▎     | 1534/3543 [10:03<19:03,  1.76it/s]\u001b[A\n",
            " 43%|████▎     | 1535/3543 [10:04<18:45,  1.78it/s]\u001b[A\n",
            " 43%|████▎     | 1536/3543 [10:04<18:06,  1.85it/s]\u001b[A\n",
            " 43%|████▎     | 1537/3543 [10:05<18:57,  1.76it/s]\u001b[A\n",
            " 43%|████▎     | 1538/3543 [10:05<18:09,  1.84it/s]\u001b[A\n",
            " 43%|████▎     | 1539/3543 [10:06<18:03,  1.85it/s]\u001b[A\n",
            " 43%|████▎     | 1540/3543 [10:06<17:47,  1.88it/s]\u001b[A\n",
            " 43%|████▎     | 1541/3543 [10:07<19:14,  1.73it/s]\u001b[A\n",
            " 44%|████▎     | 1542/3543 [10:08<19:44,  1.69it/s]\u001b[A\n",
            " 44%|████▎     | 1543/3543 [10:08<19:16,  1.73it/s]\u001b[A\n",
            " 44%|████▎     | 1544/3543 [10:09<19:35,  1.70it/s]\u001b[A\n",
            " 44%|████▎     | 1545/3543 [10:09<18:40,  1.78it/s]\u001b[A\n",
            " 44%|████▎     | 1546/3543 [10:10<17:44,  1.88it/s]\u001b[A\n",
            " 44%|████▎     | 1547/3543 [10:10<18:42,  1.78it/s]\u001b[A\n",
            " 44%|████▎     | 1548/3543 [10:11<19:23,  1.71it/s]\u001b[A\n",
            " 44%|████▎     | 1549/3543 [10:12<19:45,  1.68it/s]\u001b[A\n",
            " 44%|████▎     | 1550/3543 [10:12<18:29,  1.80it/s]\u001b[A\n",
            " 44%|████▍     | 1551/3543 [10:13<18:28,  1.80it/s]\u001b[A\n",
            " 44%|████▍     | 1552/3543 [10:13<18:08,  1.83it/s]\u001b[A\n",
            " 44%|████▍     | 1553/3543 [10:14<19:16,  1.72it/s]\u001b[A\n",
            " 44%|████▍     | 1554/3543 [10:14<18:31,  1.79it/s]\u001b[A\n",
            " 44%|████▍     | 1555/3543 [10:15<17:27,  1.90it/s]\u001b[A\n",
            " 44%|████▍     | 1556/3543 [10:15<17:06,  1.94it/s]\u001b[A\n",
            " 44%|████▍     | 1557/3543 [10:16<18:07,  1.83it/s]\u001b[A\n",
            " 44%|████▍     | 1558/3543 [10:16<17:17,  1.91it/s]\u001b[A\n",
            " 44%|████▍     | 1559/3543 [10:17<18:10,  1.82it/s]\u001b[A\n",
            " 44%|████▍     | 1560/3543 [10:17<17:42,  1.87it/s]\u001b[A\n",
            " 44%|████▍     | 1561/3543 [10:18<18:26,  1.79it/s]\u001b[A\n",
            " 44%|████▍     | 1562/3543 [10:19<18:55,  1.74it/s]\u001b[A\n",
            " 44%|████▍     | 1563/3543 [10:19<19:39,  1.68it/s]\u001b[A\n",
            " 44%|████▍     | 1564/3543 [10:20<19:44,  1.67it/s]\u001b[A\n",
            " 44%|████▍     | 1565/3543 [10:20<18:36,  1.77it/s]\u001b[A\n",
            " 44%|████▍     | 1566/3543 [10:21<18:09,  1.81it/s]\u001b[A\n",
            " 44%|████▍     | 1567/3543 [10:21<17:32,  1.88it/s]\u001b[A\n",
            " 44%|████▍     | 1568/3543 [10:22<17:05,  1.93it/s]\u001b[A\n",
            " 44%|████▍     | 1569/3543 [10:23<18:08,  1.81it/s]\u001b[A\n",
            " 44%|████▍     | 1570/3543 [10:23<17:19,  1.90it/s]\u001b[A\n",
            " 44%|████▍     | 1571/3543 [10:23<17:06,  1.92it/s]\u001b[A\n",
            " 44%|████▍     | 1572/3543 [10:24<18:24,  1.78it/s]\u001b[A\n",
            " 44%|████▍     | 1573/3543 [10:25<19:12,  1.71it/s]\u001b[A\n",
            " 44%|████▍     | 1574/3543 [10:25<19:25,  1.69it/s]\u001b[A\n",
            " 44%|████▍     | 1575/3543 [10:26<19:44,  1.66it/s]\u001b[A\n",
            " 44%|████▍     | 1576/3543 [10:27<19:48,  1.66it/s]\u001b[A\n",
            " 45%|████▍     | 1577/3543 [10:27<18:22,  1.78it/s]\u001b[A\n",
            " 45%|████▍     | 1578/3543 [10:28<18:39,  1.75it/s]\u001b[A\n",
            " 45%|████▍     | 1579/3543 [10:28<18:58,  1.73it/s]\u001b[A\n",
            " 45%|████▍     | 1580/3543 [10:29<19:25,  1.68it/s]\u001b[A\n",
            " 45%|████▍     | 1581/3543 [10:29<18:17,  1.79it/s]\u001b[A\n",
            " 45%|████▍     | 1582/3543 [10:30<19:14,  1.70it/s]\u001b[A\n",
            " 45%|████▍     | 1583/3543 [10:31<18:17,  1.79it/s]\u001b[A\n",
            " 45%|████▍     | 1584/3543 [10:31<19:06,  1.71it/s]\u001b[A\n",
            " 45%|████▍     | 1585/3543 [10:32<17:57,  1.82it/s]\u001b[A\n",
            " 45%|████▍     | 1586/3543 [10:32<17:36,  1.85it/s]\u001b[A\n",
            " 45%|████▍     | 1587/3543 [10:33<18:07,  1.80it/s]\u001b[A\n",
            " 45%|████▍     | 1588/3543 [10:33<18:40,  1.74it/s]\u001b[A\n",
            " 45%|████▍     | 1589/3543 [10:34<19:42,  1.65it/s]\u001b[A\n",
            " 45%|████▍     | 1590/3543 [10:35<18:55,  1.72it/s]\u001b[A\n",
            " 45%|████▍     | 1591/3543 [10:35<18:44,  1.74it/s]\u001b[A\n",
            " 45%|████▍     | 1592/3543 [10:36<18:54,  1.72it/s]\u001b[A\n",
            " 45%|████▍     | 1593/3543 [10:36<17:51,  1.82it/s]\u001b[A\n",
            " 45%|████▍     | 1594/3543 [10:37<18:46,  1.73it/s]\u001b[A\n",
            " 45%|████▌     | 1595/3543 [10:37<18:19,  1.77it/s]\u001b[A\n",
            " 45%|████▌     | 1596/3543 [10:38<19:15,  1.68it/s]\u001b[A\n",
            " 45%|████▌     | 1597/3543 [10:39<18:57,  1.71it/s]\u001b[A\n",
            " 45%|████▌     | 1598/3543 [10:39<17:49,  1.82it/s]\u001b[A\n",
            " 45%|████▌     | 1599/3543 [10:40<17:18,  1.87it/s]\u001b[A\n",
            " 45%|████▌     | 1600/3543 [10:40<17:19,  1.87it/s]\u001b[A\n",
            " 45%|████▌     | 1601/3543 [10:41<17:03,  1.90it/s]\u001b[A\n",
            " 45%|████▌     | 1602/3543 [10:41<18:04,  1.79it/s]\u001b[A\n",
            " 45%|████▌     | 1603/3543 [10:42<17:26,  1.85it/s]\u001b[A\n",
            " 45%|████▌     | 1604/3543 [10:42<17:26,  1.85it/s]\u001b[A\n",
            " 45%|████▌     | 1605/3543 [10:43<18:33,  1.74it/s]\u001b[A\n",
            " 45%|████▌     | 1606/3543 [10:44<19:45,  1.63it/s]\u001b[A\n",
            " 45%|████▌     | 1607/3543 [10:44<19:25,  1.66it/s]\u001b[A\n",
            " 45%|████▌     | 1608/3543 [10:45<18:43,  1.72it/s]\u001b[A\n",
            " 45%|████▌     | 1609/3543 [10:45<18:07,  1.78it/s]\u001b[A\n",
            " 45%|████▌     | 1610/3543 [10:46<18:22,  1.75it/s]\u001b[A\n",
            " 45%|████▌     | 1611/3543 [10:47<19:10,  1.68it/s]\u001b[A\n",
            " 45%|████▌     | 1612/3543 [10:47<19:42,  1.63it/s]\u001b[A\n",
            " 46%|████▌     | 1613/3543 [10:48<19:57,  1.61it/s]\u001b[A\n",
            " 46%|████▌     | 1614/3543 [10:48<19:58,  1.61it/s]\u001b[A\n",
            " 46%|████▌     | 1615/3543 [10:49<18:27,  1.74it/s]\u001b[A\n",
            " 46%|████▌     | 1616/3543 [10:49<18:29,  1.74it/s]\u001b[A\n",
            " 46%|████▌     | 1617/3543 [10:50<19:06,  1.68it/s]\u001b[A\n",
            " 46%|████▌     | 1618/3543 [10:51<17:58,  1.78it/s]\u001b[A\n",
            " 46%|████▌     | 1619/3543 [10:51<18:36,  1.72it/s]\u001b[A\n",
            " 46%|████▌     | 1620/3543 [10:52<19:22,  1.65it/s]\u001b[A\n",
            " 46%|████▌     | 1621/3543 [10:52<19:13,  1.67it/s]\u001b[A\n",
            " 46%|████▌     | 1622/3543 [10:53<18:39,  1.72it/s]\u001b[A\n",
            " 46%|████▌     | 1623/3543 [10:54<18:02,  1.77it/s]\u001b[A\n",
            " 46%|████▌     | 1624/3543 [10:54<17:11,  1.86it/s]\u001b[A\n",
            " 46%|████▌     | 1625/3543 [10:55<17:47,  1.80it/s]\u001b[A\n",
            " 46%|████▌     | 1626/3543 [10:55<17:15,  1.85it/s]\u001b[A\n",
            " 46%|████▌     | 1627/3543 [10:56<18:07,  1.76it/s]\u001b[A\n",
            " 46%|████▌     | 1628/3543 [10:56<19:00,  1.68it/s]\u001b[A\n",
            " 46%|████▌     | 1629/3543 [10:57<19:17,  1.65it/s]\u001b[A\n",
            " 46%|████▌     | 1630/3543 [10:58<18:26,  1.73it/s]\u001b[A\n",
            " 46%|████▌     | 1631/3543 [10:58<17:37,  1.81it/s]\u001b[A\n",
            " 46%|████▌     | 1632/3543 [10:59<18:52,  1.69it/s]\u001b[A\n",
            " 46%|████▌     | 1633/3543 [10:59<19:15,  1.65it/s]\u001b[A\n",
            " 46%|████▌     | 1634/3543 [11:00<19:24,  1.64it/s]\u001b[A\n",
            " 46%|████▌     | 1635/3543 [11:01<23:34,  1.35it/s]\u001b[A\n",
            " 46%|████▌     | 1636/3543 [11:02<22:26,  1.42it/s]\u001b[A\n",
            " 46%|████▌     | 1637/3543 [11:02<20:05,  1.58it/s]\u001b[A\n",
            " 46%|████▌     | 1638/3543 [11:03<18:32,  1.71it/s]\u001b[A\n",
            " 46%|████▋     | 1639/3543 [11:03<18:05,  1.75it/s]\u001b[A\n",
            " 46%|████▋     | 1640/3543 [11:04<17:25,  1.82it/s]\u001b[A\n",
            " 46%|████▋     | 1641/3543 [11:04<18:31,  1.71it/s]\u001b[A\n",
            " 46%|████▋     | 1642/3543 [11:05<19:06,  1.66it/s]\u001b[A\n",
            " 46%|████▋     | 1643/3543 [11:05<18:13,  1.74it/s]\u001b[A\n",
            " 46%|████▋     | 1644/3543 [11:06<18:09,  1.74it/s]\u001b[A\n",
            " 46%|████▋     | 1645/3543 [11:07<17:19,  1.83it/s]\u001b[A\n",
            " 46%|████▋     | 1646/3543 [11:07<18:28,  1.71it/s]\u001b[A\n",
            " 46%|████▋     | 1647/3543 [11:08<17:28,  1.81it/s]\u001b[A\n",
            " 47%|████▋     | 1648/3543 [11:08<16:43,  1.89it/s]\u001b[A\n",
            " 47%|████▋     | 1649/3543 [11:09<16:41,  1.89it/s]\u001b[A\n",
            " 47%|████▋     | 1650/3543 [11:09<16:33,  1.91it/s]\u001b[A\n",
            " 47%|████▋     | 1651/3543 [11:10<16:59,  1.86it/s]\u001b[A\n",
            " 47%|████▋     | 1652/3543 [11:10<16:26,  1.92it/s]\u001b[A\n",
            " 47%|████▋     | 1653/3543 [11:11<17:26,  1.81it/s]\u001b[A\n",
            " 47%|████▋     | 1654/3543 [11:11<17:02,  1.85it/s]\u001b[A\n",
            " 47%|████▋     | 1655/3543 [11:12<17:43,  1.78it/s]\u001b[A\n",
            " 47%|████▋     | 1656/3543 [11:12<17:01,  1.85it/s]\u001b[A\n",
            " 47%|████▋     | 1657/3543 [11:13<16:42,  1.88it/s]\u001b[A\n",
            " 47%|████▋     | 1658/3543 [11:14<17:30,  1.79it/s]\u001b[A\n",
            " 47%|████▋     | 1659/3543 [11:14<18:06,  1.73it/s]\u001b[A\n",
            " 47%|████▋     | 1660/3543 [11:15<16:58,  1.85it/s]\u001b[A\n",
            " 47%|████▋     | 1661/3543 [11:15<16:39,  1.88it/s]\u001b[A\n",
            " 47%|████▋     | 1662/3543 [11:16<18:18,  1.71it/s]\u001b[A\n",
            " 47%|████▋     | 1663/3543 [11:17<18:50,  1.66it/s]\u001b[A\n",
            " 47%|████▋     | 1664/3543 [11:17<19:17,  1.62it/s]\u001b[A\n",
            " 47%|████▋     | 1665/3543 [11:18<19:10,  1.63it/s]\u001b[A\n",
            " 47%|████▋     | 1666/3543 [11:18<19:44,  1.58it/s]\u001b[A\n",
            " 47%|████▋     | 1667/3543 [11:19<19:24,  1.61it/s]\u001b[A\n",
            " 47%|████▋     | 1668/3543 [11:20<19:44,  1.58it/s]\u001b[A\n",
            " 47%|████▋     | 1669/3543 [11:20<19:43,  1.58it/s]\u001b[A\n",
            " 47%|████▋     | 1670/3543 [11:21<18:27,  1.69it/s]\u001b[A\n",
            " 47%|████▋     | 1671/3543 [11:21<17:37,  1.77it/s]\u001b[A\n",
            " 47%|████▋     | 1672/3543 [11:22<17:10,  1.81it/s]\u001b[A\n",
            " 47%|████▋     | 1673/3543 [11:22<17:41,  1.76it/s]\u001b[A\n",
            " 47%|████▋     | 1674/3543 [11:23<18:41,  1.67it/s]\u001b[A\n",
            " 47%|████▋     | 1675/3543 [11:24<17:50,  1.75it/s]\u001b[A\n",
            " 47%|████▋     | 1676/3543 [11:24<18:37,  1.67it/s]\u001b[A\n",
            " 47%|████▋     | 1677/3543 [11:25<18:51,  1.65it/s]\u001b[A\n",
            " 47%|████▋     | 1678/3543 [11:26<19:05,  1.63it/s]\u001b[A\n",
            " 47%|████▋     | 1679/3543 [11:26<19:03,  1.63it/s]\u001b[A\n",
            " 47%|████▋     | 1680/3543 [11:27<18:07,  1.71it/s]\u001b[A\n",
            " 47%|████▋     | 1681/3543 [11:27<18:34,  1.67it/s]\u001b[A\n",
            " 47%|████▋     | 1682/3543 [11:28<18:01,  1.72it/s]\u001b[A\n",
            " 48%|████▊     | 1683/3543 [11:28<18:15,  1.70it/s]\u001b[A\n",
            " 48%|████▊     | 1684/3543 [11:29<17:31,  1.77it/s]\u001b[A\n",
            " 48%|████▊     | 1685/3543 [11:30<16:51,  1.84it/s]\u001b[A\n",
            " 48%|████▊     | 1686/3543 [11:30<16:34,  1.87it/s]\u001b[A\n",
            " 48%|████▊     | 1687/3543 [11:31<17:38,  1.75it/s]\u001b[A\n",
            " 48%|████▊     | 1688/3543 [11:31<18:13,  1.70it/s]\u001b[A\n",
            " 48%|████▊     | 1689/3543 [11:32<16:53,  1.83it/s]\u001b[A\n",
            " 48%|████▊     | 1690/3543 [11:32<16:16,  1.90it/s]\u001b[A\n",
            " 48%|████▊     | 1691/3543 [11:33<16:09,  1.91it/s]\u001b[A\n",
            " 48%|████▊     | 1692/3543 [11:33<15:57,  1.93it/s]\u001b[A\n",
            " 48%|████▊     | 1693/3543 [11:34<15:36,  1.97it/s]\u001b[A\n",
            " 48%|████▊     | 1694/3543 [11:34<17:44,  1.74it/s]\u001b[A\n",
            " 48%|████▊     | 1695/3543 [11:35<16:35,  1.86it/s]\u001b[A\n",
            " 48%|████▊     | 1696/3543 [11:35<16:06,  1.91it/s]\u001b[A\n",
            " 48%|████▊     | 1697/3543 [11:36<16:09,  1.90it/s]\u001b[A\n",
            " 48%|████▊     | 1698/3543 [11:37<16:56,  1.81it/s]\u001b[A\n",
            " 48%|████▊     | 1699/3543 [11:37<16:52,  1.82it/s]\u001b[A\n",
            " 48%|████▊     | 1700/3543 [11:38<16:39,  1.84it/s]\u001b[A\n",
            " 48%|████▊     | 1701/3543 [11:38<17:36,  1.74it/s]\u001b[A\n",
            " 48%|████▊     | 1702/3543 [11:39<17:26,  1.76it/s]\u001b[A\n",
            " 48%|████▊     | 1703/3543 [11:39<17:44,  1.73it/s]\u001b[A\n",
            " 48%|████▊     | 1704/3543 [11:40<18:30,  1.66it/s]\u001b[A\n",
            " 48%|████▊     | 1705/3543 [11:41<17:02,  1.80it/s]\u001b[A\n",
            " 48%|████▊     | 1706/3543 [11:41<17:33,  1.74it/s]\u001b[A\n",
            " 48%|████▊     | 1707/3543 [11:42<18:51,  1.62it/s]\u001b[A\n",
            " 48%|████▊     | 1708/3543 [11:42<18:56,  1.61it/s]\u001b[A\n",
            " 48%|████▊     | 1709/3543 [11:43<17:31,  1.74it/s]\u001b[A\n",
            " 48%|████▊     | 1710/3543 [11:43<16:27,  1.86it/s]\u001b[A\n",
            " 48%|████▊     | 1711/3543 [11:44<17:23,  1.76it/s]\u001b[A\n",
            " 48%|████▊     | 1712/3543 [11:45<17:44,  1.72it/s]\u001b[A\n",
            " 48%|████▊     | 1713/3543 [11:45<18:12,  1.67it/s]\u001b[A\n",
            " 48%|████▊     | 1714/3543 [11:46<17:20,  1.76it/s]\u001b[A\n",
            " 48%|████▊     | 1715/3543 [11:46<18:09,  1.68it/s]\u001b[A\n",
            " 48%|████▊     | 1716/3543 [11:47<17:21,  1.75it/s]\u001b[A\n",
            " 48%|████▊     | 1717/3543 [11:48<18:10,  1.67it/s]\u001b[A\n",
            " 48%|████▊     | 1718/3543 [11:48<17:31,  1.74it/s]\u001b[A\n",
            " 49%|████▊     | 1719/3543 [11:49<17:55,  1.70it/s]\u001b[A\n",
            " 49%|████▊     | 1720/3543 [11:49<17:01,  1.79it/s]\u001b[A\n",
            " 49%|████▊     | 1721/3543 [11:50<17:42,  1.72it/s]\u001b[A\n",
            " 49%|████▊     | 1722/3543 [11:51<18:37,  1.63it/s]\u001b[A\n",
            " 49%|████▊     | 1723/3543 [11:51<17:46,  1.71it/s]\u001b[A\n",
            " 49%|████▊     | 1724/3543 [11:52<17:19,  1.75it/s]\u001b[A\n",
            " 49%|████▊     | 1725/3543 [11:52<17:03,  1.78it/s]\u001b[A\n",
            " 49%|████▊     | 1726/3543 [11:53<18:14,  1.66it/s]\u001b[A\n",
            " 49%|████▊     | 1727/3543 [11:54<18:35,  1.63it/s]\u001b[A\n",
            " 49%|████▉     | 1728/3543 [11:54<18:57,  1.60it/s]\u001b[A\n",
            " 49%|████▉     | 1729/3543 [11:55<18:44,  1.61it/s]\u001b[A\n",
            " 49%|████▉     | 1730/3543 [11:55<17:23,  1.74it/s]\u001b[A\n",
            " 49%|████▉     | 1731/3543 [11:56<19:41,  1.53it/s]\u001b[A\n",
            " 49%|████▉     | 1732/3543 [11:57<18:33,  1.63it/s]\u001b[A\n",
            " 49%|████▉     | 1733/3543 [11:57<19:00,  1.59it/s]\u001b[A\n",
            " 49%|████▉     | 1734/3543 [11:58<19:04,  1.58it/s]\u001b[A\n",
            " 49%|████▉     | 1735/3543 [11:58<18:11,  1.66it/s]\u001b[A\n",
            " 49%|████▉     | 1736/3543 [11:59<17:10,  1.75it/s]\u001b[A\n",
            " 49%|████▉     | 1737/3543 [11:59<16:20,  1.84it/s]\u001b[A\n",
            " 49%|████▉     | 1738/3543 [12:00<17:10,  1.75it/s]\u001b[A\n",
            " 49%|████▉     | 1739/3543 [12:01<16:33,  1.82it/s]\u001b[A\n",
            " 49%|████▉     | 1740/3543 [12:01<17:14,  1.74it/s]\u001b[A\n",
            " 49%|████▉     | 1741/3543 [12:02<17:05,  1.76it/s]\u001b[A\n",
            " 49%|████▉     | 1742/3543 [12:02<16:19,  1.84it/s]\u001b[A\n",
            " 49%|████▉     | 1743/3543 [12:03<16:01,  1.87it/s]\u001b[A\n",
            " 49%|████▉     | 1744/3543 [12:03<17:14,  1.74it/s]\u001b[A\n",
            " 49%|████▉     | 1745/3543 [12:04<16:26,  1.82it/s]\u001b[A\n",
            " 49%|████▉     | 1746/3543 [12:04<15:46,  1.90it/s]\u001b[A\n",
            " 49%|████▉     | 1747/3543 [12:05<15:48,  1.89it/s]\u001b[A\n",
            " 49%|████▉     | 1748/3543 [12:06<17:06,  1.75it/s]\u001b[A\n",
            " 49%|████▉     | 1749/3543 [12:06<17:26,  1.71it/s]\u001b[A\n",
            " 49%|████▉     | 1750/3543 [12:07<17:31,  1.71it/s]\u001b[A\n",
            " 49%|████▉     | 1751/3543 [12:07<17:03,  1.75it/s]\u001b[A\n",
            " 49%|████▉     | 1752/3543 [12:08<16:58,  1.76it/s]\u001b[A\n",
            " 49%|████▉     | 1753/3543 [12:09<17:39,  1.69it/s]\u001b[A\n",
            " 50%|████▉     | 1754/3543 [12:09<17:21,  1.72it/s]\u001b[A\n",
            " 50%|████▉     | 1755/3543 [12:10<17:58,  1.66it/s]\u001b[A\n",
            " 50%|████▉     | 1756/3543 [12:10<17:56,  1.66it/s]\u001b[A\n",
            " 50%|████▉     | 1757/3543 [12:11<16:47,  1.77it/s]\u001b[A\n",
            " 50%|████▉     | 1758/3543 [12:11<16:16,  1.83it/s]\u001b[A\n",
            " 50%|████▉     | 1759/3543 [12:12<16:55,  1.76it/s]\u001b[A\n",
            " 50%|████▉     | 1760/3543 [12:13<17:15,  1.72it/s]\u001b[A\n",
            " 50%|████▉     | 1761/3543 [12:13<16:28,  1.80it/s]\u001b[A\n",
            " 50%|████▉     | 1762/3543 [12:14<16:09,  1.84it/s]\u001b[A\n",
            " 50%|████▉     | 1763/3543 [12:14<15:54,  1.86it/s]\u001b[A\n",
            " 50%|████▉     | 1764/3543 [12:15<15:34,  1.90it/s]\u001b[A\n",
            " 50%|████▉     | 1765/3543 [12:15<15:00,  1.97it/s]\u001b[A\n",
            " 50%|████▉     | 1766/3543 [12:16<14:59,  1.98it/s]\u001b[A\n",
            " 50%|████▉     | 1767/3543 [12:16<14:52,  1.99it/s]\u001b[A\n",
            " 50%|████▉     | 1768/3543 [12:17<15:59,  1.85it/s]\u001b[A\n",
            " 50%|████▉     | 1769/3543 [12:17<15:39,  1.89it/s]\u001b[A\n",
            " 50%|████▉     | 1770/3543 [12:18<15:23,  1.92it/s]\u001b[A\n",
            " 50%|████▉     | 1771/3543 [12:18<14:57,  1.97it/s]\u001b[A\n",
            " 50%|█████     | 1772/3543 [12:19<15:20,  1.92it/s]\u001b[A\n",
            " 50%|█████     | 1773/3543 [12:19<16:05,  1.83it/s]\u001b[A\n",
            " 50%|█████     | 1774/3543 [12:20<16:42,  1.76it/s]\u001b[A\n",
            " 50%|█████     | 1775/3543 [12:21<16:42,  1.76it/s]\u001b[A\n",
            " 50%|█████     | 1776/3543 [12:21<17:16,  1.70it/s]\u001b[A\n",
            " 50%|█████     | 1777/3543 [12:22<17:11,  1.71it/s]\u001b[A\n",
            " 50%|█████     | 1778/3543 [12:22<17:31,  1.68it/s]\u001b[A\n",
            " 50%|█████     | 1779/3543 [12:23<17:39,  1.66it/s]\u001b[A\n",
            " 50%|█████     | 1780/3543 [12:23<17:02,  1.72it/s]\u001b[A\n",
            " 50%|█████     | 1781/3543 [12:24<16:21,  1.80it/s]\u001b[A\n",
            " 50%|█████     | 1782/3543 [12:25<16:44,  1.75it/s]\u001b[A\n",
            " 50%|█████     | 1783/3543 [12:25<16:12,  1.81it/s]\u001b[A\n",
            " 50%|█████     | 1784/3543 [12:26<15:44,  1.86it/s]\u001b[A\n",
            " 50%|█████     | 1785/3543 [12:26<16:08,  1.81it/s]\u001b[A\n",
            " 50%|█████     | 1786/3543 [12:27<15:54,  1.84it/s]\u001b[A\n",
            " 50%|█████     | 1787/3543 [12:27<15:41,  1.86it/s]\u001b[A\n",
            " 50%|█████     | 1788/3543 [12:28<16:16,  1.80it/s]\u001b[A\n",
            " 50%|█████     | 1789/3543 [12:28<15:50,  1.85it/s]\u001b[A\n",
            " 51%|█████     | 1790/3543 [12:29<15:24,  1.90it/s]\u001b[A\n",
            " 51%|█████     | 1791/3543 [12:29<16:23,  1.78it/s]\u001b[A\n",
            " 51%|█████     | 1792/3543 [12:30<16:53,  1.73it/s]\u001b[A\n",
            " 51%|█████     | 1793/3543 [12:31<16:14,  1.80it/s]\u001b[A\n",
            " 51%|█████     | 1794/3543 [12:31<16:56,  1.72it/s]\u001b[A\n",
            " 51%|█████     | 1795/3543 [12:32<16:37,  1.75it/s]\u001b[A\n",
            " 51%|█████     | 1796/3543 [12:32<16:53,  1.72it/s]\u001b[A\n",
            " 51%|█████     | 1797/3543 [12:33<16:05,  1.81it/s]\u001b[A\n",
            " 51%|█████     | 1798/3543 [12:34<16:47,  1.73it/s]\u001b[A\n",
            " 51%|█████     | 1799/3543 [12:34<16:00,  1.82it/s]\u001b[A\n",
            " 51%|█████     | 1800/3543 [12:35<16:39,  1.74it/s]\u001b[A\n",
            " 51%|█████     | 1801/3543 [12:35<16:51,  1.72it/s]\u001b[A\n",
            " 51%|█████     | 1802/3543 [12:36<15:53,  1.83it/s]\u001b[A\n",
            " 51%|█████     | 1803/3543 [12:36<15:40,  1.85it/s]\u001b[A\n",
            " 51%|█████     | 1804/3543 [12:37<16:25,  1.76it/s]\u001b[A\n",
            " 51%|█████     | 1805/3543 [12:37<15:36,  1.85it/s]\u001b[A\n",
            " 51%|█████     | 1806/3543 [12:38<16:14,  1.78it/s]\u001b[A\n",
            " 51%|█████     | 1807/3543 [12:38<16:03,  1.80it/s]\u001b[A\n",
            " 51%|█████     | 1808/3543 [12:39<16:36,  1.74it/s]\u001b[A\n",
            " 51%|█████     | 1809/3543 [12:40<15:43,  1.84it/s]\u001b[A\n",
            " 51%|█████     | 1810/3543 [12:40<15:29,  1.86it/s]\u001b[A\n",
            " 51%|█████     | 1811/3543 [12:41<14:47,  1.95it/s]\u001b[A\n",
            " 51%|█████     | 1812/3543 [12:41<15:45,  1.83it/s]\u001b[A\n",
            " 51%|█████     | 1813/3543 [12:42<15:42,  1.84it/s]\u001b[A\n",
            " 51%|█████     | 1814/3543 [12:42<15:21,  1.88it/s]\u001b[A\n",
            " 51%|█████     | 1815/3543 [12:43<16:10,  1.78it/s]\u001b[A\n",
            " 51%|█████▏    | 1816/3543 [12:43<16:31,  1.74it/s]\u001b[A\n",
            " 51%|█████▏    | 1817/3543 [12:44<16:54,  1.70it/s]\u001b[A\n",
            " 51%|█████▏    | 1818/3543 [12:45<17:54,  1.61it/s]\u001b[A\n",
            " 51%|█████▏    | 1819/3543 [12:45<17:02,  1.69it/s]\u001b[A\n",
            " 51%|█████▏    | 1820/3543 [12:46<16:16,  1.76it/s]\u001b[A\n",
            " 51%|█████▏    | 1821/3543 [12:46<15:41,  1.83it/s]\u001b[A\n",
            " 51%|█████▏    | 1822/3543 [12:47<17:12,  1.67it/s]\u001b[A\n",
            " 51%|█████▏    | 1823/3543 [12:48<16:21,  1.75it/s]\u001b[A\n",
            " 51%|█████▏    | 1824/3543 [12:48<15:35,  1.84it/s]\u001b[A\n",
            " 52%|█████▏    | 1825/3543 [12:49<16:18,  1.76it/s]\u001b[A\n",
            " 52%|█████▏    | 1826/3543 [12:49<15:37,  1.83it/s]\u001b[A\n",
            " 52%|█████▏    | 1827/3543 [12:50<15:01,  1.90it/s]\u001b[A\n",
            " 52%|█████▏    | 1828/3543 [12:50<15:00,  1.90it/s]\u001b[A\n",
            " 52%|█████▏    | 1829/3543 [12:51<15:58,  1.79it/s]\u001b[A\n",
            " 52%|█████▏    | 1830/3543 [12:51<16:36,  1.72it/s]\u001b[A\n",
            " 52%|█████▏    | 1831/3543 [12:52<17:11,  1.66it/s]\u001b[A\n",
            " 52%|█████▏    | 1832/3543 [12:53<17:23,  1.64it/s]\u001b[A\n",
            " 52%|█████▏    | 1833/3543 [12:53<16:08,  1.77it/s]\u001b[A\n",
            " 52%|█████▏    | 1834/3543 [12:54<16:15,  1.75it/s]\u001b[A\n",
            " 52%|█████▏    | 1835/3543 [12:54<17:12,  1.65it/s]\u001b[A\n",
            " 52%|█████▏    | 1836/3543 [12:55<16:16,  1.75it/s]\u001b[A\n",
            " 52%|█████▏    | 1837/3543 [12:56<16:48,  1.69it/s]\u001b[A\n",
            " 52%|█████▏    | 1838/3543 [12:56<15:46,  1.80it/s]\u001b[A\n",
            " 52%|█████▏    | 1839/3543 [12:57<16:26,  1.73it/s]\u001b[A\n",
            " 52%|█████▏    | 1840/3543 [12:57<15:58,  1.78it/s]\u001b[A\n",
            " 52%|█████▏    | 1841/3543 [12:58<16:11,  1.75it/s]\u001b[A\n",
            " 52%|█████▏    | 1842/3543 [12:58<15:46,  1.80it/s]\u001b[A\n",
            " 52%|█████▏    | 1843/3543 [12:59<16:31,  1.71it/s]\u001b[A\n",
            " 52%|█████▏    | 1844/3543 [13:00<16:47,  1.69it/s]\u001b[A\n",
            " 52%|█████▏    | 1845/3543 [13:00<17:05,  1.66it/s]\u001b[A\n",
            " 52%|█████▏    | 1846/3543 [13:01<17:30,  1.62it/s]\u001b[A\n",
            " 52%|█████▏    | 1847/3543 [13:01<17:51,  1.58it/s]\u001b[A\n",
            " 52%|█████▏    | 1848/3543 [13:02<17:54,  1.58it/s]\u001b[A\n",
            " 52%|█████▏    | 1849/3543 [13:03<17:01,  1.66it/s]\u001b[A\n",
            " 52%|█████▏    | 1850/3543 [13:03<17:31,  1.61it/s]\u001b[A\n",
            " 52%|█████▏    | 1851/3543 [13:04<17:04,  1.65it/s]\u001b[A\n",
            " 52%|█████▏    | 1852/3543 [13:04<16:39,  1.69it/s]\u001b[A\n",
            " 52%|█████▏    | 1853/3543 [13:05<15:40,  1.80it/s]\u001b[A\n",
            " 52%|█████▏    | 1854/3543 [13:06<16:12,  1.74it/s]\u001b[A\n",
            " 52%|█████▏    | 1855/3543 [13:06<17:01,  1.65it/s]\u001b[A\n",
            " 52%|█████▏    | 1856/3543 [13:07<17:37,  1.60it/s]\u001b[A\n",
            " 52%|█████▏    | 1857/3543 [13:07<17:07,  1.64it/s]\u001b[A\n",
            " 52%|█████▏    | 1858/3543 [13:08<16:38,  1.69it/s]\u001b[A\n",
            " 52%|█████▏    | 1859/3543 [13:09<16:39,  1.69it/s]\u001b[A\n",
            " 52%|█████▏    | 1860/3543 [13:09<16:19,  1.72it/s]\u001b[A\n",
            " 53%|█████▎    | 1861/3543 [13:10<15:51,  1.77it/s]\u001b[A\n",
            " 53%|█████▎    | 1862/3543 [13:10<16:42,  1.68it/s]\u001b[A\n",
            " 53%|█████▎    | 1863/3543 [13:11<17:14,  1.62it/s]\u001b[A\n",
            " 53%|█████▎    | 1864/3543 [13:12<17:24,  1.61it/s]\u001b[A\n",
            " 53%|█████▎    | 1865/3543 [13:12<16:09,  1.73it/s]\u001b[A\n",
            " 53%|█████▎    | 1866/3543 [13:13<16:37,  1.68it/s]\u001b[A\n",
            " 53%|█████▎    | 1867/3543 [13:13<15:46,  1.77it/s]\u001b[A\n",
            " 53%|█████▎    | 1868/3543 [13:14<16:20,  1.71it/s]\u001b[A\n",
            " 53%|█████▎    | 1869/3543 [13:15<17:19,  1.61it/s]\u001b[A\n",
            " 53%|█████▎    | 1870/3543 [13:15<16:31,  1.69it/s]\u001b[A\n",
            " 53%|█████▎    | 1871/3543 [13:16<15:48,  1.76it/s]\u001b[A\n",
            " 53%|█████▎    | 1872/3543 [13:16<16:11,  1.72it/s]\u001b[A\n",
            " 53%|█████▎    | 1873/3543 [13:17<16:26,  1.69it/s]\u001b[A\n",
            " 53%|█████▎    | 1874/3543 [13:17<16:37,  1.67it/s]\u001b[A\n",
            " 53%|█████▎    | 1875/3543 [13:18<16:51,  1.65it/s]\u001b[A\n",
            " 53%|█████▎    | 1876/3543 [13:19<16:22,  1.70it/s]\u001b[A\n",
            " 53%|█████▎    | 1877/3543 [13:19<16:24,  1.69it/s]\u001b[A\n",
            " 53%|█████▎    | 1878/3543 [13:20<15:35,  1.78it/s]\u001b[A\n",
            " 53%|█████▎    | 1879/3543 [13:20<14:46,  1.88it/s]\u001b[A\n",
            " 53%|█████▎    | 1880/3543 [13:21<14:19,  1.93it/s]\u001b[A\n",
            " 53%|█████▎    | 1881/3543 [13:21<15:19,  1.81it/s]\u001b[A\n",
            " 53%|█████▎    | 1882/3543 [13:22<14:45,  1.88it/s]\u001b[A\n",
            " 53%|█████▎    | 1883/3543 [13:22<14:21,  1.93it/s]\u001b[A\n",
            " 53%|█████▎    | 1884/3543 [13:23<13:58,  1.98it/s]\u001b[A\n",
            " 53%|█████▎    | 1885/3543 [13:23<15:00,  1.84it/s]\u001b[A\n",
            " 53%|█████▎    | 1886/3543 [13:24<14:15,  1.94it/s]\u001b[A\n",
            " 53%|█████▎    | 1887/3543 [13:24<14:57,  1.85it/s]\u001b[A\n",
            " 53%|█████▎    | 1888/3543 [13:25<15:29,  1.78it/s]\u001b[A\n",
            " 53%|█████▎    | 1889/3543 [13:25<14:00,  1.97it/s]\u001b[A\n",
            " 53%|█████▎    | 1890/3543 [13:26<14:15,  1.93it/s]\u001b[A\n",
            " 53%|█████▎    | 1891/3543 [13:27<14:34,  1.89it/s]\u001b[A\n",
            " 53%|█████▎    | 1892/3543 [13:27<14:24,  1.91it/s]\u001b[A\n",
            " 53%|█████▎    | 1893/3543 [13:28<14:11,  1.94it/s]\u001b[A\n",
            " 53%|█████▎    | 1894/3543 [13:28<13:46,  1.99it/s]\u001b[A\n",
            " 53%|█████▎    | 1895/3543 [13:29<15:04,  1.82it/s]\u001b[A\n",
            " 54%|█████▎    | 1896/3543 [13:29<15:31,  1.77it/s]\u001b[A\n",
            " 54%|█████▎    | 1897/3543 [13:30<15:49,  1.73it/s]\u001b[A\n",
            " 54%|█████▎    | 1898/3543 [13:30<15:35,  1.76it/s]\u001b[A\n",
            " 54%|█████▎    | 1899/3543 [13:31<14:50,  1.85it/s]\u001b[A\n",
            " 54%|█████▎    | 1900/3543 [13:32<15:33,  1.76it/s]\u001b[A\n",
            " 54%|█████▎    | 1901/3543 [13:32<14:55,  1.83it/s]\u001b[A\n",
            " 54%|█████▎    | 1902/3543 [13:33<14:29,  1.89it/s]\u001b[A\n",
            " 54%|█████▎    | 1903/3543 [13:33<14:39,  1.86it/s]\u001b[A\n",
            " 54%|█████▎    | 1904/3543 [13:34<15:10,  1.80it/s]\u001b[A\n",
            " 54%|█████▍    | 1905/3543 [13:35<17:19,  1.58it/s]\u001b[A\n",
            " 54%|█████▍    | 1906/3543 [13:35<16:40,  1.64it/s]\u001b[A\n",
            " 54%|█████▍    | 1907/3543 [13:36<17:04,  1.60it/s]\u001b[A\n",
            " 54%|█████▍    | 1908/3543 [13:36<15:43,  1.73it/s]\u001b[A\n",
            " 54%|█████▍    | 1909/3543 [13:37<14:54,  1.83it/s]\u001b[A\n",
            " 54%|█████▍    | 1910/3543 [13:37<15:37,  1.74it/s]\u001b[A\n",
            " 54%|█████▍    | 1911/3543 [13:38<15:42,  1.73it/s]\u001b[A\n",
            " 54%|█████▍    | 1912/3543 [13:38<14:41,  1.85it/s]\u001b[A\n",
            " 54%|█████▍    | 1913/3543 [13:39<16:07,  1.68it/s]\u001b[A\n",
            " 54%|█████▍    | 1914/3543 [13:40<16:39,  1.63it/s]\u001b[A\n",
            " 54%|█████▍    | 1915/3543 [13:40<16:48,  1.62it/s]\u001b[A\n",
            " 54%|█████▍    | 1916/3543 [13:41<16:52,  1.61it/s]\u001b[A\n",
            " 54%|█████▍    | 1917/3543 [13:41<15:46,  1.72it/s]\u001b[A\n",
            " 54%|█████▍    | 1918/3543 [13:42<16:03,  1.69it/s]\u001b[A\n",
            " 54%|█████▍    | 1919/3543 [13:43<16:09,  1.68it/s]\u001b[A\n",
            " 54%|█████▍    | 1920/3543 [13:43<16:20,  1.66it/s]\u001b[A\n",
            " 54%|█████▍    | 1921/3543 [13:44<16:16,  1.66it/s]\u001b[A\n",
            " 54%|█████▍    | 1922/3543 [13:44<15:27,  1.75it/s]\u001b[A\n",
            " 54%|█████▍    | 1923/3543 [13:45<15:43,  1.72it/s]\u001b[A\n",
            " 54%|█████▍    | 1924/3543 [13:46<16:08,  1.67it/s]\u001b[A\n",
            " 54%|█████▍    | 1925/3543 [13:46<16:19,  1.65it/s]\u001b[A\n",
            " 54%|█████▍    | 1926/3543 [13:47<15:35,  1.73it/s]\u001b[A\n",
            " 54%|█████▍    | 1927/3543 [13:47<15:18,  1.76it/s]\u001b[A\n",
            " 54%|█████▍    | 1928/3543 [13:48<14:59,  1.79it/s]\u001b[A\n",
            " 54%|█████▍    | 1929/3543 [13:48<14:27,  1.86it/s]\u001b[A\n",
            " 54%|█████▍    | 1930/3543 [13:49<13:48,  1.95it/s]\u001b[A\n",
            " 55%|█████▍    | 1931/3543 [13:49<13:21,  2.01it/s]\u001b[A\n",
            " 55%|█████▍    | 1932/3543 [13:50<14:11,  1.89it/s]\u001b[A\n",
            " 55%|█████▍    | 1933/3543 [13:50<13:49,  1.94it/s]\u001b[A\n",
            " 55%|█████▍    | 1934/3543 [13:51<13:42,  1.96it/s]\u001b[A\n",
            " 55%|█████▍    | 1935/3543 [13:51<13:58,  1.92it/s]\u001b[A\n",
            " 55%|█████▍    | 1936/3543 [13:52<13:35,  1.97it/s]\u001b[A\n",
            " 55%|█████▍    | 1937/3543 [13:52<14:16,  1.88it/s]\u001b[A\n",
            " 55%|█████▍    | 1938/3543 [13:53<14:05,  1.90it/s]\u001b[A\n",
            " 55%|█████▍    | 1939/3543 [13:53<13:25,  1.99it/s]\u001b[A\n",
            " 55%|█████▍    | 1940/3543 [13:54<14:25,  1.85it/s]\u001b[A\n",
            " 55%|█████▍    | 1941/3543 [13:55<15:20,  1.74it/s]\u001b[A\n",
            " 55%|█████▍    | 1942/3543 [13:55<14:58,  1.78it/s]\u001b[A\n",
            " 55%|█████▍    | 1943/3543 [13:56<14:30,  1.84it/s]\u001b[A\n",
            " 55%|█████▍    | 1944/3543 [13:56<15:15,  1.75it/s]\u001b[A\n",
            " 55%|█████▍    | 1945/3543 [13:57<14:27,  1.84it/s]\u001b[A\n",
            " 55%|█████▍    | 1946/3543 [13:57<14:19,  1.86it/s]\u001b[A\n",
            " 55%|█████▍    | 1947/3543 [13:58<13:42,  1.94it/s]\u001b[A\n",
            " 55%|█████▍    | 1948/3543 [13:58<14:44,  1.80it/s]\u001b[A\n",
            " 55%|█████▌    | 1949/3543 [13:59<14:17,  1.86it/s]\u001b[A\n",
            " 55%|█████▌    | 1950/3543 [14:00<14:18,  1.86it/s]\u001b[A\n",
            " 55%|█████▌    | 1951/3543 [14:00<15:04,  1.76it/s]\u001b[A\n",
            " 55%|█████▌    | 1952/3543 [14:01<15:59,  1.66it/s]\u001b[A\n",
            " 55%|█████▌    | 1953/3543 [14:01<15:58,  1.66it/s]\u001b[A\n",
            " 55%|█████▌    | 1954/3543 [14:02<15:12,  1.74it/s]\u001b[A\n",
            " 55%|█████▌    | 1955/3543 [14:02<14:52,  1.78it/s]\u001b[A\n",
            " 55%|█████▌    | 1956/3543 [14:03<14:18,  1.85it/s]\u001b[A\n",
            " 55%|█████▌    | 1957/3543 [14:04<14:06,  1.87it/s]\u001b[A\n",
            " 55%|█████▌    | 1958/3543 [14:04<15:07,  1.75it/s]\u001b[A\n",
            " 55%|█████▌    | 1959/3543 [14:05<15:27,  1.71it/s]\u001b[A\n",
            " 55%|█████▌    | 1960/3543 [14:05<15:09,  1.74it/s]\u001b[A\n",
            " 55%|█████▌    | 1961/3543 [14:06<15:38,  1.69it/s]\u001b[A\n",
            " 55%|█████▌    | 1962/3543 [14:07<15:49,  1.67it/s]\u001b[A\n",
            " 55%|█████▌    | 1963/3543 [14:07<15:09,  1.74it/s]\u001b[A\n",
            " 55%|█████▌    | 1964/3543 [14:08<14:30,  1.81it/s]\u001b[A\n",
            " 55%|█████▌    | 1965/3543 [14:08<14:01,  1.87it/s]\u001b[A\n",
            " 55%|█████▌    | 1966/3543 [14:09<13:33,  1.94it/s]\u001b[A\n",
            " 56%|█████▌    | 1967/3543 [14:09<14:22,  1.83it/s]\u001b[A\n",
            " 56%|█████▌    | 1968/3543 [14:10<14:55,  1.76it/s]\u001b[A\n",
            " 56%|█████▌    | 1969/3543 [14:10<14:13,  1.84it/s]\u001b[A\n",
            " 56%|█████▌    | 1970/3543 [14:11<14:40,  1.79it/s]\u001b[A\n",
            " 56%|█████▌    | 1971/3543 [14:12<16:23,  1.60it/s]\u001b[A\n",
            " 56%|█████▌    | 1972/3543 [14:12<16:29,  1.59it/s]\u001b[A\n",
            " 56%|█████▌    | 1973/3543 [14:13<16:30,  1.59it/s]\u001b[A\n",
            " 56%|█████▌    | 1974/3543 [14:13<15:35,  1.68it/s]\u001b[A\n",
            " 56%|█████▌    | 1975/3543 [14:14<14:53,  1.76it/s]\u001b[A\n",
            " 56%|█████▌    | 1976/3543 [14:15<14:42,  1.78it/s]\u001b[A\n",
            " 56%|█████▌    | 1977/3543 [14:15<14:41,  1.78it/s]\u001b[A\n",
            " 56%|█████▌    | 1978/3543 [14:16<14:33,  1.79it/s]\u001b[A\n",
            " 56%|█████▌    | 1979/3543 [14:16<15:24,  1.69it/s]\u001b[A\n",
            " 56%|█████▌    | 1980/3543 [14:17<15:39,  1.66it/s]\u001b[A\n",
            " 56%|█████▌    | 1981/3543 [14:18<15:54,  1.64it/s]\u001b[A\n",
            " 56%|█████▌    | 1982/3543 [14:18<16:14,  1.60it/s]\u001b[A\n",
            " 56%|█████▌    | 1983/3543 [14:19<16:16,  1.60it/s]\u001b[A\n",
            " 56%|█████▌    | 1984/3543 [14:19<16:29,  1.58it/s]\u001b[A\n",
            " 56%|█████▌    | 1985/3543 [14:20<16:07,  1.61it/s]\u001b[A\n",
            " 56%|█████▌    | 1986/3543 [14:21<15:22,  1.69it/s]\u001b[A\n",
            " 56%|█████▌    | 1987/3543 [14:21<14:38,  1.77it/s]\u001b[A\n",
            " 56%|█████▌    | 1988/3543 [14:22<14:22,  1.80it/s]\u001b[A\n",
            " 56%|█████▌    | 1989/3543 [14:22<13:51,  1.87it/s]\u001b[A\n",
            " 56%|█████▌    | 1990/3543 [14:23<14:34,  1.78it/s]\u001b[A\n",
            " 56%|█████▌    | 1991/3543 [14:23<13:58,  1.85it/s]\u001b[A\n",
            " 56%|█████▌    | 1992/3543 [14:24<14:56,  1.73it/s]\u001b[A\n",
            " 56%|█████▋    | 1993/3543 [14:25<15:36,  1.66it/s]\u001b[A\n",
            " 56%|█████▋    | 1994/3543 [14:25<15:00,  1.72it/s]\u001b[A\n",
            " 56%|█████▋    | 1995/3543 [14:26<14:59,  1.72it/s]\u001b[A\n",
            " 56%|█████▋    | 1996/3543 [14:26<15:17,  1.69it/s]\u001b[A\n",
            " 56%|█████▋    | 1997/3543 [14:27<15:53,  1.62it/s]\u001b[A\n",
            " 56%|█████▋    | 1998/3543 [14:28<15:12,  1.69it/s]\u001b[A\n",
            " 56%|█████▋    | 1999/3543 [14:28<14:43,  1.75it/s]\u001b[A\n",
            " 56%|█████▋    | 2000/3543 [14:29<14:16,  1.80it/s]\u001b[A\n",
            " 56%|█████▋    | 2001/3543 [14:29<14:45,  1.74it/s]\u001b[A\n",
            " 57%|█████▋    | 2002/3543 [14:30<15:05,  1.70it/s]\u001b[A\n",
            " 57%|█████▋    | 2003/3543 [14:30<14:21,  1.79it/s]\u001b[A\n",
            " 57%|█████▋    | 2004/3543 [14:31<14:37,  1.75it/s]\u001b[A\n",
            " 57%|█████▋    | 2005/3543 [14:31<14:52,  1.72it/s]\u001b[A\n",
            " 57%|█████▋    | 2006/3543 [14:32<14:16,  1.79it/s]\u001b[A\n",
            " 57%|█████▋    | 2007/3543 [14:32<13:49,  1.85it/s]\u001b[A\n",
            " 57%|█████▋    | 2008/3543 [14:33<14:41,  1.74it/s]\u001b[A\n",
            " 57%|█████▋    | 2009/3543 [14:34<15:37,  1.64it/s]\u001b[A\n",
            " 57%|█████▋    | 2010/3543 [14:34<14:49,  1.72it/s]\u001b[A\n",
            " 57%|█████▋    | 2011/3543 [14:35<14:13,  1.80it/s]\u001b[A\n",
            " 57%|█████▋    | 2012/3543 [14:35<13:36,  1.87it/s]\u001b[A\n",
            " 57%|█████▋    | 2013/3543 [14:36<13:54,  1.83it/s]\u001b[A\n",
            " 57%|█████▋    | 2014/3543 [14:36<12:13,  2.08it/s]\u001b[A\n",
            " 57%|█████▋    | 2015/3543 [14:37<12:19,  2.07it/s]\u001b[A\n",
            " 57%|█████▋    | 2016/3543 [14:37<13:20,  1.91it/s]\u001b[A\n",
            " 57%|█████▋    | 2017/3543 [14:38<12:51,  1.98it/s]\u001b[A\n",
            " 57%|█████▋    | 2018/3543 [14:38<13:59,  1.82it/s]\u001b[A\n",
            " 57%|█████▋    | 2019/3543 [14:39<14:36,  1.74it/s]\u001b[A\n",
            " 57%|█████▋    | 2020/3543 [14:40<14:24,  1.76it/s]\u001b[A\n",
            " 57%|█████▋    | 2021/3543 [14:40<15:02,  1.69it/s]\u001b[A\n",
            " 57%|█████▋    | 2022/3543 [14:41<14:15,  1.78it/s]\u001b[A\n",
            " 57%|█████▋    | 2023/3543 [14:41<14:46,  1.72it/s]\u001b[A\n",
            " 57%|█████▋    | 2024/3543 [14:42<15:13,  1.66it/s]\u001b[A\n",
            " 57%|█████▋    | 2025/3543 [14:43<15:28,  1.64it/s]\u001b[A\n",
            " 57%|█████▋    | 2026/3543 [14:43<15:43,  1.61it/s]\u001b[A\n",
            " 57%|█████▋    | 2027/3543 [14:44<15:31,  1.63it/s]\u001b[A\n",
            " 57%|█████▋    | 2028/3543 [14:45<15:42,  1.61it/s]\u001b[A\n",
            " 57%|█████▋    | 2029/3543 [14:45<15:40,  1.61it/s]\u001b[A\n",
            " 57%|█████▋    | 2030/3543 [14:46<14:54,  1.69it/s]\u001b[A\n",
            " 57%|█████▋    | 2031/3543 [14:46<14:07,  1.78it/s]\u001b[A\n",
            " 57%|█████▋    | 2032/3543 [14:47<14:25,  1.75it/s]\u001b[A\n",
            " 57%|█████▋    | 2033/3543 [14:47<14:53,  1.69it/s]\u001b[A\n",
            " 57%|█████▋    | 2034/3543 [14:48<15:03,  1.67it/s]\u001b[A\n",
            " 57%|█████▋    | 2035/3543 [14:49<14:04,  1.79it/s]\u001b[A\n",
            " 57%|█████▋    | 2036/3543 [14:49<13:31,  1.86it/s]\u001b[A\n",
            " 57%|█████▋    | 2037/3543 [14:50<13:22,  1.88it/s]\u001b[A\n",
            " 58%|█████▊    | 2038/3543 [14:50<14:11,  1.77it/s]\u001b[A\n",
            " 58%|█████▊    | 2039/3543 [14:51<13:51,  1.81it/s]\u001b[A\n",
            " 58%|█████▊    | 2040/3543 [14:51<13:43,  1.83it/s]\u001b[A\n",
            " 58%|█████▊    | 2041/3543 [14:52<13:40,  1.83it/s]\u001b[A\n",
            " 58%|█████▊    | 2042/3543 [14:52<13:31,  1.85it/s]\u001b[A\n",
            " 58%|█████▊    | 2043/3543 [14:53<14:07,  1.77it/s]\u001b[A\n",
            " 58%|█████▊    | 2044/3543 [14:54<14:34,  1.72it/s]\u001b[A\n",
            " 58%|█████▊    | 2045/3543 [14:54<13:50,  1.80it/s]\u001b[A\n",
            " 58%|█████▊    | 2046/3543 [14:55<14:29,  1.72it/s]\u001b[A\n",
            " 58%|█████▊    | 2047/3543 [14:55<13:28,  1.85it/s]\u001b[A\n",
            " 58%|█████▊    | 2048/3543 [14:56<13:39,  1.82it/s]\u001b[A\n",
            " 58%|█████▊    | 2049/3543 [14:56<14:28,  1.72it/s]\u001b[A\n",
            " 58%|█████▊    | 2050/3543 [14:57<14:40,  1.70it/s]\u001b[A\n",
            " 58%|█████▊    | 2051/3543 [14:58<15:21,  1.62it/s]\u001b[A\n",
            " 58%|█████▊    | 2052/3543 [14:58<15:25,  1.61it/s]\u001b[A\n",
            " 58%|█████▊    | 2053/3543 [14:59<15:16,  1.63it/s]\u001b[A\n",
            " 58%|█████▊    | 2054/3543 [14:59<14:57,  1.66it/s]\u001b[A\n",
            " 58%|█████▊    | 2055/3543 [15:00<15:06,  1.64it/s]\u001b[A\n",
            " 58%|█████▊    | 2056/3543 [15:01<14:23,  1.72it/s]\u001b[A\n",
            " 58%|█████▊    | 2057/3543 [15:01<13:40,  1.81it/s]\u001b[A\n",
            " 58%|█████▊    | 2058/3543 [15:02<13:18,  1.86it/s]\u001b[A\n",
            " 58%|█████▊    | 2059/3543 [15:02<14:27,  1.71it/s]\u001b[A\n",
            " 58%|█████▊    | 2060/3543 [15:03<14:28,  1.71it/s]\u001b[A\n",
            " 58%|█████▊    | 2061/3543 [15:03<13:41,  1.80it/s]\u001b[A\n",
            " 58%|█████▊    | 2062/3543 [15:04<14:22,  1.72it/s]\u001b[A\n",
            " 58%|█████▊    | 2063/3543 [15:05<15:15,  1.62it/s]\u001b[A\n",
            " 58%|█████▊    | 2064/3543 [15:05<14:01,  1.76it/s]\u001b[A\n",
            " 58%|█████▊    | 2065/3543 [15:06<14:04,  1.75it/s]\u001b[A\n",
            " 58%|█████▊    | 2066/3543 [15:06<13:09,  1.87it/s]\u001b[A\n",
            " 58%|█████▊    | 2067/3543 [15:07<13:27,  1.83it/s]\u001b[A\n",
            " 58%|█████▊    | 2068/3543 [15:07<13:01,  1.89it/s]\u001b[A\n",
            " 58%|█████▊    | 2069/3543 [15:08<12:56,  1.90it/s]\u001b[A\n",
            " 58%|█████▊    | 2070/3543 [15:08<13:52,  1.77it/s]\u001b[A\n",
            " 58%|█████▊    | 2071/3543 [15:09<13:18,  1.84it/s]\u001b[A\n",
            " 58%|█████▊    | 2072/3543 [15:09<12:59,  1.89it/s]\u001b[A\n",
            " 59%|█████▊    | 2073/3543 [15:10<13:59,  1.75it/s]\u001b[A\n",
            " 59%|█████▊    | 2074/3543 [15:11<13:22,  1.83it/s]\u001b[A\n",
            " 59%|█████▊    | 2075/3543 [15:11<13:07,  1.86it/s]\u001b[A\n",
            " 59%|█████▊    | 2076/3543 [15:12<13:05,  1.87it/s]\u001b[A\n",
            " 59%|█████▊    | 2077/3543 [15:12<12:57,  1.89it/s]\u001b[A\n",
            " 59%|█████▊    | 2078/3543 [15:13<12:44,  1.92it/s]\u001b[A\n",
            " 59%|█████▊    | 2079/3543 [15:13<12:36,  1.94it/s]\u001b[A\n",
            " 59%|█████▊    | 2080/3543 [15:14<12:09,  2.01it/s]\u001b[A\n",
            " 59%|█████▊    | 2081/3543 [15:14<12:12,  2.00it/s]\u001b[A\n",
            " 59%|█████▉    | 2082/3543 [15:15<13:07,  1.85it/s]\u001b[A\n",
            " 59%|█████▉    | 2083/3543 [15:15<12:45,  1.91it/s]\u001b[A\n",
            " 59%|█████▉    | 2084/3543 [15:16<12:42,  1.91it/s]\u001b[A\n",
            " 59%|█████▉    | 2085/3543 [15:16<12:43,  1.91it/s]\u001b[A\n",
            " 59%|█████▉    | 2086/3543 [15:17<13:43,  1.77it/s]\u001b[A\n",
            " 59%|█████▉    | 2087/3543 [15:17<13:32,  1.79it/s]\u001b[A\n",
            " 59%|█████▉    | 2088/3543 [15:18<14:14,  1.70it/s]\u001b[A\n",
            " 59%|█████▉    | 2089/3543 [15:19<13:49,  1.75it/s]\u001b[A\n",
            " 59%|█████▉    | 2090/3543 [15:19<12:58,  1.87it/s]\u001b[A\n",
            " 59%|█████▉    | 2091/3543 [15:20<12:38,  1.92it/s]\u001b[A\n",
            " 59%|█████▉    | 2092/3543 [15:20<12:20,  1.96it/s]\u001b[A\n",
            " 59%|█████▉    | 2093/3543 [15:21<12:06,  2.00it/s]\u001b[A\n",
            " 59%|█████▉    | 2094/3543 [15:21<12:58,  1.86it/s]\u001b[A\n",
            " 59%|█████▉    | 2095/3543 [15:22<13:50,  1.74it/s]\u001b[A\n",
            " 59%|█████▉    | 2096/3543 [15:22<13:16,  1.82it/s]\u001b[A\n",
            " 59%|█████▉    | 2097/3543 [15:23<13:45,  1.75it/s]\u001b[A\n",
            " 59%|█████▉    | 2098/3543 [15:23<13:19,  1.81it/s]\u001b[A\n",
            " 59%|█████▉    | 2099/3543 [15:24<13:02,  1.84it/s]\u001b[A\n",
            " 59%|█████▉    | 2100/3543 [15:25<13:10,  1.82it/s]\u001b[A\n",
            " 59%|█████▉    | 2101/3543 [15:25<14:07,  1.70it/s]\u001b[A\n",
            " 59%|█████▉    | 2102/3543 [15:26<14:28,  1.66it/s]\u001b[A\n",
            " 59%|█████▉    | 2103/3543 [15:26<13:54,  1.73it/s]\u001b[A\n",
            " 59%|█████▉    | 2104/3543 [15:27<14:06,  1.70it/s]\u001b[A\n",
            " 59%|█████▉    | 2105/3543 [15:27<13:32,  1.77it/s]\u001b[A\n",
            " 59%|█████▉    | 2106/3543 [15:28<13:09,  1.82it/s]\u001b[A\n",
            " 59%|█████▉    | 2107/3543 [15:29<13:04,  1.83it/s]\u001b[A\n",
            " 59%|█████▉    | 2108/3543 [15:29<12:32,  1.91it/s]\u001b[A\n",
            " 60%|█████▉    | 2109/3543 [15:30<13:31,  1.77it/s]\u001b[A\n",
            " 60%|█████▉    | 2110/3543 [15:31<15:29,  1.54it/s]\u001b[A\n",
            " 60%|█████▉    | 2111/3543 [15:31<15:09,  1.57it/s]\u001b[A\n",
            " 60%|█████▉    | 2112/3543 [15:32<15:13,  1.57it/s]\u001b[A\n",
            " 60%|█████▉    | 2113/3543 [15:32<14:20,  1.66it/s]\u001b[A\n",
            " 60%|█████▉    | 2114/3543 [15:33<13:32,  1.76it/s]\u001b[A\n",
            " 60%|█████▉    | 2115/3543 [15:33<12:42,  1.87it/s]\u001b[A\n",
            " 60%|█████▉    | 2116/3543 [15:34<12:18,  1.93it/s]\u001b[A\n",
            " 60%|█████▉    | 2117/3543 [15:34<12:48,  1.86it/s]\u001b[A\n",
            " 60%|█████▉    | 2118/3543 [15:35<12:29,  1.90it/s]\u001b[A\n",
            " 60%|█████▉    | 2119/3543 [15:35<12:20,  1.92it/s]\u001b[A\n",
            " 60%|█████▉    | 2120/3543 [15:36<13:33,  1.75it/s]\u001b[A\n",
            " 60%|█████▉    | 2121/3543 [15:37<13:13,  1.79it/s]\u001b[A\n",
            " 60%|█████▉    | 2122/3543 [15:37<13:41,  1.73it/s]\u001b[A\n",
            " 60%|█████▉    | 2123/3543 [15:38<13:05,  1.81it/s]\u001b[A\n",
            " 60%|█████▉    | 2124/3543 [15:38<12:41,  1.86it/s]\u001b[A\n",
            " 60%|█████▉    | 2125/3543 [15:39<12:53,  1.83it/s]\u001b[A\n",
            " 60%|██████    | 2126/3543 [15:39<13:29,  1.75it/s]\u001b[A\n",
            " 60%|██████    | 2127/3543 [15:40<13:46,  1.71it/s]\u001b[A\n",
            " 60%|██████    | 2128/3543 [15:41<13:38,  1.73it/s]\u001b[A\n",
            " 60%|██████    | 2129/3543 [15:41<13:27,  1.75it/s]\u001b[A\n",
            " 60%|██████    | 2130/3543 [15:42<13:38,  1.73it/s]\u001b[A\n",
            " 60%|██████    | 2131/3543 [15:42<14:01,  1.68it/s]\u001b[A\n",
            " 60%|██████    | 2132/3543 [15:43<14:30,  1.62it/s]\u001b[A\n",
            " 60%|██████    | 2133/3543 [15:44<14:40,  1.60it/s]\u001b[A\n",
            " 60%|██████    | 2134/3543 [15:44<13:58,  1.68it/s]\u001b[A\n",
            " 60%|██████    | 2135/3543 [15:45<14:01,  1.67it/s]\u001b[A\n",
            " 60%|██████    | 2136/3543 [15:45<13:13,  1.77it/s]\u001b[A\n",
            " 60%|██████    | 2137/3543 [15:46<13:14,  1.77it/s]\u001b[A\n",
            " 60%|██████    | 2138/3543 [15:46<13:33,  1.73it/s]\u001b[A\n",
            " 60%|██████    | 2139/3543 [15:47<13:12,  1.77it/s]\u001b[A\n",
            " 60%|██████    | 2140/3543 [15:47<12:50,  1.82it/s]\u001b[A\n",
            " 60%|██████    | 2141/3543 [15:48<13:27,  1.74it/s]\u001b[A\n",
            " 60%|██████    | 2142/3543 [15:49<13:33,  1.72it/s]\u001b[A\n",
            " 60%|██████    | 2143/3543 [15:49<13:51,  1.68it/s]\u001b[A\n",
            " 61%|██████    | 2144/3543 [15:50<13:56,  1.67it/s]\u001b[A\n",
            " 61%|██████    | 2145/3543 [15:51<14:00,  1.66it/s]\u001b[A\n",
            " 61%|██████    | 2146/3543 [15:51<13:30,  1.72it/s]\u001b[A\n",
            " 61%|██████    | 2147/3543 [15:52<12:54,  1.80it/s]\u001b[A\n",
            " 61%|██████    | 2148/3543 [15:52<12:18,  1.89it/s]\u001b[A\n",
            " 61%|██████    | 2149/3543 [15:53<13:35,  1.71it/s]\u001b[A\n",
            " 61%|██████    | 2150/3543 [15:53<13:19,  1.74it/s]\u001b[A\n",
            " 61%|██████    | 2151/3543 [15:54<12:37,  1.84it/s]\u001b[A\n",
            " 61%|██████    | 2152/3543 [15:54<12:33,  1.85it/s]\u001b[A\n",
            " 61%|██████    | 2153/3543 [15:55<13:21,  1.73it/s]\u001b[A\n",
            " 61%|██████    | 2154/3543 [15:55<12:44,  1.82it/s]\u001b[A\n",
            " 61%|██████    | 2155/3543 [15:56<13:25,  1.72it/s]\u001b[A\n",
            " 61%|██████    | 2156/3543 [15:57<12:55,  1.79it/s]\u001b[A\n",
            " 61%|██████    | 2157/3543 [15:57<12:30,  1.85it/s]\u001b[A\n",
            " 61%|██████    | 2158/3543 [15:58<12:21,  1.87it/s]\u001b[A\n",
            " 61%|██████    | 2159/3543 [15:58<12:25,  1.86it/s]\u001b[A\n",
            " 61%|██████    | 2160/3543 [15:59<12:21,  1.86it/s]\u001b[A\n",
            " 61%|██████    | 2161/3543 [15:59<13:43,  1.68it/s]\u001b[A\n",
            " 61%|██████    | 2162/3543 [16:00<13:39,  1.69it/s]\u001b[A\n",
            " 61%|██████    | 2163/3543 [16:01<13:13,  1.74it/s]\u001b[A\n",
            " 61%|██████    | 2164/3543 [16:01<13:00,  1.77it/s]\u001b[A\n",
            " 61%|██████    | 2165/3543 [16:02<12:39,  1.81it/s]\u001b[A\n",
            " 61%|██████    | 2166/3543 [16:02<13:17,  1.73it/s]\u001b[A\n",
            " 61%|██████    | 2167/3543 [16:03<12:40,  1.81it/s]\u001b[A\n",
            " 61%|██████    | 2168/3543 [16:03<13:12,  1.73it/s]\u001b[A\n",
            " 61%|██████    | 2169/3543 [16:04<12:29,  1.83it/s]\u001b[A\n",
            " 61%|██████    | 2170/3543 [16:04<11:55,  1.92it/s]\u001b[A\n",
            " 61%|██████▏   | 2171/3543 [16:05<12:22,  1.85it/s]\u001b[A\n",
            " 61%|██████▏   | 2172/3543 [16:06<13:09,  1.74it/s]\u001b[A\n",
            " 61%|██████▏   | 2173/3543 [16:06<12:21,  1.85it/s]\u001b[A\n",
            " 61%|██████▏   | 2174/3543 [16:07<12:48,  1.78it/s]\u001b[A\n",
            " 61%|██████▏   | 2175/3543 [16:07<12:17,  1.85it/s]\u001b[A\n",
            " 61%|██████▏   | 2176/3543 [16:08<12:00,  1.90it/s]\u001b[A\n",
            " 61%|██████▏   | 2177/3543 [16:08<12:01,  1.89it/s]\u001b[A\n",
            " 61%|██████▏   | 2178/3543 [16:09<12:01,  1.89it/s]\u001b[A\n",
            " 62%|██████▏   | 2179/3543 [16:09<11:56,  1.90it/s]\u001b[A\n",
            " 62%|██████▏   | 2180/3543 [16:10<12:02,  1.89it/s]\u001b[A\n",
            " 62%|██████▏   | 2181/3543 [16:10<11:38,  1.95it/s]\u001b[A\n",
            " 62%|██████▏   | 2182/3543 [16:11<13:13,  1.72it/s]\u001b[A\n",
            " 62%|██████▏   | 2183/3543 [16:12<13:38,  1.66it/s]\u001b[A\n",
            " 62%|██████▏   | 2184/3543 [16:12<13:39,  1.66it/s]\u001b[A\n",
            " 62%|██████▏   | 2185/3543 [16:13<12:39,  1.79it/s]\u001b[A\n",
            " 62%|██████▏   | 2186/3543 [16:13<12:59,  1.74it/s]\u001b[A\n",
            " 62%|██████▏   | 2187/3543 [16:14<13:34,  1.66it/s]\u001b[A\n",
            " 62%|██████▏   | 2188/3543 [16:15<13:49,  1.63it/s]\u001b[A\n",
            " 62%|██████▏   | 2189/3543 [16:15<12:46,  1.77it/s]\u001b[A\n",
            " 62%|██████▏   | 2190/3543 [16:16<12:15,  1.84it/s]\u001b[A\n",
            " 62%|██████▏   | 2191/3543 [16:16<12:51,  1.75it/s]\u001b[A\n",
            " 62%|██████▏   | 2192/3543 [16:17<13:09,  1.71it/s]\u001b[A\n",
            " 62%|██████▏   | 2193/3543 [16:17<14:00,  1.61it/s]\u001b[A\n",
            " 62%|██████▏   | 2194/3543 [16:18<13:13,  1.70it/s]\u001b[A\n",
            " 62%|██████▏   | 2195/3543 [16:19<14:01,  1.60it/s]\u001b[A\n",
            " 62%|██████▏   | 2196/3543 [16:19<14:17,  1.57it/s]\u001b[A\n",
            " 62%|██████▏   | 2197/3543 [16:20<14:12,  1.58it/s]\u001b[A\n",
            " 62%|██████▏   | 2198/3543 [16:21<14:17,  1.57it/s]\u001b[A\n",
            " 62%|██████▏   | 2199/3543 [16:21<13:18,  1.68it/s]\u001b[A\n",
            " 62%|██████▏   | 2200/3543 [16:22<12:42,  1.76it/s]\u001b[A\n",
            " 62%|██████▏   | 2201/3543 [16:22<13:02,  1.71it/s]\u001b[A\n",
            " 62%|██████▏   | 2202/3543 [16:23<12:54,  1.73it/s]\u001b[A\n",
            " 62%|██████▏   | 2203/3543 [16:23<12:30,  1.79it/s]\u001b[A\n",
            " 62%|██████▏   | 2204/3543 [16:24<12:55,  1.73it/s]\u001b[A\n",
            " 62%|██████▏   | 2205/3543 [16:25<13:07,  1.70it/s]\u001b[A\n",
            " 62%|██████▏   | 2206/3543 [16:25<12:33,  1.77it/s]\u001b[A\n",
            " 62%|██████▏   | 2207/3543 [16:26<12:23,  1.80it/s]\u001b[A\n",
            " 62%|██████▏   | 2208/3543 [16:26<11:40,  1.91it/s]\u001b[A\n",
            " 62%|██████▏   | 2209/3543 [16:27<11:19,  1.96it/s]\u001b[A\n",
            " 62%|██████▏   | 2210/3543 [16:27<12:21,  1.80it/s]\u001b[A\n",
            " 62%|██████▏   | 2211/3543 [16:28<11:57,  1.86it/s]\u001b[A\n",
            " 62%|██████▏   | 2212/3543 [16:28<13:04,  1.70it/s]\u001b[A\n",
            " 62%|██████▏   | 2213/3543 [16:29<13:30,  1.64it/s]\u001b[A\n",
            " 62%|██████▏   | 2214/3543 [16:30<13:44,  1.61it/s]\u001b[A\n",
            " 63%|██████▎   | 2215/3543 [16:30<12:58,  1.71it/s]\u001b[A\n",
            " 63%|██████▎   | 2216/3543 [16:31<12:17,  1.80it/s]\u001b[A\n",
            " 63%|██████▎   | 2217/3543 [16:31<12:08,  1.82it/s]\u001b[A\n",
            " 63%|██████▎   | 2218/3543 [16:32<12:32,  1.76it/s]\u001b[A\n",
            " 63%|██████▎   | 2219/3543 [16:32<12:11,  1.81it/s]\u001b[A\n",
            " 63%|██████▎   | 2220/3543 [16:33<11:51,  1.86it/s]\u001b[A\n",
            " 63%|██████▎   | 2221/3543 [16:33<11:41,  1.89it/s]\u001b[A\n",
            " 63%|██████▎   | 2222/3543 [16:34<12:16,  1.79it/s]\u001b[A\n",
            " 63%|██████▎   | 2223/3543 [16:35<14:14,  1.55it/s]\u001b[A\n",
            " 63%|██████▎   | 2224/3543 [16:36<14:24,  1.53it/s]\u001b[A\n",
            " 63%|██████▎   | 2225/3543 [16:36<13:24,  1.64it/s]\u001b[A\n",
            " 63%|██████▎   | 2226/3543 [16:37<13:01,  1.69it/s]\u001b[A\n",
            " 63%|██████▎   | 2227/3543 [16:37<13:08,  1.67it/s]\u001b[A\n",
            " 63%|██████▎   | 2228/3543 [16:38<12:31,  1.75it/s]\u001b[A\n",
            " 63%|██████▎   | 2229/3543 [16:38<12:58,  1.69it/s]\u001b[A\n",
            " 63%|██████▎   | 2230/3543 [16:39<12:27,  1.76it/s]\u001b[A\n",
            " 63%|██████▎   | 2231/3543 [16:39<12:41,  1.72it/s]\u001b[A\n",
            " 63%|██████▎   | 2232/3543 [16:40<11:57,  1.83it/s]\u001b[A\n",
            " 63%|██████▎   | 2233/3543 [16:41<12:42,  1.72it/s]\u001b[A\n",
            " 63%|██████▎   | 2234/3543 [16:41<13:15,  1.65it/s]\u001b[A\n",
            " 63%|██████▎   | 2235/3543 [16:42<13:23,  1.63it/s]\u001b[A\n",
            " 63%|██████▎   | 2236/3543 [16:42<12:33,  1.73it/s]\u001b[A\n",
            " 63%|██████▎   | 2237/3543 [16:43<12:51,  1.69it/s]\u001b[A\n",
            " 63%|██████▎   | 2238/3543 [16:44<12:11,  1.78it/s]\u001b[A\n",
            " 63%|██████▎   | 2239/3543 [16:44<12:35,  1.73it/s]\u001b[A\n",
            " 63%|██████▎   | 2240/3543 [16:45<11:48,  1.84it/s]\u001b[A\n",
            " 63%|██████▎   | 2241/3543 [16:45<12:11,  1.78it/s]\u001b[A\n",
            " 63%|██████▎   | 2242/3543 [16:46<11:37,  1.87it/s]\u001b[A\n",
            " 63%|██████▎   | 2243/3543 [16:46<12:14,  1.77it/s]\u001b[A\n",
            " 63%|██████▎   | 2244/3543 [16:47<11:40,  1.85it/s]\u001b[A\n",
            " 63%|██████▎   | 2245/3543 [16:47<12:09,  1.78it/s]\u001b[A\n",
            " 63%|██████▎   | 2246/3543 [16:48<11:39,  1.86it/s]\u001b[A\n",
            " 63%|██████▎   | 2247/3543 [16:48<11:26,  1.89it/s]\u001b[A\n",
            " 63%|██████▎   | 2248/3543 [16:49<11:51,  1.82it/s]\u001b[A\n",
            " 63%|██████▎   | 2249/3543 [16:50<12:15,  1.76it/s]\u001b[A\n",
            " 64%|██████▎   | 2250/3543 [16:50<12:43,  1.69it/s]\u001b[A\n",
            " 64%|██████▎   | 2251/3543 [16:51<13:02,  1.65it/s]\u001b[A\n",
            " 64%|██████▎   | 2252/3543 [16:52<13:16,  1.62it/s]\u001b[A\n",
            " 64%|██████▎   | 2253/3543 [16:52<13:13,  1.62it/s]\u001b[A\n",
            " 64%|██████▎   | 2254/3543 [16:53<12:26,  1.73it/s]\u001b[A\n",
            " 64%|██████▎   | 2255/3543 [16:53<11:58,  1.79it/s]\u001b[A\n",
            " 64%|██████▎   | 2256/3543 [16:54<11:36,  1.85it/s]\u001b[A\n",
            " 64%|██████▎   | 2257/3543 [16:54<11:15,  1.90it/s]\u001b[A\n",
            " 64%|██████▎   | 2258/3543 [16:55<11:13,  1.91it/s]\u001b[A\n",
            " 64%|██████▍   | 2259/3543 [16:55<12:13,  1.75it/s]\u001b[A\n",
            " 64%|██████▍   | 2260/3543 [16:56<11:51,  1.80it/s]\u001b[A\n",
            " 64%|██████▍   | 2261/3543 [16:57<12:24,  1.72it/s]\u001b[A\n",
            " 64%|██████▍   | 2262/3543 [16:57<12:42,  1.68it/s]\u001b[A\n",
            " 64%|██████▍   | 2263/3543 [16:58<11:40,  1.83it/s]\u001b[A\n",
            " 64%|██████▍   | 2264/3543 [16:58<12:25,  1.71it/s]\u001b[A\n",
            " 64%|██████▍   | 2265/3543 [16:59<12:10,  1.75it/s]\u001b[A\n",
            " 64%|██████▍   | 2266/3543 [16:59<12:07,  1.76it/s]\u001b[A\n",
            " 64%|██████▍   | 2267/3543 [17:00<11:30,  1.85it/s]\u001b[A\n",
            " 64%|██████▍   | 2268/3543 [17:00<11:35,  1.83it/s]\u001b[A\n",
            " 64%|██████▍   | 2269/3543 [17:01<11:23,  1.86it/s]\u001b[A\n",
            " 64%|██████▍   | 2270/3543 [17:01<11:02,  1.92it/s]\u001b[A\n",
            " 64%|██████▍   | 2271/3543 [17:02<10:55,  1.94it/s]\u001b[A\n",
            " 64%|██████▍   | 2272/3543 [17:03<11:43,  1.81it/s]\u001b[A\n",
            " 64%|██████▍   | 2273/3543 [17:03<11:50,  1.79it/s]\u001b[A\n",
            " 64%|██████▍   | 2274/3543 [17:04<12:15,  1.73it/s]\u001b[A\n",
            " 64%|██████▍   | 2275/3543 [17:04<12:01,  1.76it/s]\u001b[A\n",
            " 64%|██████▍   | 2276/3543 [17:05<12:37,  1.67it/s]\u001b[A\n",
            " 64%|██████▍   | 2277/3543 [17:06<12:57,  1.63it/s]\u001b[A\n",
            " 64%|██████▍   | 2278/3543 [17:06<12:50,  1.64it/s]\u001b[A\n",
            " 64%|██████▍   | 2279/3543 [17:07<13:04,  1.61it/s]\u001b[A\n",
            " 64%|██████▍   | 2280/3543 [17:07<13:06,  1.61it/s]\u001b[A\n",
            " 64%|██████▍   | 2281/3543 [17:08<12:07,  1.73it/s]\u001b[A\n",
            " 64%|██████▍   | 2282/3543 [17:09<12:34,  1.67it/s]\u001b[A\n",
            " 64%|██████▍   | 2283/3543 [17:09<12:58,  1.62it/s]\u001b[A\n",
            " 64%|██████▍   | 2284/3543 [17:10<12:50,  1.63it/s]\u001b[A\n",
            " 64%|██████▍   | 2285/3543 [17:10<13:03,  1.61it/s]\u001b[A\n",
            " 65%|██████▍   | 2286/3543 [17:11<11:58,  1.75it/s]\u001b[A\n",
            " 65%|██████▍   | 2287/3543 [17:12<12:22,  1.69it/s]\u001b[A\n",
            " 65%|██████▍   | 2288/3543 [17:12<12:00,  1.74it/s]\u001b[A\n",
            " 65%|██████▍   | 2289/3543 [17:13<12:13,  1.71it/s]\u001b[A\n",
            " 65%|██████▍   | 2290/3543 [17:13<12:22,  1.69it/s]\u001b[A\n",
            " 65%|██████▍   | 2291/3543 [17:14<12:39,  1.65it/s]\u001b[A\n",
            " 65%|██████▍   | 2292/3543 [17:15<12:35,  1.66it/s]\u001b[A\n",
            " 65%|██████▍   | 2293/3543 [17:15<12:46,  1.63it/s]\u001b[A\n",
            " 65%|██████▍   | 2294/3543 [17:16<12:38,  1.65it/s]\u001b[A\n",
            " 65%|██████▍   | 2295/3543 [17:17<13:37,  1.53it/s]\u001b[A\n",
            " 65%|██████▍   | 2296/3543 [17:17<13:22,  1.55it/s]\u001b[A\n",
            " 65%|██████▍   | 2297/3543 [17:18<13:07,  1.58it/s]\u001b[A\n",
            " 65%|██████▍   | 2298/3543 [17:18<12:23,  1.68it/s]\u001b[A\n",
            " 65%|██████▍   | 2299/3543 [17:19<11:52,  1.75it/s]\u001b[A\n",
            " 65%|██████▍   | 2300/3543 [17:19<11:28,  1.81it/s]\u001b[A\n",
            " 65%|██████▍   | 2301/3543 [17:20<11:06,  1.86it/s]\u001b[A\n",
            " 65%|██████▍   | 2302/3543 [17:20<10:50,  1.91it/s]\u001b[A\n",
            " 65%|██████▌   | 2303/3543 [17:21<11:04,  1.87it/s]\u001b[A\n",
            " 65%|██████▌   | 2304/3543 [17:21<10:52,  1.90it/s]\u001b[A\n",
            " 65%|██████▌   | 2305/3543 [17:22<11:20,  1.82it/s]\u001b[A\n",
            " 65%|██████▌   | 2306/3543 [17:23<11:24,  1.81it/s]\u001b[A\n",
            " 65%|██████▌   | 2307/3543 [17:23<10:56,  1.88it/s]\u001b[A\n",
            " 65%|██████▌   | 2308/3543 [17:24<11:18,  1.82it/s]\u001b[A\n",
            " 65%|██████▌   | 2309/3543 [17:24<11:06,  1.85it/s]\u001b[A\n",
            " 65%|██████▌   | 2310/3543 [17:25<11:43,  1.75it/s]\u001b[A\n",
            " 65%|██████▌   | 2311/3543 [17:25<11:58,  1.72it/s]\u001b[A\n",
            " 65%|██████▌   | 2312/3543 [17:26<12:11,  1.68it/s]\u001b[A\n",
            " 65%|██████▌   | 2313/3543 [17:27<11:34,  1.77it/s]\u001b[A\n",
            " 65%|██████▌   | 2314/3543 [17:27<11:20,  1.81it/s]\u001b[A\n",
            " 65%|██████▌   | 2315/3543 [17:28<10:59,  1.86it/s]\u001b[A\n",
            " 65%|██████▌   | 2316/3543 [17:28<10:40,  1.91it/s]\u001b[A\n",
            " 65%|██████▌   | 2317/3543 [17:29<11:42,  1.75it/s]\u001b[A\n",
            " 65%|██████▌   | 2318/3543 [17:29<12:14,  1.67it/s]\u001b[A\n",
            " 65%|██████▌   | 2319/3543 [17:30<11:42,  1.74it/s]\u001b[A\n",
            " 65%|██████▌   | 2320/3543 [17:31<12:14,  1.66it/s]\u001b[A\n",
            " 66%|██████▌   | 2321/3543 [17:31<12:21,  1.65it/s]\u001b[A\n",
            " 66%|██████▌   | 2322/3543 [17:32<12:15,  1.66it/s]\u001b[A\n",
            " 66%|██████▌   | 2323/3543 [17:32<11:36,  1.75it/s]\u001b[A\n",
            " 66%|██████▌   | 2324/3543 [17:33<11:38,  1.74it/s]\u001b[A\n",
            " 66%|██████▌   | 2325/3543 [17:33<12:01,  1.69it/s]\u001b[A\n",
            " 66%|██████▌   | 2326/3543 [17:34<11:25,  1.77it/s]\u001b[A\n",
            " 66%|██████▌   | 2327/3543 [17:34<10:48,  1.88it/s]\u001b[A\n",
            " 66%|██████▌   | 2328/3543 [17:35<11:34,  1.75it/s]\u001b[A\n",
            " 66%|██████▌   | 2329/3543 [17:36<11:45,  1.72it/s]\u001b[A\n",
            " 66%|██████▌   | 2330/3543 [17:36<12:01,  1.68it/s]\u001b[A\n",
            " 66%|██████▌   | 2331/3543 [17:37<11:27,  1.76it/s]\u001b[A\n",
            " 66%|██████▌   | 2332/3543 [17:37<11:19,  1.78it/s]\u001b[A\n",
            " 66%|██████▌   | 2333/3543 [17:38<11:42,  1.72it/s]\u001b[A\n",
            " 66%|██████▌   | 2334/3543 [17:39<12:03,  1.67it/s]\u001b[A\n",
            " 66%|██████▌   | 2335/3543 [17:39<12:13,  1.65it/s]\u001b[A\n",
            " 66%|██████▌   | 2336/3543 [17:40<11:26,  1.76it/s]\u001b[A\n",
            " 66%|██████▌   | 2337/3543 [17:40<11:38,  1.73it/s]\u001b[A\n",
            " 66%|██████▌   | 2338/3543 [17:41<10:54,  1.84it/s]\u001b[A\n",
            " 66%|██████▌   | 2339/3543 [17:41<10:33,  1.90it/s]\u001b[A\n",
            " 66%|██████▌   | 2340/3543 [17:42<11:36,  1.73it/s]\u001b[A\n",
            " 66%|██████▌   | 2341/3543 [17:43<11:50,  1.69it/s]\u001b[A\n",
            " 66%|██████▌   | 2342/3543 [17:43<11:39,  1.72it/s]\u001b[A\n",
            " 66%|██████▌   | 2343/3543 [17:44<11:57,  1.67it/s]\u001b[A\n",
            " 66%|██████▌   | 2344/3543 [17:44<11:45,  1.70it/s]\u001b[A\n",
            " 66%|██████▌   | 2345/3543 [17:45<11:15,  1.77it/s]\u001b[A\n",
            " 66%|██████▌   | 2346/3543 [17:46<13:04,  1.53it/s]\u001b[A\n",
            " 66%|██████▌   | 2347/3543 [17:46<13:03,  1.53it/s]\u001b[A\n",
            " 66%|██████▋   | 2348/3543 [17:47<12:15,  1.62it/s]\u001b[A\n",
            " 66%|██████▋   | 2349/3543 [17:47<11:46,  1.69it/s]\u001b[A\n",
            " 66%|██████▋   | 2350/3543 [17:48<11:08,  1.78it/s]\u001b[A\n",
            " 66%|██████▋   | 2351/3543 [17:49<11:17,  1.76it/s]\u001b[A\n",
            " 66%|██████▋   | 2352/3543 [17:49<11:02,  1.80it/s]\u001b[A\n",
            " 66%|██████▋   | 2353/3543 [17:50<11:17,  1.76it/s]\u001b[A\n",
            " 66%|██████▋   | 2354/3543 [17:50<11:31,  1.72it/s]\u001b[A\n",
            " 66%|██████▋   | 2355/3543 [17:51<11:44,  1.69it/s]\u001b[A\n",
            " 66%|██████▋   | 2356/3543 [17:52<11:49,  1.67it/s]\u001b[A\n",
            " 67%|██████▋   | 2357/3543 [17:52<11:09,  1.77it/s]\u001b[A\n",
            " 67%|██████▋   | 2358/3543 [17:53<11:05,  1.78it/s]\u001b[A\n",
            " 67%|██████▋   | 2359/3543 [17:53<10:37,  1.86it/s]\u001b[A\n",
            " 67%|██████▋   | 2360/3543 [17:54<11:07,  1.77it/s]\u001b[A\n",
            " 67%|██████▋   | 2361/3543 [17:54<10:42,  1.84it/s]\u001b[A\n",
            " 67%|██████▋   | 2362/3543 [17:55<11:21,  1.73it/s]\u001b[A\n",
            " 67%|██████▋   | 2363/3543 [17:55<10:55,  1.80it/s]\u001b[A\n",
            " 67%|██████▋   | 2364/3543 [17:56<10:32,  1.86it/s]\u001b[A\n",
            " 67%|██████▋   | 2365/3543 [17:56<10:52,  1.81it/s]\u001b[A\n",
            " 67%|██████▋   | 2366/3543 [17:57<11:11,  1.75it/s]\u001b[A\n",
            " 67%|██████▋   | 2367/3543 [17:58<11:40,  1.68it/s]\u001b[A\n",
            " 67%|██████▋   | 2368/3543 [17:59<15:09,  1.29it/s]\u001b[A\n",
            " 67%|██████▋   | 2369/3543 [17:59<14:05,  1.39it/s]\u001b[A\n",
            " 67%|██████▋   | 2370/3543 [18:00<13:39,  1.43it/s]\u001b[A\n",
            " 67%|██████▋   | 2371/3543 [18:01<13:10,  1.48it/s]\u001b[A\n",
            " 67%|██████▋   | 2372/3543 [18:01<12:13,  1.60it/s]\u001b[A\n",
            " 67%|██████▋   | 2373/3543 [18:02<11:08,  1.75it/s]\u001b[A\n",
            " 67%|██████▋   | 2374/3543 [18:02<10:35,  1.84it/s]\u001b[A\n",
            " 67%|██████▋   | 2375/3543 [18:03<10:37,  1.83it/s]\u001b[A\n",
            " 67%|██████▋   | 2376/3543 [18:03<10:32,  1.84it/s]\u001b[A\n",
            " 67%|██████▋   | 2377/3543 [18:04<11:10,  1.74it/s]\u001b[A\n",
            " 67%|██████▋   | 2378/3543 [18:04<10:43,  1.81it/s]\u001b[A\n",
            " 67%|██████▋   | 2379/3543 [18:05<10:27,  1.85it/s]\u001b[A\n",
            " 67%|██████▋   | 2380/3543 [18:05<10:10,  1.90it/s]\u001b[A\n",
            " 67%|██████▋   | 2381/3543 [18:06<10:11,  1.90it/s]\u001b[A\n",
            " 67%|██████▋   | 2382/3543 [18:06<10:01,  1.93it/s]\u001b[A\n",
            " 67%|██████▋   | 2383/3543 [18:07<10:55,  1.77it/s]\u001b[A\n",
            " 67%|██████▋   | 2384/3543 [18:08<10:31,  1.84it/s]\u001b[A\n",
            " 67%|██████▋   | 2385/3543 [18:08<10:34,  1.83it/s]\u001b[A\n",
            " 67%|██████▋   | 2386/3543 [18:09<10:57,  1.76it/s]\u001b[A\n",
            " 67%|██████▋   | 2387/3543 [18:09<11:32,  1.67it/s]\u001b[A\n",
            " 67%|██████▋   | 2388/3543 [18:10<11:46,  1.63it/s]\u001b[A\n",
            " 67%|██████▋   | 2389/3543 [18:11<10:53,  1.77it/s]\u001b[A\n",
            " 67%|██████▋   | 2390/3543 [18:11<11:18,  1.70it/s]\u001b[A\n",
            " 67%|██████▋   | 2391/3543 [18:12<10:57,  1.75it/s]\u001b[A\n",
            " 68%|██████▊   | 2392/3543 [18:12<11:33,  1.66it/s]\u001b[A\n",
            " 68%|██████▊   | 2393/3543 [18:13<11:45,  1.63it/s]\u001b[A\n",
            " 68%|██████▊   | 2394/3543 [18:14<11:01,  1.74it/s]\u001b[A\n",
            " 68%|██████▊   | 2395/3543 [18:14<11:09,  1.71it/s]\u001b[A\n",
            " 68%|██████▊   | 2396/3543 [18:15<11:26,  1.67it/s]\u001b[A\n",
            " 68%|██████▊   | 2397/3543 [18:15<11:11,  1.71it/s]\u001b[A\n",
            " 68%|██████▊   | 2398/3543 [18:16<11:47,  1.62it/s]\u001b[A\n",
            " 68%|██████▊   | 2399/3543 [18:17<11:21,  1.68it/s]\u001b[A\n",
            " 68%|██████▊   | 2400/3543 [18:17<11:29,  1.66it/s]\u001b[A\n",
            " 68%|██████▊   | 2401/3543 [18:18<11:20,  1.68it/s]\u001b[A\n",
            " 68%|██████▊   | 2402/3543 [18:18<10:32,  1.80it/s]\u001b[A\n",
            " 68%|██████▊   | 2403/3543 [18:19<10:56,  1.74it/s]\u001b[A\n",
            " 68%|██████▊   | 2404/3543 [18:19<11:23,  1.67it/s]\u001b[A\n",
            " 68%|██████▊   | 2405/3543 [18:20<11:41,  1.62it/s]\u001b[A\n",
            " 68%|██████▊   | 2406/3543 [18:21<10:57,  1.73it/s]\u001b[A\n",
            " 68%|██████▊   | 2407/3543 [18:21<10:40,  1.77it/s]\u001b[A\n",
            " 68%|██████▊   | 2408/3543 [18:22<11:01,  1.71it/s]\u001b[A\n",
            " 68%|██████▊   | 2409/3543 [18:22<11:07,  1.70it/s]\u001b[A\n",
            " 68%|██████▊   | 2410/3543 [18:23<10:34,  1.79it/s]\u001b[A\n",
            " 68%|██████▊   | 2411/3543 [18:23<10:16,  1.84it/s]\u001b[A\n",
            " 68%|██████▊   | 2412/3543 [18:24<09:59,  1.89it/s]\u001b[A\n",
            " 68%|██████▊   | 2413/3543 [18:24<09:57,  1.89it/s]\u001b[A\n",
            " 68%|██████▊   | 2414/3543 [18:25<10:58,  1.71it/s]\u001b[A\n",
            " 68%|██████▊   | 2415/3543 [18:26<10:19,  1.82it/s]\u001b[A\n",
            " 68%|██████▊   | 2416/3543 [18:26<10:13,  1.84it/s]\u001b[A\n",
            " 68%|██████▊   | 2417/3543 [18:27<09:48,  1.91it/s]\u001b[A\n",
            " 68%|██████▊   | 2418/3543 [18:27<09:25,  1.99it/s]\u001b[A\n",
            " 68%|██████▊   | 2419/3543 [18:28<11:04,  1.69it/s]\u001b[A\n",
            " 68%|██████▊   | 2420/3543 [18:28<10:18,  1.82it/s]\u001b[A\n",
            " 68%|██████▊   | 2421/3543 [18:29<10:17,  1.82it/s]\u001b[A\n",
            " 68%|██████▊   | 2422/3543 [18:29<10:12,  1.83it/s]\u001b[A\n",
            " 68%|██████▊   | 2423/3543 [18:30<10:48,  1.73it/s]\u001b[A\n",
            " 68%|██████▊   | 2424/3543 [18:31<10:26,  1.79it/s]\u001b[A\n",
            " 68%|██████▊   | 2425/3543 [18:31<10:28,  1.78it/s]\u001b[A\n",
            " 68%|██████▊   | 2426/3543 [18:31<09:16,  2.01it/s]\u001b[A\n",
            " 69%|██████▊   | 2427/3543 [18:32<09:02,  2.06it/s]\u001b[A\n",
            " 69%|██████▊   | 2428/3543 [18:32<09:05,  2.04it/s]\u001b[A\n",
            " 69%|██████▊   | 2429/3543 [18:33<10:12,  1.82it/s]\u001b[A\n",
            " 69%|██████▊   | 2430/3543 [18:34<10:46,  1.72it/s]\u001b[A\n",
            " 69%|██████▊   | 2431/3543 [18:34<10:20,  1.79it/s]\u001b[A\n",
            " 69%|██████▊   | 2432/3543 [18:35<09:47,  1.89it/s]\u001b[A\n",
            " 69%|██████▊   | 2433/3543 [18:35<09:37,  1.92it/s]\u001b[A\n",
            " 69%|██████▊   | 2434/3543 [18:36<09:27,  1.95it/s]\u001b[A\n",
            " 69%|██████▊   | 2435/3543 [18:36<09:50,  1.88it/s]\u001b[A\n",
            " 69%|██████▉   | 2436/3543 [18:37<09:51,  1.87it/s]\u001b[A\n",
            " 69%|██████▉   | 2437/3543 [18:37<09:46,  1.89it/s]\u001b[A\n",
            " 69%|██████▉   | 2438/3543 [18:38<10:20,  1.78it/s]\u001b[A\n",
            " 69%|██████▉   | 2439/3543 [18:39<10:32,  1.75it/s]\u001b[A\n",
            " 69%|██████▉   | 2440/3543 [18:39<10:29,  1.75it/s]\u001b[A\n",
            " 69%|██████▉   | 2441/3543 [18:40<10:52,  1.69it/s]\u001b[A\n",
            " 69%|██████▉   | 2442/3543 [18:40<10:08,  1.81it/s]\u001b[A\n",
            " 69%|██████▉   | 2443/3543 [18:41<09:48,  1.87it/s]\u001b[A\n",
            " 69%|██████▉   | 2444/3543 [18:41<10:31,  1.74it/s]\u001b[A\n",
            " 69%|██████▉   | 2445/3543 [18:42<10:33,  1.73it/s]\u001b[A\n",
            " 69%|██████▉   | 2446/3543 [18:43<10:33,  1.73it/s]\u001b[A\n",
            " 69%|██████▉   | 2447/3543 [18:43<10:37,  1.72it/s]\u001b[A\n",
            " 69%|██████▉   | 2448/3543 [18:44<10:53,  1.68it/s]\u001b[A\n",
            " 69%|██████▉   | 2449/3543 [18:44<10:57,  1.66it/s]\u001b[A\n",
            " 69%|██████▉   | 2450/3543 [18:45<10:14,  1.78it/s]\u001b[A\n",
            " 69%|██████▉   | 2451/3543 [18:46<10:34,  1.72it/s]\u001b[A\n",
            " 69%|██████▉   | 2452/3543 [18:46<11:45,  1.55it/s]\u001b[A\n",
            " 69%|██████▉   | 2453/3543 [18:47<11:44,  1.55it/s]\u001b[A\n",
            " 69%|██████▉   | 2454/3543 [18:47<10:47,  1.68it/s]\u001b[A\n",
            " 69%|██████▉   | 2455/3543 [18:48<11:38,  1.56it/s]\u001b[A\n",
            " 69%|██████▉   | 2456/3543 [18:49<11:30,  1.57it/s]\u001b[A\n",
            " 69%|██████▉   | 2457/3543 [18:49<11:48,  1.53it/s]\u001b[A\n",
            " 69%|██████▉   | 2458/3543 [18:50<11:35,  1.56it/s]\u001b[A\n",
            " 69%|██████▉   | 2459/3543 [18:51<11:22,  1.59it/s]\u001b[A\n",
            " 69%|██████▉   | 2460/3543 [18:51<11:30,  1.57it/s]\u001b[A\n",
            " 69%|██████▉   | 2461/3543 [18:52<11:27,  1.57it/s]\u001b[A\n",
            " 69%|██████▉   | 2462/3543 [18:53<11:22,  1.58it/s]\u001b[A\n",
            " 70%|██████▉   | 2463/3543 [18:53<10:28,  1.72it/s]\u001b[A\n",
            " 70%|██████▉   | 2464/3543 [18:54<09:56,  1.81it/s]\u001b[A\n",
            " 70%|██████▉   | 2465/3543 [18:54<10:17,  1.75it/s]\u001b[A\n",
            " 70%|██████▉   | 2466/3543 [18:55<10:44,  1.67it/s]\u001b[A\n",
            " 70%|██████▉   | 2467/3543 [18:55<10:46,  1.67it/s]\u001b[A\n",
            " 70%|██████▉   | 2468/3543 [18:56<10:53,  1.65it/s]\u001b[A\n",
            " 70%|██████▉   | 2469/3543 [18:57<10:32,  1.70it/s]\u001b[A\n",
            " 70%|██████▉   | 2470/3543 [18:57<10:04,  1.78it/s]\u001b[A\n",
            " 70%|██████▉   | 2471/3543 [18:58<10:26,  1.71it/s]\u001b[A\n",
            " 70%|██████▉   | 2472/3543 [18:58<10:59,  1.62it/s]\u001b[A\n",
            " 70%|██████▉   | 2473/3543 [18:59<11:05,  1.61it/s]\u001b[A\n",
            " 70%|██████▉   | 2474/3543 [19:00<11:34,  1.54it/s]\u001b[A\n",
            " 70%|██████▉   | 2475/3543 [19:00<11:29,  1.55it/s]\u001b[A\n",
            " 70%|██████▉   | 2476/3543 [19:01<10:50,  1.64it/s]\u001b[A\n",
            " 70%|██████▉   | 2477/3543 [19:01<10:12,  1.74it/s]\u001b[A\n",
            " 70%|██████▉   | 2478/3543 [19:02<09:54,  1.79it/s]\u001b[A\n",
            " 70%|██████▉   | 2479/3543 [19:03<09:47,  1.81it/s]\u001b[A\n",
            " 70%|██████▉   | 2480/3543 [19:03<09:31,  1.86it/s]\u001b[A\n",
            " 70%|███████   | 2481/3543 [19:04<09:14,  1.92it/s]\u001b[A\n",
            " 70%|███████   | 2482/3543 [19:04<09:09,  1.93it/s]\u001b[A\n",
            " 70%|███████   | 2483/3543 [19:05<09:11,  1.92it/s]\u001b[A\n",
            " 70%|███████   | 2484/3543 [19:05<09:41,  1.82it/s]\u001b[A\n",
            " 70%|███████   | 2485/3543 [19:06<09:38,  1.83it/s]\u001b[A\n",
            " 70%|███████   | 2486/3543 [19:06<09:18,  1.89it/s]\u001b[A\n",
            " 70%|███████   | 2487/3543 [19:07<09:06,  1.93it/s]\u001b[A\n",
            " 70%|███████   | 2488/3543 [19:07<09:00,  1.95it/s]\u001b[A\n",
            " 70%|███████   | 2489/3543 [19:08<09:43,  1.81it/s]\u001b[A\n",
            " 70%|███████   | 2490/3543 [19:08<09:33,  1.84it/s]\u001b[A\n",
            " 70%|███████   | 2491/3543 [19:09<09:23,  1.87it/s]\u001b[A\n",
            " 70%|███████   | 2492/3543 [19:09<09:07,  1.92it/s]\u001b[A\n",
            " 70%|███████   | 2493/3543 [19:10<09:03,  1.93it/s]\u001b[A\n",
            " 70%|███████   | 2494/3543 [19:10<09:09,  1.91it/s]\u001b[A\n",
            " 70%|███████   | 2495/3543 [19:11<09:43,  1.80it/s]\u001b[A\n",
            " 70%|███████   | 2496/3543 [19:12<09:35,  1.82it/s]\u001b[A\n",
            " 70%|███████   | 2497/3543 [19:12<11:19,  1.54it/s]\u001b[A\n",
            " 71%|███████   | 2498/3543 [19:13<11:09,  1.56it/s]\u001b[A\n",
            " 71%|███████   | 2499/3543 [19:14<10:13,  1.70it/s]\u001b[A\n",
            " 71%|███████   | 2500/3543 [19:14<09:48,  1.77it/s]\u001b[A\n",
            " 71%|███████   | 2501/3543 [19:15<09:50,  1.76it/s]\u001b[A\n",
            " 71%|███████   | 2502/3543 [19:15<09:55,  1.75it/s]\u001b[A\n",
            " 71%|███████   | 2503/3543 [19:16<09:36,  1.80it/s]\u001b[A\n",
            " 71%|███████   | 2504/3543 [19:16<09:23,  1.84it/s]\u001b[A\n",
            " 71%|███████   | 2505/3543 [19:17<09:25,  1.84it/s]\u001b[A\n",
            " 71%|███████   | 2506/3543 [19:17<09:04,  1.90it/s]\u001b[A\n",
            " 71%|███████   | 2507/3543 [19:18<09:00,  1.92it/s]\u001b[A\n",
            " 71%|███████   | 2508/3543 [19:18<09:01,  1.91it/s]\u001b[A\n",
            " 71%|███████   | 2509/3543 [19:19<08:49,  1.95it/s]\u001b[A\n",
            " 71%|███████   | 2510/3543 [19:19<08:48,  1.95it/s]\u001b[A\n",
            " 71%|███████   | 2511/3543 [19:20<09:32,  1.80it/s]\u001b[A\n",
            " 71%|███████   | 2512/3543 [19:21<09:57,  1.73it/s]\u001b[A\n",
            " 71%|███████   | 2513/3543 [19:21<09:24,  1.83it/s]\u001b[A\n",
            " 71%|███████   | 2514/3543 [19:22<09:09,  1.87it/s]\u001b[A\n",
            " 71%|███████   | 2515/3543 [19:22<09:35,  1.79it/s]\u001b[A\n",
            " 71%|███████   | 2516/3543 [19:23<08:58,  1.91it/s]\u001b[A\n",
            " 71%|███████   | 2517/3543 [19:23<08:49,  1.94it/s]\u001b[A\n",
            " 71%|███████   | 2518/3543 [19:24<09:32,  1.79it/s]\u001b[A\n",
            " 71%|███████   | 2519/3543 [19:24<10:16,  1.66it/s]\u001b[A\n",
            " 71%|███████   | 2520/3543 [19:25<10:30,  1.62it/s]\u001b[A\n",
            " 71%|███████   | 2521/3543 [19:26<10:09,  1.68it/s]\u001b[A\n",
            " 71%|███████   | 2522/3543 [19:26<09:52,  1.72it/s]\u001b[A\n",
            " 71%|███████   | 2523/3543 [19:27<09:22,  1.81it/s]\u001b[A\n",
            " 71%|███████   | 2524/3543 [19:27<09:59,  1.70it/s]\u001b[A\n",
            " 71%|███████▏  | 2525/3543 [19:28<09:25,  1.80it/s]\u001b[A\n",
            " 71%|███████▏  | 2526/3543 [19:28<09:46,  1.73it/s]\u001b[A\n",
            " 71%|███████▏  | 2527/3543 [19:29<09:25,  1.80it/s]\u001b[A\n",
            " 71%|███████▏  | 2528/3543 [19:30<09:49,  1.72it/s]\u001b[A\n",
            " 71%|███████▏  | 2529/3543 [19:30<09:25,  1.79it/s]\u001b[A\n",
            " 71%|███████▏  | 2530/3543 [19:31<09:08,  1.85it/s]\u001b[A\n",
            " 71%|███████▏  | 2531/3543 [19:31<08:59,  1.88it/s]\u001b[A\n",
            " 71%|███████▏  | 2532/3543 [19:32<09:15,  1.82it/s]\u001b[A\n",
            " 71%|███████▏  | 2533/3543 [19:32<09:39,  1.74it/s]\u001b[A\n",
            " 72%|███████▏  | 2534/3543 [19:33<09:18,  1.81it/s]\u001b[A\n",
            " 72%|███████▏  | 2535/3543 [19:34<09:44,  1.73it/s]\u001b[A\n",
            " 72%|███████▏  | 2536/3543 [19:34<09:10,  1.83it/s]\u001b[A\n",
            " 72%|███████▏  | 2537/3543 [19:35<09:44,  1.72it/s]\u001b[A\n",
            " 72%|███████▏  | 2538/3543 [19:35<09:39,  1.73it/s]\u001b[A\n",
            " 72%|███████▏  | 2539/3543 [19:36<09:20,  1.79it/s]\u001b[A\n",
            " 72%|███████▏  | 2540/3543 [19:36<08:22,  2.00it/s]\u001b[A\n",
            " 72%|███████▏  | 2541/3543 [19:37<08:48,  1.90it/s]\u001b[A\n",
            " 72%|███████▏  | 2542/3543 [19:37<09:09,  1.82it/s]\u001b[A\n",
            " 72%|███████▏  | 2543/3543 [19:38<09:02,  1.84it/s]\u001b[A\n",
            " 72%|███████▏  | 2544/3543 [19:38<09:23,  1.77it/s]\u001b[A\n",
            " 72%|███████▏  | 2545/3543 [19:39<08:57,  1.86it/s]\u001b[A\n",
            " 72%|███████▏  | 2546/3543 [19:39<08:56,  1.86it/s]\u001b[A\n",
            " 72%|███████▏  | 2547/3543 [19:40<08:37,  1.92it/s]\u001b[A\n",
            " 72%|███████▏  | 2548/3543 [19:40<08:40,  1.91it/s]\u001b[A\n",
            " 72%|███████▏  | 2549/3543 [19:41<09:04,  1.82it/s]\u001b[A\n",
            " 72%|███████▏  | 2550/3543 [19:42<09:40,  1.71it/s]\u001b[A\n",
            " 72%|███████▏  | 2551/3543 [19:42<09:10,  1.80it/s]\u001b[A\n",
            " 72%|███████▏  | 2552/3543 [19:43<09:01,  1.83it/s]\u001b[A\n",
            " 72%|███████▏  | 2553/3543 [19:43<08:55,  1.85it/s]\u001b[A\n",
            " 72%|███████▏  | 2554/3543 [19:44<09:21,  1.76it/s]\u001b[A\n",
            " 72%|███████▏  | 2555/3543 [19:45<10:03,  1.64it/s]\u001b[A\n",
            " 72%|███████▏  | 2556/3543 [19:45<09:17,  1.77it/s]\u001b[A\n",
            " 72%|███████▏  | 2557/3543 [19:46<09:28,  1.74it/s]\u001b[A\n",
            " 72%|███████▏  | 2558/3543 [19:46<09:08,  1.80it/s]\u001b[A\n",
            " 72%|███████▏  | 2559/3543 [19:47<09:03,  1.81it/s]\u001b[A\n",
            " 72%|███████▏  | 2560/3543 [19:47<09:03,  1.81it/s]\u001b[A\n",
            " 72%|███████▏  | 2561/3543 [19:48<09:00,  1.82it/s]\u001b[A\n",
            " 72%|███████▏  | 2562/3543 [19:48<08:42,  1.88it/s]\u001b[A\n",
            " 72%|███████▏  | 2563/3543 [19:49<09:07,  1.79it/s]\u001b[A\n",
            " 72%|███████▏  | 2564/3543 [19:49<08:40,  1.88it/s]\u001b[A\n",
            " 72%|███████▏  | 2565/3543 [19:50<09:18,  1.75it/s]\u001b[A\n",
            " 72%|███████▏  | 2566/3543 [19:51<09:01,  1.80it/s]\u001b[A\n",
            " 72%|███████▏  | 2567/3543 [19:51<09:35,  1.70it/s]\u001b[A\n",
            " 72%|███████▏  | 2568/3543 [19:52<09:40,  1.68it/s]\u001b[A\n",
            " 73%|███████▎  | 2569/3543 [19:52<09:15,  1.75it/s]\u001b[A\n",
            " 73%|███████▎  | 2570/3543 [19:53<09:46,  1.66it/s]\u001b[A\n",
            " 73%|███████▎  | 2571/3543 [19:54<09:45,  1.66it/s]\u001b[A\n",
            " 73%|███████▎  | 2572/3543 [19:54<09:30,  1.70it/s]\u001b[A\n",
            " 73%|███████▎  | 2573/3543 [19:55<09:28,  1.71it/s]\u001b[A\n",
            " 73%|███████▎  | 2574/3543 [19:55<08:56,  1.81it/s]\u001b[A\n",
            " 73%|███████▎  | 2575/3543 [19:56<08:50,  1.82it/s]\u001b[A\n",
            " 73%|███████▎  | 2576/3543 [19:56<08:50,  1.82it/s]\u001b[A\n",
            " 73%|███████▎  | 2577/3543 [19:57<09:10,  1.75it/s]\u001b[A\n",
            " 73%|███████▎  | 2578/3543 [19:57<08:51,  1.82it/s]\u001b[A\n",
            " 73%|███████▎  | 2579/3543 [19:58<09:20,  1.72it/s]\u001b[A\n",
            " 73%|███████▎  | 2580/3543 [19:59<09:22,  1.71it/s]\u001b[A\n",
            " 73%|███████▎  | 2581/3543 [19:59<09:10,  1.75it/s]\u001b[A\n",
            " 73%|███████▎  | 2582/3543 [20:00<09:49,  1.63it/s]\u001b[A\n",
            " 73%|███████▎  | 2583/3543 [20:01<09:57,  1.61it/s]\u001b[A\n",
            " 73%|███████▎  | 2584/3543 [20:01<09:31,  1.68it/s]\u001b[A\n",
            " 73%|███████▎  | 2585/3543 [20:02<09:03,  1.76it/s]\u001b[A\n",
            " 73%|███████▎  | 2586/3543 [20:02<09:25,  1.69it/s]\u001b[A\n",
            " 73%|███████▎  | 2587/3543 [20:03<08:53,  1.79it/s]\u001b[A\n",
            " 73%|███████▎  | 2588/3543 [20:03<08:43,  1.82it/s]\u001b[A\n",
            " 73%|███████▎  | 2589/3543 [20:04<08:29,  1.87it/s]\u001b[A\n",
            " 73%|███████▎  | 2590/3543 [20:04<08:57,  1.77it/s]\u001b[A\n",
            " 73%|███████▎  | 2591/3543 [20:05<08:33,  1.85it/s]\u001b[A\n",
            " 73%|███████▎  | 2592/3543 [20:05<08:18,  1.91it/s]\u001b[A\n",
            " 73%|███████▎  | 2593/3543 [20:06<08:51,  1.79it/s]\u001b[A\n",
            " 73%|███████▎  | 2594/3543 [20:07<09:34,  1.65it/s]\u001b[A\n",
            " 73%|███████▎  | 2595/3543 [20:07<10:03,  1.57it/s]\u001b[A\n",
            " 73%|███████▎  | 2596/3543 [20:08<09:20,  1.69it/s]\u001b[A\n",
            " 73%|███████▎  | 2597/3543 [20:09<09:28,  1.66it/s]\u001b[A\n",
            " 73%|███████▎  | 2598/3543 [20:09<09:44,  1.62it/s]\u001b[A\n",
            " 73%|███████▎  | 2599/3543 [20:10<09:54,  1.59it/s]\u001b[A\n",
            " 73%|███████▎  | 2600/3543 [20:11<10:17,  1.53it/s]\u001b[A\n",
            " 73%|███████▎  | 2601/3543 [20:11<09:35,  1.64it/s]\u001b[A\n",
            " 73%|███████▎  | 2602/3543 [20:12<09:11,  1.71it/s]\u001b[A\n",
            " 73%|███████▎  | 2603/3543 [20:12<09:17,  1.68it/s]\u001b[A\n",
            " 73%|███████▎  | 2604/3543 [20:13<09:22,  1.67it/s]\u001b[A\n",
            " 74%|███████▎  | 2605/3543 [20:13<09:06,  1.72it/s]\u001b[A\n",
            " 74%|███████▎  | 2606/3543 [20:14<08:57,  1.74it/s]\u001b[A\n",
            " 74%|███████▎  | 2607/3543 [20:14<08:45,  1.78it/s]\u001b[A\n",
            " 74%|███████▎  | 2608/3543 [20:15<08:31,  1.83it/s]\u001b[A\n",
            " 74%|███████▎  | 2609/3543 [20:16<09:45,  1.60it/s]\u001b[A\n",
            " 74%|███████▎  | 2610/3543 [20:16<09:42,  1.60it/s]\u001b[A\n",
            " 74%|███████▎  | 2611/3543 [20:17<09:21,  1.66it/s]\u001b[A\n",
            " 74%|███████▎  | 2612/3543 [20:18<09:31,  1.63it/s]\u001b[A\n",
            " 74%|███████▍  | 2613/3543 [20:18<09:15,  1.67it/s]\u001b[A\n",
            " 74%|███████▍  | 2614/3543 [20:19<08:34,  1.81it/s]\u001b[A\n",
            " 74%|███████▍  | 2615/3543 [20:19<08:53,  1.74it/s]\u001b[A\n",
            " 74%|███████▍  | 2616/3543 [20:20<09:20,  1.65it/s]\u001b[A\n",
            " 74%|███████▍  | 2617/3543 [20:21<09:33,  1.61it/s]\u001b[A\n",
            " 74%|███████▍  | 2618/3543 [20:21<09:02,  1.70it/s]\u001b[A\n",
            " 74%|███████▍  | 2619/3543 [20:22<09:25,  1.63it/s]\u001b[A\n",
            " 74%|███████▍  | 2620/3543 [20:22<09:30,  1.62it/s]\u001b[A\n",
            " 74%|███████▍  | 2621/3543 [20:23<09:08,  1.68it/s]\u001b[A\n",
            " 74%|███████▍  | 2622/3543 [20:24<09:16,  1.65it/s]\u001b[A\n",
            " 74%|███████▍  | 2623/3543 [20:24<09:05,  1.69it/s]\u001b[A\n",
            " 74%|███████▍  | 2624/3543 [20:25<08:35,  1.78it/s]\u001b[A\n",
            " 74%|███████▍  | 2625/3543 [20:25<08:06,  1.89it/s]\u001b[A\n",
            " 74%|███████▍  | 2626/3543 [20:26<08:01,  1.90it/s]\u001b[A\n",
            " 74%|███████▍  | 2627/3543 [20:27<09:52,  1.55it/s]\u001b[A\n",
            " 74%|███████▍  | 2628/3543 [20:27<09:18,  1.64it/s]\u001b[A\n",
            " 74%|███████▍  | 2629/3543 [20:28<08:41,  1.75it/s]\u001b[A\n",
            " 74%|███████▍  | 2630/3543 [20:28<09:04,  1.68it/s]\u001b[A\n",
            " 74%|███████▍  | 2631/3543 [20:29<09:09,  1.66it/s]\u001b[A\n",
            " 74%|███████▍  | 2632/3543 [20:29<08:48,  1.72it/s]\u001b[A\n",
            " 74%|███████▍  | 2633/3543 [20:30<08:14,  1.84it/s]\u001b[A\n",
            " 74%|███████▍  | 2634/3543 [20:30<08:52,  1.71it/s]\u001b[A\n",
            " 74%|███████▍  | 2635/3543 [20:31<08:55,  1.70it/s]\u001b[A\n",
            " 74%|███████▍  | 2636/3543 [20:32<08:37,  1.75it/s]\u001b[A\n",
            " 74%|███████▍  | 2637/3543 [20:32<08:12,  1.84it/s]\u001b[A\n",
            " 74%|███████▍  | 2638/3543 [20:33<08:41,  1.73it/s]\u001b[A\n",
            " 74%|███████▍  | 2639/3543 [20:33<08:58,  1.68it/s]\u001b[A\n",
            " 75%|███████▍  | 2640/3543 [20:34<09:19,  1.62it/s]\u001b[A\n",
            " 75%|███████▍  | 2641/3543 [20:35<09:36,  1.57it/s]\u001b[A\n",
            " 75%|███████▍  | 2642/3543 [20:35<08:52,  1.69it/s]\u001b[A\n",
            " 75%|███████▍  | 2643/3543 [20:36<08:50,  1.70it/s]\u001b[A\n",
            " 75%|███████▍  | 2644/3543 [20:37<09:33,  1.57it/s]\u001b[A\n",
            " 75%|███████▍  | 2645/3543 [20:37<09:17,  1.61it/s]\u001b[A\n",
            " 75%|███████▍  | 2646/3543 [20:38<08:35,  1.74it/s]\u001b[A\n",
            " 75%|███████▍  | 2647/3543 [20:38<08:42,  1.71it/s]\u001b[A\n",
            " 75%|███████▍  | 2648/3543 [20:39<08:33,  1.74it/s]\u001b[A\n",
            " 75%|███████▍  | 2649/3543 [20:39<08:15,  1.80it/s]\u001b[A\n",
            " 75%|███████▍  | 2650/3543 [20:40<08:35,  1.73it/s]\u001b[A\n",
            " 75%|███████▍  | 2651/3543 [20:41<08:45,  1.70it/s]\u001b[A\n",
            " 75%|███████▍  | 2652/3543 [20:41<08:18,  1.79it/s]\u001b[A\n",
            " 75%|███████▍  | 2653/3543 [20:42<08:02,  1.85it/s]\u001b[A\n",
            " 75%|███████▍  | 2654/3543 [20:42<08:25,  1.76it/s]\u001b[A\n",
            " 75%|███████▍  | 2655/3543 [20:43<08:08,  1.82it/s]\u001b[A\n",
            " 75%|███████▍  | 2656/3543 [20:43<08:38,  1.71it/s]\u001b[A\n",
            " 75%|███████▍  | 2657/3543 [20:44<08:42,  1.69it/s]\u001b[A\n",
            " 75%|███████▌  | 2658/3543 [20:44<08:10,  1.80it/s]\u001b[A\n",
            " 75%|███████▌  | 2659/3543 [20:45<07:48,  1.89it/s]\u001b[A\n",
            " 75%|███████▌  | 2660/3543 [20:45<08:15,  1.78it/s]\u001b[A\n",
            " 75%|███████▌  | 2661/3543 [20:46<08:35,  1.71it/s]\u001b[A\n",
            " 75%|███████▌  | 2662/3543 [20:47<08:45,  1.68it/s]\u001b[A\n",
            " 75%|███████▌  | 2663/3543 [20:47<08:45,  1.68it/s]\u001b[A\n",
            " 75%|███████▌  | 2664/3543 [20:48<08:32,  1.71it/s]\u001b[A\n",
            " 75%|███████▌  | 2665/3543 [20:48<08:15,  1.77it/s]\u001b[A\n",
            " 75%|███████▌  | 2666/3543 [20:49<08:01,  1.82it/s]\u001b[A\n",
            " 75%|███████▌  | 2667/3543 [20:49<08:01,  1.82it/s]\u001b[A\n",
            " 75%|███████▌  | 2668/3543 [20:50<07:51,  1.86it/s]\u001b[A\n",
            " 75%|███████▌  | 2669/3543 [20:51<08:23,  1.74it/s]\u001b[A\n",
            " 75%|███████▌  | 2670/3543 [20:51<08:04,  1.80it/s]\u001b[A\n",
            " 75%|███████▌  | 2671/3543 [20:52<08:30,  1.71it/s]\u001b[A\n",
            " 75%|███████▌  | 2672/3543 [20:52<08:16,  1.75it/s]\u001b[A\n",
            " 75%|███████▌  | 2673/3543 [20:53<07:53,  1.84it/s]\u001b[A\n",
            " 75%|███████▌  | 2674/3543 [20:53<07:56,  1.82it/s]\u001b[A\n",
            " 76%|███████▌  | 2675/3543 [20:54<09:13,  1.57it/s]\u001b[A\n",
            " 76%|███████▌  | 2676/3543 [20:55<08:32,  1.69it/s]\u001b[A\n",
            " 76%|███████▌  | 2677/3543 [20:55<08:48,  1.64it/s]\u001b[A\n",
            " 76%|███████▌  | 2678/3543 [20:56<08:51,  1.63it/s]\u001b[A\n",
            " 76%|███████▌  | 2679/3543 [20:57<08:31,  1.69it/s]\u001b[A\n",
            " 76%|███████▌  | 2680/3543 [20:57<08:34,  1.68it/s]\u001b[A\n",
            " 76%|███████▌  | 2681/3543 [20:58<07:27,  1.93it/s]\u001b[A\n",
            " 76%|███████▌  | 2682/3543 [20:58<07:55,  1.81it/s]\u001b[A\n",
            " 76%|███████▌  | 2683/3543 [20:59<08:31,  1.68it/s]\u001b[A\n",
            " 76%|███████▌  | 2684/3543 [20:59<08:42,  1.64it/s]\u001b[A\n",
            " 76%|███████▌  | 2685/3543 [21:00<08:38,  1.65it/s]\u001b[A\n",
            " 76%|███████▌  | 2686/3543 [21:01<08:41,  1.64it/s]\u001b[A\n",
            " 76%|███████▌  | 2687/3543 [21:01<08:39,  1.65it/s]\u001b[A\n",
            " 76%|███████▌  | 2688/3543 [21:02<08:02,  1.77it/s]\u001b[A\n",
            " 76%|███████▌  | 2689/3543 [21:02<07:50,  1.81it/s]\u001b[A\n",
            " 76%|███████▌  | 2690/3543 [21:03<07:40,  1.85it/s]\u001b[A\n",
            " 76%|███████▌  | 2691/3543 [21:04<08:28,  1.67it/s]\u001b[A\n",
            " 76%|███████▌  | 2692/3543 [21:04<08:28,  1.67it/s]\u001b[A\n",
            " 76%|███████▌  | 2693/3543 [21:05<08:40,  1.63it/s]\u001b[A\n",
            " 76%|███████▌  | 2694/3543 [21:05<09:01,  1.57it/s]\u001b[A\n",
            " 76%|███████▌  | 2695/3543 [21:06<08:25,  1.68it/s]\u001b[A\n",
            " 76%|███████▌  | 2696/3543 [21:06<07:58,  1.77it/s]\u001b[A\n",
            " 76%|███████▌  | 2697/3543 [21:07<08:23,  1.68it/s]\u001b[A\n",
            " 76%|███████▌  | 2698/3543 [21:08<07:51,  1.79it/s]\u001b[A\n",
            " 76%|███████▌  | 2699/3543 [21:08<08:01,  1.75it/s]\u001b[A\n",
            " 76%|███████▌  | 2700/3543 [21:09<07:36,  1.85it/s]\u001b[A\n",
            " 76%|███████▌  | 2701/3543 [21:09<07:55,  1.77it/s]\u001b[A\n",
            " 76%|███████▋  | 2702/3543 [21:10<07:41,  1.82it/s]\u001b[A\n",
            " 76%|███████▋  | 2703/3543 [21:10<08:05,  1.73it/s]\u001b[A\n",
            " 76%|███████▋  | 2704/3543 [21:11<07:40,  1.82it/s]\u001b[A\n",
            " 76%|███████▋  | 2705/3543 [21:11<07:23,  1.89it/s]\u001b[A\n",
            " 76%|███████▋  | 2706/3543 [21:12<07:17,  1.91it/s]\u001b[A\n",
            " 76%|███████▋  | 2707/3543 [21:13<07:51,  1.77it/s]\u001b[A\n",
            " 76%|███████▋  | 2708/3543 [21:13<07:36,  1.83it/s]\u001b[A\n",
            " 76%|███████▋  | 2709/3543 [21:14<07:47,  1.79it/s]\u001b[A\n",
            " 76%|███████▋  | 2710/3543 [21:14<07:55,  1.75it/s]\u001b[A\n",
            " 77%|███████▋  | 2711/3543 [21:15<08:05,  1.72it/s]\u001b[A\n",
            " 77%|███████▋  | 2712/3543 [21:15<07:44,  1.79it/s]\u001b[A\n",
            " 77%|███████▋  | 2713/3543 [21:16<07:53,  1.75it/s]\u001b[A\n",
            " 77%|███████▋  | 2714/3543 [21:16<07:33,  1.83it/s]\u001b[A\n",
            " 77%|███████▋  | 2715/3543 [21:17<07:12,  1.91it/s]\u001b[A\n",
            " 77%|███████▋  | 2716/3543 [21:18<08:21,  1.65it/s]\u001b[A\n",
            " 77%|███████▋  | 2717/3543 [21:18<08:04,  1.70it/s]\u001b[A\n",
            " 77%|███████▋  | 2718/3543 [21:19<07:36,  1.81it/s]\u001b[A\n",
            " 77%|███████▋  | 2719/3543 [21:19<07:18,  1.88it/s]\u001b[A\n",
            " 77%|███████▋  | 2720/3543 [21:20<07:25,  1.85it/s]\u001b[A\n",
            " 77%|███████▋  | 2721/3543 [21:20<07:03,  1.94it/s]\u001b[A\n",
            " 77%|███████▋  | 2722/3543 [21:21<06:52,  1.99it/s]\u001b[A\n",
            " 77%|███████▋  | 2723/3543 [21:21<07:05,  1.93it/s]\u001b[A\n",
            " 77%|███████▋  | 2724/3543 [21:22<07:06,  1.92it/s]\u001b[A\n",
            " 77%|███████▋  | 2725/3543 [21:22<07:10,  1.90it/s]\u001b[A\n",
            " 77%|███████▋  | 2726/3543 [21:23<07:05,  1.92it/s]\u001b[A\n",
            " 77%|███████▋  | 2727/3543 [21:23<06:57,  1.95it/s]\u001b[A\n",
            " 77%|███████▋  | 2728/3543 [21:24<06:47,  2.00it/s]\u001b[A\n",
            " 77%|███████▋  | 2729/3543 [21:24<06:46,  2.00it/s]\u001b[A\n",
            " 77%|███████▋  | 2730/3543 [21:25<07:03,  1.92it/s]\u001b[A\n",
            " 77%|███████▋  | 2731/3543 [21:25<06:55,  1.96it/s]\u001b[A\n",
            " 77%|███████▋  | 2732/3543 [21:26<07:20,  1.84it/s]\u001b[A\n",
            " 77%|███████▋  | 2733/3543 [21:27<07:54,  1.71it/s]\u001b[A\n",
            " 77%|███████▋  | 2734/3543 [21:27<08:01,  1.68it/s]\u001b[A\n",
            " 77%|███████▋  | 2735/3543 [21:28<07:39,  1.76it/s]\u001b[A\n",
            " 77%|███████▋  | 2736/3543 [21:28<08:03,  1.67it/s]\u001b[A\n",
            " 77%|███████▋  | 2737/3543 [21:29<07:45,  1.73it/s]\u001b[A\n",
            " 77%|███████▋  | 2738/3543 [21:30<08:19,  1.61it/s]\u001b[A\n",
            " 77%|███████▋  | 2739/3543 [21:30<08:20,  1.61it/s]\u001b[A\n",
            " 77%|███████▋  | 2740/3543 [21:31<07:41,  1.74it/s]\u001b[A\n",
            " 77%|███████▋  | 2741/3543 [21:31<07:17,  1.83it/s]\u001b[A\n",
            " 77%|███████▋  | 2742/3543 [21:32<07:01,  1.90it/s]\u001b[A\n",
            " 77%|███████▋  | 2743/3543 [21:32<07:35,  1.76it/s]\u001b[A\n",
            " 77%|███████▋  | 2744/3543 [21:33<07:42,  1.73it/s]\u001b[A\n",
            " 77%|███████▋  | 2745/3543 [21:34<08:04,  1.65it/s]\u001b[A\n",
            " 78%|███████▊  | 2746/3543 [21:34<08:05,  1.64it/s]\u001b[A\n",
            " 78%|███████▊  | 2747/3543 [21:35<08:19,  1.59it/s]\u001b[A\n",
            " 78%|███████▊  | 2748/3543 [21:36<08:06,  1.63it/s]\u001b[A\n",
            " 78%|███████▊  | 2749/3543 [21:36<08:13,  1.61it/s]\u001b[A\n",
            " 78%|███████▊  | 2750/3543 [21:37<07:44,  1.71it/s]\u001b[A\n",
            " 78%|███████▊  | 2751/3543 [21:37<07:16,  1.81it/s]\u001b[A\n",
            " 78%|███████▊  | 2752/3543 [21:38<07:07,  1.85it/s]\u001b[A\n",
            " 78%|███████▊  | 2753/3543 [21:38<07:00,  1.88it/s]\u001b[A\n",
            " 78%|███████▊  | 2754/3543 [21:39<07:16,  1.81it/s]\u001b[A\n",
            " 78%|███████▊  | 2755/3543 [21:40<07:47,  1.69it/s]\u001b[A\n",
            " 78%|███████▊  | 2756/3543 [21:40<08:02,  1.63it/s]\u001b[A\n",
            " 78%|███████▊  | 2757/3543 [21:41<08:15,  1.59it/s]\u001b[A\n",
            " 78%|███████▊  | 2758/3543 [21:41<07:39,  1.71it/s]\u001b[A\n",
            " 78%|███████▊  | 2759/3543 [21:42<07:25,  1.76it/s]\u001b[A\n",
            " 78%|███████▊  | 2760/3543 [21:42<07:18,  1.79it/s]\u001b[A\n",
            " 78%|███████▊  | 2761/3543 [21:43<07:04,  1.84it/s]\u001b[A\n",
            " 78%|███████▊  | 2762/3543 [21:43<06:44,  1.93it/s]\u001b[A\n",
            " 78%|███████▊  | 2763/3543 [21:44<06:31,  1.99it/s]\u001b[A\n",
            " 78%|███████▊  | 2764/3543 [21:44<06:23,  2.03it/s]\u001b[A\n",
            " 78%|███████▊  | 2765/3543 [21:45<06:29,  2.00it/s]\u001b[A\n",
            " 78%|███████▊  | 2766/3543 [21:45<07:01,  1.85it/s]\u001b[A\n",
            " 78%|███████▊  | 2767/3543 [21:46<07:34,  1.71it/s]\u001b[A\n",
            " 78%|███████▊  | 2768/3543 [21:47<07:04,  1.82it/s]\u001b[A\n",
            " 78%|███████▊  | 2769/3543 [21:47<07:04,  1.82it/s]\u001b[A\n",
            " 78%|███████▊  | 2770/3543 [21:48<06:48,  1.89it/s]\u001b[A\n",
            " 78%|███████▊  | 2771/3543 [21:48<06:32,  1.97it/s]\u001b[A\n",
            " 78%|███████▊  | 2772/3543 [21:49<06:26,  2.00it/s]\u001b[A\n",
            " 78%|███████▊  | 2773/3543 [21:49<06:51,  1.87it/s]\u001b[A\n",
            " 78%|███████▊  | 2774/3543 [21:50<06:56,  1.84it/s]\u001b[A\n",
            " 78%|███████▊  | 2775/3543 [21:50<07:12,  1.78it/s]\u001b[A\n",
            " 78%|███████▊  | 2776/3543 [21:51<07:28,  1.71it/s]\u001b[A\n",
            " 78%|███████▊  | 2777/3543 [21:52<07:37,  1.67it/s]\u001b[A\n",
            " 78%|███████▊  | 2778/3543 [21:52<07:05,  1.80it/s]\u001b[A\n",
            " 78%|███████▊  | 2779/3543 [21:53<07:26,  1.71it/s]\u001b[A\n",
            " 78%|███████▊  | 2780/3543 [21:53<07:05,  1.79it/s]\u001b[A\n",
            " 78%|███████▊  | 2781/3543 [21:54<06:47,  1.87it/s]\u001b[A\n",
            " 79%|███████▊  | 2782/3543 [21:54<06:36,  1.92it/s]\u001b[A\n",
            " 79%|███████▊  | 2783/3543 [21:55<06:56,  1.82it/s]\u001b[A\n",
            " 79%|███████▊  | 2784/3543 [21:55<07:27,  1.69it/s]\u001b[A\n",
            " 79%|███████▊  | 2785/3543 [21:56<07:05,  1.78it/s]\u001b[A\n",
            " 79%|███████▊  | 2786/3543 [21:57<07:25,  1.70it/s]\u001b[A\n",
            " 79%|███████▊  | 2787/3543 [21:57<06:57,  1.81it/s]\u001b[A\n",
            " 79%|███████▊  | 2788/3543 [21:58<06:57,  1.81it/s]\u001b[A\n",
            " 79%|███████▊  | 2789/3543 [21:58<06:40,  1.88it/s]\u001b[A\n",
            " 79%|███████▊  | 2790/3543 [21:59<06:23,  1.96it/s]\u001b[A\n",
            " 79%|███████▉  | 2791/3543 [21:59<06:34,  1.91it/s]\u001b[A\n",
            " 79%|███████▉  | 2792/3543 [22:00<07:02,  1.78it/s]\u001b[A\n",
            " 79%|███████▉  | 2793/3543 [22:00<06:43,  1.86it/s]\u001b[A\n",
            " 79%|███████▉  | 2794/3543 [22:01<06:30,  1.92it/s]\u001b[A\n",
            " 79%|███████▉  | 2795/3543 [22:01<06:50,  1.82it/s]\u001b[A\n",
            " 79%|███████▉  | 2796/3543 [22:02<06:29,  1.92it/s]\u001b[A\n",
            " 79%|███████▉  | 2797/3543 [22:02<06:50,  1.82it/s]\u001b[A\n",
            " 79%|███████▉  | 2798/3543 [22:03<07:10,  1.73it/s]\u001b[A\n",
            " 79%|███████▉  | 2799/3543 [22:04<06:53,  1.80it/s]\u001b[A\n",
            " 79%|███████▉  | 2800/3543 [22:04<06:30,  1.90it/s]\u001b[A\n",
            " 79%|███████▉  | 2801/3543 [22:05<06:34,  1.88it/s]\u001b[A\n",
            " 79%|███████▉  | 2802/3543 [22:05<06:37,  1.86it/s]\u001b[A\n",
            " 79%|███████▉  | 2803/3543 [22:06<06:33,  1.88it/s]\u001b[A\n",
            " 79%|███████▉  | 2804/3543 [22:06<06:42,  1.83it/s]\u001b[A\n",
            " 79%|███████▉  | 2805/3543 [22:07<06:26,  1.91it/s]\u001b[A\n",
            " 79%|███████▉  | 2806/3543 [22:07<06:18,  1.95it/s]\u001b[A\n",
            " 79%|███████▉  | 2807/3543 [22:08<07:08,  1.72it/s]\u001b[A\n",
            " 79%|███████▉  | 2808/3543 [22:09<07:44,  1.58it/s]\u001b[A\n",
            " 79%|███████▉  | 2809/3543 [22:09<07:41,  1.59it/s]\u001b[A\n",
            " 79%|███████▉  | 2810/3543 [22:10<07:47,  1.57it/s]\u001b[A\n",
            " 79%|███████▉  | 2811/3543 [22:11<07:39,  1.59it/s]\u001b[A\n",
            " 79%|███████▉  | 2812/3543 [22:11<07:05,  1.72it/s]\u001b[A\n",
            " 79%|███████▉  | 2813/3543 [22:12<07:14,  1.68it/s]\u001b[A\n",
            " 79%|███████▉  | 2814/3543 [22:12<06:48,  1.78it/s]\u001b[A\n",
            " 79%|███████▉  | 2815/3543 [22:13<06:46,  1.79it/s]\u001b[A\n",
            " 79%|███████▉  | 2816/3543 [22:13<06:59,  1.73it/s]\u001b[A\n",
            " 80%|███████▉  | 2817/3543 [22:14<06:43,  1.80it/s]\u001b[A\n",
            " 80%|███████▉  | 2818/3543 [22:14<06:53,  1.75it/s]\u001b[A\n",
            " 80%|███████▉  | 2819/3543 [22:15<06:41,  1.80it/s]\u001b[A\n",
            " 80%|███████▉  | 2820/3543 [22:16<06:44,  1.79it/s]\u001b[A\n",
            " 80%|███████▉  | 2821/3543 [22:16<06:38,  1.81it/s]\u001b[A\n",
            " 80%|███████▉  | 2822/3543 [22:17<06:46,  1.77it/s]\u001b[A\n",
            " 80%|███████▉  | 2823/3543 [22:17<07:01,  1.71it/s]\u001b[A\n",
            " 80%|███████▉  | 2824/3543 [22:18<07:04,  1.70it/s]\u001b[A\n",
            " 80%|███████▉  | 2825/3543 [22:18<06:41,  1.79it/s]\u001b[A\n",
            " 80%|███████▉  | 2826/3543 [22:19<07:07,  1.68it/s]\u001b[A\n",
            " 80%|███████▉  | 2827/3543 [22:20<06:37,  1.80it/s]\u001b[A\n",
            " 80%|███████▉  | 2828/3543 [22:20<07:11,  1.66it/s]\u001b[A\n",
            " 80%|███████▉  | 2829/3543 [22:21<06:45,  1.76it/s]\u001b[A\n",
            " 80%|███████▉  | 2830/3543 [22:21<07:07,  1.67it/s]\u001b[A\n",
            " 80%|███████▉  | 2831/3543 [22:22<07:01,  1.69it/s]\u001b[A\n",
            " 80%|███████▉  | 2832/3543 [22:23<07:09,  1.66it/s]\u001b[A\n",
            " 80%|███████▉  | 2833/3543 [22:23<06:37,  1.79it/s]\u001b[A\n",
            " 80%|███████▉  | 2834/3543 [22:24<06:14,  1.89it/s]\u001b[A\n",
            " 80%|████████  | 2835/3543 [22:24<06:17,  1.88it/s]\u001b[A\n",
            " 80%|████████  | 2836/3543 [22:25<06:14,  1.89it/s]\u001b[A\n",
            " 80%|████████  | 2837/3543 [22:25<06:09,  1.91it/s]\u001b[A\n",
            " 80%|████████  | 2838/3543 [22:26<06:10,  1.90it/s]\u001b[A\n",
            " 80%|████████  | 2839/3543 [22:26<06:31,  1.80it/s]\u001b[A\n",
            " 80%|████████  | 2840/3543 [22:27<06:16,  1.87it/s]\u001b[A\n",
            " 80%|████████  | 2841/3543 [22:27<06:26,  1.81it/s]\u001b[A\n",
            " 80%|████████  | 2842/3543 [22:28<06:38,  1.76it/s]\u001b[A\n",
            " 80%|████████  | 2843/3543 [22:28<06:22,  1.83it/s]\u001b[A\n",
            " 80%|████████  | 2844/3543 [22:29<06:21,  1.83it/s]\u001b[A\n",
            " 80%|████████  | 2845/3543 [22:30<06:42,  1.73it/s]\u001b[A\n",
            " 80%|████████  | 2846/3543 [22:30<06:26,  1.80it/s]\u001b[A\n",
            " 80%|████████  | 2847/3543 [22:31<06:41,  1.73it/s]\u001b[A\n",
            " 80%|████████  | 2848/3543 [22:31<06:32,  1.77it/s]\u001b[A\n",
            " 80%|████████  | 2849/3543 [22:32<07:05,  1.63it/s]\u001b[A\n",
            " 80%|████████  | 2850/3543 [22:33<07:20,  1.57it/s]\u001b[A\n",
            " 80%|████████  | 2851/3543 [22:33<07:23,  1.56it/s]\u001b[A\n",
            " 80%|████████  | 2852/3543 [22:34<07:20,  1.57it/s]\u001b[A\n",
            " 81%|████████  | 2853/3543 [22:35<07:23,  1.56it/s]\u001b[A\n",
            " 81%|████████  | 2854/3543 [22:35<07:28,  1.54it/s]\u001b[A\n",
            " 81%|████████  | 2855/3543 [22:36<06:54,  1.66it/s]\u001b[A\n",
            " 81%|████████  | 2856/3543 [22:36<06:29,  1.76it/s]\u001b[A\n",
            " 81%|████████  | 2857/3543 [22:37<06:16,  1.82it/s]\u001b[A\n",
            " 81%|████████  | 2858/3543 [22:37<06:04,  1.88it/s]\u001b[A\n",
            " 81%|████████  | 2859/3543 [22:38<05:59,  1.91it/s]\u001b[A\n",
            " 81%|████████  | 2860/3543 [22:38<05:56,  1.92it/s]\u001b[A\n",
            " 81%|████████  | 2861/3543 [22:39<06:17,  1.81it/s]\u001b[A\n",
            " 81%|████████  | 2862/3543 [22:39<06:02,  1.88it/s]\u001b[A\n",
            " 81%|████████  | 2863/3543 [22:40<05:48,  1.95it/s]\u001b[A\n",
            " 81%|████████  | 2864/3543 [22:41<06:17,  1.80it/s]\u001b[A\n",
            " 81%|████████  | 2865/3543 [22:41<06:04,  1.86it/s]\u001b[A\n",
            " 81%|████████  | 2866/3543 [22:42<06:20,  1.78it/s]\u001b[A\n",
            " 81%|████████  | 2867/3543 [22:42<06:17,  1.79it/s]\u001b[A\n",
            " 81%|████████  | 2868/3543 [22:43<05:57,  1.89it/s]\u001b[A\n",
            " 81%|████████  | 2869/3543 [22:43<05:56,  1.89it/s]\u001b[A\n",
            " 81%|████████  | 2870/3543 [22:44<06:10,  1.81it/s]\u001b[A\n",
            " 81%|████████  | 2871/3543 [22:44<06:12,  1.81it/s]\u001b[A\n",
            " 81%|████████  | 2872/3543 [22:45<05:56,  1.88it/s]\u001b[A\n",
            " 81%|████████  | 2873/3543 [22:45<06:10,  1.81it/s]\u001b[A\n",
            " 81%|████████  | 2874/3543 [22:46<06:21,  1.75it/s]\u001b[A\n",
            " 81%|████████  | 2875/3543 [22:47<06:14,  1.78it/s]\u001b[A\n",
            " 81%|████████  | 2876/3543 [22:47<06:25,  1.73it/s]\u001b[A\n",
            " 81%|████████  | 2877/3543 [22:48<06:35,  1.68it/s]\u001b[A\n",
            " 81%|████████  | 2878/3543 [22:48<06:18,  1.76it/s]\u001b[A\n",
            " 81%|████████▏ | 2879/3543 [22:49<06:04,  1.82it/s]\u001b[A\n",
            " 81%|████████▏ | 2880/3543 [22:49<05:46,  1.91it/s]\u001b[A\n",
            " 81%|████████▏ | 2881/3543 [22:50<05:31,  2.00it/s]\u001b[A\n",
            " 81%|████████▏ | 2882/3543 [22:50<05:35,  1.97it/s]\u001b[A\n",
            " 81%|████████▏ | 2883/3543 [22:51<05:36,  1.96it/s]\u001b[A\n",
            " 81%|████████▏ | 2884/3543 [22:51<05:29,  2.00it/s]\u001b[A\n",
            " 81%|████████▏ | 2885/3543 [22:52<05:28,  2.00it/s]\u001b[A\n",
            " 81%|████████▏ | 2886/3543 [22:52<05:32,  1.98it/s]\u001b[A\n",
            " 81%|████████▏ | 2887/3543 [22:53<05:39,  1.93it/s]\u001b[A\n",
            " 82%|████████▏ | 2888/3543 [22:54<06:09,  1.77it/s]\u001b[A\n",
            " 82%|████████▏ | 2889/3543 [22:54<06:21,  1.72it/s]\u001b[A\n",
            " 82%|████████▏ | 2890/3543 [22:55<07:42,  1.41it/s]\u001b[A\n",
            " 82%|████████▏ | 2891/3543 [22:56<06:56,  1.56it/s]\u001b[A\n",
            " 82%|████████▏ | 2892/3543 [22:56<06:20,  1.71it/s]\u001b[A\n",
            " 82%|████████▏ | 2893/3543 [22:57<06:27,  1.68it/s]\u001b[A\n",
            " 82%|████████▏ | 2894/3543 [22:57<06:36,  1.64it/s]\u001b[A\n",
            " 82%|████████▏ | 2895/3543 [22:58<06:35,  1.64it/s]\u001b[A\n",
            " 82%|████████▏ | 2896/3543 [22:59<06:41,  1.61it/s]\u001b[A\n",
            " 82%|████████▏ | 2897/3543 [22:59<06:16,  1.72it/s]\u001b[A\n",
            " 82%|████████▏ | 2898/3543 [22:59<05:35,  1.93it/s]\u001b[A\n",
            " 82%|████████▏ | 2899/3543 [23:00<05:35,  1.92it/s]\u001b[A\n",
            " 82%|████████▏ | 2900/3543 [23:00<05:25,  1.97it/s]\u001b[A\n",
            " 82%|████████▏ | 2901/3543 [23:01<05:32,  1.93it/s]\u001b[A\n",
            " 82%|████████▏ | 2902/3543 [23:01<05:21,  1.99it/s]\u001b[A\n",
            " 82%|████████▏ | 2903/3543 [23:02<05:44,  1.86it/s]\u001b[A\n",
            " 82%|████████▏ | 2904/3543 [23:03<06:24,  1.66it/s]\u001b[A\n",
            " 82%|████████▏ | 2905/3543 [23:03<06:27,  1.65it/s]\u001b[A\n",
            " 82%|████████▏ | 2906/3543 [23:04<06:23,  1.66it/s]\u001b[A\n",
            " 82%|████████▏ | 2907/3543 [23:05<06:04,  1.75it/s]\u001b[A\n",
            " 82%|████████▏ | 2908/3543 [23:05<05:43,  1.85it/s]\u001b[A\n",
            " 82%|████████▏ | 2909/3543 [23:06<05:30,  1.92it/s]\u001b[A\n",
            " 82%|████████▏ | 2910/3543 [23:06<05:49,  1.81it/s]\u001b[A\n",
            " 82%|████████▏ | 2911/3543 [23:07<05:37,  1.87it/s]\u001b[A\n",
            " 82%|████████▏ | 2912/3543 [23:07<05:33,  1.89it/s]\u001b[A\n",
            " 82%|████████▏ | 2913/3543 [23:08<06:07,  1.71it/s]\u001b[A\n",
            " 82%|████████▏ | 2914/3543 [23:09<06:20,  1.65it/s]\u001b[A\n",
            " 82%|████████▏ | 2915/3543 [23:09<06:32,  1.60it/s]\u001b[A\n",
            " 82%|████████▏ | 2916/3543 [23:10<06:10,  1.69it/s]\u001b[A\n",
            " 82%|████████▏ | 2917/3543 [23:10<06:05,  1.71it/s]\u001b[A\n",
            " 82%|████████▏ | 2918/3543 [23:11<06:13,  1.67it/s]\u001b[A\n",
            " 82%|████████▏ | 2919/3543 [23:11<05:54,  1.76it/s]\u001b[A\n",
            " 82%|████████▏ | 2920/3543 [23:12<05:37,  1.84it/s]\u001b[A\n",
            " 82%|████████▏ | 2921/3543 [23:12<05:48,  1.78it/s]\u001b[A\n",
            " 82%|████████▏ | 2922/3543 [23:13<05:44,  1.80it/s]\u001b[A\n",
            " 83%|████████▎ | 2923/3543 [23:14<05:57,  1.74it/s]\u001b[A\n",
            " 83%|████████▎ | 2924/3543 [23:14<05:46,  1.79it/s]\u001b[A\n",
            " 83%|████████▎ | 2925/3543 [23:15<06:07,  1.68it/s]\u001b[A\n",
            " 83%|████████▎ | 2926/3543 [23:16<06:30,  1.58it/s]\u001b[A\n",
            " 83%|████████▎ | 2927/3543 [23:16<06:07,  1.68it/s]\u001b[A\n",
            " 83%|████████▎ | 2928/3543 [23:17<05:54,  1.73it/s]\u001b[A\n",
            " 83%|████████▎ | 2929/3543 [23:17<05:36,  1.82it/s]\u001b[A\n",
            " 83%|████████▎ | 2930/3543 [23:18<05:27,  1.87it/s]\u001b[A\n",
            " 83%|████████▎ | 2931/3543 [23:18<05:18,  1.92it/s]\u001b[A\n",
            " 83%|████████▎ | 2932/3543 [23:19<05:21,  1.90it/s]\u001b[A\n",
            " 83%|████████▎ | 2933/3543 [23:19<05:23,  1.88it/s]\u001b[A\n",
            " 83%|████████▎ | 2934/3543 [23:20<05:38,  1.80it/s]\u001b[A\n",
            " 83%|████████▎ | 2935/3543 [23:20<05:52,  1.73it/s]\u001b[A\n",
            " 83%|████████▎ | 2936/3543 [23:21<05:37,  1.80it/s]\u001b[A\n",
            " 83%|████████▎ | 2937/3543 [23:22<05:48,  1.74it/s]\u001b[A\n",
            " 83%|████████▎ | 2938/3543 [23:22<05:41,  1.77it/s]\u001b[A\n",
            " 83%|████████▎ | 2939/3543 [23:23<05:51,  1.72it/s]\u001b[A\n",
            " 83%|████████▎ | 2940/3543 [23:23<06:04,  1.65it/s]\u001b[A\n",
            " 83%|████████▎ | 2941/3543 [23:24<05:36,  1.79it/s]\u001b[A\n",
            " 83%|████████▎ | 2942/3543 [23:24<05:18,  1.89it/s]\u001b[A\n",
            " 83%|████████▎ | 2943/3543 [23:25<05:37,  1.78it/s]\u001b[A\n",
            " 83%|████████▎ | 2944/3543 [23:25<04:52,  2.05it/s]\u001b[A\n",
            " 83%|████████▎ | 2945/3543 [23:26<04:52,  2.05it/s]\u001b[A\n",
            " 83%|████████▎ | 2946/3543 [23:26<05:22,  1.85it/s]\u001b[A\n",
            " 83%|████████▎ | 2947/3543 [23:27<05:06,  1.94it/s]\u001b[A\n",
            " 83%|████████▎ | 2948/3543 [23:27<05:28,  1.81it/s]\u001b[A\n",
            " 83%|████████▎ | 2949/3543 [23:28<05:41,  1.74it/s]\u001b[A\n",
            " 83%|████████▎ | 2950/3543 [23:29<05:51,  1.69it/s]\u001b[A\n",
            " 83%|████████▎ | 2951/3543 [23:29<05:37,  1.75it/s]\u001b[A\n",
            " 83%|████████▎ | 2952/3543 [23:30<05:36,  1.76it/s]\u001b[A\n",
            " 83%|████████▎ | 2953/3543 [23:30<05:45,  1.71it/s]\u001b[A\n",
            " 83%|████████▎ | 2954/3543 [23:31<05:58,  1.64it/s]\u001b[A\n",
            " 83%|████████▎ | 2955/3543 [23:32<05:39,  1.73it/s]\u001b[A\n",
            " 83%|████████▎ | 2956/3543 [23:32<06:09,  1.59it/s]\u001b[A\n",
            " 83%|████████▎ | 2957/3543 [23:33<06:16,  1.56it/s]\u001b[A\n",
            " 83%|████████▎ | 2958/3543 [23:34<06:01,  1.62it/s]\u001b[A\n",
            " 84%|████████▎ | 2959/3543 [23:34<06:01,  1.62it/s]\u001b[A\n",
            " 84%|████████▎ | 2960/3543 [23:35<06:06,  1.59it/s]\u001b[A\n",
            " 84%|████████▎ | 2961/3543 [23:35<05:56,  1.63it/s]\u001b[A\n",
            " 84%|████████▎ | 2962/3543 [23:36<05:52,  1.65it/s]\u001b[A\n",
            " 84%|████████▎ | 2963/3543 [23:37<05:56,  1.63it/s]\u001b[A\n",
            " 84%|████████▎ | 2964/3543 [23:37<05:57,  1.62it/s]\u001b[A\n",
            " 84%|████████▎ | 2965/3543 [23:38<05:56,  1.62it/s]\u001b[A\n",
            " 84%|████████▎ | 2966/3543 [23:38<05:31,  1.74it/s]\u001b[A\n",
            " 84%|████████▎ | 2967/3543 [23:39<05:12,  1.84it/s]\u001b[A\n",
            " 84%|████████▍ | 2968/3543 [23:39<05:05,  1.88it/s]\u001b[A\n",
            " 84%|████████▍ | 2969/3543 [23:40<05:32,  1.72it/s]\u001b[A\n",
            " 84%|████████▍ | 2970/3543 [23:41<05:39,  1.69it/s]\u001b[A\n",
            " 84%|████████▍ | 2971/3543 [23:41<05:27,  1.74it/s]\u001b[A\n",
            " 84%|████████▍ | 2972/3543 [23:42<05:40,  1.68it/s]\u001b[A\n",
            " 84%|████████▍ | 2973/3543 [23:42<05:24,  1.76it/s]\u001b[A\n",
            " 84%|████████▍ | 2974/3543 [23:43<05:09,  1.84it/s]\u001b[A\n",
            " 84%|████████▍ | 2975/3543 [23:43<05:20,  1.77it/s]\u001b[A\n",
            " 84%|████████▍ | 2976/3543 [23:44<05:16,  1.79it/s]\u001b[A\n",
            " 84%|████████▍ | 2977/3543 [23:45<05:12,  1.81it/s]\u001b[A\n",
            " 84%|████████▍ | 2978/3543 [23:45<05:24,  1.74it/s]\u001b[A\n",
            " 84%|████████▍ | 2979/3543 [23:46<05:32,  1.69it/s]\u001b[A\n",
            " 84%|████████▍ | 2980/3543 [23:46<05:11,  1.81it/s]\u001b[A\n",
            " 84%|████████▍ | 2981/3543 [23:47<05:17,  1.77it/s]\u001b[A\n",
            " 84%|████████▍ | 2982/3543 [23:47<05:08,  1.82it/s]\u001b[A\n",
            " 84%|████████▍ | 2983/3543 [23:48<05:31,  1.69it/s]\u001b[A\n",
            " 84%|████████▍ | 2984/3543 [23:49<05:37,  1.65it/s]\u001b[A\n",
            " 84%|████████▍ | 2985/3543 [23:49<05:46,  1.61it/s]\u001b[A\n",
            " 84%|████████▍ | 2986/3543 [23:50<05:20,  1.74it/s]\u001b[A\n",
            " 84%|████████▍ | 2987/3543 [23:51<05:42,  1.62it/s]\u001b[A\n",
            " 84%|████████▍ | 2988/3543 [23:51<05:40,  1.63it/s]\u001b[A\n",
            " 84%|████████▍ | 2989/3543 [23:52<05:22,  1.72it/s]\u001b[A\n",
            " 84%|████████▍ | 2990/3543 [23:52<05:18,  1.74it/s]\u001b[A\n",
            " 84%|████████▍ | 2991/3543 [23:53<05:06,  1.80it/s]\u001b[A\n",
            " 84%|████████▍ | 2992/3543 [23:53<05:16,  1.74it/s]\u001b[A\n",
            " 84%|████████▍ | 2993/3543 [23:54<05:25,  1.69it/s]\u001b[A\n",
            " 85%|████████▍ | 2994/3543 [23:55<05:31,  1.66it/s]\u001b[A\n",
            " 85%|████████▍ | 2995/3543 [23:55<05:38,  1.62it/s]\u001b[A\n",
            " 85%|████████▍ | 2996/3543 [23:56<05:18,  1.72it/s]\u001b[A\n",
            " 85%|████████▍ | 2997/3543 [23:56<04:58,  1.83it/s]\u001b[A\n",
            " 85%|████████▍ | 2998/3543 [23:57<05:18,  1.71it/s]\u001b[A\n",
            " 85%|████████▍ | 2999/3543 [23:58<05:28,  1.65it/s]\u001b[A\n",
            " 85%|████████▍ | 3000/3543 [23:58<05:29,  1.65it/s]\u001b[A\n",
            " 85%|████████▍ | 3001/3543 [23:59<05:17,  1.71it/s]\u001b[A\n",
            " 85%|████████▍ | 3002/3543 [23:59<05:01,  1.79it/s]\u001b[A\n",
            " 85%|████████▍ | 3003/3543 [24:00<04:47,  1.88it/s]\u001b[A\n",
            " 85%|████████▍ | 3004/3543 [24:00<05:05,  1.76it/s]\u001b[A\n",
            " 85%|████████▍ | 3005/3543 [24:01<05:19,  1.68it/s]\u001b[A\n",
            " 85%|████████▍ | 3006/3543 [24:01<05:06,  1.75it/s]\u001b[A\n",
            " 85%|████████▍ | 3007/3543 [24:02<04:52,  1.83it/s]\u001b[A\n",
            " 85%|████████▍ | 3008/3543 [24:02<04:43,  1.89it/s]\u001b[A\n",
            " 85%|████████▍ | 3009/3543 [24:03<05:18,  1.68it/s]\u001b[A\n",
            " 85%|████████▍ | 3010/3543 [24:04<05:10,  1.72it/s]\u001b[A\n",
            " 85%|████████▍ | 3011/3543 [24:04<05:12,  1.70it/s]\u001b[A\n",
            " 85%|████████▌ | 3012/3543 [24:05<05:19,  1.66it/s]\u001b[A\n",
            " 85%|████████▌ | 3013/3543 [24:06<05:17,  1.67it/s]\u001b[A\n",
            " 85%|████████▌ | 3014/3543 [24:06<04:56,  1.78it/s]\u001b[A\n",
            " 85%|████████▌ | 3015/3543 [24:07<05:06,  1.72it/s]\u001b[A\n",
            " 85%|████████▌ | 3016/3543 [24:07<04:53,  1.79it/s]\u001b[A\n",
            " 85%|████████▌ | 3017/3543 [24:08<04:59,  1.75it/s]\u001b[A\n",
            " 85%|████████▌ | 3018/3543 [24:08<04:40,  1.87it/s]\u001b[A\n",
            " 85%|████████▌ | 3019/3543 [24:09<05:00,  1.74it/s]\u001b[A\n",
            " 85%|████████▌ | 3020/3543 [24:09<04:50,  1.80it/s]\u001b[A\n",
            " 85%|████████▌ | 3021/3543 [24:10<05:08,  1.69it/s]\u001b[A\n",
            " 85%|████████▌ | 3022/3543 [24:11<05:03,  1.71it/s]\u001b[A\n",
            " 85%|████████▌ | 3023/3543 [24:11<05:06,  1.70it/s]\u001b[A\n",
            " 85%|████████▌ | 3024/3543 [24:12<04:53,  1.77it/s]\u001b[A\n",
            " 85%|████████▌ | 3025/3543 [24:12<04:43,  1.83it/s]\u001b[A\n",
            " 85%|████████▌ | 3026/3543 [24:13<04:53,  1.76it/s]\u001b[A\n",
            " 85%|████████▌ | 3027/3543 [24:13<04:58,  1.73it/s]\u001b[A\n",
            " 85%|████████▌ | 3028/3543 [24:14<05:07,  1.67it/s]\u001b[A\n",
            " 85%|████████▌ | 3029/3543 [24:15<04:55,  1.74it/s]\u001b[A\n",
            " 86%|████████▌ | 3030/3543 [24:15<04:39,  1.84it/s]\u001b[A\n",
            " 86%|████████▌ | 3031/3543 [24:16<04:50,  1.76it/s]\u001b[A\n",
            " 86%|████████▌ | 3032/3543 [24:16<05:19,  1.60it/s]\u001b[A\n",
            " 86%|████████▌ | 3033/3543 [24:17<05:18,  1.60it/s]\u001b[A\n",
            " 86%|████████▌ | 3034/3543 [24:18<05:13,  1.62it/s]\u001b[A\n",
            " 86%|████████▌ | 3035/3543 [24:18<05:16,  1.60it/s]\u001b[A\n",
            " 86%|████████▌ | 3036/3543 [24:19<04:54,  1.72it/s]\u001b[A\n",
            " 86%|████████▌ | 3037/3543 [24:19<04:46,  1.77it/s]\u001b[A\n",
            " 86%|████████▌ | 3038/3543 [24:20<04:44,  1.78it/s]\u001b[A\n",
            " 86%|████████▌ | 3039/3543 [24:20<04:44,  1.77it/s]\u001b[A\n",
            " 86%|████████▌ | 3040/3543 [24:21<04:56,  1.70it/s]\u001b[A\n",
            " 86%|████████▌ | 3041/3543 [24:22<04:37,  1.81it/s]\u001b[A\n",
            " 86%|████████▌ | 3042/3543 [24:22<04:45,  1.76it/s]\u001b[A\n",
            " 86%|████████▌ | 3043/3543 [24:23<04:35,  1.82it/s]\u001b[A\n",
            " 86%|████████▌ | 3044/3543 [24:23<04:47,  1.73it/s]\u001b[A\n",
            " 86%|████████▌ | 3045/3543 [24:24<04:49,  1.72it/s]\u001b[A\n",
            " 86%|████████▌ | 3046/3543 [24:25<04:56,  1.67it/s]\u001b[A\n",
            " 86%|████████▌ | 3047/3543 [24:25<04:52,  1.70it/s]\u001b[A\n",
            " 86%|████████▌ | 3048/3543 [24:26<04:58,  1.66it/s]\u001b[A\n",
            " 86%|████████▌ | 3049/3543 [24:26<04:35,  1.79it/s]\u001b[A\n",
            " 86%|████████▌ | 3050/3543 [24:27<04:22,  1.88it/s]\u001b[A\n",
            " 86%|████████▌ | 3051/3543 [24:27<04:15,  1.93it/s]\u001b[A\n",
            " 86%|████████▌ | 3052/3543 [24:28<04:36,  1.78it/s]\u001b[A\n",
            " 86%|████████▌ | 3053/3543 [24:28<04:33,  1.79it/s]\u001b[A\n",
            " 86%|████████▌ | 3054/3543 [24:29<04:49,  1.69it/s]\u001b[A\n",
            " 86%|████████▌ | 3055/3543 [24:30<04:49,  1.69it/s]\u001b[A\n",
            " 86%|████████▋ | 3056/3543 [24:30<04:58,  1.63it/s]\u001b[A\n",
            " 86%|████████▋ | 3057/3543 [24:31<04:40,  1.74it/s]\u001b[A\n",
            " 86%|████████▋ | 3058/3543 [24:31<04:46,  1.69it/s]\u001b[A\n",
            " 86%|████████▋ | 3059/3543 [24:32<04:34,  1.76it/s]\u001b[A\n",
            " 86%|████████▋ | 3060/3543 [24:32<04:27,  1.80it/s]\u001b[A\n",
            " 86%|████████▋ | 3061/3543 [24:33<04:43,  1.70it/s]\u001b[A\n",
            " 86%|████████▋ | 3062/3543 [24:34<04:49,  1.66it/s]\u001b[A\n",
            " 86%|████████▋ | 3063/3543 [24:34<04:51,  1.65it/s]\u001b[A\n",
            " 86%|████████▋ | 3064/3543 [24:35<04:32,  1.76it/s]\u001b[A\n",
            " 87%|████████▋ | 3065/3543 [24:35<04:24,  1.81it/s]\u001b[A\n",
            " 87%|████████▋ | 3066/3543 [24:36<04:19,  1.84it/s]\u001b[A\n",
            " 87%|████████▋ | 3067/3543 [24:36<04:04,  1.95it/s]\u001b[A\n",
            " 87%|████████▋ | 3068/3543 [24:37<04:04,  1.95it/s]\u001b[A\n",
            " 87%|████████▋ | 3069/3543 [24:37<04:04,  1.94it/s]\u001b[A\n",
            " 87%|████████▋ | 3070/3543 [24:38<04:00,  1.96it/s]\u001b[A\n",
            " 87%|████████▋ | 3071/3543 [24:38<04:06,  1.92it/s]\u001b[A\n",
            " 87%|████████▋ | 3072/3543 [24:39<03:54,  2.00it/s]\u001b[A\n",
            " 87%|████████▋ | 3073/3543 [24:40<04:12,  1.86it/s]\u001b[A\n",
            " 87%|████████▋ | 3074/3543 [24:40<04:27,  1.75it/s]\u001b[A\n",
            " 87%|████████▋ | 3075/3543 [24:41<04:24,  1.77it/s]\u001b[A\n",
            " 87%|████████▋ | 3076/3543 [24:41<04:36,  1.69it/s]\u001b[A\n",
            " 87%|████████▋ | 3077/3543 [24:42<04:19,  1.80it/s]\u001b[A\n",
            " 87%|████████▋ | 3078/3543 [24:42<04:06,  1.88it/s]\u001b[A\n",
            " 87%|████████▋ | 3079/3543 [24:43<04:28,  1.72it/s]\u001b[A\n",
            " 87%|████████▋ | 3080/3543 [24:43<04:12,  1.83it/s]\u001b[A\n",
            " 87%|████████▋ | 3081/3543 [24:44<04:24,  1.75it/s]\u001b[A\n",
            " 87%|████████▋ | 3082/3543 [24:45<04:22,  1.76it/s]\u001b[A\n",
            " 87%|████████▋ | 3083/3543 [24:45<04:49,  1.59it/s]\u001b[A\n",
            " 87%|████████▋ | 3084/3543 [24:46<04:35,  1.67it/s]\u001b[A\n",
            " 87%|████████▋ | 3085/3543 [24:46<04:21,  1.75it/s]\u001b[A\n",
            " 87%|████████▋ | 3086/3543 [24:47<04:11,  1.82it/s]\u001b[A\n",
            " 87%|████████▋ | 3087/3543 [24:48<04:56,  1.54it/s]\u001b[A\n",
            " 87%|████████▋ | 3088/3543 [24:48<04:36,  1.65it/s]\u001b[A\n",
            " 87%|████████▋ | 3089/3543 [24:49<04:42,  1.61it/s]\u001b[A\n",
            " 87%|████████▋ | 3090/3543 [24:50<04:39,  1.62it/s]\u001b[A\n",
            " 87%|████████▋ | 3091/3543 [24:50<04:48,  1.57it/s]\u001b[A\n",
            " 87%|████████▋ | 3092/3543 [24:51<04:42,  1.60it/s]\u001b[A\n",
            " 87%|████████▋ | 3093/3543 [24:52<04:51,  1.54it/s]\u001b[A\n",
            " 87%|████████▋ | 3094/3543 [24:52<04:31,  1.66it/s]\u001b[A\n",
            " 87%|████████▋ | 3095/3543 [24:53<04:20,  1.72it/s]\u001b[A\n",
            " 87%|████████▋ | 3096/3543 [24:53<04:11,  1.78it/s]\u001b[A\n",
            " 87%|████████▋ | 3097/3543 [24:54<04:33,  1.63it/s]\u001b[A\n",
            " 87%|████████▋ | 3098/3543 [24:54<04:13,  1.76it/s]\u001b[A\n",
            " 87%|████████▋ | 3099/3543 [24:55<04:13,  1.75it/s]\u001b[A\n",
            " 87%|████████▋ | 3100/3543 [24:56<04:15,  1.73it/s]\u001b[A\n",
            " 88%|████████▊ | 3101/3543 [24:56<04:25,  1.67it/s]\u001b[A\n",
            " 88%|████████▊ | 3102/3543 [24:57<04:30,  1.63it/s]\u001b[A\n",
            " 88%|████████▊ | 3103/3543 [24:57<04:16,  1.72it/s]\u001b[A\n",
            " 88%|████████▊ | 3104/3543 [24:58<04:02,  1.81it/s]\u001b[A\n",
            " 88%|████████▊ | 3105/3543 [24:58<03:59,  1.83it/s]\u001b[A\n",
            " 88%|████████▊ | 3106/3543 [24:59<03:59,  1.83it/s]\u001b[A\n",
            " 88%|████████▊ | 3107/3543 [25:00<04:09,  1.75it/s]\u001b[A\n",
            " 88%|████████▊ | 3108/3543 [25:00<03:58,  1.83it/s]\u001b[A\n",
            " 88%|████████▊ | 3109/3543 [25:01<04:03,  1.78it/s]\u001b[A\n",
            " 88%|████████▊ | 3110/3543 [25:01<04:09,  1.74it/s]\u001b[A\n",
            " 88%|████████▊ | 3111/3543 [25:02<04:00,  1.79it/s]\u001b[A\n",
            " 88%|████████▊ | 3112/3543 [25:02<04:04,  1.76it/s]\u001b[A\n",
            " 88%|████████▊ | 3113/3543 [25:03<04:13,  1.69it/s]\u001b[A\n",
            " 88%|████████▊ | 3114/3543 [25:04<04:27,  1.60it/s]\u001b[A\n",
            " 88%|████████▊ | 3115/3543 [25:04<04:18,  1.65it/s]\u001b[A\n",
            " 88%|████████▊ | 3116/3543 [25:05<04:23,  1.62it/s]\u001b[A\n",
            " 88%|████████▊ | 3117/3543 [25:06<04:27,  1.59it/s]\u001b[A\n",
            " 88%|████████▊ | 3118/3543 [25:06<04:09,  1.70it/s]\u001b[A\n",
            " 88%|████████▊ | 3119/3543 [25:07<03:54,  1.81it/s]\u001b[A\n",
            " 88%|████████▊ | 3120/3543 [25:07<04:05,  1.72it/s]\u001b[A\n",
            " 88%|████████▊ | 3121/3543 [25:08<03:58,  1.77it/s]\u001b[A\n",
            " 88%|████████▊ | 3122/3543 [25:08<03:53,  1.80it/s]\u001b[A\n",
            " 88%|████████▊ | 3123/3543 [25:09<04:04,  1.71it/s]\u001b[A\n",
            " 88%|████████▊ | 3124/3543 [25:10<04:12,  1.66it/s]\u001b[A\n",
            " 88%|████████▊ | 3125/3543 [25:10<04:11,  1.67it/s]\u001b[A\n",
            " 88%|████████▊ | 3126/3543 [25:11<03:59,  1.74it/s]\u001b[A\n",
            " 88%|████████▊ | 3127/3543 [25:11<03:47,  1.83it/s]\u001b[A\n",
            " 88%|████████▊ | 3128/3543 [25:12<03:55,  1.76it/s]\u001b[A\n",
            " 88%|████████▊ | 3129/3543 [25:12<04:04,  1.69it/s]\u001b[A\n",
            " 88%|████████▊ | 3130/3543 [25:13<03:47,  1.81it/s]\u001b[A\n",
            " 88%|████████▊ | 3131/3543 [25:13<03:34,  1.92it/s]\u001b[A\n",
            " 88%|████████▊ | 3132/3543 [25:14<03:48,  1.80it/s]\u001b[A\n",
            " 88%|████████▊ | 3133/3543 [25:14<03:44,  1.83it/s]\u001b[A\n",
            " 88%|████████▊ | 3134/3543 [25:15<03:33,  1.91it/s]\u001b[A\n",
            " 88%|████████▊ | 3135/3543 [25:16<03:48,  1.78it/s]\u001b[A\n",
            " 89%|████████▊ | 3136/3543 [25:16<03:59,  1.70it/s]\u001b[A\n",
            " 89%|████████▊ | 3137/3543 [25:17<03:48,  1.77it/s]\u001b[A\n",
            " 89%|████████▊ | 3138/3543 [25:17<04:01,  1.68it/s]\u001b[A\n",
            " 89%|████████▊ | 3139/3543 [25:18<03:54,  1.72it/s]\u001b[A\n",
            " 89%|████████▊ | 3140/3543 [25:18<03:40,  1.83it/s]\u001b[A\n",
            " 89%|████████▊ | 3141/3543 [25:19<03:43,  1.80it/s]\u001b[A\n",
            " 89%|████████▊ | 3142/3543 [25:19<03:32,  1.88it/s]\u001b[A\n",
            " 89%|████████▊ | 3143/3543 [25:20<03:32,  1.88it/s]\u001b[A\n",
            " 89%|████████▊ | 3144/3543 [25:21<03:31,  1.88it/s]\u001b[A\n",
            " 89%|████████▉ | 3145/3543 [25:21<03:24,  1.95it/s]\u001b[A\n",
            " 89%|████████▉ | 3146/3543 [25:22<03:29,  1.90it/s]\u001b[A\n",
            " 89%|████████▉ | 3147/3543 [25:22<03:26,  1.92it/s]\u001b[A\n",
            " 89%|████████▉ | 3148/3543 [25:23<03:22,  1.95it/s]\u001b[A\n",
            " 89%|████████▉ | 3149/3543 [25:23<03:36,  1.82it/s]\u001b[A\n",
            " 89%|████████▉ | 3150/3543 [25:24<03:31,  1.86it/s]\u001b[A\n",
            " 89%|████████▉ | 3151/3543 [25:24<03:26,  1.90it/s]\u001b[A\n",
            " 89%|████████▉ | 3152/3543 [25:25<03:35,  1.82it/s]\u001b[A\n",
            " 89%|████████▉ | 3153/3543 [25:25<03:26,  1.89it/s]\u001b[A\n",
            " 89%|████████▉ | 3154/3543 [25:26<03:36,  1.80it/s]\u001b[A\n",
            " 89%|████████▉ | 3155/3543 [25:27<03:46,  1.71it/s]\u001b[A\n",
            " 89%|████████▉ | 3156/3543 [25:27<03:52,  1.66it/s]\u001b[A\n",
            " 89%|████████▉ | 3157/3543 [25:28<03:40,  1.75it/s]\u001b[A\n",
            " 89%|████████▉ | 3158/3543 [25:28<03:42,  1.73it/s]\u001b[A\n",
            " 89%|████████▉ | 3159/3543 [25:29<03:51,  1.66it/s]\u001b[A\n",
            " 89%|████████▉ | 3160/3543 [25:30<03:51,  1.66it/s]\u001b[A\n",
            " 89%|████████▉ | 3161/3543 [25:30<03:45,  1.69it/s]\u001b[A\n",
            " 89%|████████▉ | 3162/3543 [25:31<03:46,  1.68it/s]\u001b[A\n",
            " 89%|████████▉ | 3163/3543 [25:31<03:41,  1.71it/s]\u001b[A\n",
            " 89%|████████▉ | 3164/3543 [25:32<03:45,  1.68it/s]\u001b[A\n",
            " 89%|████████▉ | 3165/3543 [25:32<03:45,  1.68it/s]\u001b[A\n",
            " 89%|████████▉ | 3166/3543 [25:33<03:48,  1.65it/s]\u001b[A\n",
            " 89%|████████▉ | 3167/3543 [25:34<03:40,  1.71it/s]\u001b[A\n",
            " 89%|████████▉ | 3168/3543 [25:34<03:49,  1.63it/s]\u001b[A\n",
            " 89%|████████▉ | 3169/3543 [25:35<03:48,  1.64it/s]\u001b[A\n",
            " 89%|████████▉ | 3170/3543 [25:35<03:35,  1.73it/s]\u001b[A\n",
            " 90%|████████▉ | 3171/3543 [25:36<03:46,  1.64it/s]\u001b[A\n",
            " 90%|████████▉ | 3172/3543 [25:37<03:52,  1.60it/s]\u001b[A\n",
            " 90%|████████▉ | 3173/3543 [25:37<03:53,  1.59it/s]\u001b[A\n",
            " 90%|████████▉ | 3174/3543 [25:38<03:42,  1.66it/s]\u001b[A\n",
            " 90%|████████▉ | 3175/3543 [25:39<03:47,  1.62it/s]\u001b[A\n",
            " 90%|████████▉ | 3176/3543 [25:39<03:33,  1.72it/s]\u001b[A\n",
            " 90%|████████▉ | 3177/3543 [25:40<03:23,  1.80it/s]\u001b[A\n",
            " 90%|████████▉ | 3178/3543 [25:40<03:17,  1.85it/s]\u001b[A\n",
            " 90%|████████▉ | 3179/3543 [25:41<03:19,  1.82it/s]\u001b[A\n",
            " 90%|████████▉ | 3180/3543 [25:41<03:26,  1.76it/s]\u001b[A\n",
            " 90%|████████▉ | 3181/3543 [25:42<03:16,  1.84it/s]\u001b[A\n",
            " 90%|████████▉ | 3182/3543 [25:42<03:13,  1.87it/s]\u001b[A\n",
            " 90%|████████▉ | 3183/3543 [25:43<03:08,  1.91it/s]\u001b[A\n",
            " 90%|████████▉ | 3184/3543 [25:43<03:05,  1.94it/s]\u001b[A\n",
            " 90%|████████▉ | 3185/3543 [25:44<02:59,  1.99it/s]\u001b[A\n",
            " 90%|████████▉ | 3186/3543 [25:44<02:58,  2.00it/s]\u001b[A\n",
            " 90%|████████▉ | 3187/3543 [25:45<02:57,  2.00it/s]\u001b[A\n",
            " 90%|████████▉ | 3188/3543 [25:45<03:14,  1.82it/s]\u001b[A\n",
            " 90%|█████████ | 3189/3543 [25:46<03:27,  1.71it/s]\u001b[A\n",
            " 90%|█████████ | 3190/3543 [25:47<03:18,  1.78it/s]\u001b[A\n",
            " 90%|█████████ | 3191/3543 [25:47<03:13,  1.82it/s]\u001b[A\n",
            " 90%|█████████ | 3192/3543 [25:48<03:18,  1.77it/s]\u001b[A\n",
            " 90%|█████████ | 3193/3543 [25:48<03:23,  1.72it/s]\u001b[A\n",
            " 90%|█████████ | 3194/3543 [25:49<03:29,  1.67it/s]\u001b[A\n",
            " 90%|█████████ | 3195/3543 [25:50<03:33,  1.63it/s]\u001b[A\n",
            " 90%|█████████ | 3196/3543 [25:50<03:35,  1.61it/s]\u001b[A\n",
            " 90%|█████████ | 3197/3543 [25:51<03:39,  1.58it/s]\u001b[A\n",
            " 90%|█████████ | 3198/3543 [25:52<03:42,  1.55it/s]\u001b[A\n",
            " 90%|█████████ | 3199/3543 [25:52<03:30,  1.64it/s]\u001b[A\n",
            " 90%|█████████ | 3200/3543 [25:53<03:19,  1.72it/s]\u001b[A\n",
            " 90%|█████████ | 3201/3543 [25:53<03:21,  1.70it/s]\u001b[A\n",
            " 90%|█████████ | 3202/3543 [25:54<03:13,  1.77it/s]\u001b[A\n",
            " 90%|█████████ | 3203/3543 [25:54<03:25,  1.65it/s]\u001b[A\n",
            " 90%|█████████ | 3204/3543 [25:55<03:24,  1.66it/s]\u001b[A\n",
            " 90%|█████████ | 3205/3543 [25:56<03:28,  1.62it/s]\u001b[A\n",
            " 90%|█████████ | 3206/3543 [25:56<03:19,  1.69it/s]\u001b[A\n",
            " 91%|█████████ | 3207/3543 [25:57<03:09,  1.77it/s]\u001b[A\n",
            " 91%|█████████ | 3208/3543 [25:57<03:13,  1.73it/s]\u001b[A\n",
            " 91%|█████████ | 3209/3543 [25:58<03:02,  1.83it/s]\u001b[A\n",
            " 91%|█████████ | 3210/3543 [25:59<03:16,  1.70it/s]\u001b[A\n",
            " 91%|█████████ | 3211/3543 [25:59<03:08,  1.76it/s]\u001b[A\n",
            " 91%|█████████ | 3212/3543 [26:00<02:59,  1.84it/s]\u001b[A\n",
            " 91%|█████████ | 3213/3543 [26:00<03:04,  1.78it/s]\u001b[A\n",
            " 91%|█████████ | 3214/3543 [26:01<02:59,  1.83it/s]\u001b[A\n",
            " 91%|█████████ | 3215/3543 [26:01<02:53,  1.89it/s]\u001b[A\n",
            " 91%|█████████ | 3216/3543 [26:02<02:51,  1.91it/s]\u001b[A\n",
            " 91%|█████████ | 3217/3543 [26:02<03:03,  1.78it/s]\u001b[A\n",
            " 91%|█████████ | 3218/3543 [26:03<02:51,  1.89it/s]\u001b[A\n",
            " 91%|█████████ | 3219/3543 [26:03<03:01,  1.79it/s]\u001b[A\n",
            " 91%|█████████ | 3220/3543 [26:04<02:56,  1.83it/s]\u001b[A\n",
            " 91%|█████████ | 3221/3543 [26:04<03:01,  1.77it/s]\u001b[A\n",
            " 91%|█████████ | 3222/3543 [26:05<02:53,  1.85it/s]\u001b[A\n",
            " 91%|█████████ | 3223/3543 [26:06<03:07,  1.70it/s]\u001b[A\n",
            " 91%|█████████ | 3224/3543 [26:06<03:04,  1.73it/s]\u001b[A\n",
            " 91%|█████████ | 3225/3543 [26:07<03:13,  1.64it/s]\u001b[A\n",
            " 91%|█████████ | 3226/3543 [26:07<03:04,  1.72it/s]\u001b[A\n",
            " 91%|█████████ | 3227/3543 [26:08<02:56,  1.79it/s]\u001b[A\n",
            " 91%|█████████ | 3228/3543 [26:09<03:02,  1.73it/s]\u001b[A\n",
            " 91%|█████████ | 3229/3543 [26:09<02:58,  1.76it/s]\u001b[A\n",
            " 91%|█████████ | 3230/3543 [26:10<03:02,  1.72it/s]\u001b[A\n",
            " 91%|█████████ | 3231/3543 [26:10<02:50,  1.83it/s]\u001b[A\n",
            " 91%|█████████ | 3232/3543 [26:11<02:45,  1.88it/s]\u001b[A\n",
            " 91%|█████████▏| 3233/3543 [26:11<02:38,  1.95it/s]\u001b[A\n",
            " 91%|█████████▏| 3234/3543 [26:12<03:45,  1.37it/s]\u001b[A\n",
            " 91%|█████████▏| 3235/3543 [26:13<03:42,  1.38it/s]\u001b[A\n",
            " 91%|█████████▏| 3236/3543 [26:14<03:25,  1.49it/s]\u001b[A\n",
            " 91%|█████████▏| 3237/3543 [26:14<03:23,  1.51it/s]\u001b[A\n",
            " 91%|█████████▏| 3238/3543 [26:15<03:20,  1.52it/s]\u001b[A\n",
            " 91%|█████████▏| 3239/3543 [26:15<03:02,  1.67it/s]\u001b[A\n",
            " 91%|█████████▏| 3240/3543 [26:16<02:49,  1.78it/s]\u001b[A\n",
            " 91%|█████████▏| 3241/3543 [26:16<02:42,  1.85it/s]\u001b[A\n",
            " 92%|█████████▏| 3242/3543 [26:17<02:43,  1.84it/s]\u001b[A\n",
            " 92%|█████████▏| 3243/3543 [26:18<02:50,  1.75it/s]\u001b[A\n",
            " 92%|█████████▏| 3244/3543 [26:18<02:43,  1.83it/s]\u001b[A\n",
            " 92%|█████████▏| 3245/3543 [26:19<02:50,  1.75it/s]\u001b[A\n",
            " 92%|█████████▏| 3246/3543 [26:19<02:41,  1.84it/s]\u001b[A\n",
            " 92%|█████████▏| 3247/3543 [26:20<02:49,  1.75it/s]\u001b[A\n",
            " 92%|█████████▏| 3248/3543 [26:20<02:53,  1.70it/s]\u001b[A\n",
            " 92%|█████████▏| 3249/3543 [26:21<02:55,  1.68it/s]\u001b[A\n",
            " 92%|█████████▏| 3250/3543 [26:22<02:55,  1.67it/s]\u001b[A\n",
            " 92%|█████████▏| 3251/3543 [26:22<02:47,  1.74it/s]\u001b[A\n",
            " 92%|█████████▏| 3252/3543 [26:23<02:51,  1.70it/s]\u001b[A\n",
            " 92%|█████████▏| 3253/3543 [26:23<02:53,  1.67it/s]\u001b[A\n",
            " 92%|█████████▏| 3254/3543 [26:24<02:57,  1.62it/s]\u001b[A\n",
            " 92%|█████████▏| 3255/3543 [26:25<02:54,  1.65it/s]\u001b[A\n",
            " 92%|█████████▏| 3256/3543 [26:25<02:44,  1.75it/s]\u001b[A\n",
            " 92%|█████████▏| 3257/3543 [26:26<02:47,  1.71it/s]\u001b[A\n",
            " 92%|█████████▏| 3258/3543 [26:26<02:51,  1.66it/s]\u001b[A\n",
            " 92%|█████████▏| 3259/3543 [26:27<02:43,  1.74it/s]\u001b[A\n",
            " 92%|█████████▏| 3260/3543 [26:27<02:41,  1.75it/s]\u001b[A\n",
            " 92%|█████████▏| 3261/3543 [26:28<02:37,  1.79it/s]\u001b[A\n",
            " 92%|█████████▏| 3262/3543 [26:28<02:30,  1.87it/s]\u001b[A\n",
            " 92%|█████████▏| 3263/3543 [26:29<02:26,  1.91it/s]\u001b[A\n",
            " 92%|█████████▏| 3264/3543 [26:29<02:25,  1.91it/s]\u001b[A\n",
            " 92%|█████████▏| 3265/3543 [26:30<02:32,  1.82it/s]\u001b[A\n",
            " 92%|█████████▏| 3266/3543 [26:31<02:29,  1.85it/s]\u001b[A\n",
            " 92%|█████████▏| 3267/3543 [26:31<02:29,  1.85it/s]\u001b[A\n",
            " 92%|█████████▏| 3268/3543 [26:32<02:39,  1.72it/s]\u001b[A\n",
            " 92%|█████████▏| 3269/3543 [26:32<02:46,  1.65it/s]\u001b[A\n",
            " 92%|█████████▏| 3270/3543 [26:33<02:49,  1.61it/s]\u001b[A\n",
            " 92%|█████████▏| 3271/3543 [26:34<02:48,  1.61it/s]\u001b[A\n",
            " 92%|█████████▏| 3272/3543 [26:34<02:37,  1.72it/s]\u001b[A\n",
            " 92%|█████████▏| 3273/3543 [26:35<02:29,  1.80it/s]\u001b[A\n",
            " 92%|█████████▏| 3274/3543 [26:35<02:30,  1.79it/s]\u001b[A\n",
            " 92%|█████████▏| 3275/3543 [26:36<02:37,  1.70it/s]\u001b[A\n",
            " 92%|█████████▏| 3276/3543 [26:37<02:33,  1.73it/s]\u001b[A\n",
            " 92%|█████████▏| 3277/3543 [26:37<02:34,  1.72it/s]\u001b[A\n",
            " 93%|█████████▎| 3278/3543 [26:38<02:29,  1.77it/s]\u001b[A\n",
            " 93%|█████████▎| 3279/3543 [26:38<02:34,  1.71it/s]\u001b[A\n",
            " 93%|█████████▎| 3280/3543 [26:39<02:32,  1.73it/s]\u001b[A\n",
            " 93%|█████████▎| 3281/3543 [26:39<02:35,  1.69it/s]\u001b[A\n",
            " 93%|█████████▎| 3282/3543 [26:40<02:26,  1.78it/s]\u001b[A\n",
            " 93%|█████████▎| 3283/3543 [26:41<02:31,  1.72it/s]\u001b[A\n",
            " 93%|█████████▎| 3284/3543 [26:41<02:27,  1.75it/s]\u001b[A\n",
            " 93%|█████████▎| 3285/3543 [26:42<02:21,  1.83it/s]\u001b[A\n",
            " 93%|█████████▎| 3286/3543 [26:42<02:25,  1.76it/s]\u001b[A\n",
            " 93%|█████████▎| 3287/3543 [26:43<02:21,  1.81it/s]\u001b[A\n",
            " 93%|█████████▎| 3288/3543 [26:43<02:20,  1.81it/s]\u001b[A\n",
            " 93%|█████████▎| 3289/3543 [26:44<02:16,  1.86it/s]\u001b[A\n",
            " 93%|█████████▎| 3290/3543 [26:44<02:09,  1.95it/s]\u001b[A\n",
            " 93%|█████████▎| 3291/3543 [26:45<02:17,  1.84it/s]\u001b[A\n",
            " 93%|█████████▎| 3292/3543 [26:45<02:14,  1.87it/s]\u001b[A\n",
            " 93%|█████████▎| 3293/3543 [26:46<02:01,  2.05it/s]\u001b[A\n",
            " 93%|█████████▎| 3294/3543 [26:46<02:10,  1.91it/s]\u001b[A\n",
            " 93%|█████████▎| 3295/3543 [26:47<02:16,  1.82it/s]\u001b[A\n",
            " 93%|█████████▎| 3296/3543 [26:47<02:10,  1.90it/s]\u001b[A\n",
            " 93%|█████████▎| 3297/3543 [26:48<02:08,  1.92it/s]\u001b[A\n",
            " 93%|█████████▎| 3298/3543 [26:49<02:17,  1.78it/s]\u001b[A\n",
            " 93%|█████████▎| 3299/3543 [26:49<02:13,  1.83it/s]\u001b[A\n",
            " 93%|█████████▎| 3300/3543 [26:50<02:09,  1.88it/s]\u001b[A\n",
            " 93%|█████████▎| 3301/3543 [26:50<02:15,  1.79it/s]\u001b[A\n",
            " 93%|█████████▎| 3302/3543 [26:51<02:19,  1.73it/s]\u001b[A\n",
            " 93%|█████████▎| 3303/3543 [26:52<02:23,  1.67it/s]\u001b[A\n",
            " 93%|█████████▎| 3304/3543 [26:52<02:28,  1.61it/s]\u001b[A\n",
            " 93%|█████████▎| 3305/3543 [26:53<02:15,  1.76it/s]\u001b[A\n",
            " 93%|█████████▎| 3306/3543 [26:53<02:18,  1.71it/s]\u001b[A\n",
            " 93%|█████████▎| 3307/3543 [26:54<02:20,  1.67it/s]\u001b[A\n",
            " 93%|█████████▎| 3308/3543 [26:55<02:22,  1.65it/s]\u001b[A\n",
            " 93%|█████████▎| 3309/3543 [26:55<02:14,  1.74it/s]\u001b[A\n",
            " 93%|█████████▎| 3310/3543 [26:56<02:08,  1.81it/s]\u001b[A\n",
            " 93%|█████████▎| 3311/3543 [26:56<02:16,  1.70it/s]\u001b[A\n",
            " 93%|█████████▎| 3312/3543 [26:57<02:07,  1.81it/s]\u001b[A\n",
            " 94%|█████████▎| 3313/3543 [26:57<02:15,  1.70it/s]\u001b[A\n",
            " 94%|█████████▎| 3314/3543 [26:58<02:09,  1.76it/s]\u001b[A\n",
            " 94%|█████████▎| 3315/3543 [26:58<02:13,  1.71it/s]\u001b[A\n",
            " 94%|█████████▎| 3316/3543 [26:59<02:09,  1.76it/s]\u001b[A\n",
            " 94%|█████████▎| 3317/3543 [27:00<02:03,  1.83it/s]\u001b[A\n",
            " 94%|█████████▎| 3318/3543 [27:00<01:59,  1.88it/s]\u001b[A\n",
            " 94%|█████████▎| 3319/3543 [27:00<01:55,  1.94it/s]\u001b[A\n",
            " 94%|█████████▎| 3320/3543 [27:01<02:04,  1.80it/s]\u001b[A\n",
            " 94%|█████████▎| 3321/3543 [27:02<02:23,  1.55it/s]\u001b[A\n",
            " 94%|█████████▍| 3322/3543 [27:03<02:21,  1.57it/s]\u001b[A\n",
            " 94%|█████████▍| 3323/3543 [27:03<02:12,  1.66it/s]\u001b[A\n",
            " 94%|█████████▍| 3324/3543 [27:04<02:13,  1.64it/s]\u001b[A\n",
            " 94%|█████████▍| 3325/3543 [27:04<02:06,  1.72it/s]\u001b[A\n",
            " 94%|█████████▍| 3326/3543 [27:05<02:08,  1.69it/s]\u001b[A\n",
            " 94%|█████████▍| 3327/3543 [27:05<02:00,  1.80it/s]\u001b[A\n",
            " 94%|█████████▍| 3328/3543 [27:06<02:02,  1.75it/s]\u001b[A\n",
            " 94%|█████████▍| 3329/3543 [27:06<01:58,  1.81it/s]\u001b[A\n",
            " 94%|█████████▍| 3330/3543 [27:07<02:00,  1.76it/s]\u001b[A\n",
            " 94%|█████████▍| 3331/3543 [27:08<02:01,  1.74it/s]\u001b[A\n",
            " 94%|█████████▍| 3332/3543 [27:08<02:05,  1.68it/s]\u001b[A\n",
            " 94%|█████████▍| 3333/3543 [27:09<02:04,  1.68it/s]\u001b[A\n",
            " 94%|█████████▍| 3334/3543 [27:09<01:56,  1.80it/s]\u001b[A\n",
            " 94%|█████████▍| 3335/3543 [27:10<01:51,  1.86it/s]\u001b[A\n",
            " 94%|█████████▍| 3336/3543 [27:11<01:57,  1.76it/s]\u001b[A\n",
            " 94%|█████████▍| 3337/3543 [27:11<02:01,  1.70it/s]\u001b[A\n",
            " 94%|█████████▍| 3338/3543 [27:12<01:56,  1.76it/s]\u001b[A\n",
            " 94%|█████████▍| 3339/3543 [27:12<01:48,  1.88it/s]\u001b[A\n",
            " 94%|█████████▍| 3340/3543 [27:13<01:45,  1.93it/s]\u001b[A\n",
            " 94%|█████████▍| 3341/3543 [27:13<01:54,  1.77it/s]\u001b[A\n",
            " 94%|█████████▍| 3342/3543 [27:14<01:57,  1.70it/s]\u001b[A\n",
            " 94%|█████████▍| 3343/3543 [27:15<01:58,  1.68it/s]\u001b[A\n",
            " 94%|█████████▍| 3344/3543 [27:15<01:55,  1.72it/s]\u001b[A\n",
            " 94%|█████████▍| 3345/3543 [27:16<01:50,  1.80it/s]\u001b[A\n",
            " 94%|█████████▍| 3346/3543 [27:16<01:45,  1.87it/s]\u001b[A\n",
            " 94%|█████████▍| 3347/3543 [27:17<01:45,  1.85it/s]\u001b[A\n",
            " 94%|█████████▍| 3348/3543 [27:17<01:42,  1.90it/s]\u001b[A\n",
            " 95%|█████████▍| 3349/3543 [27:18<01:43,  1.88it/s]\u001b[A\n",
            " 95%|█████████▍| 3350/3543 [27:18<01:45,  1.83it/s]\u001b[A\n",
            " 95%|█████████▍| 3351/3543 [27:19<01:41,  1.89it/s]\u001b[A\n",
            " 95%|█████████▍| 3352/3543 [27:19<01:44,  1.82it/s]\u001b[A\n",
            " 95%|█████████▍| 3353/3543 [27:20<01:42,  1.85it/s]\u001b[A\n",
            " 95%|█████████▍| 3354/3543 [27:20<01:48,  1.75it/s]\u001b[A\n",
            " 95%|█████████▍| 3355/3543 [27:21<01:41,  1.85it/s]\u001b[A\n",
            " 95%|█████████▍| 3356/3543 [27:22<01:47,  1.75it/s]\u001b[A\n",
            " 95%|█████████▍| 3357/3543 [27:22<01:43,  1.79it/s]\u001b[A\n",
            " 95%|█████████▍| 3358/3543 [27:23<01:42,  1.81it/s]\u001b[A\n",
            " 95%|█████████▍| 3359/3543 [27:23<01:38,  1.87it/s]\u001b[A\n",
            " 95%|█████████▍| 3360/3543 [27:24<01:36,  1.89it/s]\u001b[A\n",
            " 95%|█████████▍| 3361/3543 [27:24<01:41,  1.79it/s]\u001b[A\n",
            " 95%|█████████▍| 3362/3543 [27:25<01:43,  1.75it/s]\u001b[A\n",
            " 95%|█████████▍| 3363/3543 [27:26<01:45,  1.70it/s]\u001b[A\n",
            " 95%|█████████▍| 3364/3543 [27:26<01:44,  1.72it/s]\u001b[A\n",
            " 95%|█████████▍| 3365/3543 [27:27<01:39,  1.79it/s]\u001b[A\n",
            " 95%|█████████▌| 3366/3543 [27:27<01:36,  1.83it/s]\u001b[A\n",
            " 95%|█████████▌| 3367/3543 [27:28<01:33,  1.87it/s]\u001b[A\n",
            " 95%|█████████▌| 3368/3543 [27:28<01:41,  1.73it/s]\u001b[A\n",
            " 95%|█████████▌| 3369/3543 [27:29<01:36,  1.80it/s]\u001b[A\n",
            " 95%|█████████▌| 3370/3543 [27:29<01:32,  1.86it/s]\u001b[A\n",
            " 95%|█████████▌| 3371/3543 [27:30<01:32,  1.86it/s]\u001b[A\n",
            " 95%|█████████▌| 3372/3543 [27:30<01:34,  1.81it/s]\u001b[A\n",
            " 95%|█████████▌| 3373/3543 [27:31<01:29,  1.90it/s]\u001b[A\n",
            " 95%|█████████▌| 3374/3543 [27:32<01:33,  1.80it/s]\u001b[A\n",
            " 95%|█████████▌| 3375/3543 [27:32<01:30,  1.85it/s]\u001b[A\n",
            " 95%|█████████▌| 3376/3543 [27:33<01:27,  1.90it/s]\u001b[A\n",
            " 95%|█████████▌| 3377/3543 [27:33<01:24,  1.97it/s]\u001b[A\n",
            " 95%|█████████▌| 3378/3543 [27:33<01:23,  1.98it/s]\u001b[A\n",
            " 95%|█████████▌| 3379/3543 [27:34<01:22,  1.98it/s]\u001b[A\n",
            " 95%|█████████▌| 3380/3543 [27:34<01:14,  2.19it/s]\u001b[A\n",
            " 95%|█████████▌| 3381/3543 [27:35<01:22,  1.97it/s]\u001b[A\n",
            " 95%|█████████▌| 3382/3543 [27:35<01:23,  1.92it/s]\u001b[A\n",
            " 95%|█████████▌| 3383/3543 [27:36<01:28,  1.82it/s]\u001b[A\n",
            " 96%|█████████▌| 3384/3543 [27:37<01:30,  1.75it/s]\u001b[A\n",
            " 96%|█████████▌| 3385/3543 [27:37<01:29,  1.76it/s]\u001b[A\n",
            " 96%|█████████▌| 3386/3543 [27:38<01:24,  1.86it/s]\u001b[A\n",
            " 96%|█████████▌| 3387/3543 [27:38<01:20,  1.93it/s]\u001b[A\n",
            " 96%|█████████▌| 3388/3543 [27:39<01:20,  1.92it/s]\u001b[A\n",
            " 96%|█████████▌| 3389/3543 [27:40<01:31,  1.69it/s]\u001b[A\n",
            " 96%|█████████▌| 3390/3543 [27:40<01:25,  1.79it/s]\u001b[A\n",
            " 96%|█████████▌| 3391/3543 [27:41<01:28,  1.72it/s]\u001b[A\n",
            " 96%|█████████▌| 3392/3543 [27:41<01:30,  1.68it/s]\u001b[A\n",
            " 96%|█████████▌| 3393/3543 [27:42<01:25,  1.75it/s]\u001b[A\n",
            " 96%|█████████▌| 3394/3543 [27:42<01:21,  1.83it/s]\u001b[A\n",
            " 96%|█████████▌| 3395/3543 [27:43<01:18,  1.88it/s]\u001b[A\n",
            " 96%|█████████▌| 3396/3543 [27:43<01:21,  1.80it/s]\u001b[A\n",
            " 96%|█████████▌| 3397/3543 [27:44<01:39,  1.47it/s]\u001b[A\n",
            " 96%|█████████▌| 3398/3543 [27:45<01:31,  1.59it/s]\u001b[A\n",
            " 96%|█████████▌| 3399/3543 [27:45<01:23,  1.73it/s]\u001b[A\n",
            " 96%|█████████▌| 3400/3543 [27:46<01:27,  1.64it/s]\u001b[A\n",
            " 96%|█████████▌| 3401/3543 [27:47<01:29,  1.59it/s]\u001b[A\n",
            " 96%|█████████▌| 3402/3543 [27:47<01:24,  1.67it/s]\u001b[A\n",
            " 96%|█████████▌| 3403/3543 [27:48<01:25,  1.64it/s]\u001b[A\n",
            " 96%|█████████▌| 3404/3543 [27:48<01:19,  1.75it/s]\u001b[A\n",
            " 96%|█████████▌| 3405/3543 [27:49<01:19,  1.74it/s]\u001b[A\n",
            " 96%|█████████▌| 3406/3543 [27:50<01:21,  1.68it/s]\u001b[A\n",
            " 96%|█████████▌| 3407/3543 [27:50<01:17,  1.76it/s]\u001b[A\n",
            " 96%|█████████▌| 3408/3543 [27:51<01:18,  1.73it/s]\u001b[A\n",
            " 96%|█████████▌| 3409/3543 [27:51<01:19,  1.69it/s]\u001b[A\n",
            " 96%|█████████▌| 3410/3543 [27:52<01:13,  1.80it/s]\u001b[A\n",
            " 96%|█████████▋| 3411/3543 [27:52<01:09,  1.91it/s]\u001b[A\n",
            " 96%|█████████▋| 3412/3543 [27:53<01:11,  1.82it/s]\u001b[A\n",
            " 96%|█████████▋| 3413/3543 [27:53<01:09,  1.88it/s]\u001b[A\n",
            " 96%|█████████▋| 3414/3543 [27:54<01:08,  1.88it/s]\u001b[A\n",
            " 96%|█████████▋| 3415/3543 [27:54<01:05,  1.94it/s]\u001b[A\n",
            " 96%|█████████▋| 3416/3543 [27:55<01:11,  1.79it/s]\u001b[A\n",
            " 96%|█████████▋| 3417/3543 [27:56<01:11,  1.75it/s]\u001b[A\n",
            " 96%|█████████▋| 3418/3543 [27:56<01:11,  1.75it/s]\u001b[A\n",
            " 97%|█████████▋| 3419/3543 [27:57<01:12,  1.72it/s]\u001b[A\n",
            " 97%|█████████▋| 3420/3543 [27:57<01:12,  1.69it/s]\u001b[A\n",
            " 97%|█████████▋| 3421/3543 [27:58<01:09,  1.75it/s]\u001b[A\n",
            " 97%|█████████▋| 3422/3543 [27:59<01:11,  1.68it/s]\u001b[A\n",
            " 97%|█████████▋| 3423/3543 [27:59<01:09,  1.72it/s]\u001b[A\n",
            " 97%|█████████▋| 3424/3543 [28:00<01:11,  1.66it/s]\u001b[A\n",
            " 97%|█████████▋| 3425/3543 [28:00<01:09,  1.71it/s]\u001b[A\n",
            " 97%|█████████▋| 3426/3543 [28:01<01:05,  1.79it/s]\u001b[A\n",
            " 97%|█████████▋| 3427/3543 [28:01<01:06,  1.74it/s]\u001b[A\n",
            " 97%|█████████▋| 3428/3543 [28:02<01:02,  1.83it/s]\u001b[A\n",
            " 97%|█████████▋| 3429/3543 [28:03<01:05,  1.75it/s]\u001b[A\n",
            " 97%|█████████▋| 3430/3543 [28:03<01:05,  1.72it/s]\u001b[A\n",
            " 97%|█████████▋| 3431/3543 [28:04<01:01,  1.82it/s]\u001b[A\n",
            " 97%|█████████▋| 3432/3543 [28:04<01:04,  1.73it/s]\u001b[A\n",
            " 97%|█████████▋| 3433/3543 [28:05<01:01,  1.80it/s]\u001b[A\n",
            " 97%|█████████▋| 3434/3543 [28:05<01:02,  1.75it/s]\u001b[A\n",
            " 97%|█████████▋| 3435/3543 [28:06<01:05,  1.66it/s]\u001b[A\n",
            " 97%|█████████▋| 3436/3543 [28:07<01:04,  1.67it/s]\u001b[A\n",
            " 97%|█████████▋| 3437/3543 [28:07<00:54,  1.93it/s]\u001b[A\n",
            " 97%|█████████▋| 3438/3543 [28:07<00:53,  1.96it/s]\u001b[A\n",
            " 97%|█████████▋| 3439/3543 [28:08<01:00,  1.72it/s]\u001b[A\n",
            " 97%|█████████▋| 3440/3543 [28:09<00:57,  1.79it/s]\u001b[A\n",
            " 97%|█████████▋| 3441/3543 [28:09<00:55,  1.85it/s]\u001b[A\n",
            " 97%|█████████▋| 3442/3543 [28:10<00:56,  1.79it/s]\u001b[A\n",
            " 97%|█████████▋| 3443/3543 [28:10<00:52,  1.89it/s]\u001b[A\n",
            " 97%|█████████▋| 3444/3543 [28:11<00:53,  1.86it/s]\u001b[A\n",
            " 97%|█████████▋| 3445/3543 [28:11<00:54,  1.80it/s]\u001b[A\n",
            " 97%|█████████▋| 3446/3543 [28:12<00:52,  1.85it/s]\u001b[A\n",
            " 97%|█████████▋| 3447/3543 [28:13<00:54,  1.77it/s]\u001b[A\n",
            " 97%|█████████▋| 3448/3543 [28:13<00:51,  1.86it/s]\u001b[A\n",
            " 97%|█████████▋| 3449/3543 [28:14<00:50,  1.86it/s]\u001b[A\n",
            " 97%|█████████▋| 3450/3543 [28:14<00:47,  1.95it/s]\u001b[A\n",
            " 97%|█████████▋| 3451/3543 [28:15<00:51,  1.79it/s]\u001b[A\n",
            " 97%|█████████▋| 3452/3543 [28:15<00:51,  1.77it/s]\u001b[A\n",
            " 97%|█████████▋| 3453/3543 [28:16<00:48,  1.85it/s]\u001b[A\n",
            " 97%|█████████▋| 3454/3543 [28:16<00:50,  1.78it/s]\u001b[A\n",
            " 98%|█████████▊| 3455/3543 [28:17<00:50,  1.73it/s]\u001b[A\n",
            " 98%|█████████▊| 3456/3543 [28:18<00:51,  1.69it/s]\u001b[A\n",
            " 98%|█████████▊| 3457/3543 [28:18<00:48,  1.77it/s]\u001b[A\n",
            " 98%|█████████▊| 3458/3543 [28:19<00:49,  1.72it/s]\u001b[A\n",
            " 98%|█████████▊| 3459/3543 [28:19<00:49,  1.69it/s]\u001b[A\n",
            " 98%|█████████▊| 3460/3543 [28:20<00:50,  1.65it/s]\u001b[A\n",
            " 98%|█████████▊| 3461/3543 [28:20<00:48,  1.71it/s]\u001b[A\n",
            " 98%|█████████▊| 3462/3543 [28:21<00:46,  1.74it/s]\u001b[A\n",
            " 98%|█████████▊| 3463/3543 [28:22<00:44,  1.80it/s]\u001b[A\n",
            " 98%|█████████▊| 3464/3543 [28:22<00:43,  1.81it/s]\u001b[A\n",
            " 98%|█████████▊| 3465/3543 [28:23<00:45,  1.73it/s]\u001b[A\n",
            " 98%|█████████▊| 3466/3543 [28:23<00:43,  1.78it/s]\u001b[A\n",
            " 98%|█████████▊| 3467/3543 [28:24<00:41,  1.83it/s]\u001b[A\n",
            " 98%|█████████▊| 3468/3543 [28:24<00:40,  1.87it/s]\u001b[A\n",
            " 98%|█████████▊| 3469/3543 [28:25<00:41,  1.79it/s]\u001b[A\n",
            " 98%|█████████▊| 3470/3543 [28:25<00:39,  1.86it/s]\u001b[A\n",
            " 98%|█████████▊| 3471/3543 [28:26<00:37,  1.91it/s]\u001b[A\n",
            " 98%|█████████▊| 3472/3543 [28:26<00:36,  1.94it/s]\u001b[A\n",
            " 98%|█████████▊| 3473/3543 [28:27<00:36,  1.92it/s]\u001b[A\n",
            " 98%|█████████▊| 3474/3543 [28:27<00:36,  1.88it/s]\u001b[A\n",
            " 98%|█████████▊| 3475/3543 [28:28<00:34,  1.96it/s]\u001b[A\n",
            " 98%|█████████▊| 3476/3543 [28:29<00:36,  1.86it/s]\u001b[A\n",
            " 98%|█████████▊| 3477/3543 [28:29<00:37,  1.74it/s]\u001b[A\n",
            " 98%|█████████▊| 3478/3543 [28:30<00:36,  1.77it/s]\u001b[A\n",
            " 98%|█████████▊| 3479/3543 [28:30<00:38,  1.68it/s]\u001b[A\n",
            " 98%|█████████▊| 3480/3543 [28:31<00:35,  1.76it/s]\u001b[A\n",
            " 98%|█████████▊| 3481/3543 [28:32<00:36,  1.69it/s]\u001b[A\n",
            " 98%|█████████▊| 3482/3543 [28:32<00:37,  1.65it/s]\u001b[A\n",
            " 98%|█████████▊| 3483/3543 [28:33<00:34,  1.76it/s]\u001b[A\n",
            " 98%|█████████▊| 3484/3543 [28:33<00:32,  1.81it/s]\u001b[A\n",
            " 98%|█████████▊| 3485/3543 [28:34<00:33,  1.74it/s]\u001b[A\n",
            " 98%|█████████▊| 3486/3543 [28:35<00:36,  1.57it/s]\u001b[A\n",
            " 98%|█████████▊| 3487/3543 [28:35<00:35,  1.56it/s]\u001b[A\n",
            " 98%|█████████▊| 3488/3543 [28:36<00:33,  1.62it/s]\u001b[A\n",
            " 98%|█████████▊| 3489/3543 [28:36<00:33,  1.61it/s]\u001b[A\n",
            " 99%|█████████▊| 3490/3543 [28:37<00:33,  1.60it/s]\u001b[A\n",
            " 99%|█████████▊| 3491/3543 [28:38<00:32,  1.62it/s]\u001b[A\n",
            " 99%|█████████▊| 3492/3543 [28:38<00:31,  1.64it/s]\u001b[A\n",
            " 99%|█████████▊| 3493/3543 [28:39<00:25,  1.93it/s]\u001b[A\n",
            " 99%|█████████▊| 3494/3543 [28:39<00:26,  1.83it/s]\u001b[A\n",
            " 99%|█████████▊| 3495/3543 [28:40<00:26,  1.83it/s]\u001b[A\n",
            " 99%|█████████▊| 3496/3543 [28:40<00:24,  1.92it/s]\u001b[A\n",
            " 99%|█████████▊| 3497/3543 [28:41<00:23,  1.95it/s]\u001b[A\n",
            " 99%|█████████▊| 3498/3543 [28:41<00:23,  1.94it/s]\u001b[A\n",
            " 99%|█████████▉| 3499/3543 [28:42<00:22,  1.98it/s]\u001b[A\n",
            " 99%|█████████▉| 3500/3543 [28:42<00:21,  1.99it/s]\u001b[A\n",
            " 99%|█████████▉| 3501/3543 [28:43<00:20,  2.02it/s]\u001b[A\n",
            " 99%|█████████▉| 3502/3543 [28:43<00:21,  1.89it/s]\u001b[A\n",
            " 99%|█████████▉| 3503/3543 [28:44<00:21,  1.90it/s]\u001b[A\n",
            " 99%|█████████▉| 3504/3543 [28:44<00:20,  1.90it/s]\u001b[A\n",
            " 99%|█████████▉| 3505/3543 [28:45<00:19,  1.94it/s]\u001b[A\n",
            " 99%|█████████▉| 3506/3543 [28:45<00:18,  1.97it/s]\u001b[A\n",
            " 99%|█████████▉| 3507/3543 [28:46<00:19,  1.86it/s]\u001b[A\n",
            " 99%|█████████▉| 3508/3543 [28:47<00:20,  1.75it/s]\u001b[A\n",
            " 99%|█████████▉| 3509/3543 [28:47<00:18,  1.86it/s]\u001b[A\n",
            " 99%|█████████▉| 3510/3543 [28:48<00:18,  1.76it/s]\u001b[A\n",
            " 99%|█████████▉| 3511/3543 [28:48<00:18,  1.74it/s]\u001b[A\n",
            " 99%|█████████▉| 3512/3543 [28:49<00:19,  1.59it/s]\u001b[A\n",
            " 99%|█████████▉| 3513/3543 [28:50<00:19,  1.55it/s]\u001b[A\n",
            " 99%|█████████▉| 3514/3543 [28:50<00:20,  1.42it/s]\u001b[A\n",
            " 99%|█████████▉| 3515/3543 [28:51<00:19,  1.45it/s]\u001b[A\n",
            " 99%|█████████▉| 3516/3543 [28:52<00:18,  1.50it/s]\u001b[A\n",
            " 99%|█████████▉| 3517/3543 [28:52<00:16,  1.53it/s]\u001b[A\n",
            " 99%|█████████▉| 3518/3543 [28:53<00:16,  1.54it/s]\u001b[A\n",
            " 99%|█████████▉| 3519/3543 [28:54<00:15,  1.51it/s]\u001b[A\n",
            " 99%|█████████▉| 3520/3543 [28:54<00:14,  1.58it/s]\u001b[A\n",
            " 99%|█████████▉| 3521/3543 [28:55<00:13,  1.68it/s]\u001b[A\n",
            " 99%|█████████▉| 3522/3543 [28:55<00:12,  1.66it/s]\u001b[A\n",
            " 99%|█████████▉| 3523/3543 [28:56<00:12,  1.64it/s]\u001b[A\n",
            " 99%|█████████▉| 3524/3543 [28:57<00:11,  1.71it/s]\u001b[A\n",
            " 99%|█████████▉| 3525/3543 [28:57<00:10,  1.65it/s]\u001b[A\n",
            "100%|█████████▉| 3526/3543 [28:58<00:10,  1.65it/s]\u001b[A\n",
            "100%|█████████▉| 3527/3543 [28:58<00:09,  1.70it/s]\u001b[A\n",
            "100%|█████████▉| 3528/3543 [28:59<00:08,  1.76it/s]\u001b[A\n",
            "100%|█████████▉| 3529/3543 [28:59<00:07,  1.78it/s]\u001b[A\n",
            "100%|█████████▉| 3530/3543 [29:00<00:07,  1.73it/s]\u001b[A\n",
            "100%|█████████▉| 3531/3543 [29:01<00:07,  1.65it/s]\u001b[A\n",
            "100%|█████████▉| 3532/3543 [29:01<00:06,  1.66it/s]\u001b[A\n",
            "100%|█████████▉| 3533/3543 [29:02<00:06,  1.64it/s]\u001b[A\n",
            "100%|█████████▉| 3534/3543 [29:02<00:05,  1.76it/s]\u001b[A\n",
            "100%|█████████▉| 3535/3543 [29:03<00:04,  1.81it/s]\u001b[A\n",
            "100%|█████████▉| 3536/3543 [29:03<00:03,  1.89it/s]\u001b[A\n",
            "100%|█████████▉| 3537/3543 [29:04<00:03,  1.82it/s]\u001b[A\n",
            "100%|█████████▉| 3538/3543 [29:05<00:02,  1.82it/s]\u001b[A\n",
            "100%|█████████▉| 3539/3543 [29:05<00:02,  1.73it/s]\u001b[A\n",
            "100%|█████████▉| 3540/3543 [29:06<00:01,  1.78it/s]\u001b[A\n",
            "100%|█████████▉| 3541/3543 [29:06<00:01,  1.72it/s]\u001b[A\n",
            "100%|█████████▉| 3542/3543 [29:07<00:00,  1.80it/s]\u001b[A\n",
            "100%|██████████| 3543/3543 [29:08<00:00,  2.03it/s]"
          ],
          "name": "stderr"
        },
        {
          "output_type": "stream",
          "text": [
            "(3543, 128, 1)\n"
          ],
          "name": "stdout"
        },
        {
          "output_type": "stream",
          "text": [
            "\n"
          ],
          "name": "stderr"
        }
      ]
    },
    {
      "cell_type": "code",
      "metadata": {
        "id": "vS42wmHwQc4r"
      },
      "source": [
        "nsamples, x, y = trainX.shape\n",
        "trainX = trainX.reshape((nsamples, x*y))"
      ],
      "execution_count": null,
      "outputs": []
    },
    {
      "cell_type": "code",
      "metadata": {
        "colab": {
          "base_uri": "https://localhost:8080/"
        },
        "id": "rR73QwIc_D5K",
        "outputId": "46ac34bd-9f94-40e9-903d-c85ab1b208be"
      },
      "source": [
        "from sklearn.svm import OneClassSVM\n",
        "# define outlier detection model\n",
        "modellinear = OneClassSVM(kernel=\"linear\", verbose=True)\n",
        "\n",
        "# fit \n",
        "modellinear.fit(trainX)"
      ],
      "execution_count": null,
      "outputs": [
        {
          "output_type": "stream",
          "text": [
            "[LibSVM]"
          ],
          "name": "stdout"
        },
        {
          "output_type": "execute_result",
          "data": {
            "text/plain": [
              "OneClassSVM(cache_size=200, coef0=0.0, degree=3, gamma='scale', kernel='linear',\n",
              "            max_iter=-1, nu=0.5, shrinking=True, tol=0.001, verbose=True)"
            ]
          },
          "metadata": {
            "tags": []
          },
          "execution_count": 45
        }
      ]
    },
    {
      "cell_type": "code",
      "metadata": {
        "colab": {
          "base_uri": "https://localhost:8080/"
        },
        "id": "zrDE-BVAQmv9",
        "outputId": "e324aee1-3fa7-49c6-ef91-6f0b7a9b2c39"
      },
      "source": [
        "modelpoly = OneClassSVM(kernel=\"poly\", verbose=True)\n",
        "\n",
        "# fit \n",
        "modelpoly.fit(trainX)"
      ],
      "execution_count": null,
      "outputs": [
        {
          "output_type": "stream",
          "text": [
            "[LibSVM]"
          ],
          "name": "stdout"
        },
        {
          "output_type": "execute_result",
          "data": {
            "text/plain": [
              "OneClassSVM(cache_size=200, coef0=0.0, degree=3, gamma='scale', kernel='poly',\n",
              "            max_iter=-1, nu=0.5, shrinking=True, tol=0.001, verbose=True)"
            ]
          },
          "metadata": {
            "tags": []
          },
          "execution_count": 46
        }
      ]
    },
    {
      "cell_type": "code",
      "metadata": {
        "colab": {
          "base_uri": "https://localhost:8080/"
        },
        "id": "nwmbuQiDQptg",
        "outputId": "bd1d0944-1073-4577-fdfc-22ce28071d52"
      },
      "source": [
        "modelrbf = OneClassSVM(kernel=\"rbf\", verbose=True)\n",
        "\n",
        "# fit \n",
        "modelrbf.fit(trainX)"
      ],
      "execution_count": null,
      "outputs": [
        {
          "output_type": "stream",
          "text": [
            "[LibSVM]"
          ],
          "name": "stdout"
        },
        {
          "output_type": "execute_result",
          "data": {
            "text/plain": [
              "OneClassSVM(cache_size=200, coef0=0.0, degree=3, gamma='scale', kernel='rbf',\n",
              "            max_iter=-1, nu=0.5, shrinking=True, tol=0.001, verbose=True)"
            ]
          },
          "metadata": {
            "tags": []
          },
          "execution_count": 47
        }
      ]
    },
    {
      "cell_type": "code",
      "metadata": {
        "colab": {
          "base_uri": "https://localhost:8080/"
        },
        "id": "P48e9OFaQsf3",
        "outputId": "81392746-92be-441c-e4d9-769ab463058e"
      },
      "source": [
        "modelsigmoid = OneClassSVM(kernel=\"sigmoid\", verbose=True)\n",
        "\n",
        "# fit \n",
        "modelsigmoid.fit(trainX)"
      ],
      "execution_count": null,
      "outputs": [
        {
          "output_type": "stream",
          "text": [
            "[LibSVM]"
          ],
          "name": "stdout"
        },
        {
          "output_type": "execute_result",
          "data": {
            "text/plain": [
              "OneClassSVM(cache_size=200, coef0=0.0, degree=3, gamma='scale',\n",
              "            kernel='sigmoid', max_iter=-1, nu=0.5, shrinking=True, tol=0.001,\n",
              "            verbose=True)"
            ]
          },
          "metadata": {
            "tags": []
          },
          "execution_count": 48
        }
      ]
    },
    {
      "cell_type": "code",
      "metadata": {
        "id": "80E7KFnFz-ct"
      },
      "source": [
        "import pickle\n",
        "\n",
        "kn = [\"linear\",\"poly\",\"rbf\",\"sigmoid\"]\n",
        "models = [modellinear,modelpoly,modelrbf,modelsigmoid]\n",
        "\n",
        "# save model\n",
        "for i in range(len(kn)):\n",
        "  save_filename = os.path.join(root_path,\"OneClassSVM Models/vgg_\"+kn[i])\n",
        "  # save the model to disk\n",
        "  pickle.dump(models[i], open(save_filename, 'wb'))"
      ],
      "execution_count": null,
      "outputs": []
    },
    {
      "cell_type": "markdown",
      "metadata": {
        "id": "D1JGKrQAxXl-"
      },
      "source": [
        "##Test"
      ]
    },
    {
      "cell_type": "code",
      "metadata": {
        "id": "0Baar24O0NFy",
        "colab": {
          "base_uri": "https://localhost:8080/"
        },
        "outputId": "7d4eef84-1c87-4ae9-98d5-1e58c3d73931"
      },
      "source": [
        "# load in the models\n",
        "print(\"loading linear...\")\n",
        "modellinear = pickle.load(open(root_path+\"OneClassSVM Models/vgg_linear\", 'rb'))\n",
        "print(\"loading poly...\")\n",
        "modelpoly = pickle.load(open(root_path+\"OneClassSVM Models/vgg_poly\", 'rb'))\n",
        "print(\"loading rbf...\")\n",
        "modelrbf = pickle.load(open(root_path+\"OneClassSVM Models/vgg_rbf\", 'rb'))\n",
        "print(\"loading sigmoid...\")\n",
        "modelsigmoid = pickle.load(open(root_path+\"OneClassSVM Models/vgg_sigmoid\", 'rb'))"
      ],
      "execution_count": null,
      "outputs": [
        {
          "output_type": "stream",
          "text": [
            "loading linear...\n",
            "loading poly...\n",
            "loading rbf...\n",
            "loading sigmoid...\n"
          ],
          "name": "stdout"
        }
      ]
    },
    {
      "cell_type": "code",
      "metadata": {
        "colab": {
          "base_uri": "https://localhost:8080/"
        },
        "id": "HqAao6dYREGX",
        "outputId": "02735801-c0fb-464d-fd13-f5d92adb67c0"
      },
      "source": [
        "#Xtestvalunknown = data_df_unknown['slice_file_name'].tolist()\n",
        "X_trash, Xtestvalunknown, y_trash, y_unknown = train_test_split(data_df_unknown['slice_file_name'].tolist(), data_df_unknown['classID'].tolist(), test_size=test_size, random_state = 42)\n",
        "\n",
        "#Xtestvalunknown = Xtestvalunknown[:25]\n",
        "#X_test = X_test[:25]\n",
        "\n",
        "testX = Xtestvalunknown + X_test\n",
        "\n",
        "actualtestY = [-1 for i in Xtestvalunknown] + y_test\n",
        "print(\"length of actual test y\", len(actualtestY))\n",
        "\n",
        "testY = [-1 for i in Xtestvalunknown]+[1 for i in X_test]\n",
        "testY = np.array(testY)\n",
        "print(testY.shape)\n",
        "\n",
        "sltest = SpecLoader(testX, vggfeatures_path)\n",
        "testX = sltest.getitem()\n",
        "\n",
        "nsamples, x, y = testX.shape\n",
        "testX = testX.reshape((nsamples, x*y))"
      ],
      "execution_count": null,
      "outputs": [
        {
          "output_type": "stream",
          "text": [
            "\r  0%|          | 0/1747 [00:00<?, ?it/s]"
          ],
          "name": "stderr"
        },
        {
          "output_type": "stream",
          "text": [
            "length of actual test y 1747\n",
            "(1747,)\n"
          ],
          "name": "stdout"
        },
        {
          "output_type": "stream",
          "text": [
            "100%|██████████| 1747/1747 [08:43<00:00,  3.34it/s]\n"
          ],
          "name": "stderr"
        }
      ]
    },
    {
      "cell_type": "code",
      "metadata": {
        "id": "Yq-E2n4GYLPW"
      },
      "source": [
        "# detect outliers in the test set\n",
        "yhatLinear = modellinear.predict(testX)\n",
        "yhatPoly = modelpoly.predict(testX)\n",
        "yhatRBF = modelrbf.predict(testX)\n",
        "yhatSigmoid = modelsigmoid.predict(testX)"
      ],
      "execution_count": null,
      "outputs": []
    },
    {
      "cell_type": "code",
      "metadata": {
        "id": "waYt1hOGYOsY"
      },
      "source": [
        "# evaluate\n",
        "# input: x,y - numpy of shape (n,) \n",
        "# output: percentage of hits\n",
        "def evaluate(x,y):\n",
        "  hit = 0\n",
        "  for i in range(len(y)):\n",
        "    if int(x[i])==int(y[i]):\n",
        "      hit+=1\n",
        "  return hit/len(y)\n",
        "\n",
        "def evaluate2(predicted, expected):\n",
        "    acc = np.mean(np.array(predicted) == np.array(expected))\n",
        "    print(\"Overall accuracy: {}\".format(acc))\n",
        "    acc_dict = {}\n",
        "    for i in range(len(expected)):\n",
        "        expected_class = expected[i]\n",
        "        if expected_class not in acc_dict:\n",
        "            acc_dict[expected_class] = [0, 0]\n",
        "        acc_dict[expected_class][1] += 1\n",
        "        if expected_class == predicted[i]:\n",
        "            acc_dict[expected_class][0] += 1\n",
        "    for k,v in acc_dict.items():\n",
        "        print(\"Accuracy for class {}: {}\".format(k, v[0]/v[1]))\n",
        "    for average in [\"macro\", \"weighted\", \"micro\"]:\n",
        "        f1 = f1_score(expected, predicted, average=average)\n",
        "        print(\"{} f1 score: {}\".format(average, f1))"
      ],
      "execution_count": null,
      "outputs": []
    },
    {
      "cell_type": "code",
      "metadata": {
        "colab": {
          "base_uri": "https://localhost:8080/"
        },
        "id": "0TcSkCSKYSg4",
        "outputId": "6cae81cf-1fdb-4c8e-ae13-9be42b675baf"
      },
      "source": [
        "kn = [\"Linear\",\"Poly\",\"RBF\",\"Sigmoid\"]\n",
        "yhats = [yhatLinear,yhatPoly,yhatRBF,yhatSigmoid]\n",
        "print(\"Accuracy - hit rate\")\n",
        "print(\"--------------------------------\")\n",
        "\n",
        "for i in range(len(kn)):\n",
        "  print(\"{}: {}\".format(kn[i],evaluate(yhats[i],testY)))\n"
      ],
      "execution_count": null,
      "outputs": [
        {
          "output_type": "stream",
          "text": [
            "Accuracy - hit rate\n",
            "--------------------------------\n",
            "Linear: 0.5031482541499713\n",
            "Poly: 0.5054378935317687\n",
            "RBF: 0.5151688609044076\n",
            "Sigmoid: 0.4968517458500286\n"
          ],
          "name": "stdout"
        }
      ]
    },
    {
      "cell_type": "code",
      "metadata": {
        "colab": {
          "base_uri": "https://localhost:8080/"
        },
        "id": "3xgby4OWyAWv",
        "outputId": "b64d8a69-5bc6-449b-fcbc-21508bc5451c"
      },
      "source": [
        "# get index of all 1s/normal class\n",
        "index_normalList = [i for i in range(len(yhatLinear)) if yhatLinear[i]==1]\n",
        "print(\"length of index_normalList\", len(index_normalList))\n",
        "\n",
        "testXfilenames = Xtestvalunknown + X_test\n",
        "normalXfilenames = [testXfilenames[i] for i in index_normalList]\n",
        "print(\"length of normalXfilenames\", len(normalXfilenames))\n",
        "\n",
        "normalLoader = SpecLoaderWnn(normalXfilenames, batch_size,spectrograms_path)\n",
        "normal_predictions = model.predict_classes(x=normalLoader, batch_size=None)\n",
        "\n",
        "print(\"predict using one class svm:\",yhatLinear[:100])\n",
        "for i in range(len(normal_predictions)):\n",
        "  index_yhat = index_normalList[i]\n",
        "  predClass = normal_predictions[i]\n",
        "  # change the value in yhatLinear\n",
        "  yhatLinear[index_yhat] = predClass\n",
        "\n",
        "print(\"prediction of positive classes through base model\", yhatLinear)\n",
        "\n",
        "print(\"\\nLinear - F1 Scores\")\n",
        "print(\"--------------------------------\")\n",
        "print(\"Macro:\", f1_score(actualtestY, yhatLinear, average='macro'))\n",
        "print(\"Micro:\", f1_score(actualtestY, yhatLinear, average='micro'))\n",
        "print(\"Weighted:\", f1_score(actualtestY, yhatLinear, average='weighted'))\n",
        "print(\"None:\", f1_score(actualtestY, yhatLinear, average=None))\n",
        "\n",
        "print(\"\\nEvaluate\\n\")\n",
        "evaluate2(yhatLinear, actualtestY)"
      ],
      "execution_count": null,
      "outputs": [
        {
          "output_type": "stream",
          "text": [
            "length of index_normalList 888\n",
            "length of normalXfilenames 888\n",
            "predict using one class svm: [-1 -1  1  1  1  1 -1  1  1 -1  1  1 -1  1 -1 -1  1  1 -1  1 -1 -1 -1 -1\n",
            "  1 -1 -1  1  1 -1  1  1 -1 -1 -1  1 -1  1 -1 -1 -1 -1 -1  1 -1  1  1 -1\n",
            "  1  1 -1  1 -1  1  1  1  1  1 -1 -1 -1  1 -1 -1  1 -1 -1  1  1 -1 -1  1\n",
            " -1  1  1 -1 -1 -1 -1 -1 -1  1  1 -1  1  1  1 -1  1  1  1 -1 -1  1 -1  1\n",
            " -1  1  1  1]\n",
            "prediction of positive classes through base model [-1 -1  0 ...  3 -1  0]\n",
            "\n",
            "Linear - F1 Scores\n",
            "--------------------------------\n",
            "Macro: 0.49470339917454537\n",
            "Micro: 0.4882655981682885\n",
            "Weighted: 0.48954644290505456\n",
            "None: [0.49534884 0.46698113 0.56953642 0.56521739 0.43612335 0.43501326]\n",
            "\n",
            "Evaluate\n",
            "\n",
            "Overall accuracy: 0.4882655981682885\n",
            "Accuracy for class -1: 0.49477351916376305\n",
            "Accuracy for class 2: 0.5123152709359606\n",
            "Accuracy for class 4: 0.47674418604651164\n",
            "Accuracy for class 0: 0.47368421052631576\n",
            "Accuracy for class 3: 0.4342105263157895\n",
            "Accuracy for class 1: 0.581081081081081\n",
            "macro f1 score: 0.49470339917454537\n",
            "weighted f1 score: 0.48954644290505456\n",
            "micro f1 score: 0.4882655981682885\n"
          ],
          "name": "stdout"
        }
      ]
    },
    {
      "cell_type": "code",
      "metadata": {
        "colab": {
          "base_uri": "https://localhost:8080/"
        },
        "id": "6be_2y5vyXJU",
        "outputId": "000ab96b-47ae-430f-c2bc-65cfae0dce8b"
      },
      "source": [
        "# get index of all 1s/normal class\n",
        "index_normalList = [i for i in range(len(yhatPoly)) if yhatPoly[i]==1]\n",
        "print(\"length of index_normalList\", len(index_normalList))\n",
        "\n",
        "testXfilenames = Xtestvalunknown + X_test\n",
        "normalXfilenames = [testXfilenames[i] for i in index_normalList]\n",
        "print(\"length of normalXfilenames\", len(normalXfilenames))\n",
        "\n",
        "normalLoader = SpecLoaderWnn(normalXfilenames, batch_size,spectrograms_path)\n",
        "normal_predictions = model.predict_classes(x=normalLoader, batch_size=None)\n",
        "\n",
        "print(\"predict using one class svm:\",yhatPoly[:100])\n",
        "for i in range(len(normal_predictions)):\n",
        "  index_yhat = index_normalList[i]\n",
        "  predClass = normal_predictions[i]\n",
        "  # change the value in yhatPoly\n",
        "  yhatPoly[index_yhat] = predClass\n",
        "\n",
        "print(\"prediction of positive classes through base model\", yhatPoly)\n",
        "\n",
        "print(\"\\nPoly - F1 Scores\")\n",
        "print(\"--------------------------------\")\n",
        "print(\"Macro:\", f1_score(actualtestY, yhatPoly, average='macro'))\n",
        "print(\"Micro:\", f1_score(actualtestY, yhatPoly, average='micro'))\n",
        "print(\"Weighted:\", f1_score(actualtestY, yhatPoly, average='weighted'))\n",
        "print(\"None:\", f1_score(actualtestY, yhatPoly, average=None))\n",
        "\n",
        "print(\"\\nEvaluate\\n\")\n",
        "evaluate2(yhatPoly, actualtestY)"
      ],
      "execution_count": null,
      "outputs": [
        {
          "output_type": "stream",
          "text": [
            "length of index_normalList 870\n",
            "length of normalXfilenames 870\n",
            "predict using one class svm: [-1 -1  1  1  1  1 -1  1  1 -1  1  1 -1  1 -1 -1  1  1 -1  1 -1 -1 -1 -1\n",
            "  1 -1 -1  1  1 -1  1  1 -1 -1 -1  1 -1  1 -1 -1 -1 -1 -1  1 -1 -1  1 -1\n",
            "  1  1 -1  1 -1  1  1  1  1  1 -1 -1 -1  1 -1 -1  1 -1 -1  1  1 -1 -1  1\n",
            " -1  1  1 -1 -1 -1 -1 -1 -1  1  1 -1  1  1  1 -1  1  1  1 -1 -1  1 -1  1\n",
            " -1  1  1  1]\n",
            "prediction of positive classes through base model [-1 -1  0 ...  3 -1  0]\n",
            "\n",
            "Poly - F1 Scores\n",
            "--------------------------------\n",
            "Macro: 0.49621033019228894\n",
            "Micro: 0.49170005724098453\n",
            "Weighted: 0.49270120197491896\n",
            "None: [0.50287687 0.4725537  0.57718121 0.5613079  0.42600897 0.43733333]\n",
            "\n",
            "Evaluate\n",
            "\n",
            "Overall accuracy: 0.49170005724098453\n",
            "Accuracy for class -1: 0.5075493612078978\n",
            "Accuracy for class 2: 0.5073891625615764\n",
            "Accuracy for class 4: 0.47674418604651164\n",
            "Accuracy for class 0: 0.47368421052631576\n",
            "Accuracy for class 3: 0.4166666666666667\n",
            "Accuracy for class 1: 0.581081081081081\n",
            "macro f1 score: 0.49621033019228894\n",
            "weighted f1 score: 0.49270120197491896\n",
            "micro f1 score: 0.49170005724098453\n"
          ],
          "name": "stdout"
        }
      ]
    },
    {
      "cell_type": "code",
      "metadata": {
        "colab": {
          "base_uri": "https://localhost:8080/"
        },
        "id": "h6nmT1K6yc5J",
        "outputId": "8a816636-bf08-4a3e-e2a4-ae72436248b6"
      },
      "source": [
        "# get index of all 1s/normal class\n",
        "index_normalList = [i for i in range(len(yhatRBF)) if yhatRBF[i]==1]\n",
        "print(\"length of index_normalList\", len(index_normalList))\n",
        "\n",
        "testXfilenames = Xtestvalunknown + X_test\n",
        "normalXfilenames = [testXfilenames[i] for i in index_normalList]\n",
        "print(\"length of normalXfilenames\", len(normalXfilenames))\n",
        "\n",
        "normalLoader = SpecLoaderWnn(normalXfilenames, batch_size,spectrograms_path)\n",
        "normal_predictions = model.predict_classes(x=normalLoader, batch_size=None)\n",
        "\n",
        "print(\"predict using one class svm:\",yhatRBF[:100])\n",
        "for i in range(len(normal_predictions)):\n",
        "  index_yhat = index_normalList[i]\n",
        "  predClass = normal_predictions[i]\n",
        "  # change the value in yhatRBF\n",
        "  yhatRBF[index_yhat] = predClass\n",
        "\n",
        "print(\"prediction of positive classes through base model\", yhatRBF)\n",
        "\n",
        "print(\"\\nRBF - F1 Scores\")\n",
        "print(\"--------------------------------\")\n",
        "print(\"Macro:\", f1_score(actualtestY, yhatRBF, average='macro'))\n",
        "print(\"Micro:\", f1_score(actualtestY, yhatRBF, average='micro'))\n",
        "print(\"Weighted:\", f1_score(actualtestY, yhatRBF, average='weighted'))\n",
        "print(\"None:\", f1_score(actualtestY, yhatRBF, average=None))\n",
        "\n",
        "print(\"\\nEvaluate\\n\")\n",
        "evaluate2(yhatRBF, actualtestY)"
      ],
      "execution_count": null,
      "outputs": [
        {
          "output_type": "stream",
          "text": [
            "length of index_normalList 875\n",
            "length of normalXfilenames 875\n",
            "predict using one class svm: [ 1 -1 -1 -1 -1  1  1 -1 -1  1  1 -1  1 -1  1 -1  1 -1  1  1  1 -1 -1 -1\n",
            " -1 -1  1  1 -1 -1 -1  1 -1  1 -1 -1  1 -1  1 -1 -1  1  1 -1 -1  1  1  1\n",
            "  1  1  1  1 -1  1  1 -1 -1  1 -1  1  1  1 -1  1 -1 -1 -1 -1  1  1 -1  1\n",
            "  1 -1 -1  1 -1  1 -1  1  1  1  1 -1 -1 -1 -1 -1 -1 -1  1 -1 -1 -1  1 -1\n",
            "  1 -1 -1  1]\n",
            "prediction of positive classes through base model [ 4 -1 -1 ... -1 -1 -1]\n",
            "\n",
            "RBF - F1 Scores\n",
            "--------------------------------\n",
            "Macro: 0.47725813220152413\n",
            "Micro: 0.5014310246136233\n",
            "Weighted: 0.5004403650519041\n",
            "None: [0.51125216 0.58371041 0.34782609 0.53513514 0.45333333 0.43229167]\n",
            "\n",
            "Evaluate\n",
            "\n",
            "Overall accuracy: 0.5014310246136233\n",
            "Accuracy for class -1: 0.5145180023228804\n",
            "Accuracy for class 2: 0.4876847290640394\n",
            "Accuracy for class 4: 0.48255813953488375\n",
            "Accuracy for class 0: 0.6172248803827751\n",
            "Accuracy for class 3: 0.4473684210526316\n",
            "Accuracy for class 1: 0.2702702702702703\n",
            "macro f1 score: 0.47725813220152413\n",
            "weighted f1 score: 0.5004403650519041\n",
            "micro f1 score: 0.5014310246136233\n"
          ],
          "name": "stdout"
        }
      ]
    },
    {
      "cell_type": "code",
      "metadata": {
        "colab": {
          "base_uri": "https://localhost:8080/"
        },
        "id": "AsHiufOUzr2C",
        "outputId": "afb3896f-86cd-470a-ec34-8d95dd05a299"
      },
      "source": [
        "# get index of all 1s/normal class\n",
        "index_normalList = [i for i in range(len(yhatSigmoid)) if yhatSigmoid[i]==1]\n",
        "print(\"length of index_normalList\", len(index_normalList))\n",
        "\n",
        "testXfilenames = Xtestvalunknown + X_test\n",
        "normalXfilenames = [testXfilenames[i] for i in index_normalList]\n",
        "print(\"length of normalXfilenames\", len(normalXfilenames))\n",
        "\n",
        "normalLoader = SpecLoaderWnn(normalXfilenames, batch_size,spectrograms_path)\n",
        "normal_predictions = model.predict_classes(x=normalLoader, batch_size=None)\n",
        "\n",
        "print(\"predict using one class svm:\",yhatSigmoid[:100])\n",
        "for i in range(len(normal_predictions)):\n",
        "  index_yhat = index_normalList[i]\n",
        "  predClass = normal_predictions[i]\n",
        "  # change the value in yhatSigmoid\n",
        "  yhatSigmoid[index_yhat] = predClass\n",
        "\n",
        "print(\"prediction of positive classes through base model\", yhatSigmoid)\n",
        "\n",
        "print(\"\\nSigmoid - F1 Scores\")\n",
        "print(\"--------------------------------\")\n",
        "print(\"Macro:\", f1_score(actualtestY, yhatSigmoid, average='macro'))\n",
        "print(\"Micro:\", f1_score(actualtestY, yhatSigmoid, average='micro'))\n",
        "print(\"Weighted:\", f1_score(actualtestY, yhatSigmoid, average='weighted'))\n",
        "print(\"None:\", f1_score(actualtestY, yhatSigmoid, average=None))\n",
        "\n",
        "print(\"\\nEvaluate\\n\")\n",
        "evaluate2(yhatSigmoid, actualtestY)"
      ],
      "execution_count": null,
      "outputs": [
        {
          "output_type": "stream",
          "text": [
            "length of index_normalList 895\n",
            "length of normalXfilenames 895\n",
            "predict using one class svm: [-1 -1  1  1  1  1 -1  1  1 -1  1  1  1  1 -1  1  1  1  1  1 -1 -1 -1 -1\n",
            "  1 -1 -1  1  1 -1  1  1 -1 -1 -1  1 -1  1 -1 -1 -1 -1 -1  1 -1  1  1 -1\n",
            "  1  1 -1  1 -1  1  1  1  1  1 -1  1 -1  1 -1 -1  1 -1 -1  1  1 -1 -1  1\n",
            " -1  1  1 -1 -1 -1 -1 -1 -1  1  1 -1  1  1 -1 -1  1  1  1 -1 -1  1 -1  1\n",
            " -1  1  1  1]\n",
            "prediction of positive classes through base model [-1 -1  0 ...  3 -1 -1]\n",
            "\n",
            "Sigmoid - F1 Scores\n",
            "--------------------------------\n",
            "Macro: 0.4881275174744557\n",
            "Micro: 0.48196908986834575\n",
            "Weighted: 0.4827822349620117\n",
            "None: [0.48686515 0.45520581 0.55263158 0.53369272 0.44631579 0.45405405]\n",
            "\n",
            "Evaluate\n",
            "\n",
            "Overall accuracy: 0.48196908986834575\n",
            "Accuracy for class -1: 0.4843205574912892\n",
            "Accuracy for class 2: 0.4876847290640394\n",
            "Accuracy for class 4: 0.4883720930232558\n",
            "Accuracy for class 0: 0.44976076555023925\n",
            "Accuracy for class 3: 0.4649122807017544\n",
            "Accuracy for class 1: 0.5675675675675675\n",
            "macro f1 score: 0.4881275174744557\n",
            "weighted f1 score: 0.4827822349620117\n",
            "micro f1 score: 0.48196908986834575\n"
          ],
          "name": "stdout"
        }
      ]
    },
    {
      "cell_type": "code",
      "metadata": {
        "id": "HYqKxMMUQ4XZ"
      },
      "source": [
        ""
      ],
      "execution_count": null,
      "outputs": []
    }
  ]
}